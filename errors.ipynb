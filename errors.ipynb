{
 "cells": [
  {
   "cell_type": "code",
   "execution_count": 1,
   "metadata": {},
   "outputs": [],
   "source": [
    "from policyengine_uk import Microsimulation\n",
    "import pandas as pd\n",
    "import h5py\n",
    "import numpy as np\n",
    "\n",
    "with h5py.File(\"./constituencies/weights.h5\", \"r\") as f:\n",
    "    weights = f[\"weight\"][:]"
   ]
  },
  {
   "cell_type": "code",
   "execution_count": 2,
   "metadata": {},
   "outputs": [],
   "source": [
    "baseline = Microsimulation()"
   ]
  },
  {
   "cell_type": "code",
   "execution_count": 6,
   "metadata": {},
   "outputs": [],
   "source": [
    "household_weights = baseline.calculate(\"household_weight\", 2025).values\n",
    "from constituencies.loss import create_constituency_target_matrix, create_national_target_matrix\n",
    "\n",
    "constituency_target_matrix, constituency_actuals = create_constituency_target_matrix(\"enhanced_frs_2022_23\", 2025, None)\n",
    "national_target_matrix, national_actuals = create_national_target_matrix(\"enhanced_frs_2022_23\", 2025, None)"
   ]
  },
  {
   "cell_type": "code",
   "execution_count": 11,
   "metadata": {},
   "outputs": [
    {
     "data": {
      "text/plain": [
       "obr/attendance_allowance                                             8.609886e+09\n",
       "obr/carers_allowance                                                 5.135948e+09\n",
       "obr/dla                                                              7.895548e+09\n",
       "obr/esa                                                              1.260614e+10\n",
       "obr/esa_contrib                                                      5.322245e+09\n",
       "                                                                         ...     \n",
       "hmrc/property_income_count_income_band_55_12_570.0_to_inf            2.469459e+06\n",
       "hmrc/savings_interest_income_income_band_55_12_570.0_to_inf          3.746142e+09\n",
       "hmrc/savings_interest_income_count_income_band_55_12_570.0_to_inf    1.241342e+07\n",
       "hmrc/dividend_income_income_band_55_12_570.0_to_inf                  1.067528e+11\n",
       "hmrc/dividend_income_count_income_band_55_12_570.0_to_inf            4.246309e+06\n",
       "Length: 335, dtype: float64"
      ]
     },
     "execution_count": 11,
     "metadata": {},
     "output_type": "execute_result"
    }
   ],
   "source": [
    "# Calculate national target errors\n",
    "\n",
    "household_weights @ national_target_matrix"
   ]
  },
  {
   "cell_type": "code",
   "execution_count": 61,
   "metadata": {},
   "outputs": [],
   "source": [
    "constituencies_2024 = pd.read_csv(\"constituencies/constituencies_2024.csv\")\n",
    "\n",
    "constituency_wide = weights @ constituency_target_matrix\n",
    "constituency_wide.index = constituencies_2024.code.values\n",
    "constituency_wide[\"name\"] = constituencies_2024.name.values"
   ]
  },
  {
   "cell_type": "code",
   "execution_count": 63,
   "metadata": {},
   "outputs": [],
   "source": [
    "constituency_results = pd.melt(constituency_wide.reset_index(), id_vars=[\"index\", \"name\"], var_name=\"variable\", value_name=\"value\")"
   ]
  },
  {
   "cell_type": "code",
   "execution_count": 64,
   "metadata": {},
   "outputs": [],
   "source": [
    "constituency_actuals.index = constituencies_2024.code.values\n",
    "constituency_actuals[\"name\"] = constituencies_2024.name.values\n",
    "constituency_actuals_long = pd.melt(constituency_actuals.reset_index(), id_vars=[\"index\", \"name\"], var_name=\"variable\", value_name=\"value\")"
   ]
  },
  {
   "cell_type": "code",
   "execution_count": 65,
   "metadata": {},
   "outputs": [],
   "source": [
    "constituency_target_validation = pd.merge(constituency_results, constituency_actuals_long, on=[\"index\", \"variable\"], suffixes=(\"_target\", \"_actual\"))"
   ]
  },
  {
   "cell_type": "code",
   "execution_count": 69,
   "metadata": {},
   "outputs": [],
   "source": [
    "constituency_target_validation.drop(\"name_actual\", axis=1, inplace=True)"
   ]
  },
  {
   "cell_type": "code",
   "execution_count": 70,
   "metadata": {},
   "outputs": [],
   "source": [
    "constituency_target_validation.columns = [\"index\", \"name\", \"metric\", \"estimate\", \"target\"]"
   ]
  },
  {
   "cell_type": "code",
   "execution_count": 71,
   "metadata": {},
   "outputs": [],
   "source": [
    "constituency_target_validation[\"error\"] = constituency_target_validation[\"estimate\"] - constituency_target_validation[\"target\"]\n",
    "constituency_target_validation[\"abs_error\"] = constituency_target_validation[\"error\"].abs()\n",
    "constituency_target_validation[\"rel_abs_error\"] = constituency_target_validation[\"abs_error\"] / constituency_target_validation[\"target\"]"
   ]
  },
  {
   "cell_type": "code",
   "execution_count": 72,
   "metadata": {},
   "outputs": [
    {
     "data": {
      "text/html": [
       "<div>\n",
       "<style scoped>\n",
       "    .dataframe tbody tr th:only-of-type {\n",
       "        vertical-align: middle;\n",
       "    }\n",
       "\n",
       "    .dataframe tbody tr th {\n",
       "        vertical-align: top;\n",
       "    }\n",
       "\n",
       "    .dataframe thead th {\n",
       "        text-align: right;\n",
       "    }\n",
       "</style>\n",
       "<table border=\"1\" class=\"dataframe\">\n",
       "  <thead>\n",
       "    <tr style=\"text-align: right;\">\n",
       "      <th></th>\n",
       "      <th>index</th>\n",
       "      <th>name</th>\n",
       "      <th>metric</th>\n",
       "      <th>estimate</th>\n",
       "      <th>target</th>\n",
       "      <th>error</th>\n",
       "      <th>abs_error</th>\n",
       "      <th>rel_abs_error</th>\n",
       "    </tr>\n",
       "  </thead>\n",
       "  <tbody>\n",
       "    <tr>\n",
       "      <th>7994</th>\n",
       "      <td>E14001257</td>\n",
       "      <td>Greenwich and Woolwich</td>\n",
       "      <td>hmrc/employment_income/count/15000_20000</td>\n",
       "      <td>1.583421e+03</td>\n",
       "      <td>1.583422e+03</td>\n",
       "      <td>-1.311274e-03</td>\n",
       "      <td>1.311274e-03</td>\n",
       "      <td>8.281269e-07</td>\n",
       "    </tr>\n",
       "    <tr>\n",
       "      <th>8037</th>\n",
       "      <td>E14001300</td>\n",
       "      <td>Ilford North</td>\n",
       "      <td>hmrc/employment_income/count/15000_20000</td>\n",
       "      <td>1.685667e+03</td>\n",
       "      <td>1.685663e+03</td>\n",
       "      <td>4.096116e-03</td>\n",
       "      <td>4.096116e-03</td>\n",
       "      <td>2.429973e-06</td>\n",
       "    </tr>\n",
       "    <tr>\n",
       "      <th>8006</th>\n",
       "      <td>E14001269</td>\n",
       "      <td>Harrogate and Knaresborough</td>\n",
       "      <td>hmrc/employment_income/count/15000_20000</td>\n",
       "      <td>1.510314e+03</td>\n",
       "      <td>1.510319e+03</td>\n",
       "      <td>-4.979519e-03</td>\n",
       "      <td>4.979519e-03</td>\n",
       "      <td>3.296998e-06</td>\n",
       "    </tr>\n",
       "    <tr>\n",
       "      <th>2942</th>\n",
       "      <td>E14001405</td>\n",
       "      <td>North West Norfolk</td>\n",
       "      <td>age/20_30</td>\n",
       "      <td>8.197971e+03</td>\n",
       "      <td>8.198000e+03</td>\n",
       "      <td>-2.852590e-02</td>\n",
       "      <td>2.852590e-02</td>\n",
       "      <td>3.479617e-06</td>\n",
       "    </tr>\n",
       "    <tr>\n",
       "      <th>10623</th>\n",
       "      <td>E14001286</td>\n",
       "      <td>Heywood and Middleton North</td>\n",
       "      <td>hmrc/employment_income/count/30000_40000</td>\n",
       "      <td>6.673801e+03</td>\n",
       "      <td>6.673777e+03</td>\n",
       "      <td>2.398100e-02</td>\n",
       "      <td>2.398100e-02</td>\n",
       "      <td>3.593318e-06</td>\n",
       "    </tr>\n",
       "    <tr>\n",
       "      <th>...</th>\n",
       "      <td>...</td>\n",
       "      <td>...</td>\n",
       "      <td>...</td>\n",
       "      <td>...</td>\n",
       "      <td>...</td>\n",
       "      <td>...</td>\n",
       "      <td>...</td>\n",
       "      <td>...</td>\n",
       "    </tr>\n",
       "    <tr>\n",
       "      <th>366</th>\n",
       "      <td>E14001429</td>\n",
       "      <td>Poole</td>\n",
       "      <td>hmrc/total_income/amount</td>\n",
       "      <td>9.482040e+09</td>\n",
       "      <td>6.592000e+09</td>\n",
       "      <td>2.890040e+09</td>\n",
       "      <td>2.890040e+09</td>\n",
       "      <td>4.384163e-01</td>\n",
       "    </tr>\n",
       "    <tr>\n",
       "      <th>99</th>\n",
       "      <td>E14001162</td>\n",
       "      <td>Chesham and Amersham</td>\n",
       "      <td>hmrc/total_income/amount</td>\n",
       "      <td>1.314473e+10</td>\n",
       "      <td>8.427000e+09</td>\n",
       "      <td>4.717729e+09</td>\n",
       "      <td>4.717729e+09</td>\n",
       "      <td>5.598350e-01</td>\n",
       "    </tr>\n",
       "    <tr>\n",
       "      <th>109</th>\n",
       "      <td>E14001172</td>\n",
       "      <td>Cities of London and Westminster</td>\n",
       "      <td>hmrc/total_income/amount</td>\n",
       "      <td>1.509920e+10</td>\n",
       "      <td>9.324000e+09</td>\n",
       "      <td>5.775200e+09</td>\n",
       "      <td>5.775200e+09</td>\n",
       "      <td>6.193908e-01</td>\n",
       "    </tr>\n",
       "    <tr>\n",
       "      <th>197</th>\n",
       "      <td>E14001260</td>\n",
       "      <td>Hackney South and Shoreditch</td>\n",
       "      <td>hmrc/total_income/amount</td>\n",
       "      <td>1.520752e+10</td>\n",
       "      <td>9.372000e+09</td>\n",
       "      <td>5.835522e+09</td>\n",
       "      <td>5.835522e+09</td>\n",
       "      <td>6.226549e-01</td>\n",
       "    </tr>\n",
       "    <tr>\n",
       "      <th>238</th>\n",
       "      <td>E14001301</td>\n",
       "      <td>Ilford South</td>\n",
       "      <td>hmrc/total_income/amount</td>\n",
       "      <td>1.660607e+10</td>\n",
       "      <td>9.984000e+09</td>\n",
       "      <td>6.622068e+09</td>\n",
       "      <td>6.622068e+09</td>\n",
       "      <td>6.632680e-01</td>\n",
       "    </tr>\n",
       "  </tbody>\n",
       "</table>\n",
       "<p>14300 rows × 8 columns</p>\n",
       "</div>"
      ],
      "text/plain": [
       "           index                              name  \\\n",
       "7994   E14001257            Greenwich and Woolwich   \n",
       "8037   E14001300                      Ilford North   \n",
       "8006   E14001269       Harrogate and Knaresborough   \n",
       "2942   E14001405                North West Norfolk   \n",
       "10623  E14001286       Heywood and Middleton North   \n",
       "...          ...                               ...   \n",
       "366    E14001429                             Poole   \n",
       "99     E14001162              Chesham and Amersham   \n",
       "109    E14001172  Cities of London and Westminster   \n",
       "197    E14001260      Hackney South and Shoreditch   \n",
       "238    E14001301                      Ilford South   \n",
       "\n",
       "                                         metric      estimate        target  \\\n",
       "7994   hmrc/employment_income/count/15000_20000  1.583421e+03  1.583422e+03   \n",
       "8037   hmrc/employment_income/count/15000_20000  1.685667e+03  1.685663e+03   \n",
       "8006   hmrc/employment_income/count/15000_20000  1.510314e+03  1.510319e+03   \n",
       "2942                                  age/20_30  8.197971e+03  8.198000e+03   \n",
       "10623  hmrc/employment_income/count/30000_40000  6.673801e+03  6.673777e+03   \n",
       "...                                         ...           ...           ...   \n",
       "366                    hmrc/total_income/amount  9.482040e+09  6.592000e+09   \n",
       "99                     hmrc/total_income/amount  1.314473e+10  8.427000e+09   \n",
       "109                    hmrc/total_income/amount  1.509920e+10  9.324000e+09   \n",
       "197                    hmrc/total_income/amount  1.520752e+10  9.372000e+09   \n",
       "238                    hmrc/total_income/amount  1.660607e+10  9.984000e+09   \n",
       "\n",
       "              error     abs_error  rel_abs_error  \n",
       "7994  -1.311274e-03  1.311274e-03   8.281269e-07  \n",
       "8037   4.096116e-03  4.096116e-03   2.429973e-06  \n",
       "8006  -4.979519e-03  4.979519e-03   3.296998e-06  \n",
       "2942  -2.852590e-02  2.852590e-02   3.479617e-06  \n",
       "10623  2.398100e-02  2.398100e-02   3.593318e-06  \n",
       "...             ...           ...            ...  \n",
       "366    2.890040e+09  2.890040e+09   4.384163e-01  \n",
       "99     4.717729e+09  4.717729e+09   5.598350e-01  \n",
       "109    5.775200e+09  5.775200e+09   6.193908e-01  \n",
       "197    5.835522e+09  5.835522e+09   6.226549e-01  \n",
       "238    6.622068e+09  6.622068e+09   6.632680e-01  \n",
       "\n",
       "[14300 rows x 8 columns]"
      ]
     },
     "execution_count": 72,
     "metadata": {},
     "output_type": "execute_result"
    }
   ],
   "source": [
    "constituency_target_validation.sort_values(\"rel_abs_error\")"
   ]
  },
  {
   "cell_type": "code",
   "execution_count": 75,
   "metadata": {},
   "outputs": [],
   "source": [
    "national_performance = household_weights @ national_target_matrix"
   ]
  },
  {
   "cell_type": "code",
   "execution_count": 76,
   "metadata": {},
   "outputs": [
    {
     "data": {
      "text/html": [
       "<div>\n",
       "<style scoped>\n",
       "    .dataframe tbody tr th:only-of-type {\n",
       "        vertical-align: middle;\n",
       "    }\n",
       "\n",
       "    .dataframe tbody tr th {\n",
       "        vertical-align: top;\n",
       "    }\n",
       "\n",
       "    .dataframe thead th {\n",
       "        text-align: right;\n",
       "    }\n",
       "</style>\n",
       "<table border=\"1\" class=\"dataframe\">\n",
       "  <thead>\n",
       "    <tr style=\"text-align: right;\">\n",
       "      <th></th>\n",
       "      <th>metric</th>\n",
       "      <th>estimate</th>\n",
       "    </tr>\n",
       "  </thead>\n",
       "  <tbody>\n",
       "    <tr>\n",
       "      <th>0</th>\n",
       "      <td>obr/attendance_allowance</td>\n",
       "      <td>8.609886e+09</td>\n",
       "    </tr>\n",
       "    <tr>\n",
       "      <th>1</th>\n",
       "      <td>obr/carers_allowance</td>\n",
       "      <td>5.135948e+09</td>\n",
       "    </tr>\n",
       "    <tr>\n",
       "      <th>2</th>\n",
       "      <td>obr/dla</td>\n",
       "      <td>7.895548e+09</td>\n",
       "    </tr>\n",
       "    <tr>\n",
       "      <th>3</th>\n",
       "      <td>obr/esa</td>\n",
       "      <td>1.260614e+10</td>\n",
       "    </tr>\n",
       "    <tr>\n",
       "      <th>4</th>\n",
       "      <td>obr/esa_contrib</td>\n",
       "      <td>5.322245e+09</td>\n",
       "    </tr>\n",
       "    <tr>\n",
       "      <th>...</th>\n",
       "      <td>...</td>\n",
       "      <td>...</td>\n",
       "    </tr>\n",
       "    <tr>\n",
       "      <th>330</th>\n",
       "      <td>hmrc/property_income_count_income_band_55_12_5...</td>\n",
       "      <td>2.469459e+06</td>\n",
       "    </tr>\n",
       "    <tr>\n",
       "      <th>331</th>\n",
       "      <td>hmrc/savings_interest_income_income_band_55_12...</td>\n",
       "      <td>3.746142e+09</td>\n",
       "    </tr>\n",
       "    <tr>\n",
       "      <th>332</th>\n",
       "      <td>hmrc/savings_interest_income_count_income_band...</td>\n",
       "      <td>1.241342e+07</td>\n",
       "    </tr>\n",
       "    <tr>\n",
       "      <th>333</th>\n",
       "      <td>hmrc/dividend_income_income_band_55_12_570.0_t...</td>\n",
       "      <td>1.067528e+11</td>\n",
       "    </tr>\n",
       "    <tr>\n",
       "      <th>334</th>\n",
       "      <td>hmrc/dividend_income_count_income_band_55_12_5...</td>\n",
       "      <td>4.246309e+06</td>\n",
       "    </tr>\n",
       "  </tbody>\n",
       "</table>\n",
       "<p>335 rows × 2 columns</p>\n",
       "</div>"
      ],
      "text/plain": [
       "                                                metric      estimate\n",
       "0                             obr/attendance_allowance  8.609886e+09\n",
       "1                                 obr/carers_allowance  5.135948e+09\n",
       "2                                              obr/dla  7.895548e+09\n",
       "3                                              obr/esa  1.260614e+10\n",
       "4                                      obr/esa_contrib  5.322245e+09\n",
       "..                                                 ...           ...\n",
       "330  hmrc/property_income_count_income_band_55_12_5...  2.469459e+06\n",
       "331  hmrc/savings_interest_income_income_band_55_12...  3.746142e+09\n",
       "332  hmrc/savings_interest_income_count_income_band...  1.241342e+07\n",
       "333  hmrc/dividend_income_income_band_55_12_570.0_t...  1.067528e+11\n",
       "334  hmrc/dividend_income_count_income_band_55_12_5...  4.246309e+06\n",
       "\n",
       "[335 rows x 2 columns]"
      ]
     },
     "execution_count": 76,
     "metadata": {},
     "output_type": "execute_result"
    }
   ],
   "source": [
    "national_target_validation = pd.DataFrame({\"metric\": national_performance.index, \"estimate\": national_performance.values})\n",
    "national_target_validation"
   ]
  },
  {
   "cell_type": "code",
   "execution_count": 77,
   "metadata": {},
   "outputs": [],
   "source": [
    "national_target_validation[\"target\"] = national_actuals.values"
   ]
  },
  {
   "cell_type": "code",
   "execution_count": 79,
   "metadata": {},
   "outputs": [],
   "source": [
    "national_target_validation[\"error\"] = national_target_validation[\"estimate\"] - national_target_validation[\"target\"]\n",
    "national_target_validation[\"abs_error\"] = national_target_validation[\"error\"].abs()\n",
    "national_target_validation[\"rel_abs_error\"] = national_target_validation[\"abs_error\"] / national_target_validation[\"target\"]"
   ]
  },
  {
   "cell_type": "code",
   "execution_count": 81,
   "metadata": {},
   "outputs": [
    {
     "data": {
      "text/html": [
       "<div>\n",
       "<style scoped>\n",
       "    .dataframe tbody tr th:only-of-type {\n",
       "        vertical-align: middle;\n",
       "    }\n",
       "\n",
       "    .dataframe tbody tr th {\n",
       "        vertical-align: top;\n",
       "    }\n",
       "\n",
       "    .dataframe thead th {\n",
       "        text-align: right;\n",
       "    }\n",
       "</style>\n",
       "<table border=\"1\" class=\"dataframe\">\n",
       "  <thead>\n",
       "    <tr style=\"text-align: right;\">\n",
       "      <th></th>\n",
       "      <th>metric</th>\n",
       "      <th>estimate</th>\n",
       "      <th>target</th>\n",
       "      <th>error</th>\n",
       "      <th>abs_error</th>\n",
       "      <th>rel_abs_error</th>\n",
       "    </tr>\n",
       "  </thead>\n",
       "  <tbody>\n",
       "    <tr>\n",
       "      <th>32</th>\n",
       "      <td>obr/tax_credits</td>\n",
       "      <td>2.943900e+07</td>\n",
       "      <td>-1.000000e+08</td>\n",
       "      <td>1.294390e+08</td>\n",
       "      <td>1.294390e+08</td>\n",
       "      <td>-1.294390</td>\n",
       "    </tr>\n",
       "    <tr>\n",
       "      <th>98</th>\n",
       "      <td>ons/london_age_40_49</td>\n",
       "      <td>1.313667e+06</td>\n",
       "      <td>1.314000e+06</td>\n",
       "      <td>-3.328305e+02</td>\n",
       "      <td>3.328305e+02</td>\n",
       "      <td>0.000253</td>\n",
       "    </tr>\n",
       "    <tr>\n",
       "      <th>264</th>\n",
       "      <td>hmrc/dividend_income_count_income_band_50_150_...</td>\n",
       "      <td>9.831851e+04</td>\n",
       "      <td>9.836400e+04</td>\n",
       "      <td>-4.548842e+01</td>\n",
       "      <td>4.548842e+01</td>\n",
       "      <td>0.000462</td>\n",
       "    </tr>\n",
       "    <tr>\n",
       "      <th>170</th>\n",
       "      <td>hmrc/self_employment_income_count_income_band_...</td>\n",
       "      <td>9.565654e+05</td>\n",
       "      <td>9.577590e+05</td>\n",
       "      <td>-1.193629e+03</td>\n",
       "      <td>1.193629e+03</td>\n",
       "      <td>0.001246</td>\n",
       "    </tr>\n",
       "    <tr>\n",
       "      <th>176</th>\n",
       "      <td>hmrc/property_income_count_income_band_44_20_0...</td>\n",
       "      <td>4.218731e+05</td>\n",
       "      <td>4.213140e+05</td>\n",
       "      <td>5.591286e+02</td>\n",
       "      <td>5.591286e+02</td>\n",
       "      <td>0.001327</td>\n",
       "    </tr>\n",
       "    <tr>\n",
       "      <th>...</th>\n",
       "      <td>...</td>\n",
       "      <td>...</td>\n",
       "      <td>...</td>\n",
       "      <td>...</td>\n",
       "      <td>...</td>\n",
       "      <td>...</td>\n",
       "    </tr>\n",
       "    <tr>\n",
       "      <th>152</th>\n",
       "      <td>hmrc/dividend_income_count_income_band_42_12_5...</td>\n",
       "      <td>4.643037e+04</td>\n",
       "      <td>2.021400e+04</td>\n",
       "      <td>2.621637e+04</td>\n",
       "      <td>2.621637e+04</td>\n",
       "      <td>1.296941</td>\n",
       "    </tr>\n",
       "    <tr>\n",
       "      <th>145</th>\n",
       "      <td>hmrc/private_pension_income_income_band_42_12_...</td>\n",
       "      <td>2.558292e+09</td>\n",
       "      <td>1.103045e+09</td>\n",
       "      <td>1.455246e+09</td>\n",
       "      <td>1.455246e+09</td>\n",
       "      <td>1.319299</td>\n",
       "    </tr>\n",
       "    <tr>\n",
       "      <th>146</th>\n",
       "      <td>hmrc/private_pension_income_count_income_band_...</td>\n",
       "      <td>4.939236e+05</td>\n",
       "      <td>1.738270e+05</td>\n",
       "      <td>3.200966e+05</td>\n",
       "      <td>3.200966e+05</td>\n",
       "      <td>1.841466</td>\n",
       "    </tr>\n",
       "    <tr>\n",
       "      <th>143</th>\n",
       "      <td>hmrc/state_pension_income_band_42_12_570.0_to_...</td>\n",
       "      <td>5.210198e+09</td>\n",
       "      <td>1.819054e+09</td>\n",
       "      <td>3.391144e+09</td>\n",
       "      <td>3.391144e+09</td>\n",
       "      <td>1.864235</td>\n",
       "    </tr>\n",
       "    <tr>\n",
       "      <th>144</th>\n",
       "      <td>hmrc/state_pension_count_income_band_42_12_570...</td>\n",
       "      <td>4.697396e+05</td>\n",
       "      <td>1.492520e+05</td>\n",
       "      <td>3.204876e+05</td>\n",
       "      <td>3.204876e+05</td>\n",
       "      <td>2.147292</td>\n",
       "    </tr>\n",
       "  </tbody>\n",
       "</table>\n",
       "<p>335 rows × 6 columns</p>\n",
       "</div>"
      ],
      "text/plain": [
       "                                                metric      estimate  \\\n",
       "32                                     obr/tax_credits  2.943900e+07   \n",
       "98                                ons/london_age_40_49  1.313667e+06   \n",
       "264  hmrc/dividend_income_count_income_band_50_150_...  9.831851e+04   \n",
       "170  hmrc/self_employment_income_count_income_band_...  9.565654e+05   \n",
       "176  hmrc/property_income_count_income_band_44_20_0...  4.218731e+05   \n",
       "..                                                 ...           ...   \n",
       "152  hmrc/dividend_income_count_income_band_42_12_5...  4.643037e+04   \n",
       "145  hmrc/private_pension_income_income_band_42_12_...  2.558292e+09   \n",
       "146  hmrc/private_pension_income_count_income_band_...  4.939236e+05   \n",
       "143  hmrc/state_pension_income_band_42_12_570.0_to_...  5.210198e+09   \n",
       "144  hmrc/state_pension_count_income_band_42_12_570...  4.697396e+05   \n",
       "\n",
       "           target         error     abs_error  rel_abs_error  \n",
       "32  -1.000000e+08  1.294390e+08  1.294390e+08      -1.294390  \n",
       "98   1.314000e+06 -3.328305e+02  3.328305e+02       0.000253  \n",
       "264  9.836400e+04 -4.548842e+01  4.548842e+01       0.000462  \n",
       "170  9.577590e+05 -1.193629e+03  1.193629e+03       0.001246  \n",
       "176  4.213140e+05  5.591286e+02  5.591286e+02       0.001327  \n",
       "..            ...           ...           ...            ...  \n",
       "152  2.021400e+04  2.621637e+04  2.621637e+04       1.296941  \n",
       "145  1.103045e+09  1.455246e+09  1.455246e+09       1.319299  \n",
       "146  1.738270e+05  3.200966e+05  3.200966e+05       1.841466  \n",
       "143  1.819054e+09  3.391144e+09  3.391144e+09       1.864235  \n",
       "144  1.492520e+05  3.204876e+05  3.204876e+05       2.147292  \n",
       "\n",
       "[335 rows x 6 columns]"
      ]
     },
     "execution_count": 81,
     "metadata": {},
     "output_type": "execute_result"
    }
   ],
   "source": [
    "national_target_validation.sort_values(\"rel_abs_error\")"
   ]
  },
  {
   "cell_type": "code",
   "execution_count": 82,
   "metadata": {},
   "outputs": [
    {
     "data": {
      "application/vnd.plotly.v1+json": {
       "config": {
        "plotlyServerURL": "https://plot.ly"
       },
       "data": [
        {
         "alignmentgroup": "True",
         "bingroup": "x",
         "hovertemplate": "variable=rel_abs_error<br>value=%{x}<br>count=%{y}<extra></extra>",
         "legendgroup": "rel_abs_error",
         "marker": {
          "color": "#636efa",
          "pattern": {
           "shape": ""
          }
         },
         "name": "rel_abs_error",
         "offsetgroup": "rel_abs_error",
         "orientation": "v",
         "showlegend": true,
         "type": "histogram",
         "x": [
          0.07623574931556677,
          0.1672608909350109,
          0.05273973026726481,
          0.06831706391735949,
          0.02350862288179049,
          0.10362068412720059,
          0.5507575770939752,
          0.06487979580517858,
          0.049091891559530317,
          0.041565123709611566,
          0.15297474013893897,
          0.0414653107392916,
          0.17728420257855806,
          0.5272354808065199,
          1.046653153037403,
          0.06152623812912127,
          0.05041681398443461,
          0.06509109611867173,
          0.6682934312993885,
          0.06838369087907814,
          0.051179629465939555,
          0.07873931716752539,
          0.08099057649963698,
          0.06788484778697204,
          0.04953897937701507,
          1,
          0.03420306886153281,
          0.11400010665499938,
          0.07652514836754441,
          1.1560871084512652,
          0.05211475911100056,
          0.05475878754560497,
          -1.294389977675608,
          0.019716463569372653,
          0.041068512765661265,
          0.05802587631433596,
          0.03511801973857977,
          0.11056888849417028,
          0.5015704303942546,
          0.041696983080642604,
          0.06278071569328883,
          0.058591264356045246,
          0.09376927290503587,
          0.08479858267103947,
          0.09050795940078121,
          0.09546975195292809,
          0.10804088342979072,
          0.07328704495765202,
          0.07736085138407542,
          0.06390905060036031,
          0.06526075264782548,
          0.07787986432566041,
          0.07844405547811215,
          0.06391295016458542,
          0.049985587950023044,
          0.06441556825535501,
          0.043295504376276404,
          0.06275561928143392,
          0.03432425685138315,
          0.050967659313367025,
          0.04445700054413059,
          0.02648970044101536,
          0.03331695268341549,
          0.029912662995267535,
          0.037921867751278066,
          0.09643510402011173,
          0.03503632460898317,
          0.07392954088236255,
          0.029587531798277274,
          0.03771052312802341,
          0.08327649676515646,
          0.04970887470138929,
          0.04087234481496926,
          0.004931592160874611,
          0.04271701053415911,
          0.05365904725562969,
          0.07905122072982577,
          0.04907627952732943,
          0.07233737970295516,
          0.08468792078792726,
          0.06689256361602913,
          0.08010049519432028,
          0.06806767695529566,
          0.06863768155748805,
          0.08746691080877428,
          0.038606348333123285,
          0.021159928162193226,
          0.05785003459687828,
          0.026627635711155506,
          0.017171654741995234,
          0.08714076662179933,
          0.07183341851784665,
          0.08363666558487363,
          0.05458164178451528,
          0.02099495414658222,
          0.0014494284023134879,
          0.059614976858647487,
          0.03446997550212696,
          0.0002532956912100763,
          0.06611709600334757,
          0.09546984752129667,
          0.06065733107876134,
          0.031153782251562293,
          0.06539572585332906,
          0.04322455015602495,
          0.06572241685063188,
          0.038373785339998114,
          0.056177754175569965,
          0.0489179862273028,
          0.014642088526388562,
          0.05465276449843903,
          0.08568764337803268,
          0.054124403456547655,
          0.05140266014050463,
          0.006229318741984919,
          0.05234747769602851,
          0.016440303270839514,
          0.01633742208433385,
          0.05483275290765498,
          0.03284390883559956,
          0.035453453147714024,
          0.026891957811291504,
          0.016333622822286273,
          0.03523467248185552,
          0.06723251116400601,
          0.008959213421361618,
          0.028655321240576095,
          0.028309114644177093,
          0.10257212393627214,
          0.012315234124634622,
          0.04870690325847091,
          0.03829418887652039,
          0.059847587568635306,
          0.04428496069929326,
          0.03031737495582655,
          0.0891340450058206,
          0.0807132420241934,
          0.04282056932671306,
          0.010833125144067991,
          0.028094120719104318,
          0.046038585013299965,
          0.11026551642183964,
          0.6239695705414168,
          1.8642345810645475,
          2.1472915011823215,
          1.3192986620514164,
          1.8414662773788213,
          0.35201049106116045,
          0.2949954451016912,
          1.1800887747855182,
          0.8897645913292048,
          1.2529844026506256,
          1.2969414654144642,
          0.040911149215346,
          0.04024527643639814,
          0.03174590356134086,
          0.018656993215517028,
          0.11529858338672799,
          0.02166215076697439,
          0.06583724047632576,
          0.02064338246352175,
          0.05565266585893369,
          0.06817942067801565,
          0.037760572122391346,
          0.049544727033461425,
          0.21939213060295687,
          0.07248940008570741,
          0.08449787410759646,
          0.03656341966383579,
          0.014172714385410831,
          0.0012462725087891376,
          0.11054360427763131,
          0.01055319848845164,
          0.020020730503131873,
          0.004545042749549275,
          0.0405218184083583,
          0.0013271065751719773,
          0.012000067842693814,
          0.020699015630758422,
          0.09829696676327343,
          0.040506325283752885,
          0.10080422708674033,
          0.03595628437569884,
          0.16771062714952992,
          0.1463421965732471,
          0.1316491257798471,
          0.0052505274251894015,
          0.12920787510910664,
          0.06485318888534121,
          0.006444949328289591,
          0.00665308860949576,
          0.1643894393373266,
          0.07039657915796199,
          0.03141424229060312,
          0.004027526790653135,
          0.09588818333847178,
          0.03294342088718408,
          0.08964454967971726,
          0.08939972634231301,
          0.07885934992921836,
          0.027976346295995557,
          0.10508593988258401,
          0.08119311204896329,
          0.269966868386306,
          0.17822820889759097,
          0.07860326874567863,
          0.08579980239743605,
          0.12555814108216837,
          0.05100700819311311,
          0.12248386375151113,
          0.06541685382769385,
          0.04909968948699672,
          0.02100712934741896,
          0.1067386080178315,
          0.009944931130614844,
          0.004138916586866943,
          0.018700943343575662,
          0.006695830183799598,
          0.036189661332833495,
          0.12654655292626768,
          0.06875662423194409,
          0.09581052028362307,
          0.078820285003667,
          0.12495915719425721,
          0.08062938551916721,
          0.15506594019657194,
          0.2133293254889713,
          0.059936756521597516,
          0.014848585748034729,
          0.10707725073838371,
          0.12555880976682018,
          0.055302059927717834,
          0.03693414639147974,
          0.1130526319826221,
          0.09164526249668918,
          0.09332464740149787,
          0.14900702525339427,
          0.13101757897554997,
          0.09526494395634744,
          0.032537045432336244,
          0.02524865498678378,
          0.04224338901475685,
          0.025559722252121077,
          0.3165273276548497,
          0.2548990566507705,
          0.31047775232303815,
          0.38060953062013203,
          0.19990170170212973,
          0.18511365899846519,
          0.07141247395801534,
          0.10062767560838441,
          0.10798191248677985,
          0.07776055840150241,
          0.1362662141388036,
          0.13537231427127602,
          0.08223840239577308,
          0.18200304529099548,
          0.21388512899008666,
          0.1559507195756684,
          0.10134566034242913,
          0.05153043626709457,
          0.1842919876972593,
          0.10819758162033057,
          0.06927455744499328,
          0.00046244989182235715,
          0.08470618839697593,
          0.07295797785493108,
          0.19725619074583534,
          0.09890702826505648,
          0.09304067389300964,
          0.17802340167360636,
          0.09840047255439914,
          0.14281194656401147,
          0.08851379854256582,
          0.08941058079501106,
          0.07814422100401669,
          0.11869952781253366,
          0.01062782185785875,
          0.11990926906866532,
          0.1836845719268499,
          0.173675465726272,
          0.07760737664048169,
          0.03526623629040478,
          0.3230990865661023,
          0.20033249784211465,
          0.08733140698071289,
          0.05727181042119274,
          0.05080758364812593,
          0.12360908776014863,
          0.0019862768391000424,
          0.08229676106746238,
          0.17574722340294208,
          0.02114237158228263,
          0.1762161402359704,
          0.0025630613816743654,
          0.00320807155846809,
          0.037182164659838944,
          0.3080761316201023,
          0.04904110002677584,
          0.005274063109932528,
          0.055748601516202256,
          0.37206540702013086,
          0.5424481072476233,
          0.23830720082990672,
          0.00696945681872617,
          0.11357339862689722,
          0.07143374268974817,
          0.21546492739510342,
          0.441690412601845,
          0.06592360256950996,
          0.0821644642155708,
          0.09607368851659928,
          0.02419085750470459,
          0.07782488696311116,
          0.017907492610111316,
          0.05550635910326587,
          0.0404934636910849,
          0.09353287219324696,
          0.48838566543076845,
          0.08648509696442461,
          0.34569362825087063,
          0.10260652077373858,
          0.0398501187351082,
          0.07683435827825418,
          0.06986053611946011,
          0.07040542751778874,
          0.03840034750041623,
          0.08857780217893185,
          0.06406531297982997,
          0.08924700165040052,
          0.05211905424632325,
          0.098497004736647,
          0.062176143769405154,
          0.08499871206034493,
          0.06663109747108924
         ],
         "xaxis": "x",
         "yaxis": "y"
        }
       ],
       "layout": {
        "barmode": "relative",
        "legend": {
         "title": {
          "text": "variable"
         },
         "tracegroupgap": 0
        },
        "margin": {
         "t": 60
        },
        "template": {
         "data": {
          "bar": [
           {
            "error_x": {
             "color": "#2a3f5f"
            },
            "error_y": {
             "color": "#2a3f5f"
            },
            "marker": {
             "line": {
              "color": "#E5ECF6",
              "width": 0.5
             },
             "pattern": {
              "fillmode": "overlay",
              "size": 10,
              "solidity": 0.2
             }
            },
            "type": "bar"
           }
          ],
          "barpolar": [
           {
            "marker": {
             "line": {
              "color": "#E5ECF6",
              "width": 0.5
             },
             "pattern": {
              "fillmode": "overlay",
              "size": 10,
              "solidity": 0.2
             }
            },
            "type": "barpolar"
           }
          ],
          "carpet": [
           {
            "aaxis": {
             "endlinecolor": "#2a3f5f",
             "gridcolor": "white",
             "linecolor": "white",
             "minorgridcolor": "white",
             "startlinecolor": "#2a3f5f"
            },
            "baxis": {
             "endlinecolor": "#2a3f5f",
             "gridcolor": "white",
             "linecolor": "white",
             "minorgridcolor": "white",
             "startlinecolor": "#2a3f5f"
            },
            "type": "carpet"
           }
          ],
          "choropleth": [
           {
            "colorbar": {
             "outlinewidth": 0,
             "ticks": ""
            },
            "type": "choropleth"
           }
          ],
          "contour": [
           {
            "colorbar": {
             "outlinewidth": 0,
             "ticks": ""
            },
            "colorscale": [
             [
              0,
              "#0d0887"
             ],
             [
              0.1111111111111111,
              "#46039f"
             ],
             [
              0.2222222222222222,
              "#7201a8"
             ],
             [
              0.3333333333333333,
              "#9c179e"
             ],
             [
              0.4444444444444444,
              "#bd3786"
             ],
             [
              0.5555555555555556,
              "#d8576b"
             ],
             [
              0.6666666666666666,
              "#ed7953"
             ],
             [
              0.7777777777777778,
              "#fb9f3a"
             ],
             [
              0.8888888888888888,
              "#fdca26"
             ],
             [
              1,
              "#f0f921"
             ]
            ],
            "type": "contour"
           }
          ],
          "contourcarpet": [
           {
            "colorbar": {
             "outlinewidth": 0,
             "ticks": ""
            },
            "type": "contourcarpet"
           }
          ],
          "heatmap": [
           {
            "colorbar": {
             "outlinewidth": 0,
             "ticks": ""
            },
            "colorscale": [
             [
              0,
              "#0d0887"
             ],
             [
              0.1111111111111111,
              "#46039f"
             ],
             [
              0.2222222222222222,
              "#7201a8"
             ],
             [
              0.3333333333333333,
              "#9c179e"
             ],
             [
              0.4444444444444444,
              "#bd3786"
             ],
             [
              0.5555555555555556,
              "#d8576b"
             ],
             [
              0.6666666666666666,
              "#ed7953"
             ],
             [
              0.7777777777777778,
              "#fb9f3a"
             ],
             [
              0.8888888888888888,
              "#fdca26"
             ],
             [
              1,
              "#f0f921"
             ]
            ],
            "type": "heatmap"
           }
          ],
          "heatmapgl": [
           {
            "colorbar": {
             "outlinewidth": 0,
             "ticks": ""
            },
            "colorscale": [
             [
              0,
              "#0d0887"
             ],
             [
              0.1111111111111111,
              "#46039f"
             ],
             [
              0.2222222222222222,
              "#7201a8"
             ],
             [
              0.3333333333333333,
              "#9c179e"
             ],
             [
              0.4444444444444444,
              "#bd3786"
             ],
             [
              0.5555555555555556,
              "#d8576b"
             ],
             [
              0.6666666666666666,
              "#ed7953"
             ],
             [
              0.7777777777777778,
              "#fb9f3a"
             ],
             [
              0.8888888888888888,
              "#fdca26"
             ],
             [
              1,
              "#f0f921"
             ]
            ],
            "type": "heatmapgl"
           }
          ],
          "histogram": [
           {
            "marker": {
             "pattern": {
              "fillmode": "overlay",
              "size": 10,
              "solidity": 0.2
             }
            },
            "type": "histogram"
           }
          ],
          "histogram2d": [
           {
            "colorbar": {
             "outlinewidth": 0,
             "ticks": ""
            },
            "colorscale": [
             [
              0,
              "#0d0887"
             ],
             [
              0.1111111111111111,
              "#46039f"
             ],
             [
              0.2222222222222222,
              "#7201a8"
             ],
             [
              0.3333333333333333,
              "#9c179e"
             ],
             [
              0.4444444444444444,
              "#bd3786"
             ],
             [
              0.5555555555555556,
              "#d8576b"
             ],
             [
              0.6666666666666666,
              "#ed7953"
             ],
             [
              0.7777777777777778,
              "#fb9f3a"
             ],
             [
              0.8888888888888888,
              "#fdca26"
             ],
             [
              1,
              "#f0f921"
             ]
            ],
            "type": "histogram2d"
           }
          ],
          "histogram2dcontour": [
           {
            "colorbar": {
             "outlinewidth": 0,
             "ticks": ""
            },
            "colorscale": [
             [
              0,
              "#0d0887"
             ],
             [
              0.1111111111111111,
              "#46039f"
             ],
             [
              0.2222222222222222,
              "#7201a8"
             ],
             [
              0.3333333333333333,
              "#9c179e"
             ],
             [
              0.4444444444444444,
              "#bd3786"
             ],
             [
              0.5555555555555556,
              "#d8576b"
             ],
             [
              0.6666666666666666,
              "#ed7953"
             ],
             [
              0.7777777777777778,
              "#fb9f3a"
             ],
             [
              0.8888888888888888,
              "#fdca26"
             ],
             [
              1,
              "#f0f921"
             ]
            ],
            "type": "histogram2dcontour"
           }
          ],
          "mesh3d": [
           {
            "colorbar": {
             "outlinewidth": 0,
             "ticks": ""
            },
            "type": "mesh3d"
           }
          ],
          "parcoords": [
           {
            "line": {
             "colorbar": {
              "outlinewidth": 0,
              "ticks": ""
             }
            },
            "type": "parcoords"
           }
          ],
          "pie": [
           {
            "automargin": true,
            "type": "pie"
           }
          ],
          "scatter": [
           {
            "fillpattern": {
             "fillmode": "overlay",
             "size": 10,
             "solidity": 0.2
            },
            "type": "scatter"
           }
          ],
          "scatter3d": [
           {
            "line": {
             "colorbar": {
              "outlinewidth": 0,
              "ticks": ""
             }
            },
            "marker": {
             "colorbar": {
              "outlinewidth": 0,
              "ticks": ""
             }
            },
            "type": "scatter3d"
           }
          ],
          "scattercarpet": [
           {
            "marker": {
             "colorbar": {
              "outlinewidth": 0,
              "ticks": ""
             }
            },
            "type": "scattercarpet"
           }
          ],
          "scattergeo": [
           {
            "marker": {
             "colorbar": {
              "outlinewidth": 0,
              "ticks": ""
             }
            },
            "type": "scattergeo"
           }
          ],
          "scattergl": [
           {
            "marker": {
             "colorbar": {
              "outlinewidth": 0,
              "ticks": ""
             }
            },
            "type": "scattergl"
           }
          ],
          "scattermapbox": [
           {
            "marker": {
             "colorbar": {
              "outlinewidth": 0,
              "ticks": ""
             }
            },
            "type": "scattermapbox"
           }
          ],
          "scatterpolar": [
           {
            "marker": {
             "colorbar": {
              "outlinewidth": 0,
              "ticks": ""
             }
            },
            "type": "scatterpolar"
           }
          ],
          "scatterpolargl": [
           {
            "marker": {
             "colorbar": {
              "outlinewidth": 0,
              "ticks": ""
             }
            },
            "type": "scatterpolargl"
           }
          ],
          "scatterternary": [
           {
            "marker": {
             "colorbar": {
              "outlinewidth": 0,
              "ticks": ""
             }
            },
            "type": "scatterternary"
           }
          ],
          "surface": [
           {
            "colorbar": {
             "outlinewidth": 0,
             "ticks": ""
            },
            "colorscale": [
             [
              0,
              "#0d0887"
             ],
             [
              0.1111111111111111,
              "#46039f"
             ],
             [
              0.2222222222222222,
              "#7201a8"
             ],
             [
              0.3333333333333333,
              "#9c179e"
             ],
             [
              0.4444444444444444,
              "#bd3786"
             ],
             [
              0.5555555555555556,
              "#d8576b"
             ],
             [
              0.6666666666666666,
              "#ed7953"
             ],
             [
              0.7777777777777778,
              "#fb9f3a"
             ],
             [
              0.8888888888888888,
              "#fdca26"
             ],
             [
              1,
              "#f0f921"
             ]
            ],
            "type": "surface"
           }
          ],
          "table": [
           {
            "cells": {
             "fill": {
              "color": "#EBF0F8"
             },
             "line": {
              "color": "white"
             }
            },
            "header": {
             "fill": {
              "color": "#C8D4E3"
             },
             "line": {
              "color": "white"
             }
            },
            "type": "table"
           }
          ]
         },
         "layout": {
          "annotationdefaults": {
           "arrowcolor": "#2a3f5f",
           "arrowhead": 0,
           "arrowwidth": 1
          },
          "autotypenumbers": "strict",
          "coloraxis": {
           "colorbar": {
            "outlinewidth": 0,
            "ticks": ""
           }
          },
          "colorscale": {
           "diverging": [
            [
             0,
             "#8e0152"
            ],
            [
             0.1,
             "#c51b7d"
            ],
            [
             0.2,
             "#de77ae"
            ],
            [
             0.3,
             "#f1b6da"
            ],
            [
             0.4,
             "#fde0ef"
            ],
            [
             0.5,
             "#f7f7f7"
            ],
            [
             0.6,
             "#e6f5d0"
            ],
            [
             0.7,
             "#b8e186"
            ],
            [
             0.8,
             "#7fbc41"
            ],
            [
             0.9,
             "#4d9221"
            ],
            [
             1,
             "#276419"
            ]
           ],
           "sequential": [
            [
             0,
             "#0d0887"
            ],
            [
             0.1111111111111111,
             "#46039f"
            ],
            [
             0.2222222222222222,
             "#7201a8"
            ],
            [
             0.3333333333333333,
             "#9c179e"
            ],
            [
             0.4444444444444444,
             "#bd3786"
            ],
            [
             0.5555555555555556,
             "#d8576b"
            ],
            [
             0.6666666666666666,
             "#ed7953"
            ],
            [
             0.7777777777777778,
             "#fb9f3a"
            ],
            [
             0.8888888888888888,
             "#fdca26"
            ],
            [
             1,
             "#f0f921"
            ]
           ],
           "sequentialminus": [
            [
             0,
             "#0d0887"
            ],
            [
             0.1111111111111111,
             "#46039f"
            ],
            [
             0.2222222222222222,
             "#7201a8"
            ],
            [
             0.3333333333333333,
             "#9c179e"
            ],
            [
             0.4444444444444444,
             "#bd3786"
            ],
            [
             0.5555555555555556,
             "#d8576b"
            ],
            [
             0.6666666666666666,
             "#ed7953"
            ],
            [
             0.7777777777777778,
             "#fb9f3a"
            ],
            [
             0.8888888888888888,
             "#fdca26"
            ],
            [
             1,
             "#f0f921"
            ]
           ]
          },
          "colorway": [
           "#636efa",
           "#EF553B",
           "#00cc96",
           "#ab63fa",
           "#FFA15A",
           "#19d3f3",
           "#FF6692",
           "#B6E880",
           "#FF97FF",
           "#FECB52"
          ],
          "font": {
           "color": "#2a3f5f"
          },
          "geo": {
           "bgcolor": "white",
           "lakecolor": "white",
           "landcolor": "#E5ECF6",
           "showlakes": true,
           "showland": true,
           "subunitcolor": "white"
          },
          "hoverlabel": {
           "align": "left"
          },
          "hovermode": "closest",
          "mapbox": {
           "style": "light"
          },
          "paper_bgcolor": "white",
          "plot_bgcolor": "#E5ECF6",
          "polar": {
           "angularaxis": {
            "gridcolor": "white",
            "linecolor": "white",
            "ticks": ""
           },
           "bgcolor": "#E5ECF6",
           "radialaxis": {
            "gridcolor": "white",
            "linecolor": "white",
            "ticks": ""
           }
          },
          "scene": {
           "xaxis": {
            "backgroundcolor": "#E5ECF6",
            "gridcolor": "white",
            "gridwidth": 2,
            "linecolor": "white",
            "showbackground": true,
            "ticks": "",
            "zerolinecolor": "white"
           },
           "yaxis": {
            "backgroundcolor": "#E5ECF6",
            "gridcolor": "white",
            "gridwidth": 2,
            "linecolor": "white",
            "showbackground": true,
            "ticks": "",
            "zerolinecolor": "white"
           },
           "zaxis": {
            "backgroundcolor": "#E5ECF6",
            "gridcolor": "white",
            "gridwidth": 2,
            "linecolor": "white",
            "showbackground": true,
            "ticks": "",
            "zerolinecolor": "white"
           }
          },
          "shapedefaults": {
           "line": {
            "color": "#2a3f5f"
           }
          },
          "ternary": {
           "aaxis": {
            "gridcolor": "white",
            "linecolor": "white",
            "ticks": ""
           },
           "baxis": {
            "gridcolor": "white",
            "linecolor": "white",
            "ticks": ""
           },
           "bgcolor": "#E5ECF6",
           "caxis": {
            "gridcolor": "white",
            "linecolor": "white",
            "ticks": ""
           }
          },
          "title": {
           "x": 0.05
          },
          "xaxis": {
           "automargin": true,
           "gridcolor": "white",
           "linecolor": "white",
           "ticks": "",
           "title": {
            "standoff": 15
           },
           "zerolinecolor": "white",
           "zerolinewidth": 2
          },
          "yaxis": {
           "automargin": true,
           "gridcolor": "white",
           "linecolor": "white",
           "ticks": "",
           "title": {
            "standoff": 15
           },
           "zerolinecolor": "white",
           "zerolinewidth": 2
          }
         }
        },
        "xaxis": {
         "anchor": "y",
         "domain": [
          0,
          1
         ],
         "title": {
          "text": "value"
         }
        },
        "yaxis": {
         "anchor": "x",
         "domain": [
          0,
          1
         ],
         "title": {
          "text": "count"
         }
        }
       }
      }
     },
     "metadata": {},
     "output_type": "display_data"
    }
   ],
   "source": [
    "px.histogram(\n",
    "    national_target_validation.rel_abs_error\n",
    ")"
   ]
  }
 ],
 "metadata": {
  "kernelspec": {
   "display_name": "base",
   "language": "python",
   "name": "python3"
  },
  "language_info": {
   "codemirror_mode": {
    "name": "ipython",
    "version": 3
   },
   "file_extension": ".py",
   "mimetype": "text/x-python",
   "name": "python",
   "nbconvert_exporter": "python",
   "pygments_lexer": "ipython3",
   "version": "3.10.14"
  }
 },
 "nbformat": 4,
 "nbformat_minor": 2
}
