{
 "cells": [
  {
   "cell_type": "code",
   "execution_count": 20,
   "metadata": {},
   "outputs": [
    {
     "name": "stderr",
     "output_type": "stream",
     "text": [
      "Loss: 0.005292116664350033: 100%|██████████| 100/100 [00:45<00:00,  2.19it/s]\n"
     ]
    },
    {
     "data": {
      "text/plain": [
       "array([36673.11 , 28450.59 , 33809.56 , 35723.895, 38148.88 , 37772.32 ,\n",
       "       43031.355, 33246.973, 42625.168, 42171.363, 43424.082, 33290.605,\n",
       "       34128.65 , 33101.945, 32351.42 , 40592.89 , 38468.766, 34494.137,\n",
       "       38954.09 , 51673.41 , 36150.996, 33272.844, 36657.934, 49753.965,\n",
       "       31133.875, 51011.074, 38906.37 , 40479.145, 33308.11 , 36028.07 ,\n",
       "       37444.01 , 36049.72 , 39619.09 , 39609.92 , 46079.664, 34784.676,\n",
       "       38071.707, 37473.004, 38377.22 , 35551.973, 36523.598, 40878.223,\n",
       "       29612.818, 33639.87 , 32547.094, 33048.547, 41008.27 , 36963.453,\n",
       "       38990.15 , 35828.312, 43681.3  , 35461.48 , 39694.117, 38584.58 ,\n",
       "       36798.758, 38176.15 , 38390.734, 37937.54 , 38299.375, 39924.59 ,\n",
       "       38016.008, 48653.258, 46662.05 , 44722.004, 35128.035, 40026.043,\n",
       "       33289.965, 38204.605, 39409.77 , 45339.945, 36643.727, 40771.508,\n",
       "       54665.848, 38320.844, 33847.926, 37206.766, 34793.04 , 36775.547,\n",
       "       47159.62 , 31018.125, 37504.79 , 43079.535, 34818.477, 42955.17 ,\n",
       "       38373.527, 44341.355, 39747.58 , 40593.777, 36336.547, 43129.004,\n",
       "       33651.895, 35842.688, 35218.703, 44281.254, 37942.43 , 36990.074,\n",
       "       37091.61 , 38562.547, 39540.47 , 39459.242, 36553.5  , 35917.094,\n",
       "       38374.285, 41186.168, 34312.55 , 35316.418, 40235.37 , 38582.44 ,\n",
       "       30646.416, 49912.02 , 35860.707, 37997.832, 36296.89 , 35279.254,\n",
       "       46273.348, 40790.66 , 38644.902, 33008.402, 42768.926, 43334.695,\n",
       "       41790.32 , 46833.285, 39987.438, 38861.363, 44165.746, 49731.51 ,\n",
       "       41361.938, 37397.004, 33177.938, 41029.793, 37336.168, 41906.86 ,\n",
       "       36615.03 , 40648.223, 29250.393, 37353.234, 45923.31 , 46029.203,\n",
       "       39891.695, 36199.652, 42033.887, 31613.254, 28574.71 , 40339.824,\n",
       "       42461.684, 43589.344, 32917.492, 28888.383, 38994.656, 55173.887,\n",
       "       37169.047, 39440.3  , 36590.016, 39849.547, 40629.89 , 40105.023,\n",
       "       35187.555, 42218.11 , 32766.322, 38777.23 , 39998.5  , 39188.414,\n",
       "       40353.418, 41171.67 , 38502.273, 38871.215, 41320.28 , 47837.684,\n",
       "       45108.562, 38123.67 , 35669.086, 45576.44 , 39363.48 , 44355.11 ,\n",
       "       42717.855, 40231.58 , 36879.008, 37111.887, 41108.33 , 36767.664,\n",
       "       35168.81 , 36573.383, 42060.977, 36829.633, 39211.55 , 39431.543,\n",
       "       31415.102, 40450.32 , 46696.227, 41897.76 , 48562.99 , 53995.21 ,\n",
       "       32272.357, 37816.105, 33101.51 , 37111.69 , 43340.855, 50384.215,\n",
       "       45675.426, 41231.18 , 46131.85 , 42932.418, 45133.   , 43377.977,\n",
       "       35474.348, 38552.8  , 35341.953, 42831.586, 29697.785, 37489.973,\n",
       "       35811.01 , 47619.832, 36493.37 , 36553.79 , 40665.594, 39706.176,\n",
       "       30229.895, 38992.547, 38086.17 , 35692.32 , 55055.3  , 38245.605,\n",
       "       43619.69 , 40187.684, 35517.008, 38188.14 , 36363.086, 45749.31 ,\n",
       "       38779.89 , 38771.145, 48904.406, 43189.688, 50285.535, 42910.18 ,\n",
       "       46536.688, 39083.88 , 41509.137, 36727.555, 40906.332, 37528.74 ,\n",
       "       43174.51 , 30207.994, 37444.484, 30622.332, 33413.793, 37944.586,\n",
       "       35008.246, 53823.492, 36787.473, 35559.6  , 34863.777, 33182.17 ,\n",
       "       39484.52 , 39135.195, 39866.508, 39164.684, 32468.307, 40878.58 ,\n",
       "       42052.67 , 48414.324, 40285.285, 38293.92 , 38991.652, 51014.38 ,\n",
       "       38657.324, 38391.105, 34719.7  , 38743.863, 40103.59 , 39938.984,\n",
       "       44456.13 , 42024.66 , 36173.49 , 40784.16 , 39077.137, 42393.76 ,\n",
       "       36232.7  , 65107.39 , 46779.68 , 36289.3  , 39800.637, 43392.04 ,\n",
       "       43290.824, 43419.207, 42644.69 , 39389.42 , 38215.258, 41568.527,\n",
       "       39739.586, 46814.5  , 43307.97 , 54219.598, 51362.945, 41375.37 ,\n",
       "       37562.164, 46445.45 , 35707.17 , 34253.574, 31154.482, 42807.234,\n",
       "       39917.086, 38532.617, 41991.586, 38308.6  , 49141.29 , 45688.18 ,\n",
       "       43032.047, 36057.19 , 44581.02 , 40137.62 , 40152.207, 41872.457,\n",
       "       45627.844, 35246.523, 38609.08 , 46599.598, 43272.613, 33578.047,\n",
       "       37418.582, 41389.523, 37477.605, 45147.188, 45191.008, 40519.11 ,\n",
       "       51555.43 , 51514.902, 36494.855, 42374.875, 46476.69 , 49288.566,\n",
       "       35532.363, 42202.656, 37706.285, 35623.49 , 38730.824, 42291.36 ,\n",
       "       43504.22 , 46213.254, 43681.43 , 42490.914, 37341.445, 41965.95 ,\n",
       "       45953.594, 48545.645, 37646.32 , 43075.094, 32360.846, 32120.795,\n",
       "       39387.5  , 35692.562, 39521.473, 46004.598, 64809.723, 45872.562,\n",
       "       43160.69 , 42093.426, 41157.73 , 41163.31 , 38533.99 , 40043.69 ,\n",
       "       38379.215, 45751.324, 42272.555, 40109.19 , 43393.91 , 41286.344,\n",
       "       45779.58 , 41520.38 , 42229.08 , 39171.082, 39950.945, 35051.465,\n",
       "       37507.33 , 43415.535, 38528.117, 40252.652, 35247.09 , 39077.664,\n",
       "       54083.805, 40437.746, 45435.234, 45611.28 , 36666.402, 43618.797,\n",
       "       35776.94 , 40576.914, 41198.418, 43179.688, 37593.76 , 54589.58 ,\n",
       "       39625.684, 57180.824, 33942.125, 38889.367, 39175.008, 37797.074,\n",
       "       45492.85 , 47501.93 , 49194.055, 47149.914, 51991.65 , 38246.766,\n",
       "       41619.625, 41354.12 , 40486.89 , 38364.883, 43375.793, 43294.945,\n",
       "       34430.082, 41700.324, 43224.457, 42339.76 , 46191.45 , 39216.332,\n",
       "       35635.617, 42333.492, 36154.6  , 38930.8  , 43314.184, 43475.594,\n",
       "       42393.47 , 39290.332, 40347.977, 40633.242, 39640.562, 38451.125,\n",
       "       41191.31 , 38996.47 , 33391.113, 34858.81 , 40554.15 , 42706.07 ,\n",
       "       36826.44 , 48439.098, 33122.152, 42637.445, 37056.895, 37041.34 ,\n",
       "       42634.51 , 45718.586, 48698.2  , 37889.715, 32628.314, 34686.152,\n",
       "       42437.973, 41192.88 , 35458.92 , 42476.93 , 45419.586, 39010.645,\n",
       "       39882.65 , 40271.05 , 45190.22 , 39423.12 , 39680.168, 40269.973,\n",
       "       34999.043, 38949.55 , 44889.062, 43958.63 , 47204.133, 38648.21 ,\n",
       "       41703.92 , 38886.105, 35686.582, 45721.8  , 41219.07 , 39811.477,\n",
       "       40957.312, 45178.188, 40307.34 , 35746.26 , 50869.26 , 45354.766,\n",
       "       41950.996, 43942.668, 40069.42 , 41677.453, 45939.5  , 37030.2  ,\n",
       "       35687.68 , 44921.906, 39741.598, 43486.56 , 36799.004, 49602.383,\n",
       "       37199.062, 35688.926, 40473.992, 39106.117, 32088.838, 43686.695,\n",
       "       41196.95 , 40599.207, 40281.535, 39367.   , 48450.91 , 40402.953,\n",
       "       35098.395, 34074.203, 35151.25 , 38438.68 , 62801.043, 38236.035,\n",
       "       46908.926, 44651.35 , 52274.21 , 30061.88 , 41426.406, 38174.574,\n",
       "       37592.78 , 39144.86 , 36783.625, 26832.658, 38824.04 , 41375.83 ,\n",
       "       43109.6  , 39830.36 , 38250.625, 38911.973, 46154.227, 41322.96 ,\n",
       "       38688.797, 32451.932, 36993.402, 36204.17 , 36791.094, 34152.254,\n",
       "       38179.926, 44487.242, 40099.62 , 41599.703, 44104.31 , 25085.85 ,\n",
       "       25909.049, 32086.938, 27486.613, 30329.932, 29946.23 , 29836.809,\n",
       "       28406.781, 24423.674, 33367.812, 36982.26 , 27006.463, 29670.445,\n",
       "       31409.03 , 28119.598, 32902.555, 21679.39 , 20949.822, 25235.926,\n",
       "       26498.988, 25284.959, 26714.125, 22978.307, 24849.871, 30685.998,\n",
       "       29503.807, 25293.46 , 24359.842, 28696.543, 25106.06 , 28298.95 ,\n",
       "       25250.598, 31591.824, 27719.684, 29508.031, 32155.059, 27308.244,\n",
       "       37768.527, 32329.713, 41541.074, 35937.234, 36238.523, 37149.965,\n",
       "       36413.12 , 36775.156, 36982.08 , 36537.86 , 36705.51 , 34794.902,\n",
       "       36004.914, 37332.91 , 37044.78 , 37175.5  , 36181.465, 36001.125,\n",
       "       36492.605, 36956.562, 36605.02 , 37635.51 , 38073.324, 36724.414,\n",
       "       36330.043, 42515.586, 36702.492, 36449.543, 37870.95 , 44525.883,\n",
       "       36162.85 , 36664.137, 36222.477, 36659.652, 36551.85 , 36564.34 ,\n",
       "       36642.348, 36952.727, 37624.316, 36904.918, 38131.723, 36674.26 ,\n",
       "       37491.496, 36765.605, 45136.19 , 42007.906, 37046.266, 36621.137,\n",
       "       36879.7  , 31826.605, 36427.008, 36264.605, 38699.766, 36310.5  ,\n",
       "       36992.145, 36290.39 , 38221.953, 36929.703, 37235.902, 36177.97 ,\n",
       "       37080.027, 37211.863, 36114.902, 37316.367, 36084.727, 36934.86 ,\n",
       "       36199.35 , 36862.707, 37103.35 , 36235.55 , 37947.676, 36891.273,\n",
       "       37000.24 , 36600.324, 36246.99 , 36265.637, 36553.742, 36298.438,\n",
       "       45176.523, 37441.8  ], dtype=float32)"
      ]
     },
     "execution_count": 20,
     "metadata": {},
     "output_type": "execute_result"
    }
   ],
   "source": [
    "import torch\n",
    "from policyengine_uk import Microsimulation\n",
    "import pandas as pd\n",
    "import numpy as np\n",
    "from tqdm import tqdm\n",
    "\n",
    "# Fill in missing constituencies with average column values\n",
    "import pandas as pd\n",
    "import numpy as np\n",
    "\n",
    "from policyengine_uk_data.utils.loss import create_target_matrix as create_national_target_matrix\n",
    "\n",
    "ages = pd.read_csv(\"targets/age.csv\")\n",
    "incomes = pd.read_csv(\"targets/income.csv\")\n",
    "\n",
    "ENGLAND_CONSTITUENCY = \"E14\"\n",
    "NI_CONSTITUENCY = \"N06\"\n",
    "SCOTLAND_CONSTITUENCY = \"S14\"\n",
    "WALES_CONSTITUENCY = \"W07\"\n",
    "\n",
    "incomes = incomes[np.any([\n",
    "    incomes[\"code\"].str.contains(country_code) for country_code in [ENGLAND_CONSTITUENCY, NI_CONSTITUENCY, SCOTLAND_CONSTITUENCY, WALES_CONSTITUENCY]\n",
    "], axis=0)]\n",
    "\n",
    "full_constituencies = incomes.code\n",
    "missing_constituencies = pd.Series(list(set(incomes.code) - set(ages.code)))\n",
    "missing_constituencies = pd.DataFrame({\"code\": missing_constituencies.values, \"name\": incomes.set_index(\"code\").loc[missing_constituencies].name.values})\n",
    "for col in ages.columns[2:]:\n",
    "    missing_constituencies[col] = ages[col].mean()\n",
    "\n",
    "ages = pd.concat([ages, missing_constituencies])\n",
    "\n",
    "sim = Microsimulation()\n",
    "\n",
    "def create_target_matrix():\n",
    "    matrix = pd.DataFrame()\n",
    "    y = pd.DataFrame()\n",
    "\n",
    "    total_income = sim.calculate(\"total_income\", period=2025).values\n",
    "    matrix[\"hmrc/total_income_amount\"] = sim.map_result(total_income, \"person\", \"household\")\n",
    "    y[\"hmrc/total_income_amount\"] = incomes[\"total_income_amount\"]\n",
    "\n",
    "    matrix[\"hmrc/total_income_count\"] = sim.map_result(total_income != 0, \"person\", \"household\")\n",
    "    y[\"hmrc/total_income_count\"] = incomes[\"total_income_count\"]\n",
    "\n",
    "    age = sim.calculate(\"age\", period=2025)\n",
    "\n",
    "    for lower_age in range(0, 80, 10):\n",
    "        upper_age = lower_age + 10\n",
    "        \n",
    "        in_age_band = (age >= lower_age) & (age < upper_age)\n",
    "\n",
    "        age_str = f\"{lower_age}_{upper_age}\"\n",
    "        matrix[f\"age/{age_str}\"] = sim.map_result(in_age_band, \"person\", \"household\")\n",
    "\n",
    "        age_count = ages[[str(age) for age in range(lower_age, upper_age)]].sum(axis=1)\n",
    "\n",
    "        age_str = f\"{lower_age}_{upper_age}\"\n",
    "        y[f\"age/{age_str}\"] = age_count.values\n",
    "\n",
    "    return matrix, y\n",
    "\n",
    "matrix, y = create_target_matrix()\n",
    "\n",
    "m_national, y_national = create_national_target_matrix(\"enhanced_frs_2022_23\", 2022)\n",
    "\n",
    "# Weights - 650 x 100180\n",
    "original_weights = np.log(sim.calculate(\"household_weight\", 2022).values / 650)\n",
    "weights = torch.tensor(np.ones((650, 100180)) * original_weights, dtype=torch.float32, requires_grad=True)\n",
    "metrics = torch.tensor(matrix.values, dtype=torch.float32)\n",
    "weighted_metrics = weights.unsqueeze(-1) * metrics.unsqueeze(0)\n",
    "totals = weighted_metrics.sum(dim=1)\n",
    "y = torch.tensor(y.values, dtype=torch.float32)\n",
    "matrix_national = torch.tensor(m_national.values, dtype=torch.float32)\n",
    "y_national = torch.tensor(y_national.values, dtype=torch.float32)\n",
    "\n",
    "def loss(w):\n",
    "    pred_c = (w.unsqueeze(-1) * metrics.unsqueeze(0)).sum(dim=1)\n",
    "    mse_c = torch.mean((pred_c / (1 + y) - 1) ** 2)\n",
    "\n",
    "    pred_n = (w.sum(axis=0) * matrix_national.T).sum(axis=1)\n",
    "    mse_n = torch.mean((pred_n / (1 + y_national) - 1) ** 2)\n",
    "\n",
    "    return mse_c + mse_n\n",
    "\n",
    "optimizer = torch.optim.Adam([weights], lr=0.5)\n",
    "\n",
    "desc = tqdm(range(100))\n",
    "\n",
    "for epoch in desc:\n",
    "    optimizer.zero_grad()\n",
    "    l = loss(torch.exp(weights))\n",
    "    desc.set_description(f\"Loss: {l.item()}\")\n",
    "    l.backward()\n",
    "    optimizer.step()\n",
    "\n",
    "final_weights = torch.exp(weights).detach().numpy()\n",
    "\n",
    "final_weights.sum(axis=1)"
   ]
  },
  {
   "cell_type": "code",
   "execution_count": 55,
   "metadata": {},
   "outputs": [],
   "source": [
    "from policyengine_core.reforms import Reform\n",
    "\n",
    "emp_ni = Reform.from_dict({\n",
    "  \"gov.contrib.policyengine.employer_ni.employee_incidence\": {\n",
    "    \"2025-01-01.2025-12-31\": 0.4,\n",
    "    \"2026-01-01.2026-12-31\": 0.5,\n",
    "    \"2027-01-01.2027-12-31\": 0.6,\n",
    "    \"2028-01-01.2028-12-31\": 0.7,\n",
    "    \"2028-01-01.2029-12-31\": 0.7\n",
    "  },\n",
    "  \"gov.hmrc.national_insurance.class_1.rates.employer\": {\n",
    "    \"2025-01-01.2100-12-31\": 0.15\n",
    "  },\n",
    "  \"gov.hmrc.national_insurance.class_1.thresholds.secondary_threshold\": {\n",
    "    \"2025-01-01.2100-12-31\": 96.14\n",
    "  }\n",
    "}, country_id=\"uk\")\n",
    "\n",
    "baseline = Microsimulation()\n",
    "reformed = Microsimulation(reform=emp_ni)\n",
    "\n",
    "gain = reformed.calculate(\"household_net_income\", 2025) - baseline.calculate(\"household_net_income\", 2025)"
   ]
  },
  {
   "cell_type": "code",
   "execution_count": 62,
   "metadata": {},
   "outputs": [],
   "source": [
    "weighted_gain = np.dot(final_weights, gain)\n",
    "populations = np.dot(final_weights, np.ones((100180)))\n",
    "mean_gain = weighted_gain / populations"
   ]
  },
  {
   "cell_type": "code",
   "execution_count": 63,
   "metadata": {},
   "outputs": [
    {
     "data": {
      "text/html": [
       "<div>\n",
       "<style scoped>\n",
       "    .dataframe tbody tr th:only-of-type {\n",
       "        vertical-align: middle;\n",
       "    }\n",
       "\n",
       "    .dataframe tbody tr th {\n",
       "        vertical-align: top;\n",
       "    }\n",
       "\n",
       "    .dataframe thead th {\n",
       "        text-align: right;\n",
       "    }\n",
       "</style>\n",
       "<table border=\"1\" class=\"dataframe\">\n",
       "  <thead>\n",
       "    <tr style=\"text-align: right;\">\n",
       "      <th></th>\n",
       "      <th>code</th>\n",
       "      <th>name</th>\n",
       "      <th>total_income_count</th>\n",
       "      <th>total_income_amount</th>\n",
       "    </tr>\n",
       "  </thead>\n",
       "  <tbody>\n",
       "    <tr>\n",
       "      <th>1</th>\n",
       "      <td>E14000554</td>\n",
       "      <td>Berwick-upon-Tweed</td>\n",
       "      <td>37000.0</td>\n",
       "      <td>1.184000e+09</td>\n",
       "    </tr>\n",
       "    <tr>\n",
       "      <th>2</th>\n",
       "      <td>E14000569</td>\n",
       "      <td>Bishop Auckland</td>\n",
       "      <td>44000.0</td>\n",
       "      <td>1.315600e+09</td>\n",
       "    </tr>\n",
       "    <tr>\n",
       "      <th>3</th>\n",
       "      <td>E14000574</td>\n",
       "      <td>Blaydon</td>\n",
       "      <td>44000.0</td>\n",
       "      <td>1.425600e+09</td>\n",
       "    </tr>\n",
       "    <tr>\n",
       "      <th>4</th>\n",
       "      <td>E14000575</td>\n",
       "      <td>Blyth Valley</td>\n",
       "      <td>45000.0</td>\n",
       "      <td>1.305000e+09</td>\n",
       "    </tr>\n",
       "    <tr>\n",
       "      <th>5</th>\n",
       "      <td>E14000641</td>\n",
       "      <td>City of Durham</td>\n",
       "      <td>45000.0</td>\n",
       "      <td>1.552500e+09</td>\n",
       "    </tr>\n",
       "    <tr>\n",
       "      <th>...</th>\n",
       "      <td>...</td>\n",
       "      <td>...</td>\n",
       "      <td>...</td>\n",
       "      <td>...</td>\n",
       "    </tr>\n",
       "    <tr>\n",
       "      <th>657</th>\n",
       "      <td>N06000014</td>\n",
       "      <td>South Antrim</td>\n",
       "      <td>48000.0</td>\n",
       "      <td>1.555200e+09</td>\n",
       "    </tr>\n",
       "    <tr>\n",
       "      <th>658</th>\n",
       "      <td>N06000015</td>\n",
       "      <td>South Down</td>\n",
       "      <td>48000.0</td>\n",
       "      <td>1.531200e+09</td>\n",
       "    </tr>\n",
       "    <tr>\n",
       "      <th>659</th>\n",
       "      <td>N06000016</td>\n",
       "      <td>Strangford</td>\n",
       "      <td>40000.0</td>\n",
       "      <td>1.272000e+09</td>\n",
       "    </tr>\n",
       "    <tr>\n",
       "      <th>660</th>\n",
       "      <td>N06000017</td>\n",
       "      <td>Upper Bann</td>\n",
       "      <td>59000.0</td>\n",
       "      <td>1.728700e+09</td>\n",
       "    </tr>\n",
       "    <tr>\n",
       "      <th>661</th>\n",
       "      <td>N06000018</td>\n",
       "      <td>West Tyrone</td>\n",
       "      <td>37000.0</td>\n",
       "      <td>1.128500e+09</td>\n",
       "    </tr>\n",
       "  </tbody>\n",
       "</table>\n",
       "<p>650 rows × 4 columns</p>\n",
       "</div>"
      ],
      "text/plain": [
       "          code                name  total_income_count  total_income_amount\n",
       "1    E14000554  Berwick-upon-Tweed             37000.0         1.184000e+09\n",
       "2    E14000569     Bishop Auckland             44000.0         1.315600e+09\n",
       "3    E14000574             Blaydon             44000.0         1.425600e+09\n",
       "4    E14000575        Blyth Valley             45000.0         1.305000e+09\n",
       "5    E14000641      City of Durham             45000.0         1.552500e+09\n",
       "..         ...                 ...                 ...                  ...\n",
       "657  N06000014        South Antrim             48000.0         1.555200e+09\n",
       "658  N06000015          South Down             48000.0         1.531200e+09\n",
       "659  N06000016          Strangford             40000.0         1.272000e+09\n",
       "660  N06000017          Upper Bann             59000.0         1.728700e+09\n",
       "661  N06000018         West Tyrone             37000.0         1.128500e+09\n",
       "\n",
       "[650 rows x 4 columns]"
      ]
     },
     "execution_count": 63,
     "metadata": {},
     "output_type": "execute_result"
    }
   ],
   "source": [
    "incomes"
   ]
  },
  {
   "cell_type": "code",
   "execution_count": 65,
   "metadata": {},
   "outputs": [],
   "source": [
    "df = pd.DataFrame({\n",
    "    \"mean_gain\": mean_gain,\n",
    "    \"name\": incomes.name.values,\n",
    "})"
   ]
  },
  {
   "cell_type": "code",
   "execution_count": 71,
   "metadata": {},
   "outputs": [
    {
     "data": {
      "application/vnd.plotly.v1+json": {
       "config": {
        "plotlyServerURL": "https://plot.ly"
       },
       "data": [
        {
         "hovertemplate": "name=%{x}<br>mean_gain=%{y}<extra></extra>",
         "legendgroup": "",
         "marker": {
          "color": "#636efa",
          "symbol": "circle"
         },
         "mode": "markers",
         "name": "",
         "orientation": "v",
         "showlegend": false,
         "type": "scatter",
         "x": [
          "Hampstead and Kilburn",
          "Kensington",
          "Chelsea and Fulham",
          "Cities of London and Westminster",
          "Westminster North",
          "Richmond Park",
          "Wimbledon",
          "Esher and Walton",
          "Holborn and St Pancras",
          "Battersea",
          "Hornsey and Wood Green",
          "Islington South and Finsbury",
          "Saffron Walden",
          "Hammersmith",
          "Twickenham",
          "Henley",
          "South West Surrey",
          "Putney",
          "Mole Valley",
          "Tunbridge Wells",
          "Epping Forest",
          "Hackney South and Shoreditch",
          "Tooting",
          "Guildford",
          "Reigate",
          "Brentwood and Ongar",
          "Chipping Barnet",
          "Altrincham and Sale West",
          "Greenwich and Woolwich",
          "Hitchin and Harpenden",
          "Dulwich and West Norwood",
          "South West Hertfordshire",
          "Maidenhead",
          "Vauxhall",
          "Ealing Central and Acton",
          "Tatton",
          "Enfield, Southgate",
          "Islington North",
          "Runnymede and Weybridge",
          "Poplar and Limehouse",
          "Woking",
          "Edinburgh North and Leith",
          "South Cambridgeshire",
          "Sutton and Cheam",
          "Ruislip, Northwood and Pinner",
          "Bromley and Chislehurst",
          "Bermondsey and Old Southwark",
          "Oxford West and Abingdon",
          "Kingston and Surbiton",
          "Warwick and Leamington",
          "The Cotswolds",
          "Hackney North and Stoke Newington",
          "Beaconsfield",
          "Croydon South",
          "Stratford-on-Avon",
          "Rushcliffe",
          "South Northamptonshire",
          "Tonbridge and Malling",
          "Epsom and Ewell",
          "Chesham and Amersham",
          "Wokingham",
          "East Hampshire",
          "Congleton",
          "Mid Sussex",
          "Streatham",
          "East Surrey",
          "North East Hertfordshire",
          "Lewisham West and Penge",
          "Brentford and Isleworth",
          "Windsor",
          "Arundel and South Downs",
          "Wycombe",
          "Newbury",
          "Edinburgh West",
          "Meon Valley",
          "Hertford and Stortford",
          "Salisbury",
          "Bracknell",
          "Hendon",
          "Beckenham",
          "Cardiff North",
          "Hornchurch and Upminster",
          "Romsey and Southampton North",
          "West Aberdeenshire and Kincardine",
          "Horsham",
          "Lewisham, Deptford",
          "Macclesfield",
          "Hertsmere",
          "North East Hampshire",
          "Kenilworth and Southam",
          "Sevenoaks",
          "Finchley and Golders Green",
          "Winchester",
          "Harwich and North Essex",
          "Surrey Heath",
          "Wantage",
          "Edinburgh South",
          "Bethnal Green and Bow",
          "Milton Keynes South",
          "Chingford and Woodford Green",
          "Cambridge",
          "Walthamstow",
          "Leyton and Wanstead",
          "East Lothian",
          "Hove",
          "Lewisham East",
          "St Albans",
          "Chichester",
          "Watford",
          "Harrow East",
          "Rutland and Melton",
          "Lichfield",
          "Daventry",
          "Buckingham",
          "Cardiff West",
          "Gordon",
          "Cheadle",
          "Witney",
          "Mid Bedfordshire",
          "East Renfrewshire",
          "Camberwell and Peckham",
          "Chelmsford",
          "Old Bexley and Sidcup",
          "Stone",
          "Milton Keynes North",
          "Croydon North",
          "Reading East",
          "South East Cambridgeshire",
          "Orpington",
          "Edinburgh South West",
          "North East Bedfordshire",
          "Aberdeen South",
          "North West Hampshire",
          "Pudsey",
          "Rugby",
          "Thornbury and Yate",
          "Solihull",
          "East Dunbartonshire",
          "New Forest East",
          "Uxbridge and South Ruislip",
          "Aylesbury",
          "Braintree",
          "Harrow West",
          "Skipton and Ripon",
          "East Ham",
          "Stroud",
          "Hemel Hempstead",
          "Brent Central",
          "Lagan Valley",
          "Harrogate and Knaresborough",
          "Elmet and Rothwell",
          "Poole",
          "Reading West",
          "Ochil and South Perthshire",
          "Suffolk Coastal",
          "Chippenham",
          "Wealden",
          "Belfast South",
          "Charnwood",
          "Eltham",
          "Bexhill and Battle",
          "Gravesham",
          "Carshalton and Wallington",
          "Croydon Central",
          "Rayleigh and Wickford",
          "Tewkesbury",
          "Bexleyheath and Crayford",
          "Stevenage",
          "Bristol West",
          "Stirling",
          "Ashford",
          "East Kilbride, Strathaven and Lesmahagow",
          "Bromsgrove",
          "Cheltenham",
          "Monmouth",
          "Warrington South",
          "Oxford East",
          "New Forest West",
          "Lanark and Hamilton East",
          "Brent North",
          "Tiverton and Honiton",
          "Harborough",
          "Fylde",
          "Midlothian",
          "Devizes",
          "Brighton, Pavilion",
          "Faversham and Mid Kent",
          "Salford and Eccles",
          "Central Suffolk and North Ipswich",
          "Clwyd West",
          "Westmorland and Lonsdale",
          "Fareham",
          "Central Devon",
          "Romford",
          "Bristol North West",
          "Bournemouth East",
          "Weston-Super-Mare",
          "Mid Derbyshire",
          "Stockton South",
          "Dunfermline and West Fife",
          "Maldon",
          "Colchester",
          "South Derbyshire",
          "Wyre and Preston North",
          "North West Leicestershire",
          "Sefton Central",
          "Mitcham and Morden",
          "South Norfolk",
          "Bury St Edmunds",
          "Paisley and Renfrewshire North",
          "Rochford and Southend East",
          "Rother Valley",
          "Bury South",
          "Inverness, Nairn, Badenoch and Strathspey",
          "Huntingdon",
          "North West Cambridgeshire",
          "Maidstone and The Weald",
          "Gower",
          "West Ham",
          "South Suffolk",
          "Aldershot",
          "Lewes",
          "Edinburgh East",
          "Hayes and Harlington",
          "South Staffordshire",
          "South West Bedfordshire",
          "Somerton and Frome",
          "Mid Worcestershire",
          "Makerfield",
          "North East Somerset",
          "Dartford",
          "Erith and Thamesmead",
          "North Somerset",
          "Perth and North Perthshire",
          "Banbury",
          "Ealing, Southall",
          "Newport West",
          "Meriden",
          "West Worcestershire",
          "Belfast East",
          "Leeds North West",
          "Rutherglen and Hamilton West",
          "Stafford",
          "Selby and Ainsty",
          "Bosworth",
          "Eastleigh",
          "South Leicestershire",
          "Tamworth",
          "Vale of Glamorgan",
          "Taunton Deane",
          "Haltemprice and Howden",
          "Dagenham and Rainham",
          "The Wrekin",
          "Thurrock",
          "Llanelli",
          "Corby",
          "Sleaford and North Hykeham",
          "Broadland",
          "Feltham and Heston",
          "Worthing West",
          "Redditch",
          "Ealing North",
          "Pontypridd",
          "Rochester and Strood",
          "Torridge and West Devon",
          "City of Chester",
          "Middlesbrough South and East Cleveland",
          "Newark",
          "Newton Abbot",
          "Chatham and Aylesford",
          "Worsley and Eccles South",
          "Eddisbury",
          "Ilford North",
          "Basingstoke",
          "West Suffolk",
          "Grantham and Stamford",
          "Welwyn Hatfield",
          "Alyn and Deeside",
          "Bridgend",
          "Ludlow",
          "Folkestone and Hythe",
          "Bolton West",
          "Kettering",
          "Stockport",
          "Cardiff Central",
          "Richmond (Yorks)",
          "Bath",
          "Gosport",
          "West Lancashire",
          "South West Wiltshire",
          "Nuneaton",
          "York Central",
          "Filton and Bradley Stoke",
          "Bristol South",
          "Colne Valley",
          "Hastings and Rye",
          "Norwich South",
          "Coventry South",
          "East Worthing and Shoreham",
          "Livingston",
          "Bedford",
          "South Basildon and East Thurrock",
          "Wyre Forest",
          "Broxtowe",
          "Warrington North",
          "Chorley",
          "East Devon",
          "Calder Valley",
          "Manchester, Withington",
          "Tynemouth",
          "Witham",
          "North Swindon",
          "Beverley and Holderness",
          "North Antrim",
          "Mid Dorset and North Poole",
          "Linlithgow and East Falkirk",
          "Christchurch",
          "Shrewsbury and Atcham",
          "Ogmore",
          "Rossendale and Darwen",
          "North Shropshire",
          "Spelthorne",
          "South Antrim",
          "South East Cornwall",
          "Burton",
          "Wells",
          "Garston and Halewood",
          "Loughborough",
          "North Down",
          "West Dorset",
          "Gillingham and Rainham",
          "South Dorset",
          "Eastbourne",
          "Havant",
          "Broxbourne",
          "Sutton Coldfield",
          "Leeds North East",
          "Doncaster Central",
          "Barrow and Furness",
          "South Down",
          "Plymouth, Moor View",
          "York Outer",
          "Slough",
          "North West Norfolk",
          "Bishop Auckland",
          "Manchester Central",
          "Ribble Valley",
          "Tottenham",
          "Bassetlaw",
          "Truro and Falmouth",
          "Cynon Valley",
          "Carlisle",
          "Cannock Chase",
          "Glasgow South",
          "Kilmarnock and Loudoun",
          "Newcastle upon Tyne North",
          "Crawley",
          "Banff and Buchan",
          "Ilford South",
          "Heywood and Middleton",
          "South Ribble",
          "Bournemouth West",
          "Thirsk and Malton",
          "Kingswood",
          "North Durham",
          "Canterbury",
          "Crewe and Nantwich",
          "Sheffield Central",
          "Keighley",
          "Isle of Wight",
          "Caerphilly",
          "Newport East",
          "Birmingham, Edgbaston",
          "Dewsbury",
          "Falkirk",
          "Telford",
          "Enfield North",
          "Moray",
          "Stretford and Urmston",
          "Amber Valley",
          "Ipswich",
          "Bury North",
          "Sittingbourne and Sheppey",
          "Exeter",
          "Penrith and The Border",
          "Shipley",
          "Berwickshire, Roxburgh and Selkirk",
          "Southampton, Test",
          "Blaydon",
          "Cardiff South and Penarth",
          "Mid Norfolk",
          "Dumfries and Galloway",
          "Erewash",
          "North Thanet",
          "South West Devon",
          "Southport",
          "Ellesmere Port and Neston",
          "Norwich North",
          "Bristol East",
          "Morley and Outwood",
          "Sheffield South East",
          "Halton",
          "Stoke-on-Trent South",
          "Worcester",
          "Dover",
          "Southend West",
          "Coventry North East",
          "North Cornwall",
          "Mansfield",
          "Derby North",
          "Forest of Dean",
          "East Yorkshire",
          "Argyll and Bute",
          "Gainsborough",
          "Stalybridge and Hyde",
          "Ayr, Carrick and Cumnock",
          "Newry & Armagh",
          "Weaver Vale",
          "Wigan",
          "Edmonton",
          "North Tyneside",
          "Fermanagh & South Tyrone",
          "High Peak",
          "Coatbridge, Chryston and Bellshill",
          "Cumbernauld, Kilsyth and Kirkintilloch East",
          "St Austell and Newquay",
          "Brigg and Goole",
          "Mid Ulster",
          "Motherwell and Wishaw",
          "Penistone and Stocksbridge",
          "Knowsley",
          "Torbay",
          "Leeds East",
          "Barking",
          "Barnsley East",
          "North Ayrshire and Arran",
          "Harlow",
          "Portsmouth North",
          "Southampton, Itchen",
          "Luton South",
          "Castle Point",
          "Coventry North West",
          "Gateshead",
          "Angus",
          "Dumfriesshire, Clydesdale and Tweeddale",
          "Carmarthen East and Dinefwr",
          "Hazel Grove",
          "Kirkcaldy and Cowdenbeath",
          "Lincoln",
          "St Helens North",
          "South West Norfolk",
          "Aberdeen North",
          "Wellingborough",
          "Preseli Pembrokeshire",
          "West Dunbartonshire",
          "Denton and Reddish",
          "Wakefield",
          "Brighton, Kemptown",
          "Wythenshawe and Sale East",
          "Don Valley",
          "Swansea East",
          "Wolverhampton South West",
          "Boston and Skegness",
          "Central Ayrshire",
          "Paisley and Renfrewshire South",
          "Totnes",
          "Bolton North East",
          "Hexham",
          "North East Derbyshire",
          "Upper Bann",
          "Cleethorpes",
          "Newcastle-under-Lyme",
          "Dundee East",
          "Bolsover",
          "Hereford and South Herefordshire",
          "South Swindon",
          "Plymouth, Sutton and Devonport",
          "Waveney",
          "Glasgow East",
          "Carmarthen West and South Pembrokeshire",
          "South Holland and The Deepings",
          "Rotherham",
          "Leicester South",
          "Basildon and Billericay",
          "Bootle",
          "Delyn",
          "North East Fife",
          "Bridgwater and West Somerset",
          "Chesterfield",
          "Stourbridge",
          "North Wiltshire",
          "Copeland",
          "St Helens South and Whiston",
          "Louth and Horncastle",
          "Wentworth and Dearne",
          "Rochdale",
          "Barnsley Central",
          "Birmingham, Northfield",
          "Peterborough",
          "Derby South",
          "Wrexham",
          "Yeovil",
          "Normanton, Pontefract and Castleford",
          "East Antrim",
          "Birmingham, Ladywood",
          "Leicester West",
          "Darlington",
          "Liverpool, Riverside",
          "Foyle",
          "Jarrow",
          "Sherwood",
          "Batley and Spen",
          "Ashfield",
          "Leigh",
          "Strangford",
          "Glasgow Central",
          "South Thanet",
          "Oldham East and Saddleworth",
          "Bognor Regis and Littlehampton",
          "St Ives",
          "North Herefordshire",
          "Derbyshire Dales",
          "Sheffield, Hallam",
          "City of Durham",
          "Aberavon",
          "Birmingham, Hall Green",
          "North Dorset",
          "Neath",
          "Birmingham, Selly Oak",
          "Gedling",
          "Leeds Central",
          "Swansea West",
          "Glasgow North West",
          "Vale of Clwyd",
          "Blyth Valley",
          "Halifax",
          "Staffordshire Moorlands",
          "Belfast North",
          "Leicester East",
          "Wallasey",
          "Scarborough and Whitby",
          "Blackburn",
          "Washington and Sunderland West",
          "North East Cambridgeshire",
          "Leeds West",
          "Kingston upon Hull East",
          "Islwyn",
          "Workington",
          "Scunthorpe",
          "East Londonderry",
          "Stoke-on-Trent Central",
          "Northampton North",
          "Gloucester",
          "Torfaen",
          "Ceredigion",
          "Hemsworth",
          "Camborne and Redruth",
          "Inverclyde",
          "Ross, Skye and Lochaber",
          "Ashton-under-Lyne",
          "Nottingham South",
          "Wirral South",
          "Walsall South",
          "Aldridge-Brownhills",
          "North Devon",
          "Wirral West",
          "Glenrothes",
          "Berwick-upon-Tweed",
          "Liverpool, West Derby",
          "Walsall North",
          "Stoke-on-Trent North",
          "Northampton South",
          "Luton North",
          "Oldham West and Royton",
          "Kingston upon Hull West and Hessle",
          "Portsmouth South",
          "Newcastle upon Tyne Central",
          "Houghton and Sunderland South",
          "Merthyr Tydfil and Rhymney",
          "Airdrie and Shotts",
          "Sedgefield",
          "North Norfolk",
          "Dudley South",
          "Clwyd South",
          "Warley",
          "West Tyrone",
          "West Bromwich West",
          "Nottingham North",
          "Halesowen and Rowley Regis",
          "Birmingham, Yardley",
          "Hartlepool",
          "Glasgow South West",
          "Doncaster North",
          "Brecon and Radnorshire",
          "Nottingham East",
          "Huddersfield",
          "Sheffield, Heeley",
          "Sunderland Central",
          "West Bromwich East",
          "Birkenhead",
          "Newcastle upon Tyne East",
          "Kingston upon Hull North",
          "Bolton South East",
          "Wansbeck",
          "Middlesbrough",
          "Blackpool North and Cleveleys",
          "Manchester, Gorton",
          "North Warwickshire",
          "Hyndburn",
          "Liverpool, Wavertree",
          "Dundee West",
          "Stockton North",
          "Wolverhampton North East",
          "Preston",
          "Lancaster and Fleetwood",
          "Pendle",
          "Birmingham, Erdington",
          "Clacton",
          "Glasgow North",
          "Burnley",
          "Montgomeryshire",
          "South Shields",
          "North West Durham",
          "Bradford East",
          "Liverpool, Walton",
          "Bradford South",
          "Belfast West",
          "Morecambe and Lunesdale",
          "Aberconwy",
          "Redcar",
          "Bradford West",
          "Ynys Môn",
          "Sheffield, Brightside and Hillsborough",
          "Arfon",
          "Rhondda",
          "Glasgow North East",
          "Blaenau Gwent",
          "Blackley and Broughton",
          "Wolverhampton South East",
          "Caithness, Sutherland and Easter Ross",
          "Birmingham, Perry Barr",
          "Easington",
          "Birmingham, Hodge Hill",
          "Dwyfor Meirionnydd",
          "Great Grimsby",
          "Blackpool South",
          "Great Yarmouth",
          "Dudley North",
          "Orkney and Shetland",
          "Na h-Eileanan an Iar"
         ],
         "xaxis": "x",
         "y": [
          -654.7821991739845,
          -619.9741298155197,
          -595.2386277337988,
          -545.054690801588,
          -425.1203142775994,
          -393.68766562148295,
          -371.7532401177543,
          -346.88627136306525,
          -337.6151698141613,
          -337.2494352043234,
          -331.2885293827652,
          -321.9045739493475,
          -309.58810708421214,
          -303.15196335111466,
          -302.02666222568644,
          -299.77568879439605,
          -293.4690916976469,
          -290.9064855896755,
          -290.878034934855,
          -290.226715151129,
          -285.0057804340048,
          -283.7551337942882,
          -283.05674926444857,
          -282.27751754647966,
          -281.0066157186816,
          -279.3064868810767,
          -279.28663753095833,
          -277.4639884181951,
          -276.9524210882687,
          -274.21779510383135,
          -273.68882001126434,
          -270.1743293001426,
          -268.87787370094264,
          -266.5168494513769,
          -266.5059685382977,
          -264.4940770341825,
          -264.055991481064,
          -263.49661903701946,
          -262.77450168096607,
          -262.4764832334465,
          -258.1767917763356,
          -254.8725138436476,
          -254.34896879519104,
          -252.9662755880974,
          -252.61517330678362,
          -252.39952966497412,
          -252.39581561611465,
          -252.03202350561347,
          -251.23066488304212,
          -251.20469421691254,
          -250.79943277721603,
          -249.19010067384852,
          -248.54180123983716,
          -248.4919567609674,
          -247.9999128783762,
          -247.1612352499667,
          -246.7094959543624,
          -246.31842764859607,
          -245.96888540536418,
          -245.63150812076958,
          -245.3022241034879,
          -244.2184606555254,
          -244.02905346563605,
          -243.86738472340872,
          -243.00159284726413,
          -242.64563984053547,
          -242.52007086454708,
          -241.97745347641685,
          -240.8220470121099,
          -239.43423245536317,
          -237.68973955723365,
          -236.1530845878076,
          -236.1019893926743,
          -233.91411604408765,
          -233.7611465234039,
          -233.18954161194497,
          -232.47908632218477,
          -230.0730726539964,
          -229.576771525277,
          -229.17696108618114,
          -228.85357925355802,
          -228.69278864297632,
          -228.24150736963287,
          -228.2062062912741,
          -228.0584795949034,
          -227.92136749456324,
          -227.87138888215014,
          -227.66827751139584,
          -227.32186216376297,
          -227.01694806294668,
          -226.45134899742496,
          -225.836154306151,
          -225.5117280370257,
          -225.34600461886126,
          -225.29970714806288,
          -225.04034884138716,
          -224.51349103743806,
          -224.04417026551022,
          -224.0221701307047,
          -222.9788079767314,
          -222.96778245912057,
          -222.9023024734338,
          -222.85798564564283,
          -222.06436569408328,
          -221.38823137035308,
          -220.63140742229564,
          -220.12530590444715,
          -219.455472691851,
          -218.712157536267,
          -218.50620703360588,
          -218.24035216337975,
          -218.07135809712116,
          -217.9893098348592,
          -217.41224323569475,
          -217.003873520307,
          -216.88213907685773,
          -216.19429233761025,
          -215.33123285682083,
          -214.77360885552724,
          -213.95109187761008,
          -213.33575534539958,
          -213.0841982673824,
          -212.8933080684548,
          -212.56504266322918,
          -212.4154084499362,
          -212.27834962457501,
          -211.56240913604188,
          -211.2534958684273,
          -210.89897470846842,
          -210.54001864627634,
          -210.32239950008685,
          -210.14508155487604,
          -210.00922117506968,
          -209.8598372784311,
          -209.75777397692445,
          -209.6618864873998,
          -207.79506979320806,
          -207.65704737029725,
          -207.56951503615593,
          -206.04759483154945,
          -205.5954944257632,
          -205.47859598286215,
          -204.45344903503926,
          -203.95755481857833,
          -203.92771434077457,
          -203.73777666931454,
          -203.52147654577863,
          -203.35194589556613,
          -203.32922002136095,
          -203.3200338130444,
          -202.80359363067404,
          -202.10287228799336,
          -201.9228430351982,
          -201.6349341735136,
          -201.6098815793429,
          -201.31835457398014,
          -200.7127103237101,
          -200.41212739042535,
          -200.38452500949958,
          -199.93751568555567,
          -199.62880644929533,
          -199.59935845216765,
          -199.51709168951044,
          -199.1361934613039,
          -199.12066865325434,
          -198.76204411374317,
          -198.28603859388707,
          -198.1307711599724,
          -197.9305024587523,
          -197.70019408607544,
          -197.16703312472254,
          -197.02678965583615,
          -196.92000395491803,
          -196.7707685887901,
          -196.75616463242648,
          -196.64887118601814,
          -196.59353565448913,
          -196.57339922568502,
          -196.4371628809374,
          -196.06669059948553,
          -195.21106227473132,
          -194.5980582670198,
          -194.57645191111445,
          -194.04110271655446,
          -193.81749098546086,
          -193.63763258203272,
          -193.61903003911254,
          -193.60312802203504,
          -193.55827406382016,
          -193.23836818308206,
          -193.02072162462758,
          -192.84647497272138,
          -192.57065218614096,
          -192.45075190883946,
          -192.4374917729665,
          -192.25093750807625,
          -192.22377362467876,
          -191.9389505743125,
          -191.78205356406338,
          -191.67397971414852,
          -191.5289602747537,
          -191.49954782333637,
          -191.46947585881765,
          -191.1735180875749,
          -191.1398901787516,
          -190.4925181975694,
          -190.47518997612153,
          -190.44737521899685,
          -190.39754412264568,
          -190.2115306919486,
          -189.85676460419162,
          -189.7545181519701,
          -189.72127138049578,
          -189.58692182708876,
          -188.61376126906933,
          -188.61237641075584,
          -188.60849205787574,
          -188.58475991483385,
          -188.43841389650328,
          -188.12407778280323,
          -188.073109828093,
          -187.97738771750403,
          -187.8759715022262,
          -187.7934109035706,
          -187.67486397871164,
          -187.53051969759144,
          -187.52960943674074,
          -187.43858809704767,
          -187.39411779377463,
          -187.3357312415581,
          -187.29814185380602,
          -187.26618287964695,
          -187.18107550674821,
          -186.56198527859937,
          -185.86369701057075,
          -185.5968325057037,
          -185.23863440758925,
          -185.0934499476602,
          -184.5724213183231,
          -184.21649424953074,
          -184.16577719651255,
          -183.90714309002234,
          -183.56329407987002,
          -183.34810343052592,
          -183.08779308731522,
          -182.98754980580125,
          -182.93672425760616,
          -182.42538435748375,
          -182.29006543152425,
          -182.27461455488415,
          -182.2427948071191,
          -182.07981591165282,
          -181.6862716084779,
          -181.45851718475146,
          -181.30577502672008,
          -180.9750286926688,
          -180.71910923045067,
          -180.63704716586517,
          -180.42608850078526,
          -179.80059247380117,
          -179.75786684530556,
          -179.74915649951657,
          -179.7400285642935,
          -178.96620514922768,
          -178.8917980117101,
          -178.83653936758105,
          -178.7339131426501,
          -178.5959736421182,
          -178.57212879206656,
          -178.28974299934544,
          -178.1868240404643,
          -178.06506117323534,
          -178.00202104506712,
          -177.94127467088182,
          -177.60347413605004,
          -177.4873780393806,
          -177.35438471720173,
          -177.1733597504763,
          -177.07581050958686,
          -176.9917662985198,
          -176.3984514723376,
          -176.01406949170462,
          -175.9738952867327,
          -175.93953746396528,
          -175.68671864260605,
          -175.47505542285006,
          -175.39573338900254,
          -175.11787488013968,
          -174.94810035447088,
          -174.87896793504473,
          -174.852896691756,
          -174.77093375747086,
          -174.63014428154648,
          -174.4573743102673,
          -174.39341085479595,
          -174.30968301816242,
          -174.30730784285973,
          -174.19421357777657,
          -173.99688107729185,
          -173.9636683350348,
          -173.91757473857166,
          -173.8205841980188,
          -173.77054740346358,
          -173.684214694835,
          -173.61210481236932,
          -173.1863242197919,
          -173.11807827194684,
          -173.0271644588744,
          -173.00821830581145,
          -172.9615263394432,
          -172.61106617956858,
          -172.33282805543084,
          -172.0670608620838,
          -171.8619783883548,
          -171.78936120372293,
          -171.70489591705157,
          -171.66027539254566,
          -171.42590688900782,
          -171.18525275405128,
          -171.15267063406313,
          -171.13405838792838,
          -171.06836809919423,
          -170.97310798070677,
          -170.8835833937915,
          -170.81332499664614,
          -170.7271979729494,
          -170.05058890104598,
          -169.72900851664997,
          -169.61584938643028,
          -169.38583493129758,
          -169.30528609211055,
          -169.23137546809937,
          -169.1186687648328,
          -168.73133909822644,
          -168.33810605289796,
          -168.16908845245936,
          -168.11957840014247,
          -167.94446670409232,
          -167.57279698958297,
          -166.99774275407324,
          -166.99335591133058,
          -166.86746481843224,
          -166.76257964410604,
          -166.47448921575582,
          -166.4431080751962,
          -166.32273075205495,
          -166.19553909514906,
          -165.71257571325972,
          -165.7014400623733,
          -165.5842741069655,
          -165.5585672751556,
          -165.34260518871747,
          -165.19057655786685,
          -165.04708947804386,
          -164.90341501790218,
          -164.7885216681661,
          -164.786139035248,
          -164.61102651040073,
          -164.5193822969926,
          -163.80932397319037,
          -163.54215878725097,
          -163.23828189368191,
          -162.9403287541764,
          -162.75238176036277,
          -162.62699831606656,
          -162.57080378779256,
          -162.5669266584515,
          -162.11957140160877,
          -162.08217981084294,
          -162.03895391038384,
          -162.0013072803163,
          -161.98193326366086,
          -161.77546604842541,
          -161.629385537837,
          -161.58582045007432,
          -161.07640249822174,
          -160.99711488901121,
          -160.98507944132496,
          -160.93434287791445,
          -160.92391228544201,
          -160.69304116877177,
          -160.66491482843773,
          -160.2147148228283,
          -159.99431024438002,
          -159.89849813223194,
          -159.84676984200823,
          -159.64278718998068,
          -159.580609154218,
          -159.49781752791975,
          -159.07667824883754,
          -158.7671209868454,
          -158.6162147834135,
          -158.60392946766868,
          -157.07422897676335,
          -156.8246147994821,
          -156.57403831964473,
          -155.97538568660275,
          -155.91845769009765,
          -155.7687765888773,
          -155.45499912970203,
          -155.30369916360365,
          -155.18866939282685,
          -155.04341572995668,
          -154.97964382018947,
          -154.62084042961138,
          -154.29823243249743,
          -154.2301430268273,
          -154.13120869884196,
          -154.04422165409895,
          -154.02228247061413,
          -153.80385611884643,
          -153.57887549996184,
          -153.56994412273093,
          -153.14110710709951,
          -152.90574338865255,
          -152.70354716902673,
          -151.7466038438063,
          -151.64556185643687,
          -151.63857697910893,
          -151.3183500194434,
          -151.05653350338147,
          -150.70365683535252,
          -150.59827555694775,
          -150.56809932314187,
          -150.37632267968172,
          -150.28660514791616,
          -150.1260427944264,
          -149.85050101005015,
          -149.7365557454627,
          -149.52594809328025,
          -149.35397251250689,
          -149.34312923654923,
          -149.03291704274292,
          -148.98538220161183,
          -148.85519014427322,
          -148.7964264698198,
          -148.7595045370955,
          -148.66022803900867,
          -148.64162670168093,
          -148.53413928701383,
          -148.50990269206727,
          -148.47283800390628,
          -148.35848809594222,
          -148.33481385145433,
          -148.31148208278697,
          -148.23791428352317,
          -148.1731746545062,
          -148.07788240062231,
          -147.7808968827386,
          -147.75107905815295,
          -147.2969130374308,
          -146.94396747396027,
          -146.9057081089902,
          -146.87514947024903,
          -146.79133395743779,
          -146.57094691079567,
          -146.4271998358512,
          -146.34637324318447,
          -146.16760247138748,
          -146.02943708346297,
          -145.78567879647304,
          -145.583175777996,
          -145.44775011641065,
          -145.3859861426458,
          -145.21924938289874,
          -145.149364061192,
          -144.92820520365026,
          -144.8825342529435,
          -144.79472159044252,
          -144.60946160519543,
          -144.46585979356615,
          -144.41970626390872,
          -144.3622505924353,
          -144.3141153083594,
          -144.17216982546327,
          -143.9973906750791,
          -143.83712995245628,
          -143.72684269785728,
          -143.60074176095628,
          -143.54248222388426,
          -143.0828978957144,
          -142.79056088680846,
          -142.54172673890892,
          -142.41959500759094,
          -141.95135577438472,
          -141.92198740570248,
          -141.7712545732642,
          -141.734739375353,
          -141.6946330760595,
          -141.6475879626013,
          -141.41629711310816,
          -141.36989686085218,
          -140.82810010089037,
          -140.31462874011956,
          -140.2983165712775,
          -139.92400544393914,
          -139.678912231215,
          -139.22611035009635,
          -138.92012833399588,
          -138.62996870381804,
          -138.15449638493018,
          -138.05873049061822,
          -137.74694346291585,
          -137.39872602492002,
          -137.32739169525098,
          -137.1761027562115,
          -137.1322887973605,
          -137.11430945609902,
          -136.96573972103576,
          -136.80136633153703,
          -136.73006421142432,
          -136.16419890472739,
          -135.76626321249992,
          -135.6704508524416,
          -135.3126167464422,
          -135.0369044857644,
          -134.88058370647613,
          -134.62009482392068,
          -134.49924735135346,
          -134.1701057934924,
          -134.13839129554012,
          -134.0180721614026,
          -134.00407496841126,
          -133.93655008933223,
          -133.58386262930347,
          -132.73211427058553,
          -132.46364405284288,
          -132.44703492345408,
          -132.08006927199014,
          -131.94053614045336,
          -131.72321322757364,
          -131.3399587735477,
          -131.07257469507636,
          -130.9406563677311,
          -130.58533475164836,
          -130.38511394836,
          -130.28855881899597,
          -130.26451678132858,
          -129.72495524864553,
          -129.01541402936115,
          -128.6582196099853,
          -127.9497838484713,
          -127.50332944443305,
          -127.43902807450853,
          -126.80706790400171,
          -126.38237200192783,
          -126.22198089780946,
          -125.87553264986902,
          -125.60909145032112,
          -125.56322964059218,
          -124.78719125516025,
          -124.65926267362225,
          -124.60907121167241,
          -124.51807469577227,
          -124.38848445027021,
          -123.89091839844245,
          -123.42866379130037,
          -123.36200262513842,
          -123.03823409606345,
          -122.92913507681928,
          -122.72817518591799,
          -122.64254765722765,
          -122.42557318777574,
          -121.90933220100655,
          -121.62656421027489,
          -121.34108909345218,
          -121.12857270947386,
          -121.10521519716737,
          -120.91782601967624,
          -120.0669218829322,
          -119.72036294260691,
          -119.15741685445349,
          -118.98355946671667,
          -118.95669115962004,
          -118.25594142046603,
          -117.92595639683122,
          -117.59897788878901,
          -117.16516075664804,
          -117.11073417465514,
          -117.0352215665939,
          -116.44242910030347,
          -116.42076877145487,
          -115.6013323257492,
          -115.37373663705718,
          -115.03379983472183,
          -114.92047962354158,
          -114.53345846935359,
          -114.48299509548426,
          -113.8239730611874,
          -113.77034936006076,
          -113.44936402550856,
          -113.38807253918897,
          -113.13173451290479,
          -113.020436348292,
          -112.47857667658026,
          -111.54586071012336,
          -111.21422604861804,
          -110.54283650639132,
          -110.11856715079482,
          -109.38611401052661,
          -109.04157217534836,
          -108.98945430396799,
          -107.7551036387216,
          -107.6605202020782,
          -107.5016206759998,
          -107.42123846509004,
          -107.29979322722733,
          -107.26726770951477,
          -107.25880548175117,
          -107.08062259222352,
          -106.79248429634504,
          -106.24485911005759,
          -106.07442850979358,
          -105.75881904242365,
          -105.5541460824364,
          -105.49603231350845,
          -105.22627339750824,
          -103.21937625618678,
          -102.53548259202125,
          -102.0634071282896,
          -99.43098812615536,
          -99.26762230616369,
          -99.2174873727104,
          -98.66296858527295,
          -98.58991504747685,
          -97.90491741336119,
          -97.52360768345835,
          -97.17923551417014,
          -96.82190111185038,
          -96.47081232881192,
          -95.3971790779511,
          -95.3942348214557,
          -94.86234598816101,
          -93.4311716004974,
          -93.1796759930865,
          -92.9872932140441,
          -91.72413973336587,
          -91.60797285116749,
          -90.18361275756322,
          -87.66988436570252,
          -87.17835273411208,
          -85.6604250916025,
          -85.10589790598677,
          -80.53555230931266,
          -77.6214190398933,
          -74.10108847193392,
          -71.51316684789867,
          -69.29838108544338,
          -53.80013289566657,
          -31.437894891495066
         ],
         "yaxis": "y"
        }
       ],
       "layout": {
        "legend": {
         "tracegroupgap": 0
        },
        "margin": {
         "t": 60
        },
        "template": {
         "data": {
          "bar": [
           {
            "error_x": {
             "color": "#2a3f5f"
            },
            "error_y": {
             "color": "#2a3f5f"
            },
            "marker": {
             "line": {
              "color": "#E5ECF6",
              "width": 0.5
             },
             "pattern": {
              "fillmode": "overlay",
              "size": 10,
              "solidity": 0.2
             }
            },
            "type": "bar"
           }
          ],
          "barpolar": [
           {
            "marker": {
             "line": {
              "color": "#E5ECF6",
              "width": 0.5
             },
             "pattern": {
              "fillmode": "overlay",
              "size": 10,
              "solidity": 0.2
             }
            },
            "type": "barpolar"
           }
          ],
          "carpet": [
           {
            "aaxis": {
             "endlinecolor": "#2a3f5f",
             "gridcolor": "white",
             "linecolor": "white",
             "minorgridcolor": "white",
             "startlinecolor": "#2a3f5f"
            },
            "baxis": {
             "endlinecolor": "#2a3f5f",
             "gridcolor": "white",
             "linecolor": "white",
             "minorgridcolor": "white",
             "startlinecolor": "#2a3f5f"
            },
            "type": "carpet"
           }
          ],
          "choropleth": [
           {
            "colorbar": {
             "outlinewidth": 0,
             "ticks": ""
            },
            "type": "choropleth"
           }
          ],
          "contour": [
           {
            "colorbar": {
             "outlinewidth": 0,
             "ticks": ""
            },
            "colorscale": [
             [
              0,
              "#0d0887"
             ],
             [
              0.1111111111111111,
              "#46039f"
             ],
             [
              0.2222222222222222,
              "#7201a8"
             ],
             [
              0.3333333333333333,
              "#9c179e"
             ],
             [
              0.4444444444444444,
              "#bd3786"
             ],
             [
              0.5555555555555556,
              "#d8576b"
             ],
             [
              0.6666666666666666,
              "#ed7953"
             ],
             [
              0.7777777777777778,
              "#fb9f3a"
             ],
             [
              0.8888888888888888,
              "#fdca26"
             ],
             [
              1,
              "#f0f921"
             ]
            ],
            "type": "contour"
           }
          ],
          "contourcarpet": [
           {
            "colorbar": {
             "outlinewidth": 0,
             "ticks": ""
            },
            "type": "contourcarpet"
           }
          ],
          "heatmap": [
           {
            "colorbar": {
             "outlinewidth": 0,
             "ticks": ""
            },
            "colorscale": [
             [
              0,
              "#0d0887"
             ],
             [
              0.1111111111111111,
              "#46039f"
             ],
             [
              0.2222222222222222,
              "#7201a8"
             ],
             [
              0.3333333333333333,
              "#9c179e"
             ],
             [
              0.4444444444444444,
              "#bd3786"
             ],
             [
              0.5555555555555556,
              "#d8576b"
             ],
             [
              0.6666666666666666,
              "#ed7953"
             ],
             [
              0.7777777777777778,
              "#fb9f3a"
             ],
             [
              0.8888888888888888,
              "#fdca26"
             ],
             [
              1,
              "#f0f921"
             ]
            ],
            "type": "heatmap"
           }
          ],
          "heatmapgl": [
           {
            "colorbar": {
             "outlinewidth": 0,
             "ticks": ""
            },
            "colorscale": [
             [
              0,
              "#0d0887"
             ],
             [
              0.1111111111111111,
              "#46039f"
             ],
             [
              0.2222222222222222,
              "#7201a8"
             ],
             [
              0.3333333333333333,
              "#9c179e"
             ],
             [
              0.4444444444444444,
              "#bd3786"
             ],
             [
              0.5555555555555556,
              "#d8576b"
             ],
             [
              0.6666666666666666,
              "#ed7953"
             ],
             [
              0.7777777777777778,
              "#fb9f3a"
             ],
             [
              0.8888888888888888,
              "#fdca26"
             ],
             [
              1,
              "#f0f921"
             ]
            ],
            "type": "heatmapgl"
           }
          ],
          "histogram": [
           {
            "marker": {
             "pattern": {
              "fillmode": "overlay",
              "size": 10,
              "solidity": 0.2
             }
            },
            "type": "histogram"
           }
          ],
          "histogram2d": [
           {
            "colorbar": {
             "outlinewidth": 0,
             "ticks": ""
            },
            "colorscale": [
             [
              0,
              "#0d0887"
             ],
             [
              0.1111111111111111,
              "#46039f"
             ],
             [
              0.2222222222222222,
              "#7201a8"
             ],
             [
              0.3333333333333333,
              "#9c179e"
             ],
             [
              0.4444444444444444,
              "#bd3786"
             ],
             [
              0.5555555555555556,
              "#d8576b"
             ],
             [
              0.6666666666666666,
              "#ed7953"
             ],
             [
              0.7777777777777778,
              "#fb9f3a"
             ],
             [
              0.8888888888888888,
              "#fdca26"
             ],
             [
              1,
              "#f0f921"
             ]
            ],
            "type": "histogram2d"
           }
          ],
          "histogram2dcontour": [
           {
            "colorbar": {
             "outlinewidth": 0,
             "ticks": ""
            },
            "colorscale": [
             [
              0,
              "#0d0887"
             ],
             [
              0.1111111111111111,
              "#46039f"
             ],
             [
              0.2222222222222222,
              "#7201a8"
             ],
             [
              0.3333333333333333,
              "#9c179e"
             ],
             [
              0.4444444444444444,
              "#bd3786"
             ],
             [
              0.5555555555555556,
              "#d8576b"
             ],
             [
              0.6666666666666666,
              "#ed7953"
             ],
             [
              0.7777777777777778,
              "#fb9f3a"
             ],
             [
              0.8888888888888888,
              "#fdca26"
             ],
             [
              1,
              "#f0f921"
             ]
            ],
            "type": "histogram2dcontour"
           }
          ],
          "mesh3d": [
           {
            "colorbar": {
             "outlinewidth": 0,
             "ticks": ""
            },
            "type": "mesh3d"
           }
          ],
          "parcoords": [
           {
            "line": {
             "colorbar": {
              "outlinewidth": 0,
              "ticks": ""
             }
            },
            "type": "parcoords"
           }
          ],
          "pie": [
           {
            "automargin": true,
            "type": "pie"
           }
          ],
          "scatter": [
           {
            "fillpattern": {
             "fillmode": "overlay",
             "size": 10,
             "solidity": 0.2
            },
            "type": "scatter"
           }
          ],
          "scatter3d": [
           {
            "line": {
             "colorbar": {
              "outlinewidth": 0,
              "ticks": ""
             }
            },
            "marker": {
             "colorbar": {
              "outlinewidth": 0,
              "ticks": ""
             }
            },
            "type": "scatter3d"
           }
          ],
          "scattercarpet": [
           {
            "marker": {
             "colorbar": {
              "outlinewidth": 0,
              "ticks": ""
             }
            },
            "type": "scattercarpet"
           }
          ],
          "scattergeo": [
           {
            "marker": {
             "colorbar": {
              "outlinewidth": 0,
              "ticks": ""
             }
            },
            "type": "scattergeo"
           }
          ],
          "scattergl": [
           {
            "marker": {
             "colorbar": {
              "outlinewidth": 0,
              "ticks": ""
             }
            },
            "type": "scattergl"
           }
          ],
          "scattermapbox": [
           {
            "marker": {
             "colorbar": {
              "outlinewidth": 0,
              "ticks": ""
             }
            },
            "type": "scattermapbox"
           }
          ],
          "scatterpolar": [
           {
            "marker": {
             "colorbar": {
              "outlinewidth": 0,
              "ticks": ""
             }
            },
            "type": "scatterpolar"
           }
          ],
          "scatterpolargl": [
           {
            "marker": {
             "colorbar": {
              "outlinewidth": 0,
              "ticks": ""
             }
            },
            "type": "scatterpolargl"
           }
          ],
          "scatterternary": [
           {
            "marker": {
             "colorbar": {
              "outlinewidth": 0,
              "ticks": ""
             }
            },
            "type": "scatterternary"
           }
          ],
          "surface": [
           {
            "colorbar": {
             "outlinewidth": 0,
             "ticks": ""
            },
            "colorscale": [
             [
              0,
              "#0d0887"
             ],
             [
              0.1111111111111111,
              "#46039f"
             ],
             [
              0.2222222222222222,
              "#7201a8"
             ],
             [
              0.3333333333333333,
              "#9c179e"
             ],
             [
              0.4444444444444444,
              "#bd3786"
             ],
             [
              0.5555555555555556,
              "#d8576b"
             ],
             [
              0.6666666666666666,
              "#ed7953"
             ],
             [
              0.7777777777777778,
              "#fb9f3a"
             ],
             [
              0.8888888888888888,
              "#fdca26"
             ],
             [
              1,
              "#f0f921"
             ]
            ],
            "type": "surface"
           }
          ],
          "table": [
           {
            "cells": {
             "fill": {
              "color": "#EBF0F8"
             },
             "line": {
              "color": "white"
             }
            },
            "header": {
             "fill": {
              "color": "#C8D4E3"
             },
             "line": {
              "color": "white"
             }
            },
            "type": "table"
           }
          ]
         },
         "layout": {
          "annotationdefaults": {
           "arrowcolor": "#2a3f5f",
           "arrowhead": 0,
           "arrowwidth": 1
          },
          "autotypenumbers": "strict",
          "coloraxis": {
           "colorbar": {
            "outlinewidth": 0,
            "ticks": ""
           }
          },
          "colorscale": {
           "diverging": [
            [
             0,
             "#8e0152"
            ],
            [
             0.1,
             "#c51b7d"
            ],
            [
             0.2,
             "#de77ae"
            ],
            [
             0.3,
             "#f1b6da"
            ],
            [
             0.4,
             "#fde0ef"
            ],
            [
             0.5,
             "#f7f7f7"
            ],
            [
             0.6,
             "#e6f5d0"
            ],
            [
             0.7,
             "#b8e186"
            ],
            [
             0.8,
             "#7fbc41"
            ],
            [
             0.9,
             "#4d9221"
            ],
            [
             1,
             "#276419"
            ]
           ],
           "sequential": [
            [
             0,
             "#0d0887"
            ],
            [
             0.1111111111111111,
             "#46039f"
            ],
            [
             0.2222222222222222,
             "#7201a8"
            ],
            [
             0.3333333333333333,
             "#9c179e"
            ],
            [
             0.4444444444444444,
             "#bd3786"
            ],
            [
             0.5555555555555556,
             "#d8576b"
            ],
            [
             0.6666666666666666,
             "#ed7953"
            ],
            [
             0.7777777777777778,
             "#fb9f3a"
            ],
            [
             0.8888888888888888,
             "#fdca26"
            ],
            [
             1,
             "#f0f921"
            ]
           ],
           "sequentialminus": [
            [
             0,
             "#0d0887"
            ],
            [
             0.1111111111111111,
             "#46039f"
            ],
            [
             0.2222222222222222,
             "#7201a8"
            ],
            [
             0.3333333333333333,
             "#9c179e"
            ],
            [
             0.4444444444444444,
             "#bd3786"
            ],
            [
             0.5555555555555556,
             "#d8576b"
            ],
            [
             0.6666666666666666,
             "#ed7953"
            ],
            [
             0.7777777777777778,
             "#fb9f3a"
            ],
            [
             0.8888888888888888,
             "#fdca26"
            ],
            [
             1,
             "#f0f921"
            ]
           ]
          },
          "colorway": [
           "#636efa",
           "#EF553B",
           "#00cc96",
           "#ab63fa",
           "#FFA15A",
           "#19d3f3",
           "#FF6692",
           "#B6E880",
           "#FF97FF",
           "#FECB52"
          ],
          "font": {
           "color": "#2a3f5f"
          },
          "geo": {
           "bgcolor": "white",
           "lakecolor": "white",
           "landcolor": "#E5ECF6",
           "showlakes": true,
           "showland": true,
           "subunitcolor": "white"
          },
          "hoverlabel": {
           "align": "left"
          },
          "hovermode": "closest",
          "mapbox": {
           "style": "light"
          },
          "paper_bgcolor": "white",
          "plot_bgcolor": "#E5ECF6",
          "polar": {
           "angularaxis": {
            "gridcolor": "white",
            "linecolor": "white",
            "ticks": ""
           },
           "bgcolor": "#E5ECF6",
           "radialaxis": {
            "gridcolor": "white",
            "linecolor": "white",
            "ticks": ""
           }
          },
          "scene": {
           "xaxis": {
            "backgroundcolor": "#E5ECF6",
            "gridcolor": "white",
            "gridwidth": 2,
            "linecolor": "white",
            "showbackground": true,
            "ticks": "",
            "zerolinecolor": "white"
           },
           "yaxis": {
            "backgroundcolor": "#E5ECF6",
            "gridcolor": "white",
            "gridwidth": 2,
            "linecolor": "white",
            "showbackground": true,
            "ticks": "",
            "zerolinecolor": "white"
           },
           "zaxis": {
            "backgroundcolor": "#E5ECF6",
            "gridcolor": "white",
            "gridwidth": 2,
            "linecolor": "white",
            "showbackground": true,
            "ticks": "",
            "zerolinecolor": "white"
           }
          },
          "shapedefaults": {
           "line": {
            "color": "#2a3f5f"
           }
          },
          "ternary": {
           "aaxis": {
            "gridcolor": "white",
            "linecolor": "white",
            "ticks": ""
           },
           "baxis": {
            "gridcolor": "white",
            "linecolor": "white",
            "ticks": ""
           },
           "bgcolor": "#E5ECF6",
           "caxis": {
            "gridcolor": "white",
            "linecolor": "white",
            "ticks": ""
           }
          },
          "title": {
           "x": 0.05
          },
          "xaxis": {
           "automargin": true,
           "gridcolor": "white",
           "linecolor": "white",
           "ticks": "",
           "title": {
            "standoff": 15
           },
           "zerolinecolor": "white",
           "zerolinewidth": 2
          },
          "yaxis": {
           "automargin": true,
           "gridcolor": "white",
           "linecolor": "white",
           "ticks": "",
           "title": {
            "standoff": 15
           },
           "zerolinecolor": "white",
           "zerolinewidth": 2
          }
         }
        },
        "xaxis": {
         "anchor": "y",
         "domain": [
          0,
          1
         ],
         "title": {
          "text": "name"
         }
        },
        "yaxis": {
         "anchor": "x",
         "domain": [
          0,
          1
         ],
         "title": {
          "text": "mean_gain"
         }
        }
       }
      }
     },
     "metadata": {},
     "output_type": "display_data"
    }
   ],
   "source": [
    "import plotly.express as px\n",
    "\n",
    "px.scatter(df.sort_values(\"mean_gain\"), x=\"name\", y=\"mean_gain\")"
   ]
  }
 ],
 "metadata": {
  "kernelspec": {
   "display_name": "base",
   "language": "python",
   "name": "python3"
  },
  "language_info": {
   "codemirror_mode": {
    "name": "ipython",
    "version": 3
   },
   "file_extension": ".py",
   "mimetype": "text/x-python",
   "name": "python",
   "nbconvert_exporter": "python",
   "pygments_lexer": "ipython3",
   "version": "3.10.14"
  }
 },
 "nbformat": 4,
 "nbformat_minor": 2
}
