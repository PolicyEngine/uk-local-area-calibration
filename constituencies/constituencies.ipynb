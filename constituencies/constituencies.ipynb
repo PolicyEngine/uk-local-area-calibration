{
 "cells": [
  {
   "cell_type": "code",
   "execution_count": 7,
   "metadata": {},
   "outputs": [
    {
     "name": "stdout",
     "output_type": "stream",
     "text": [
      "[     0  12570  15000  20000  30000  40000  50000  70000 100000 150000\n",
      " 200000 300000 500000]\n",
      "0 12570\n"
     ]
    },
    {
     "ename": "ValueError",
     "evalue": "Length of values (632) does not match length of index (650)",
     "output_type": "error",
     "traceback": [
      "\u001b[0;31m---------------------------------------------------------------------------\u001b[0m",
      "\u001b[0;31mValueError\u001b[0m                                Traceback (most recent call last)",
      "\u001b[0;32m/var/folders/r_/j9kk4vmd3tj29ljn52_76m4h0000gn/T/ipykernel_23444/550196081.py\u001b[0m in \u001b[0;36m<module>\u001b[0;34m\u001b[0m\n\u001b[1;32m    123\u001b[0m \u001b[0;34m\u001b[0m\u001b[0m\n\u001b[1;32m    124\u001b[0m \u001b[0;34m\u001b[0m\u001b[0m\n\u001b[0;32m--> 125\u001b[0;31m \u001b[0mmatrix\u001b[0m\u001b[0;34m,\u001b[0m \u001b[0my\u001b[0m \u001b[0;34m=\u001b[0m \u001b[0mcreate_target_matrix\u001b[0m\u001b[0;34m(\u001b[0m\u001b[0;34m)\u001b[0m\u001b[0;34m\u001b[0m\u001b[0;34m\u001b[0m\u001b[0m\n\u001b[0m\u001b[1;32m    126\u001b[0m \u001b[0;34m\u001b[0m\u001b[0m\n\u001b[1;32m    127\u001b[0m m_national, y_national = create_national_target_matrix(\n",
      "\u001b[0;32m/var/folders/r_/j9kk4vmd3tj29ljn52_76m4h0000gn/T/ipykernel_23444/550196081.py\u001b[0m in \u001b[0;36mcreate_target_matrix\u001b[0;34m()\u001b[0m\n\u001b[1;32m     91\u001b[0m         \u001b[0mincome_count\u001b[0m \u001b[0;34m=\u001b[0m \u001b[0my_subset\u001b[0m\u001b[0;34m.\u001b[0m\u001b[0memployment_income_count\u001b[0m\u001b[0;34m.\u001b[0m\u001b[0mvalues\u001b[0m\u001b[0;34m\u001b[0m\u001b[0;34m\u001b[0m\u001b[0m\n\u001b[1;32m     92\u001b[0m \u001b[0;34m\u001b[0m\u001b[0m\n\u001b[0;32m---> 93\u001b[0;31m         \u001b[0my\u001b[0m\u001b[0;34m[\u001b[0m\u001b[0;34mf\"employment_income/{income_str}/count\"\u001b[0m\u001b[0;34m]\u001b[0m \u001b[0;34m=\u001b[0m \u001b[0mincome_count\u001b[0m\u001b[0;34m\u001b[0m\u001b[0;34m\u001b[0m\u001b[0m\n\u001b[0m\u001b[1;32m     94\u001b[0m \u001b[0;34m\u001b[0m\u001b[0m\n\u001b[1;32m     95\u001b[0m         matrix[f\"employment_income/{income_str}/amount\"] = sim.map_result(\n",
      "\u001b[0;32m/opt/anaconda3/lib/python3.10/site-packages/pandas/core/frame.py\u001b[0m in \u001b[0;36m__setitem__\u001b[0;34m(self, key, value)\u001b[0m\n\u001b[1;32m   3978\u001b[0m         \u001b[0;32melse\u001b[0m\u001b[0;34m:\u001b[0m\u001b[0;34m\u001b[0m\u001b[0;34m\u001b[0m\u001b[0m\n\u001b[1;32m   3979\u001b[0m             \u001b[0;31m# set column\u001b[0m\u001b[0;34m\u001b[0m\u001b[0;34m\u001b[0m\u001b[0m\n\u001b[0;32m-> 3980\u001b[0;31m             \u001b[0mself\u001b[0m\u001b[0;34m.\u001b[0m\u001b[0m_set_item\u001b[0m\u001b[0;34m(\u001b[0m\u001b[0mkey\u001b[0m\u001b[0;34m,\u001b[0m \u001b[0mvalue\u001b[0m\u001b[0;34m)\u001b[0m\u001b[0;34m\u001b[0m\u001b[0;34m\u001b[0m\u001b[0m\n\u001b[0m\u001b[1;32m   3981\u001b[0m \u001b[0;34m\u001b[0m\u001b[0m\n\u001b[1;32m   3982\u001b[0m     \u001b[0;32mdef\u001b[0m \u001b[0m_setitem_slice\u001b[0m\u001b[0;34m(\u001b[0m\u001b[0mself\u001b[0m\u001b[0;34m,\u001b[0m \u001b[0mkey\u001b[0m\u001b[0;34m:\u001b[0m \u001b[0mslice\u001b[0m\u001b[0;34m,\u001b[0m \u001b[0mvalue\u001b[0m\u001b[0;34m)\u001b[0m\u001b[0;34m:\u001b[0m\u001b[0;34m\u001b[0m\u001b[0;34m\u001b[0m\u001b[0m\n",
      "\u001b[0;32m/opt/anaconda3/lib/python3.10/site-packages/pandas/core/frame.py\u001b[0m in \u001b[0;36m_set_item\u001b[0;34m(self, key, value)\u001b[0m\n\u001b[1;32m   4172\u001b[0m         \u001b[0mensure\u001b[0m \u001b[0mhomogeneity\u001b[0m\u001b[0;34m.\u001b[0m\u001b[0;34m\u001b[0m\u001b[0;34m\u001b[0m\u001b[0m\n\u001b[1;32m   4173\u001b[0m         \"\"\"\n\u001b[0;32m-> 4174\u001b[0;31m         \u001b[0mvalue\u001b[0m \u001b[0;34m=\u001b[0m \u001b[0mself\u001b[0m\u001b[0;34m.\u001b[0m\u001b[0m_sanitize_column\u001b[0m\u001b[0;34m(\u001b[0m\u001b[0mvalue\u001b[0m\u001b[0;34m)\u001b[0m\u001b[0;34m\u001b[0m\u001b[0;34m\u001b[0m\u001b[0m\n\u001b[0m\u001b[1;32m   4175\u001b[0m \u001b[0;34m\u001b[0m\u001b[0m\n\u001b[1;32m   4176\u001b[0m         if (\n",
      "\u001b[0;32m/opt/anaconda3/lib/python3.10/site-packages/pandas/core/frame.py\u001b[0m in \u001b[0;36m_sanitize_column\u001b[0;34m(self, value)\u001b[0m\n\u001b[1;32m   4913\u001b[0m \u001b[0;34m\u001b[0m\u001b[0m\n\u001b[1;32m   4914\u001b[0m         \u001b[0;32mif\u001b[0m \u001b[0mis_list_like\u001b[0m\u001b[0;34m(\u001b[0m\u001b[0mvalue\u001b[0m\u001b[0;34m)\u001b[0m\u001b[0;34m:\u001b[0m\u001b[0;34m\u001b[0m\u001b[0;34m\u001b[0m\u001b[0m\n\u001b[0;32m-> 4915\u001b[0;31m             \u001b[0mcom\u001b[0m\u001b[0;34m.\u001b[0m\u001b[0mrequire_length_match\u001b[0m\u001b[0;34m(\u001b[0m\u001b[0mvalue\u001b[0m\u001b[0;34m,\u001b[0m \u001b[0mself\u001b[0m\u001b[0;34m.\u001b[0m\u001b[0mindex\u001b[0m\u001b[0;34m)\u001b[0m\u001b[0;34m\u001b[0m\u001b[0;34m\u001b[0m\u001b[0m\n\u001b[0m\u001b[1;32m   4916\u001b[0m         \u001b[0;32mreturn\u001b[0m \u001b[0msanitize_array\u001b[0m\u001b[0;34m(\u001b[0m\u001b[0mvalue\u001b[0m\u001b[0;34m,\u001b[0m \u001b[0mself\u001b[0m\u001b[0;34m.\u001b[0m\u001b[0mindex\u001b[0m\u001b[0;34m,\u001b[0m \u001b[0mcopy\u001b[0m\u001b[0;34m=\u001b[0m\u001b[0;32mTrue\u001b[0m\u001b[0;34m,\u001b[0m \u001b[0mallow_2d\u001b[0m\u001b[0;34m=\u001b[0m\u001b[0;32mTrue\u001b[0m\u001b[0;34m)\u001b[0m\u001b[0;34m\u001b[0m\u001b[0;34m\u001b[0m\u001b[0m\n\u001b[1;32m   4917\u001b[0m \u001b[0;34m\u001b[0m\u001b[0m\n",
      "\u001b[0;32m/opt/anaconda3/lib/python3.10/site-packages/pandas/core/common.py\u001b[0m in \u001b[0;36mrequire_length_match\u001b[0;34m(data, index)\u001b[0m\n\u001b[1;32m    569\u001b[0m     \"\"\"\n\u001b[1;32m    570\u001b[0m     \u001b[0;32mif\u001b[0m \u001b[0mlen\u001b[0m\u001b[0;34m(\u001b[0m\u001b[0mdata\u001b[0m\u001b[0;34m)\u001b[0m \u001b[0;34m!=\u001b[0m \u001b[0mlen\u001b[0m\u001b[0;34m(\u001b[0m\u001b[0mindex\u001b[0m\u001b[0;34m)\u001b[0m\u001b[0;34m:\u001b[0m\u001b[0;34m\u001b[0m\u001b[0;34m\u001b[0m\u001b[0m\n\u001b[0;32m--> 571\u001b[0;31m         raise ValueError(\n\u001b[0m\u001b[1;32m    572\u001b[0m             \u001b[0;34m\"Length of values \"\u001b[0m\u001b[0;34m\u001b[0m\u001b[0;34m\u001b[0m\u001b[0m\n\u001b[1;32m    573\u001b[0m             \u001b[0;34mf\"({len(data)}) \"\u001b[0m\u001b[0;34m\u001b[0m\u001b[0;34m\u001b[0m\u001b[0m\n",
      "\u001b[0;31mValueError\u001b[0m: Length of values (632) does not match length of index (650)"
     ]
    }
   ],
   "source": [
    "import torch\n",
    "from policyengine_uk import Microsimulation\n",
    "import pandas as pd\n",
    "import numpy as np\n",
    "from tqdm import tqdm\n",
    "\n",
    "# Fill in missing constituencies with average column values\n",
    "import pandas as pd\n",
    "import numpy as np\n",
    "\n",
    "from policyengine_uk_data.utils.loss import (\n",
    "    create_target_matrix as create_national_target_matrix,\n",
    ")\n",
    "\n",
    "import h5py\n",
    "\n",
    "ages = pd.read_csv(\"targets/age.csv\")\n",
    "incomes = pd.read_csv(\"targets/total_income.csv\")\n",
    "earnings = pd.read_csv(\"targets/employment_income.csv\")\n",
    "\n",
    "ENGLAND_CONSTITUENCY = \"E14\"\n",
    "NI_CONSTITUENCY = \"N06\"\n",
    "SCOTLAND_CONSTITUENCY = \"S14\"\n",
    "WALES_CONSTITUENCY = \"W07\"\n",
    "\n",
    "incomes = incomes[\n",
    "    np.any(\n",
    "        [\n",
    "            incomes[\"code\"].str.contains(country_code)\n",
    "            for country_code in [\n",
    "                ENGLAND_CONSTITUENCY,\n",
    "                NI_CONSTITUENCY,\n",
    "                SCOTLAND_CONSTITUENCY,\n",
    "                WALES_CONSTITUENCY,\n",
    "            ]\n",
    "        ],\n",
    "        axis=0,\n",
    "    )\n",
    "]\n",
    "\n",
    "full_constituencies = incomes.code\n",
    "missing_constituencies = pd.Series(list(set(incomes.code) - set(ages.code)))\n",
    "missing_constituencies = pd.DataFrame(\n",
    "    {\n",
    "        \"code\": missing_constituencies.values,\n",
    "        \"name\": incomes.set_index(\"code\")\n",
    "        .loc[missing_constituencies]\n",
    "        .name.values,\n",
    "    }\n",
    ")\n",
    "for col in ages.columns[2:]:\n",
    "    missing_constituencies[col] = ages[col].mean()\n",
    "\n",
    "ages = pd.concat([ages, missing_constituencies])\n",
    "\n",
    "sim = Microsimulation()\n",
    "\n",
    "employment_income_bounds = earnings.employment_income_lower_bound.unique()\n",
    "\n",
    "print(employment_income_bounds)\n",
    "\n",
    "\n",
    "def create_target_matrix():\n",
    "    matrix = pd.DataFrame()\n",
    "    y = pd.DataFrame()\n",
    "\n",
    "    total_income = sim.calculate(\"total_income\", period=2025).values\n",
    "    matrix[\"hmrc/total_income_amount\"] = sim.map_result(\n",
    "        total_income, \"person\", \"household\"\n",
    "    )\n",
    "    y[\"hmrc/total_income_amount\"] = incomes[\"total_income_amount\"]\n",
    "\n",
    "    matrix[\"hmrc/total_income_count\"] = sim.map_result(\n",
    "        total_income != 0, \"person\", \"household\"\n",
    "    )\n",
    "    y[\"hmrc/total_income_count\"] = incomes[\"total_income_count\"]\n",
    "\n",
    "    employment_income = sim.calculate(\"employment_income\", period=2025).values\n",
    "    \n",
    "    for lower_bound, upper_bound in zip(employment_income_bounds[:-1], employment_income_bounds[1:]):\n",
    "        print(lower_bound, upper_bound)\n",
    "        in_income_band = (employment_income >= lower_bound) & (employment_income < upper_bound)\n",
    "\n",
    "        y_subset = earnings[earnings.employment_income_lower_bound == lower_bound][earnings.employment_income_upper_bound == upper_bound]\n",
    "\n",
    "        income_str = f\"{lower_bound}_{upper_bound}\"\n",
    "        matrix[f\"employment_income/{income_str}/count\"] = sim.map_result(\n",
    "            in_income_band, \"person\", \"household\"\n",
    "        )\n",
    "\n",
    "        income_count = y_subset.employment_income_count.values\n",
    "\n",
    "        y[f\"employment_income/{income_str}/count\"] = income_count\n",
    "\n",
    "        matrix[f\"employment_income/{income_str}/amount\"] = sim.map_result(\n",
    "            in_income_band * employment_income, \"person\", \"household\"\n",
    "        )\n",
    "\n",
    "        income_amount = y_subset.employment_income_amount.values\n",
    "\n",
    "        y[f\"employment_income/{income_str}/amount\"] = income_amount\n",
    "\n",
    "    age = sim.calculate(\"age\", period=2025)\n",
    "\n",
    "    for lower_age in range(0, 80, 10):\n",
    "        upper_age = lower_age + 10\n",
    "\n",
    "        in_age_band = (age >= lower_age) & (age < upper_age)\n",
    "\n",
    "        age_str = f\"{lower_age}_{upper_age}\"\n",
    "        matrix[f\"age/{age_str}\"] = sim.map_result(\n",
    "            in_age_band, \"person\", \"household\"\n",
    "        )\n",
    "\n",
    "        age_count = ages[\n",
    "            [str(age) for age in range(lower_age, upper_age)]\n",
    "        ].sum(axis=1)\n",
    "\n",
    "        age_str = f\"{lower_age}_{upper_age}\"\n",
    "        y[f\"age/{age_str}\"] = age_count.values\n",
    "\n",
    "    return matrix, y\n",
    "\n",
    "\n",
    "matrix, y = create_target_matrix()\n",
    "\n",
    "m_national, y_national = create_national_target_matrix(\n",
    "    \"enhanced_frs_2022_23\", 2022\n",
    ")\n",
    "\n",
    "# Weights - 650 x 100180\n",
    "original_weights = np.log(sim.calculate(\"household_weight\", 2022).values / 650)\n",
    "weights = torch.tensor(\n",
    "    np.ones((650, 100180)) * original_weights,\n",
    "    dtype=torch.float32,\n",
    "    requires_grad=True,\n",
    ")\n",
    "metrics = torch.tensor(matrix.values, dtype=torch.float32)\n",
    "weighted_metrics = weights.unsqueeze(-1) * metrics.unsqueeze(0)\n",
    "totals = weighted_metrics.sum(dim=1)\n",
    "y = torch.tensor(y.values, dtype=torch.float32)\n",
    "matrix_national = torch.tensor(m_national.values, dtype=torch.float32)\n",
    "y_national = torch.tensor(y_national.values, dtype=torch.float32)\n",
    "\n",
    "\n",
    "def loss(w):\n",
    "    pred_c = (w.unsqueeze(-1) * metrics.unsqueeze(0)).sum(dim=1)\n",
    "    mse_c = torch.mean((pred_c / (1 + y) - 1) ** 2)\n",
    "\n",
    "    pred_n = (w.sum(axis=0) * matrix_national.T).sum(axis=1)\n",
    "    mse_n = torch.mean((pred_n / (1 + y_national) - 1) ** 2)\n",
    "\n",
    "    return mse_c + mse_n\n",
    "\n",
    "\n",
    "optimizer = torch.optim.Adam([weights], lr=0.5)\n",
    "\n",
    "desc = tqdm(range(1000))\n",
    "\n",
    "for epoch in desc:\n",
    "    optimizer.zero_grad()\n",
    "    l = loss(torch.exp(weights))\n",
    "    desc.set_description(f\"Loss: {l.item()}\")\n",
    "    l.backward()\n",
    "    optimizer.step()\n",
    "\n",
    "final_weights = torch.exp(weights).detach().numpy()\n",
    "\n",
    "with h5py.File(\"weights.h5\", \"w\") as f:\n",
    "    f.create_dataset(\"weights\", data=final_weights)"
   ]
  },
  {
   "cell_type": "code",
   "execution_count": 55,
   "metadata": {},
   "outputs": [],
   "source": [
    "from policyengine_core.reforms import Reform\n",
    "\n",
    "emp_ni = Reform.from_dict(\n",
    "    {\n",
    "        \"gov.contrib.policyengine.employer_ni.employee_incidence\": {\n",
    "            \"2025-01-01.2025-12-31\": 0.4,\n",
    "            \"2026-01-01.2026-12-31\": 0.5,\n",
    "            \"2027-01-01.2027-12-31\": 0.6,\n",
    "            \"2028-01-01.2028-12-31\": 0.7,\n",
    "            \"2028-01-01.2029-12-31\": 0.7,\n",
    "        },\n",
    "        \"gov.hmrc.national_insurance.class_1.rates.employer\": {\n",
    "            \"2025-01-01.2100-12-31\": 0.15\n",
    "        },\n",
    "        \"gov.hmrc.national_insurance.class_1.thresholds.secondary_threshold\": {\n",
    "            \"2025-01-01.2100-12-31\": 96.14\n",
    "        },\n",
    "    },\n",
    "    country_id=\"uk\",\n",
    ")\n",
    "\n",
    "baseline = Microsimulation()\n",
    "reformed = Microsimulation(reform=emp_ni)\n",
    "\n",
    "gain = reformed.calculate(\"household_net_income\", 2025) - baseline.calculate(\n",
    "    \"household_net_income\", 2025\n",
    ")"
   ]
  },
  {
   "cell_type": "code",
   "execution_count": 56,
   "metadata": {},
   "outputs": [],
   "source": [
    "weighted_gain = np.dot(final_weights, gain)\n",
    "populations = np.dot(final_weights, np.ones((100180)))\n",
    "mean_gain = weighted_gain / populations"
   ]
  },
  {
   "cell_type": "code",
   "execution_count": 57,
   "metadata": {},
   "outputs": [
    {
     "data": {
      "text/html": [
       "<div>\n",
       "<style scoped>\n",
       "    .dataframe tbody tr th:only-of-type {\n",
       "        vertical-align: middle;\n",
       "    }\n",
       "\n",
       "    .dataframe tbody tr th {\n",
       "        vertical-align: top;\n",
       "    }\n",
       "\n",
       "    .dataframe thead th {\n",
       "        text-align: right;\n",
       "    }\n",
       "</style>\n",
       "<table border=\"1\" class=\"dataframe\">\n",
       "  <thead>\n",
       "    <tr style=\"text-align: right;\">\n",
       "      <th></th>\n",
       "      <th>code</th>\n",
       "      <th>name</th>\n",
       "      <th>total_income_count</th>\n",
       "      <th>total_income_amount</th>\n",
       "    </tr>\n",
       "  </thead>\n",
       "  <tbody>\n",
       "    <tr>\n",
       "      <th>1</th>\n",
       "      <td>E14000554</td>\n",
       "      <td>Berwick-upon-Tweed</td>\n",
       "      <td>37000.0</td>\n",
       "      <td>1.184000e+09</td>\n",
       "    </tr>\n",
       "    <tr>\n",
       "      <th>2</th>\n",
       "      <td>E14000569</td>\n",
       "      <td>Bishop Auckland</td>\n",
       "      <td>44000.0</td>\n",
       "      <td>1.315600e+09</td>\n",
       "    </tr>\n",
       "    <tr>\n",
       "      <th>3</th>\n",
       "      <td>E14000574</td>\n",
       "      <td>Blaydon</td>\n",
       "      <td>44000.0</td>\n",
       "      <td>1.425600e+09</td>\n",
       "    </tr>\n",
       "    <tr>\n",
       "      <th>4</th>\n",
       "      <td>E14000575</td>\n",
       "      <td>Blyth Valley</td>\n",
       "      <td>45000.0</td>\n",
       "      <td>1.305000e+09</td>\n",
       "    </tr>\n",
       "    <tr>\n",
       "      <th>5</th>\n",
       "      <td>E14000641</td>\n",
       "      <td>City of Durham</td>\n",
       "      <td>45000.0</td>\n",
       "      <td>1.552500e+09</td>\n",
       "    </tr>\n",
       "    <tr>\n",
       "      <th>...</th>\n",
       "      <td>...</td>\n",
       "      <td>...</td>\n",
       "      <td>...</td>\n",
       "      <td>...</td>\n",
       "    </tr>\n",
       "    <tr>\n",
       "      <th>657</th>\n",
       "      <td>N06000014</td>\n",
       "      <td>South Antrim</td>\n",
       "      <td>48000.0</td>\n",
       "      <td>1.555200e+09</td>\n",
       "    </tr>\n",
       "    <tr>\n",
       "      <th>658</th>\n",
       "      <td>N06000015</td>\n",
       "      <td>South Down</td>\n",
       "      <td>48000.0</td>\n",
       "      <td>1.531200e+09</td>\n",
       "    </tr>\n",
       "    <tr>\n",
       "      <th>659</th>\n",
       "      <td>N06000016</td>\n",
       "      <td>Strangford</td>\n",
       "      <td>40000.0</td>\n",
       "      <td>1.272000e+09</td>\n",
       "    </tr>\n",
       "    <tr>\n",
       "      <th>660</th>\n",
       "      <td>N06000017</td>\n",
       "      <td>Upper Bann</td>\n",
       "      <td>59000.0</td>\n",
       "      <td>1.728700e+09</td>\n",
       "    </tr>\n",
       "    <tr>\n",
       "      <th>661</th>\n",
       "      <td>N06000018</td>\n",
       "      <td>West Tyrone</td>\n",
       "      <td>37000.0</td>\n",
       "      <td>1.128500e+09</td>\n",
       "    </tr>\n",
       "  </tbody>\n",
       "</table>\n",
       "<p>650 rows × 4 columns</p>\n",
       "</div>"
      ],
      "text/plain": [
       "          code                name  total_income_count  total_income_amount\n",
       "1    E14000554  Berwick-upon-Tweed             37000.0         1.184000e+09\n",
       "2    E14000569     Bishop Auckland             44000.0         1.315600e+09\n",
       "3    E14000574             Blaydon             44000.0         1.425600e+09\n",
       "4    E14000575        Blyth Valley             45000.0         1.305000e+09\n",
       "5    E14000641      City of Durham             45000.0         1.552500e+09\n",
       "..         ...                 ...                 ...                  ...\n",
       "657  N06000014        South Antrim             48000.0         1.555200e+09\n",
       "658  N06000015          South Down             48000.0         1.531200e+09\n",
       "659  N06000016          Strangford             40000.0         1.272000e+09\n",
       "660  N06000017          Upper Bann             59000.0         1.728700e+09\n",
       "661  N06000018         West Tyrone             37000.0         1.128500e+09\n",
       "\n",
       "[650 rows x 4 columns]"
      ]
     },
     "execution_count": 57,
     "metadata": {},
     "output_type": "execute_result"
    }
   ],
   "source": [
    "incomes"
   ]
  },
  {
   "cell_type": "code",
   "execution_count": 58,
   "metadata": {},
   "outputs": [],
   "source": [
    "df = pd.DataFrame(\n",
    "    {\n",
    "        \"mean_gain\": mean_gain,\n",
    "        \"name\": incomes.name.values,\n",
    "        \"code\": incomes.code.values,\n",
    "    }\n",
    ")"
   ]
  },
  {
   "cell_type": "code",
   "execution_count": 59,
   "metadata": {},
   "outputs": [
    {
     "data": {
      "text/html": [
       "<div>\n",
       "<style scoped>\n",
       "    .dataframe tbody tr th:only-of-type {\n",
       "        vertical-align: middle;\n",
       "    }\n",
       "\n",
       "    .dataframe tbody tr th {\n",
       "        vertical-align: top;\n",
       "    }\n",
       "\n",
       "    .dataframe thead th {\n",
       "        text-align: right;\n",
       "    }\n",
       "</style>\n",
       "<table border=\"1\" class=\"dataframe\">\n",
       "  <thead>\n",
       "    <tr style=\"text-align: right;\">\n",
       "      <th></th>\n",
       "      <th>mean_gain</th>\n",
       "      <th>name</th>\n",
       "      <th>code</th>\n",
       "    </tr>\n",
       "  </thead>\n",
       "  <tbody>\n",
       "    <tr>\n",
       "      <th>448</th>\n",
       "      <td>-192.435414</td>\n",
       "      <td>Oxford East</td>\n",
       "      <td>E14000873</td>\n",
       "    </tr>\n",
       "  </tbody>\n",
       "</table>\n",
       "</div>"
      ],
      "text/plain": [
       "      mean_gain         name       code\n",
       "448 -192.435414  Oxford East  E14000873"
      ]
     },
     "execution_count": 59,
     "metadata": {},
     "output_type": "execute_result"
    }
   ],
   "source": [
    "df[df.name == \"Oxford East\"]"
   ]
  },
  {
   "cell_type": "code",
   "execution_count": 60,
   "metadata": {},
   "outputs": [
    {
     "data": {
      "text/html": [
       "<div>\n",
       "<style scoped>\n",
       "    .dataframe tbody tr th:only-of-type {\n",
       "        vertical-align: middle;\n",
       "    }\n",
       "\n",
       "    .dataframe tbody tr th {\n",
       "        vertical-align: top;\n",
       "    }\n",
       "\n",
       "    .dataframe thead th {\n",
       "        text-align: right;\n",
       "    }\n",
       "</style>\n",
       "<table border=\"1\" class=\"dataframe\">\n",
       "  <thead>\n",
       "    <tr style=\"text-align: right;\">\n",
       "      <th></th>\n",
       "      <th>mean_gain</th>\n",
       "      <th>name</th>\n",
       "      <th>code</th>\n",
       "    </tr>\n",
       "  </thead>\n",
       "  <tbody>\n",
       "    <tr>\n",
       "      <th>0</th>\n",
       "      <td>-129.729905</td>\n",
       "      <td>Berwick-upon-Tweed</td>\n",
       "      <td>E14000554</td>\n",
       "    </tr>\n",
       "    <tr>\n",
       "      <th>1</th>\n",
       "      <td>-149.162901</td>\n",
       "      <td>Bishop Auckland</td>\n",
       "      <td>E14000569</td>\n",
       "    </tr>\n",
       "    <tr>\n",
       "      <th>2</th>\n",
       "      <td>-172.874135</td>\n",
       "      <td>Blaydon</td>\n",
       "      <td>E14000574</td>\n",
       "    </tr>\n",
       "    <tr>\n",
       "      <th>3</th>\n",
       "      <td>-148.005294</td>\n",
       "      <td>Blyth Valley</td>\n",
       "      <td>E14000575</td>\n",
       "    </tr>\n",
       "    <tr>\n",
       "      <th>4</th>\n",
       "      <td>-127.432858</td>\n",
       "      <td>City of Durham</td>\n",
       "      <td>E14000641</td>\n",
       "    </tr>\n",
       "    <tr>\n",
       "      <th>...</th>\n",
       "      <td>...</td>\n",
       "      <td>...</td>\n",
       "      <td>...</td>\n",
       "    </tr>\n",
       "    <tr>\n",
       "      <th>645</th>\n",
       "      <td>-176.527914</td>\n",
       "      <td>South Antrim</td>\n",
       "      <td>N06000014</td>\n",
       "    </tr>\n",
       "    <tr>\n",
       "      <th>646</th>\n",
       "      <td>-173.620812</td>\n",
       "      <td>South Down</td>\n",
       "      <td>N06000015</td>\n",
       "    </tr>\n",
       "    <tr>\n",
       "      <th>647</th>\n",
       "      <td>-141.071970</td>\n",
       "      <td>Strangford</td>\n",
       "      <td>N06000016</td>\n",
       "    </tr>\n",
       "    <tr>\n",
       "      <th>648</th>\n",
       "      <td>-165.024939</td>\n",
       "      <td>Upper Bann</td>\n",
       "      <td>N06000017</td>\n",
       "    </tr>\n",
       "    <tr>\n",
       "      <th>649</th>\n",
       "      <td>-123.875312</td>\n",
       "      <td>West Tyrone</td>\n",
       "      <td>N06000018</td>\n",
       "    </tr>\n",
       "  </tbody>\n",
       "</table>\n",
       "<p>650 rows × 3 columns</p>\n",
       "</div>"
      ],
      "text/plain": [
       "      mean_gain                name       code\n",
       "0   -129.729905  Berwick-upon-Tweed  E14000554\n",
       "1   -149.162901     Bishop Auckland  E14000569\n",
       "2   -172.874135             Blaydon  E14000574\n",
       "3   -148.005294        Blyth Valley  E14000575\n",
       "4   -127.432858      City of Durham  E14000641\n",
       "..          ...                 ...        ...\n",
       "645 -176.527914        South Antrim  N06000014\n",
       "646 -173.620812          South Down  N06000015\n",
       "647 -141.071970          Strangford  N06000016\n",
       "648 -165.024939          Upper Bann  N06000017\n",
       "649 -123.875312         West Tyrone  N06000018\n",
       "\n",
       "[650 rows x 3 columns]"
      ]
     },
     "execution_count": 60,
     "metadata": {},
     "output_type": "execute_result"
    }
   ],
   "source": [
    "df"
   ]
  },
  {
   "cell_type": "code",
   "execution_count": 61,
   "metadata": {},
   "outputs": [
    {
     "data": {
      "application/vnd.plotly.v1+json": {
       "config": {
        "plotlyServerURL": "https://plot.ly"
       },
       "data": [
        {
         "hovertemplate": "name=%{x}<br>mean_gain=%{y}<extra></extra>",
         "legendgroup": "",
         "marker": {
          "color": "#2C6496",
          "symbol": "circle"
         },
         "mode": "markers",
         "name": "",
         "orientation": "v",
         "showlegend": false,
         "type": "scatter",
         "x": [
          "Kensington",
          "Hampstead and Kilburn",
          "Chelsea and Fulham",
          "Cities of London and Westminster",
          "Westminster North",
          "Richmond Park",
          "Wimbledon",
          "Islington South and Finsbury",
          "Esher and Walton",
          "Henley",
          "Battersea",
          "Holborn and St Pancras",
          "Hornsey and Wood Green",
          "Saffron Walden",
          "Reigate",
          "Mole Valley",
          "Twickenham",
          "Tooting",
          "Putney",
          "Tunbridge Wells",
          "Epping Forest",
          "South West Surrey",
          "Hammersmith",
          "Guildford",
          "Brentwood and Ongar",
          "Hitchin and Harpenden",
          "Altrincham and Sale West",
          "Hackney South and Shoreditch",
          "Dulwich and West Norwood",
          "Runnymede and Weybridge",
          "Wokingham",
          "Islington North",
          "South West Hertfordshire",
          "Ealing Central and Acton",
          "Greenwich and Woolwich",
          "Tatton",
          "Maidenhead",
          "Bromley and Chislehurst",
          "Chipping Barnet",
          "Poplar and Limehouse",
          "South Cambridgeshire",
          "Enfield, Southgate",
          "North East Hampshire",
          "Woking",
          "Beaconsfield",
          "Oxford West and Abingdon",
          "Buckingham",
          "Windsor",
          "Ruislip, Northwood and Pinner",
          "Croydon South",
          "Bermondsey and Old Southwark",
          "East Surrey",
          "Chesham and Amersham",
          "Hertford and Stortford",
          "Streatham",
          "Finchley and Golders Green",
          "Romsey and Southampton North",
          "Edinburgh South",
          "Sutton and Cheam",
          "Tonbridge and Malling",
          "Hackney North and Stoke Newington",
          "East Hampshire",
          "Mid Sussex",
          "South East Cambridgeshire",
          "Brentford and Isleworth",
          "Kingston and Surbiton",
          "Winchester",
          "Newbury",
          "Rugby",
          "North East Hertfordshire",
          "Milton Keynes South",
          "West Aberdeenshire and Kincardine",
          "The Cotswolds",
          "Lewisham West and Penge",
          "Epsom and Ewell",
          "Edinburgh North and Leith",
          "Hornchurch and Upminster",
          "Stratford-on-Avon",
          "Harwich and North Essex",
          "Edinburgh West",
          "Warwick and Leamington",
          "Sevenoaks",
          "Arundel and South Downs",
          "Rushcliffe",
          "Old Bexley and Sidcup",
          "Vauxhall",
          "North West Hampshire",
          "Hendon",
          "Hove",
          "Lewisham, Deptford",
          "Salisbury",
          "Devizes",
          "Wantage",
          "Aberdeen South",
          "Orpington",
          "Congleton",
          "East Renfrewshire",
          "Beckenham",
          "East Ham",
          "Huntingdon",
          "Rutland and Melton",
          "Watford",
          "Kenilworth and Southam",
          "Stone",
          "Chingford and Woodford Green",
          "Milton Keynes North",
          "Edinburgh South West",
          "East Dunbartonshire",
          "Camberwell and Peckham",
          "Lichfield",
          "Meon Valley",
          "Solihull",
          "Cheadle",
          "Surrey Heath",
          "Gordon",
          "East Lothian",
          "Stockton South",
          "Croydon North",
          "Chelmsford",
          "Bracknell",
          "Harborough",
          "Banbury",
          "Horsham",
          "Walthamstow",
          "Bromsgrove",
          "Wycombe",
          "Harrogate and Knaresborough",
          "St Albans",
          "Poole",
          "Pudsey",
          "Witney",
          "Belfast South",
          "Hertsmere",
          "South Northamptonshire",
          "Harrow East",
          "Skipton and Ripon",
          "Lewisham East",
          "North West Cambridgeshire",
          "Cambridge",
          "Macclesfield",
          "Salford and Eccles",
          "Warrington South",
          "Ilford South",
          "Brighton, Pavilion",
          "Bournemouth East",
          "Leyton and Wanstead",
          "South West Bedfordshire",
          "Thornbury and Yate",
          "Reading West",
          "Stirling",
          "Carshalton and Wallington",
          "Clwyd West",
          "Suffolk Coastal",
          "Lagan Valley",
          "Harrow West",
          "Cheltenham",
          "Chichester",
          "Llanelli",
          "North East Bedfordshire",
          "East Kilbride, Strathaven and Lesmahagow",
          "Hayes and Harlington",
          "Bexhill and Battle",
          "Lanark and Hamilton East",
          "Bethnal Green and Bow",
          "Weston-Super-Mare",
          "Westmorland and Lonsdale",
          "Fareham",
          "Stevenage",
          "Cardiff North",
          "Central Devon",
          "Midlothian",
          "Tewkesbury",
          "Hemel Hempstead",
          "New Forest West",
          "New Forest East",
          "Uxbridge and South Ruislip",
          "Ochil and South Perthshire",
          "Tiverton and Honiton",
          "Fylde",
          "Dunfermline and West Fife",
          "Bexleyheath and Crayford",
          "Inverness, Nairn, Badenoch and Strathspey",
          "Paisley and Renfrewshire North",
          "Stafford",
          "Reading East",
          "Monmouth",
          "Mitcham and Morden",
          "Oxford East",
          "Perth and North Perthshire",
          "Lewes",
          "Rayleigh and Wickford",
          "Sefton Central",
          "Erith and Thamesmead",
          "Wyre and Preston North",
          "Feltham and Heston",
          "Eltham",
          "Romford",
          "Charnwood",
          "Edinburgh East",
          "Mid Bedfordshire",
          "North Swindon",
          "Rutherglen and Hamilton West",
          "Chippenham",
          "Ealing, Southall",
          "Taunton Deane",
          "Wealden",
          "Burton",
          "Bristol South",
          "Gravesham",
          "Bridgend",
          "Brent Central",
          "Mid Derbyshire",
          "Maidstone and The Weald",
          "Bolton West",
          "Grantham and Stamford",
          "South Staffordshire",
          "Aldershot",
          "Belfast East",
          "Coventry South",
          "Vale of Glamorgan",
          "Eastbourne",
          "Torridge and West Devon",
          "Cardiff Central",
          "Central Suffolk and North Ipswich",
          "Bristol North West",
          "Dagenham and Rainham",
          "North West Leicestershire",
          "Brent North",
          "Worthing West",
          "Corby",
          "Rother Valley",
          "West Lancashire",
          "Elmet and Rothwell",
          "Haltemprice and Howden",
          "Tottenham",
          "Folkestone and Hythe",
          "Stockport",
          "West Worcestershire",
          "North Shropshire",
          "Leeds North West",
          "Beverley and Holderness",
          "Gower",
          "City of Chester",
          "Warrington North",
          "Makerfield",
          "Worsley and Eccles South",
          "Middlesbrough South and East Cleveland",
          "Thurrock",
          "Stroud",
          "Bury St Edmunds",
          "Somerton and Frome",
          "Broxtowe",
          "Bath",
          "Colchester",
          "South Leicestershire",
          "Cardiff West",
          "Eastleigh",
          "St Austell and Newquay",
          "Rochford and Southend East",
          "South Dorset",
          "Ashford",
          "Maldon",
          "South Norfolk",
          "Alyn and Deeside",
          "Mansfield",
          "Dartford",
          "South Derbyshire",
          "Ogmore",
          "Bury South",
          "Rochester and Strood",
          "Selby and Ainsty",
          "North Antrim",
          "Boston and Skegness",
          "South Suffolk",
          "Sleaford and North Hykeham",
          "Filton and Bradley Stoke",
          "Christchurch",
          "Bristol West",
          "Loughborough",
          "Bosworth",
          "North Somerset",
          "Doncaster Central",
          "Chatham and Aylesford",
          "Broadland",
          "Rossendale and Darwen",
          "Mid Dorset and North Poole",
          "Wells",
          "Ludlow",
          "Hastings and Rye",
          "Havant",
          "Gosport",
          "Tynemouth",
          "Barking",
          "Livingston",
          "South Antrim",
          "North East Somerset",
          "York Central",
          "Heywood and Middleton",
          "Braintree",
          "Faversham and Mid Kent",
          "Luton South",
          "Daventry",
          "Colne Valley",
          "Meriden",
          "North West Norfolk",
          "Manchester, Withington",
          "Bournemouth West",
          "Aylesbury",
          "Erewash",
          "Dewsbury",
          "Newark",
          "Newport East",
          "West Ham",
          "Ipswich",
          "Garston and Halewood",
          "Wyre Forest",
          "Mid Worcestershire",
          "North Down",
          "Broxbourne",
          "South Down",
          "Tamworth",
          "Newton Abbot",
          "Redditch",
          "Nuneaton",
          "South East Cornwall",
          "Coventry North East",
          "Blaydon",
          "Gillingham and Rainham",
          "Sheffield South East",
          "Shipley",
          "Newport West",
          "Kilmarnock and Loudoun",
          "Kettering",
          "South West Wiltshire",
          "Leeds North East",
          "Spelthorne",
          "Eddisbury",
          "Forest of Dean",
          "South Basildon and East Thurrock",
          "Welwyn Hatfield",
          "Carlisle",
          "East Devon",
          "Shrewsbury and Atcham",
          "Banff and Buchan",
          "Chorley",
          "Southampton, Test",
          "Bassetlaw",
          "Coventry North West",
          "Glasgow South",
          "Kingswood",
          "Cynon Valley",
          "North Thanet",
          "Dumfries and Galloway",
          "Plymouth, Moor View",
          "Caerphilly",
          "Morley and Outwood",
          "East Worthing and Shoreham",
          "Isle of Wight",
          "Witham",
          "Mid Norfolk",
          "Basingstoke",
          "Amber Valley",
          "Croydon Central",
          "Stretford and Urmston",
          "Truro and Falmouth",
          "Cannock Chase",
          "Linlithgow and East Falkirk",
          "Sheffield Central",
          "North Tyneside",
          "Moray",
          "Newcastle upon Tyne North",
          "Bedford",
          "Crewe and Nantwich",
          "Berwickshire, Roxburgh and Selkirk",
          "Richmond (Yorks)",
          "Pontypridd",
          "South West Norfolk",
          "Norwich North",
          "Knowsley",
          "Southport",
          "Calder Valley",
          "Swansea East",
          "Birmingham, Edgbaston",
          "Canterbury",
          "Upper Bann",
          "Falkirk",
          "Penrith and The Border",
          "Ellesmere Port and Neston",
          "Norwich South",
          "Ribble Valley",
          "Carmarthen East and Dinefwr",
          "Bristol East",
          "Halton",
          "Southend West",
          "North Durham",
          "South West Devon",
          "Bury North",
          "Leigh",
          "West Dorset",
          "Derby North",
          "Keighley",
          "Telford",
          "Slough",
          "Rotherham",
          "Wigan",
          "Enfield North",
          "Lincoln",
          "Cardiff South and Penarth",
          "Dover",
          "Ayr, Carrick and Cumnock",
          "Ilford North",
          "Argyll and Bute",
          "Stoke-on-Trent South",
          "Bolsover",
          "Hereford and South Herefordshire",
          "Newry & Armagh",
          "Coatbridge, Chryston and Bellshill",
          "St Helens South and Whiston",
          "Sittingbourne and Sheppey",
          "Fermanagh & South Tyrone",
          "Peterborough",
          "Barrow and Furness",
          "Gainsborough",
          "Wentworth and Dearne",
          "Cumbernauld, Kilsyth and Kirkintilloch East",
          "The Wrekin",
          "West Suffolk",
          "Kirkcaldy and Cowdenbeath",
          "Crawley",
          "Sutton Coldfield",
          "Ealing North",
          "Rochdale",
          "Mid Ulster",
          "Motherwell and Wishaw",
          "Portsmouth North",
          "Worcester",
          "Manchester Central",
          "Gateshead",
          "West Dunbartonshire",
          "Wolverhampton South West",
          "Penistone and Stocksbridge",
          "Brighton, Kemptown",
          "South Holland and The Deepings",
          "York Outer",
          "Plymouth, Sutton and Devonport",
          "Barnsley East",
          "East Yorkshire",
          "North Ayrshire and Arran",
          "Dumfriesshire, Clydesdale and Tweeddale",
          "Leeds East",
          "Angus",
          "Aberavon",
          "Leicester South",
          "Chesterfield",
          "Normanton, Pontefract and Castleford",
          "Wakefield",
          "Aberdeen North",
          "South Ribble",
          "Northampton South",
          "North East Cambridgeshire",
          "Carmarthen West and South Pembrokeshire",
          "Newcastle-under-Lyme",
          "Preseli Pembrokeshire",
          "Wellingborough",
          "Yeovil",
          "Central Ayrshire",
          "Edmonton",
          "St Helens North",
          "Louth and Horncastle",
          "Barnsley Central",
          "South Swindon",
          "Exeter",
          "Castle Point",
          "Weaver Vale",
          "Paisley and Renfrewshire South",
          "Dundee East",
          "North Cornwall",
          "Sedgefield",
          "Leicester West",
          "Basildon and Billericay",
          "Glasgow East",
          "Thirsk and Malton",
          "Jarrow",
          "Brigg and Goole",
          "North East Fife",
          "Kingston upon Hull East",
          "Bishop Auckland",
          "Birmingham, Ladywood",
          "North East Derbyshire",
          "Darlington",
          "Bridgwater and West Somerset",
          "Denton and Reddish",
          "Delyn",
          "Leeds Central",
          "Derby South",
          "Blyth Valley",
          "Ashfield",
          "Cleethorpes",
          "Stalybridge and Hyde",
          "Copeland",
          "Halifax",
          "Harlow",
          "Leicester East",
          "Wallasey",
          "Swansea West",
          "North West Durham",
          "Hexham",
          "High Peak",
          "Batley and Spen",
          "Hazel Grove",
          "Birmingham, Northfield",
          "North Wiltshire",
          "Stourbridge",
          "Torfaen",
          "Don Valley",
          "Vale of Clwyd",
          "Neath",
          "Liverpool, West Derby",
          "East Antrim",
          "Torbay",
          "Islwyn",
          "Bootle",
          "Bolton North East",
          "Wrexham",
          "Totnes",
          "Washington and Sunderland West",
          "Scarborough and Whitby",
          "Birmingham, Selly Oak",
          "Foyle",
          "Glasgow Central",
          "Liverpool, Riverside",
          "Strangford",
          "Wythenshawe and Sale East",
          "Gloucester",
          "Scunthorpe",
          "Oldham West and Royton",
          "Derbyshire Dales",
          "Sheffield, Hallam",
          "St Ives",
          "Southampton, Itchen",
          "Waveney",
          "Northampton North",
          "Birmingham, Hall Green",
          "Glasgow North West",
          "Belfast North",
          "Leeds West",
          "Stoke-on-Trent North",
          "Bognor Regis and Littlehampton",
          "North Herefordshire",
          "Sherwood",
          "North Norfolk",
          "Gedling",
          "Preston",
          "Camborne and Redruth",
          "Aldridge-Brownhills",
          "Clwyd South",
          "Workington",
          "Nottingham East",
          "Brecon and Radnorshire",
          "West Bromwich West",
          "Oldham East and Saddleworth",
          "North Dorset",
          "East Londonderry",
          "Stoke-on-Trent Central",
          "Ashton-under-Lyne",
          "Kingston upon Hull West and Hessle",
          "Wolverhampton North East",
          "Staffordshire Moorlands",
          "South Thanet",
          "Wirral South",
          "Berwick-upon-Tweed",
          "Inverclyde",
          "Hemsworth",
          "Ross, Skye and Lochaber",
          "Wirral West",
          "Glenrothes",
          "Birmingham, Yardley",
          "Blackburn",
          "Nottingham North",
          "Sheffield, Heeley",
          "Walsall South",
          "Birmingham, Erdington",
          "City of Durham",
          "Liverpool, Walton",
          "Kingston upon Hull North",
          "Glasgow South West",
          "Merthyr Tydfil and Rhymney",
          "Halesowen and Rowley Regis",
          "Luton North",
          "Pendle",
          "Airdrie and Shotts",
          "Ceredigion",
          "Middlesbrough",
          "Dudley South",
          "West Bromwich East",
          "West Tyrone",
          "Newcastle upon Tyne Central",
          "Nottingham South",
          "Huddersfield",
          "Walsall North",
          "Redcar",
          "Blackpool North and Cleveleys",
          "Houghton and Sunderland South",
          "Hartlepool",
          "Bolton South East",
          "Doncaster North",
          "Newcastle upon Tyne East",
          "Dundee West",
          "Manchester, Gorton",
          "Hyndburn",
          "North Devon",
          "Burnley",
          "Belfast West",
          "Montgomeryshire",
          "Clacton",
          "Morecambe and Lunesdale",
          "Bradford West",
          "Rhondda",
          "Warley",
          "Birkenhead",
          "Glasgow North East",
          "Liverpool, Wavertree",
          "Sunderland Central",
          "Glasgow North",
          "Aberconwy",
          "South Shields",
          "Wolverhampton South East",
          "Blaenau Gwent",
          "Sheffield, Brightside and Hillsborough",
          "Portsmouth South",
          "Lancaster and Fleetwood",
          "Stockton North",
          "Arfon",
          "Bradford East",
          "Wansbeck",
          "Great Yarmouth",
          "Blackley and Broughton",
          "Easington",
          "Ynys Môn",
          "Bradford South",
          "North Warwickshire",
          "Birmingham, Hodge Hill",
          "Birmingham, Perry Barr",
          "Blackpool South",
          "Dwyfor Meirionnydd",
          "Great Grimsby",
          "Caithness, Sutherland and Easter Ross",
          "Dudley North",
          "Orkney and Shetland",
          "Na h-Eileanan an Iar"
         ],
         "xaxis": "x",
         "y": [
          -585.7494088214054,
          -552.7612413707185,
          -531.0230202007474,
          -478.24827517516627,
          -370.2819076112533,
          -344.3639522207262,
          -327.37781315514195,
          -306.92628052282674,
          -306.6521848881916,
          -303.1820284284656,
          -297.7710838105018,
          -288.21354680056197,
          -287.9514997111939,
          -272.60203671206136,
          -270.71093412100635,
          -266.3892864173191,
          -263.19315894526,
          -259.66136046135875,
          -259.27123472010436,
          -254.93593487036642,
          -252.9609287347986,
          -250.78027049792155,
          -249.90260962126257,
          -247.71899396398064,
          -246.85906341397992,
          -246.37926743438527,
          -245.66347765494487,
          -242.27678773681887,
          -242.05370345649686,
          -241.33113175669607,
          -240.3748130149289,
          -239.85771605974668,
          -238.3378919397625,
          -237.9201889127639,
          -237.5198939858228,
          -236.29457798215344,
          -236.10107809560444,
          -235.6004158671053,
          -233.68037630627887,
          -232.86263214836808,
          -232.66534847329217,
          -232.38478379061206,
          -232.32286461523262,
          -232.21767219484738,
          -231.59960069079074,
          -230.88829736107687,
          -230.45002498493255,
          -230.20219199467536,
          -229.38549670204614,
          -228.67944332359332,
          -228.27288742480422,
          -227.72398738580839,
          -226.36582811703326,
          -226.28593293842098,
          -225.91298264001884,
          -225.5498513135935,
          -224.2637323632668,
          -223.54822223232455,
          -222.226266581938,
          -221.99912194910132,
          -221.65859360516237,
          -221.53919519725474,
          -220.8157679135704,
          -220.72635647159282,
          -220.4495264598774,
          -219.61680735431784,
          -218.99020660202223,
          -218.28974850934142,
          -218.10386459787296,
          -218.03670657949885,
          -217.8808383469683,
          -217.71963379463273,
          -217.55903768611833,
          -217.54551109237923,
          -217.41649143087264,
          -217.0471196006667,
          -216.69744987569376,
          -216.1574136953432,
          -216.15205951192226,
          -216.04116637092432,
          -215.81483218383295,
          -215.79385996030268,
          -215.67778444779046,
          -215.59095474970266,
          -214.22466143143154,
          -214.08064976418012,
          -213.59139718027936,
          -213.36162230455474,
          -212.91825427590985,
          -212.86600305827577,
          -212.79665084442388,
          -212.10045869356173,
          -211.97831909098525,
          -211.72566490287883,
          -211.67881548525307,
          -211.62117636900368,
          -211.47760585086337,
          -211.47080701719588,
          -211.3612856386216,
          -211.06762954158205,
          -210.33480688892027,
          -210.2748431434893,
          -210.26188461713275,
          -209.9223179013932,
          -209.27635305517626,
          -207.28797433554075,
          -207.23763607394764,
          -207.13804259667864,
          -207.07748824017818,
          -206.79181673556448,
          -206.72225384984137,
          -206.60971760058203,
          -206.26534236420665,
          -205.97361438129522,
          -205.9552752245573,
          -205.8506848412282,
          -205.78374378707662,
          -205.62908014140734,
          -205.61930560601922,
          -205.46315829137887,
          -204.9726982683628,
          -204.87384908827542,
          -203.5021520418497,
          -203.28471118501915,
          -203.22085991621432,
          -203.19391334729085,
          -203.13090335065968,
          -203.10715359551895,
          -202.8741670348834,
          -202.0734811392988,
          -202.0388334275593,
          -202.00000228459555,
          -201.91012173087327,
          -201.8997427082902,
          -201.76698266345733,
          -201.73537365932904,
          -201.73405029255568,
          -201.50841596592585,
          -201.49979097050388,
          -201.41454978940985,
          -201.07694327577357,
          -200.22727158150883,
          -200.12742358482066,
          -199.8205806728712,
          -199.7920704432086,
          -199.62491118728298,
          -199.32854914360476,
          -199.24423855842744,
          -199.18751834024545,
          -199.10406545368423,
          -198.88725203105327,
          -198.46782527116324,
          -198.34532005878793,
          -198.07911458685874,
          -198.00439784642916,
          -197.75568559115942,
          -197.6937678285346,
          -197.50524586730523,
          -197.1344064430803,
          -197.00394334734014,
          -196.95132245365016,
          -196.87375333925556,
          -196.72796954595208,
          -196.65149817405904,
          -196.64874008971194,
          -196.52187061084604,
          -196.46791902865604,
          -196.40076357568407,
          -196.10627633449005,
          -196.0125029543612,
          -195.89449862343534,
          -195.84110201368344,
          -195.70320386025415,
          -195.48882651119936,
          -195.429117969173,
          -194.92625902268122,
          -194.911840110197,
          -194.7422194631511,
          -194.7120281043379,
          -194.1096205047736,
          -193.77614939537406,
          -193.66693843738506,
          -193.19681884888573,
          -193.17805041618087,
          -192.9234766210808,
          -192.84241152142587,
          -192.7467598680316,
          -192.4354138562424,
          -192.41544137908332,
          -192.3750233122026,
          -192.31925533778627,
          -191.68548808306204,
          -191.2086527575448,
          -191.08989741844266,
          -190.98586037609797,
          -190.69853524912577,
          -190.66357534732364,
          -190.3296150598184,
          -190.30413229240997,
          -190.2475355474811,
          -190.17642856506058,
          -189.9508292299527,
          -189.90977204996048,
          -189.4602650081375,
          -189.30496597526607,
          -189.14579530609154,
          -189.12580098697092,
          -189.10700556453705,
          -188.94157505259355,
          -188.81211427621935,
          -188.55613644550382,
          -188.44492995279796,
          -188.243156405106,
          -188.1028491268686,
          -187.45944956397005,
          -187.40338680454664,
          -187.14233885752282,
          -187.0537163701433,
          -186.83275762807088,
          -186.51874895896748,
          -186.35781581964966,
          -186.21340498233394,
          -186.17602103409575,
          -186.07715015617825,
          -185.841529672948,
          -185.70554610295,
          -185.61527423830373,
          -185.52174362584887,
          -185.18253370931777,
          -185.15783436167283,
          -185.14919001788505,
          -185.14555275233099,
          -184.9487551740007,
          -184.84574371379765,
          -184.79868637434151,
          -184.49763477973,
          -184.44897454728294,
          -184.12132957300364,
          -184.11100759025908,
          -183.87824878414878,
          -183.7520891493125,
          -183.5851974534882,
          -183.34421146617825,
          -183.28132280823513,
          -183.25787138278557,
          -183.1805451003539,
          -182.96662316437966,
          -182.88660235468535,
          -182.87781412832825,
          -182.8057705387655,
          -182.7361586406368,
          -182.46795197684995,
          -182.33667584849303,
          -182.25534457229637,
          -182.19483268433788,
          -181.7563071851801,
          -181.7543515178305,
          -181.67184497622392,
          -181.64995528275492,
          -181.58470072227854,
          -181.27682536301143,
          -181.2211967982521,
          -181.04308674222378,
          -180.96439769137652,
          -180.4830728369686,
          -180.41534753850553,
          -180.39556306181876,
          -180.36003460000603,
          -180.35044179242726,
          -180.21517647282624,
          -180.0262449310044,
          -179.80496680080856,
          -179.80448618760178,
          -179.73774030836202,
          -179.45224156948208,
          -179.36954313343935,
          -179.18609515730404,
          -179.01652732754488,
          -178.96991783592358,
          -178.30356443928324,
          -178.0829132524858,
          -178.00015821684886,
          -177.88575072346453,
          -177.86776643152615,
          -177.58735460827953,
          -177.56025712032047,
          -177.4859466430009,
          -177.44964279865764,
          -177.17213485818715,
          -177.05657440696473,
          -176.90651231082387,
          -176.70372690103903,
          -176.69114236142295,
          -176.60267960593816,
          -176.527914280307,
          -176.48089981149946,
          -176.43046168667527,
          -176.20038530259086,
          -175.9887696901761,
          -175.66004813246985,
          -175.53974608342747,
          -175.50160879287958,
          -175.45744857961841,
          -175.3713032627595,
          -175.30645737225979,
          -175.05274584579468,
          -174.84307480719414,
          -174.54984171195437,
          -174.4995242930414,
          -174.2633460367231,
          -174.12298450261443,
          -174.1190350730754,
          -174.05747876996986,
          -174.05569871304633,
          -174.03710850868978,
          -173.7267025598822,
          -173.69213930797264,
          -173.67047230135202,
          -173.66078619760768,
          -173.6208115756222,
          -173.3491267010008,
          -173.29313942590133,
          -173.2422216110904,
          -173.13279093965647,
          -173.1179056293009,
          -173.0708473980967,
          -172.8741351278108,
          -172.85596843359644,
          -172.78739232615,
          -172.4543062949294,
          -172.3787264721845,
          -172.2201778180049,
          -171.9892268011805,
          -171.87662811642056,
          -171.688516644366,
          -171.6223347622817,
          -171.31984972872584,
          -171.31255886782566,
          -171.24845343523106,
          -171.23851617175185,
          -171.06698607091795,
          -170.9997155067166,
          -170.98224250900455,
          -170.878412710008,
          -170.74053422258984,
          -170.54692431458486,
          -170.49373182822632,
          -170.36654273564977,
          -170.07328481729593,
          -170.0339961935724,
          -170.00888334418391,
          -169.87789414351533,
          -169.6159901041616,
          -169.53978449193923,
          -169.41102000430112,
          -169.37332916061192,
          -169.18378159071457,
          -168.9889150157717,
          -168.8935189742868,
          -168.79772592400565,
          -168.6440886718831,
          -168.5730297649392,
          -168.46667682312815,
          -168.21390601755155,
          -168.05611295501404,
          -167.97908952244424,
          -167.93365487226905,
          -167.9107057656777,
          -167.59298892577706,
          -167.51513849343817,
          -167.32330098966338,
          -167.11332389142584,
          -166.68789362893534,
          -166.56033773390146,
          -166.479547458984,
          -166.29604199763298,
          -166.24841903989034,
          -165.7220961510305,
          -165.6992151790955,
          -165.52433801583817,
          -165.41363590801714,
          -165.35948154852102,
          -165.30438760298142,
          -165.21371541212085,
          -165.02493862395437,
          -164.530964683146,
          -164.46788030410028,
          -164.3005391830078,
          -164.18001802639785,
          -164.17698081219243,
          -163.9844107096172,
          -163.82222883858392,
          -163.7206293721374,
          -163.548333552267,
          -163.47219831756388,
          -163.4374724246869,
          -163.34595445753112,
          -163.14098476980934,
          -163.06128008335142,
          -162.9970047310223,
          -162.92149286369497,
          -162.6674471375441,
          -162.60382939721862,
          -162.33992016014756,
          -162.27304356687725,
          -162.18767198712496,
          -161.66927368890126,
          -161.47052514782337,
          -161.39914214970764,
          -161.32365683267557,
          -161.24573267265748,
          -161.2010854990746,
          -161.1782398521011,
          -160.63299026873992,
          -160.59605763693588,
          -160.59590885562633,
          -160.53088323276532,
          -160.11192611650517,
          -160.018887113897,
          -159.7130948625251,
          -159.61876394349076,
          -159.41873803276565,
          -158.80883646852894,
          -158.7802162768555,
          -158.5986474135126,
          -158.57485675721622,
          -158.50212285508366,
          -158.44957117814567,
          -158.23733772946252,
          -158.1704070754367,
          -158.08984415768367,
          -157.99706584434563,
          -157.7963449101259,
          -157.68202388218864,
          -157.57129304365105,
          -157.26037256425963,
          -157.18934685240217,
          -157.15508745563824,
          -157.08755415156926,
          -156.93347100389906,
          -156.9096949730144,
          -156.69186324751803,
          -156.52344986888593,
          -156.45150313373375,
          -156.31925529094667,
          -156.1998652280554,
          -155.5430123450916,
          -155.5254585677349,
          -155.1435011358178,
          -154.94101471499565,
          -154.9286768556108,
          -154.70075267879395,
          -154.64675947197742,
          -154.35019656115517,
          -154.2559204677491,
          -154.11158541532228,
          -153.94172755047538,
          -153.78970957973866,
          -153.7149691066293,
          -153.63792664018612,
          -153.49712236863294,
          -153.47200329214434,
          -153.35019679509315,
          -152.72742219283566,
          -152.58051448587057,
          -152.43118490016022,
          -152.37607923487118,
          -152.33773334620557,
          -152.26307377027626,
          -152.0370655372683,
          -151.95460182157723,
          -151.7551967707041,
          -151.701582934708,
          -151.6635193207145,
          -151.408398778218,
          -151.3203022567444,
          -151.1951021089541,
          -151.0631350308513,
          -151.049844812753,
          -150.55684072786642,
          -150.5510620148447,
          -150.5035833043262,
          -150.49398791159555,
          -150.46221344152863,
          -149.9609040455274,
          -149.88169872320782,
          -149.16290077234876,
          -148.77722736747498,
          -148.69558530979586,
          -148.51633874279972,
          -148.50493182179028,
          -148.46993612700894,
          -148.41549347071026,
          -148.18624478572207,
          -148.17190602460485,
          -148.0052942930445,
          -147.52016507421175,
          -147.49892158274244,
          -147.48393573355395,
          -147.36862874152243,
          -146.59144881678506,
          -146.32528544606268,
          -146.20622315961577,
          -146.11925218016714,
          -146.04743047965232,
          -145.59049886166062,
          -145.51133839713404,
          -145.44404980455545,
          -145.39018329692243,
          -145.34671017547234,
          -145.29869123682883,
          -145.0210542491641,
          -144.63088450303235,
          -144.44771177512078,
          -144.44131888288555,
          -144.3476009221256,
          -144.11883815567825,
          -143.85144315533958,
          -143.69258910067222,
          -143.46269437959947,
          -143.40432799409805,
          -143.26997710945295,
          -142.72329932736204,
          -142.7201570372976,
          -142.70036855026405,
          -142.38840666405767,
          -142.35204353217225,
          -142.23256575424537,
          -142.17127416142688,
          -142.06096578531864,
          -141.16587908773818,
          -141.07196954092453,
          -140.83317732837787,
          -140.59736425634586,
          -140.52155533558727,
          -140.50196060683527,
          -139.68356342529017,
          -139.04487524909263,
          -138.83971291386106,
          -138.66617371232928,
          -138.51647619230621,
          -137.99224165483736,
          -137.7245234960641,
          -137.67835511116812,
          -137.10601304320156,
          -136.25249347963523,
          -136.2358036516201,
          -136.076554408828,
          -135.1769340262334,
          -134.68719610611893,
          -134.51981663598895,
          -134.23314112009885,
          -133.83692129748445,
          -133.66160802756144,
          -133.53170548864267,
          -132.7547053588547,
          -132.73820877649737,
          -132.17273119123033,
          -132.02149582542074,
          -131.80976751630232,
          -131.75430630985056,
          -131.66779502112763,
          -131.6248846328167,
          -131.54485507255652,
          -131.1910793888489,
          -130.7224702699692,
          -130.48651036111727,
          -130.4065127500089,
          -130.03647460672826,
          -129.82181430968083,
          -129.72990522795945,
          -129.7092822368269,
          -129.68567722843602,
          -129.41164343509925,
          -129.13715080186063,
          -129.02204037477495,
          -128.6243227074822,
          -127.88320707209256,
          -127.77414721336773,
          -127.76893192703056,
          -127.66122056110854,
          -127.5049238851596,
          -127.43285826113461,
          -126.57251680774854,
          -126.44238390269918,
          -126.41352679091523,
          -125.71905866145737,
          -125.37947083334335,
          -125.28960346196678,
          -125.12975900995121,
          -125.04646570626801,
          -124.47800604310792,
          -124.17961306980608,
          -124.09218538830883,
          -124.02205201088476,
          -123.8753116495207,
          -123.55469043233387,
          -123.2392421927853,
          -121.92065305458635,
          -121.82648449538883,
          -121.01379977832919,
          -120.89834655427462,
          -120.89485056032157,
          -120.54343377061133,
          -120.54036728124369,
          -120.40655165450151,
          -119.39905235232429,
          -118.9427692538075,
          -118.7240173990086,
          -118.50118571521833,
          -118.11895275125008,
          -116.66665540750846,
          -116.65772629450503,
          -116.14236570451504,
          -115.55801197631078,
          -115.23745086365763,
          -114.67019919263045,
          -113.85002294540364,
          -113.2231189137195,
          -112.37121234311505,
          -112.3394779839106,
          -112.2694123730311,
          -112.24123527048106,
          -111.33698694188544,
          -110.43931760701344,
          -109.39356876801155,
          -108.8705889849667,
          -108.55725240557821,
          -108.48458732034015,
          -108.3433634163133,
          -107.56468693157765,
          -106.34223320286041,
          -105.59840314786295,
          -105.10276532147228,
          -103.36319577303948,
          -101.97771352317501,
          -101.88021487809773,
          -101.84402534899363,
          -101.07516702638762,
          -97.73629563729249,
          -96.10218035844103,
          -94.29726663746769,
          -94.01583085245122,
          -92.65242551389954,
          -92.13925812691446,
          -91.9684713609115,
          -91.86506856193343,
          -66.85395858583468,
          -59.93545881757475,
          -45.16315395819528
         ],
         "yaxis": "y"
        }
       ],
       "layout": {
        "font": {
         "color": "black",
         "family": "Roboto Serif"
        },
        "height": 600,
        "images": [
         {
          "sizex": 0.15,
          "sizey": 0.15,
          "source": "https://raw.githubusercontent.com/PolicyEngine/policyengine-app/master/src/images/logos/policyengine/blue.png",
          "x": 1.1,
          "xanchor": "right",
          "xref": "paper",
          "y": -0.15,
          "yanchor": "bottom",
          "yref": "paper"
         }
        ],
        "legend": {
         "tracegroupgap": 0
        },
        "margin": {
         "t": 60
        },
        "modebar": {
         "bgcolor": "rgba(0,0,0,0)",
         "color": "rgba(0,0,0,0)"
        },
        "template": {
         "data": {
          "bar": [
           {
            "error_x": {
             "color": "#2a3f5f"
            },
            "error_y": {
             "color": "#2a3f5f"
            },
            "marker": {
             "line": {
              "color": "white",
              "width": 0.5
             },
             "pattern": {
              "fillmode": "overlay",
              "size": 10,
              "solidity": 0.2
             }
            },
            "type": "bar"
           }
          ],
          "barpolar": [
           {
            "marker": {
             "line": {
              "color": "white",
              "width": 0.5
             },
             "pattern": {
              "fillmode": "overlay",
              "size": 10,
              "solidity": 0.2
             }
            },
            "type": "barpolar"
           }
          ],
          "carpet": [
           {
            "aaxis": {
             "endlinecolor": "#2a3f5f",
             "gridcolor": "#C8D4E3",
             "linecolor": "#C8D4E3",
             "minorgridcolor": "#C8D4E3",
             "startlinecolor": "#2a3f5f"
            },
            "baxis": {
             "endlinecolor": "#2a3f5f",
             "gridcolor": "#C8D4E3",
             "linecolor": "#C8D4E3",
             "minorgridcolor": "#C8D4E3",
             "startlinecolor": "#2a3f5f"
            },
            "type": "carpet"
           }
          ],
          "choropleth": [
           {
            "colorbar": {
             "outlinewidth": 0,
             "ticks": ""
            },
            "type": "choropleth"
           }
          ],
          "contour": [
           {
            "colorbar": {
             "outlinewidth": 0,
             "ticks": ""
            },
            "colorscale": [
             [
              0,
              "#0d0887"
             ],
             [
              0.1111111111111111,
              "#46039f"
             ],
             [
              0.2222222222222222,
              "#7201a8"
             ],
             [
              0.3333333333333333,
              "#9c179e"
             ],
             [
              0.4444444444444444,
              "#bd3786"
             ],
             [
              0.5555555555555556,
              "#d8576b"
             ],
             [
              0.6666666666666666,
              "#ed7953"
             ],
             [
              0.7777777777777778,
              "#fb9f3a"
             ],
             [
              0.8888888888888888,
              "#fdca26"
             ],
             [
              1,
              "#f0f921"
             ]
            ],
            "type": "contour"
           }
          ],
          "contourcarpet": [
           {
            "colorbar": {
             "outlinewidth": 0,
             "ticks": ""
            },
            "type": "contourcarpet"
           }
          ],
          "heatmap": [
           {
            "colorbar": {
             "outlinewidth": 0,
             "ticks": ""
            },
            "colorscale": [
             [
              0,
              "#0d0887"
             ],
             [
              0.1111111111111111,
              "#46039f"
             ],
             [
              0.2222222222222222,
              "#7201a8"
             ],
             [
              0.3333333333333333,
              "#9c179e"
             ],
             [
              0.4444444444444444,
              "#bd3786"
             ],
             [
              0.5555555555555556,
              "#d8576b"
             ],
             [
              0.6666666666666666,
              "#ed7953"
             ],
             [
              0.7777777777777778,
              "#fb9f3a"
             ],
             [
              0.8888888888888888,
              "#fdca26"
             ],
             [
              1,
              "#f0f921"
             ]
            ],
            "type": "heatmap"
           }
          ],
          "heatmapgl": [
           {
            "colorbar": {
             "outlinewidth": 0,
             "ticks": ""
            },
            "colorscale": [
             [
              0,
              "#0d0887"
             ],
             [
              0.1111111111111111,
              "#46039f"
             ],
             [
              0.2222222222222222,
              "#7201a8"
             ],
             [
              0.3333333333333333,
              "#9c179e"
             ],
             [
              0.4444444444444444,
              "#bd3786"
             ],
             [
              0.5555555555555556,
              "#d8576b"
             ],
             [
              0.6666666666666666,
              "#ed7953"
             ],
             [
              0.7777777777777778,
              "#fb9f3a"
             ],
             [
              0.8888888888888888,
              "#fdca26"
             ],
             [
              1,
              "#f0f921"
             ]
            ],
            "type": "heatmapgl"
           }
          ],
          "histogram": [
           {
            "marker": {
             "pattern": {
              "fillmode": "overlay",
              "size": 10,
              "solidity": 0.2
             }
            },
            "type": "histogram"
           }
          ],
          "histogram2d": [
           {
            "colorbar": {
             "outlinewidth": 0,
             "ticks": ""
            },
            "colorscale": [
             [
              0,
              "#0d0887"
             ],
             [
              0.1111111111111111,
              "#46039f"
             ],
             [
              0.2222222222222222,
              "#7201a8"
             ],
             [
              0.3333333333333333,
              "#9c179e"
             ],
             [
              0.4444444444444444,
              "#bd3786"
             ],
             [
              0.5555555555555556,
              "#d8576b"
             ],
             [
              0.6666666666666666,
              "#ed7953"
             ],
             [
              0.7777777777777778,
              "#fb9f3a"
             ],
             [
              0.8888888888888888,
              "#fdca26"
             ],
             [
              1,
              "#f0f921"
             ]
            ],
            "type": "histogram2d"
           }
          ],
          "histogram2dcontour": [
           {
            "colorbar": {
             "outlinewidth": 0,
             "ticks": ""
            },
            "colorscale": [
             [
              0,
              "#0d0887"
             ],
             [
              0.1111111111111111,
              "#46039f"
             ],
             [
              0.2222222222222222,
              "#7201a8"
             ],
             [
              0.3333333333333333,
              "#9c179e"
             ],
             [
              0.4444444444444444,
              "#bd3786"
             ],
             [
              0.5555555555555556,
              "#d8576b"
             ],
             [
              0.6666666666666666,
              "#ed7953"
             ],
             [
              0.7777777777777778,
              "#fb9f3a"
             ],
             [
              0.8888888888888888,
              "#fdca26"
             ],
             [
              1,
              "#f0f921"
             ]
            ],
            "type": "histogram2dcontour"
           }
          ],
          "mesh3d": [
           {
            "colorbar": {
             "outlinewidth": 0,
             "ticks": ""
            },
            "type": "mesh3d"
           }
          ],
          "parcoords": [
           {
            "line": {
             "colorbar": {
              "outlinewidth": 0,
              "ticks": ""
             }
            },
            "type": "parcoords"
           }
          ],
          "pie": [
           {
            "automargin": true,
            "type": "pie"
           }
          ],
          "scatter": [
           {
            "fillpattern": {
             "fillmode": "overlay",
             "size": 10,
             "solidity": 0.2
            },
            "type": "scatter"
           }
          ],
          "scatter3d": [
           {
            "line": {
             "colorbar": {
              "outlinewidth": 0,
              "ticks": ""
             }
            },
            "marker": {
             "colorbar": {
              "outlinewidth": 0,
              "ticks": ""
             }
            },
            "type": "scatter3d"
           }
          ],
          "scattercarpet": [
           {
            "marker": {
             "colorbar": {
              "outlinewidth": 0,
              "ticks": ""
             }
            },
            "type": "scattercarpet"
           }
          ],
          "scattergeo": [
           {
            "marker": {
             "colorbar": {
              "outlinewidth": 0,
              "ticks": ""
             }
            },
            "type": "scattergeo"
           }
          ],
          "scattergl": [
           {
            "marker": {
             "colorbar": {
              "outlinewidth": 0,
              "ticks": ""
             }
            },
            "type": "scattergl"
           }
          ],
          "scattermapbox": [
           {
            "marker": {
             "colorbar": {
              "outlinewidth": 0,
              "ticks": ""
             }
            },
            "type": "scattermapbox"
           }
          ],
          "scatterpolar": [
           {
            "marker": {
             "colorbar": {
              "outlinewidth": 0,
              "ticks": ""
             }
            },
            "type": "scatterpolar"
           }
          ],
          "scatterpolargl": [
           {
            "marker": {
             "colorbar": {
              "outlinewidth": 0,
              "ticks": ""
             }
            },
            "type": "scatterpolargl"
           }
          ],
          "scatterternary": [
           {
            "marker": {
             "colorbar": {
              "outlinewidth": 0,
              "ticks": ""
             }
            },
            "type": "scatterternary"
           }
          ],
          "surface": [
           {
            "colorbar": {
             "outlinewidth": 0,
             "ticks": ""
            },
            "colorscale": [
             [
              0,
              "#0d0887"
             ],
             [
              0.1111111111111111,
              "#46039f"
             ],
             [
              0.2222222222222222,
              "#7201a8"
             ],
             [
              0.3333333333333333,
              "#9c179e"
             ],
             [
              0.4444444444444444,
              "#bd3786"
             ],
             [
              0.5555555555555556,
              "#d8576b"
             ],
             [
              0.6666666666666666,
              "#ed7953"
             ],
             [
              0.7777777777777778,
              "#fb9f3a"
             ],
             [
              0.8888888888888888,
              "#fdca26"
             ],
             [
              1,
              "#f0f921"
             ]
            ],
            "type": "surface"
           }
          ],
          "table": [
           {
            "cells": {
             "fill": {
              "color": "#EBF0F8"
             },
             "line": {
              "color": "white"
             }
            },
            "header": {
             "fill": {
              "color": "#C8D4E3"
             },
             "line": {
              "color": "white"
             }
            },
            "type": "table"
           }
          ]
         },
         "layout": {
          "annotationdefaults": {
           "arrowcolor": "#2a3f5f",
           "arrowhead": 0,
           "arrowwidth": 1
          },
          "autotypenumbers": "strict",
          "coloraxis": {
           "colorbar": {
            "outlinewidth": 0,
            "ticks": ""
           }
          },
          "colorscale": {
           "diverging": [
            [
             0,
             "#8e0152"
            ],
            [
             0.1,
             "#c51b7d"
            ],
            [
             0.2,
             "#de77ae"
            ],
            [
             0.3,
             "#f1b6da"
            ],
            [
             0.4,
             "#fde0ef"
            ],
            [
             0.5,
             "#f7f7f7"
            ],
            [
             0.6,
             "#e6f5d0"
            ],
            [
             0.7,
             "#b8e186"
            ],
            [
             0.8,
             "#7fbc41"
            ],
            [
             0.9,
             "#4d9221"
            ],
            [
             1,
             "#276419"
            ]
           ],
           "sequential": [
            [
             0,
             "#0d0887"
            ],
            [
             0.1111111111111111,
             "#46039f"
            ],
            [
             0.2222222222222222,
             "#7201a8"
            ],
            [
             0.3333333333333333,
             "#9c179e"
            ],
            [
             0.4444444444444444,
             "#bd3786"
            ],
            [
             0.5555555555555556,
             "#d8576b"
            ],
            [
             0.6666666666666666,
             "#ed7953"
            ],
            [
             0.7777777777777778,
             "#fb9f3a"
            ],
            [
             0.8888888888888888,
             "#fdca26"
            ],
            [
             1,
             "#f0f921"
            ]
           ],
           "sequentialminus": [
            [
             0,
             "#0d0887"
            ],
            [
             0.1111111111111111,
             "#46039f"
            ],
            [
             0.2222222222222222,
             "#7201a8"
            ],
            [
             0.3333333333333333,
             "#9c179e"
            ],
            [
             0.4444444444444444,
             "#bd3786"
            ],
            [
             0.5555555555555556,
             "#d8576b"
            ],
            [
             0.6666666666666666,
             "#ed7953"
            ],
            [
             0.7777777777777778,
             "#fb9f3a"
            ],
            [
             0.8888888888888888,
             "#fdca26"
            ],
            [
             1,
             "#f0f921"
            ]
           ]
          },
          "colorway": [
           "#636efa",
           "#EF553B",
           "#00cc96",
           "#ab63fa",
           "#FFA15A",
           "#19d3f3",
           "#FF6692",
           "#B6E880",
           "#FF97FF",
           "#FECB52"
          ],
          "font": {
           "color": "#2a3f5f"
          },
          "geo": {
           "bgcolor": "white",
           "lakecolor": "white",
           "landcolor": "white",
           "showlakes": true,
           "showland": true,
           "subunitcolor": "#C8D4E3"
          },
          "hoverlabel": {
           "align": "left"
          },
          "hovermode": "closest",
          "mapbox": {
           "style": "light"
          },
          "paper_bgcolor": "white",
          "plot_bgcolor": "white",
          "polar": {
           "angularaxis": {
            "gridcolor": "#EBF0F8",
            "linecolor": "#EBF0F8",
            "ticks": ""
           },
           "bgcolor": "white",
           "radialaxis": {
            "gridcolor": "#EBF0F8",
            "linecolor": "#EBF0F8",
            "ticks": ""
           }
          },
          "scene": {
           "xaxis": {
            "backgroundcolor": "white",
            "gridcolor": "#DFE8F3",
            "gridwidth": 2,
            "linecolor": "#EBF0F8",
            "showbackground": true,
            "ticks": "",
            "zerolinecolor": "#EBF0F8"
           },
           "yaxis": {
            "backgroundcolor": "white",
            "gridcolor": "#DFE8F3",
            "gridwidth": 2,
            "linecolor": "#EBF0F8",
            "showbackground": true,
            "ticks": "",
            "zerolinecolor": "#EBF0F8"
           },
           "zaxis": {
            "backgroundcolor": "white",
            "gridcolor": "#DFE8F3",
            "gridwidth": 2,
            "linecolor": "#EBF0F8",
            "showbackground": true,
            "ticks": "",
            "zerolinecolor": "#EBF0F8"
           }
          },
          "shapedefaults": {
           "line": {
            "color": "#2a3f5f"
           }
          },
          "ternary": {
           "aaxis": {
            "gridcolor": "#DFE8F3",
            "linecolor": "#A2B1C6",
            "ticks": ""
           },
           "baxis": {
            "gridcolor": "#DFE8F3",
            "linecolor": "#A2B1C6",
            "ticks": ""
           },
           "bgcolor": "white",
           "caxis": {
            "gridcolor": "#DFE8F3",
            "linecolor": "#A2B1C6",
            "ticks": ""
           }
          },
          "title": {
           "x": 0.05
          },
          "xaxis": {
           "automargin": true,
           "gridcolor": "#EBF0F8",
           "linecolor": "#EBF0F8",
           "ticks": "",
           "title": {
            "standoff": 15
           },
           "zerolinecolor": "#EBF0F8",
           "zerolinewidth": 2
          },
          "yaxis": {
           "automargin": true,
           "gridcolor": "#EBF0F8",
           "linecolor": "#EBF0F8",
           "ticks": "",
           "title": {
            "standoff": 15
           },
           "zerolinecolor": "#EBF0F8",
           "zerolinewidth": 2
          }
         }
        },
        "title": {
         "text": "Impact of Autumn Budget employer NI reforms, by Parliamentary constituency"
        },
        "width": 800,
        "xaxis": {
         "anchor": "y",
         "domain": [
          0,
          1
         ],
         "title": {
          "text": "Parliamentary constituency"
         }
        },
        "yaxis": {
         "anchor": "x",
         "domain": [
          0,
          1
         ],
         "tickformat": ",.0f",
         "tickprefix": "£",
         "title": {
          "text": "Average household net income change"
         }
        }
       }
      }
     },
     "metadata": {},
     "output_type": "display_data"
    }
   ],
   "source": [
    "import plotly.express as px\n",
    "from policyengine_core.charts import *\n",
    "\n",
    "fig = px.scatter(df.sort_values(\"mean_gain\"), x=\"name\", y=\"mean_gain\", color_discrete_sequence=[BLUE])\n",
    "fig.update_layout(\n",
    "    title=\"Impact of Autumn Budget employer NI reforms, by Parliamentary constituency\"\n",
    ")\n",
    "fig.update_layout(\n",
    "    yaxis_tickformat=\",.0f\",\n",
    "    yaxis_tickprefix=\"£\",\n",
    "    yaxis_title=\"Average household net income change\",\n",
    "    xaxis_title=\"Parliamentary constituency\",\n",
    ")\n",
    "\n",
    "format_fig(fig)"
   ]
  },
  {
   "cell_type": "code",
   "execution_count": 62,
   "metadata": {},
   "outputs": [],
   "source": [
    "from charts import constituencies"
   ]
  },
  {
   "cell_type": "code",
   "execution_count": 63,
   "metadata": {},
   "outputs": [],
   "source": [
    "constituencies = constituencies.copy()\n",
    "constituencies[\"mean_gain\"] = df.set_index(\"code\").loc[constituencies.code].mean_gain.values\n",
    "constituencies[\"name\"] = df.set_index(\"code\").loc[constituencies.code].name.values"
   ]
  },
  {
   "cell_type": "code",
   "execution_count": 64,
   "metadata": {},
   "outputs": [],
   "source": [
    "constituencies.x = constituencies.x + constituencies.y % 2 * 0.5"
   ]
  },
  {
   "cell_type": "code",
   "execution_count": 67,
   "metadata": {},
   "outputs": [],
   "source": [
    "constituencies[\"size\"] = 1"
   ]
  },
  {
   "cell_type": "code",
   "execution_count": 102,
   "metadata": {},
   "outputs": [
    {
     "data": {
      "application/vnd.plotly.v1+json": {
       "config": {
        "plotlyServerURL": "https://plot.ly"
       },
       "data": [
        {
         "customdata": [
          [
           "Aberavon"
          ],
          [
           "Aberconwy"
          ],
          [
           "Aldershot"
          ],
          [
           "Aldridge-Brownhills"
          ],
          [
           "Altrincham and Sale West"
          ],
          [
           "Alyn and Deeside"
          ],
          [
           "Amber Valley"
          ],
          [
           "Arfon"
          ],
          [
           "Arundel and South Downs"
          ],
          [
           "Ashfield"
          ],
          [
           "Redcar"
          ],
          [
           "Redditch"
          ],
          [
           "North West Leicestershire"
          ],
          [
           "Reigate"
          ],
          [
           "North West Norfolk"
          ],
          [
           "Newcastle upon Tyne Central"
          ],
          [
           "Rhondda"
          ],
          [
           "North Wiltshire"
          ],
          [
           "Newcastle upon Tyne East"
          ],
          [
           "Ribble Valley"
          ],
          [
           "Norwich South"
          ],
          [
           "Newcastle upon Tyne North"
          ],
          [
           "Richmond (Yorks)"
          ],
          [
           "Nottingham East"
          ],
          [
           "Newport West"
          ],
          [
           "Richmond Park"
          ],
          [
           "Nottingham North"
          ],
          [
           "Newton Abbot"
          ],
          [
           "Rochdale"
          ],
          [
           "New Forest East"
          ],
          [
           "Nottingham South"
          ],
          [
           "Rochester and Strood"
          ],
          [
           "New Forest West"
          ],
          [
           "Nuneaton"
          ],
          [
           "Rochford and Southend East"
          ],
          [
           "Normanton, Pontefract and Castleford"
          ],
          [
           "Ogmore"
          ],
          [
           "Northampton North"
          ],
          [
           "Oldham East and Saddleworth"
          ],
          [
           "Northampton South"
          ],
          [
           "Caerphilly"
          ],
          [
           "Calder Valley"
          ],
          [
           "Bracknell"
          ],
          [
           "Camberwell and Peckham"
          ],
          [
           "Bradford East"
          ],
          [
           "Bexhill and Battle"
          ],
          [
           "Cambridge"
          ],
          [
           "Bradford South"
          ],
          [
           "Bexleyheath and Crayford"
          ],
          [
           "Cannock Chase"
          ],
          [
           "Bradford West"
          ],
          [
           "Birkenhead"
          ],
          [
           "Canterbury"
          ],
          [
           "Braintree"
          ],
          [
           "Birmingham, Edgbaston"
          ],
          [
           "Cardiff Central"
          ],
          [
           "Brecon and Radnorshire"
          ],
          [
           "Birmingham, Erdington"
          ],
          [
           "Cardiff North"
          ],
          [
           "Brentford and Isleworth"
          ],
          [
           "Birmingham, Hall Green"
          ],
          [
           "Cardiff West"
          ],
          [
           "Brentwood and Ongar"
          ],
          [
           "Birmingham, Hodge Hill"
          ],
          [
           "Carlisle"
          ],
          [
           "Brent Central"
          ],
          [
           "Birmingham, Ladywood"
          ],
          [
           "Brent North"
          ],
          [
           "Birmingham, Northfield"
          ],
          [
           "Birmingham, Perry Barr"
          ],
          [
           "Maidstone and The Weald"
          ],
          [
           "Makerfield"
          ],
          [
           "Knowsley"
          ],
          [
           "Carmarthen West and South Pembrokeshire"
          ],
          [
           "Maldon"
          ],
          [
           "Lancaster and Fleetwood"
          ],
          [
           "Preseli Pembrokeshire"
          ],
          [
           "Wolverhampton South West"
          ],
          [
           "Hertsmere"
          ],
          [
           "Manchester Central"
          ],
          [
           "Leeds Central"
          ],
          [
           "Gravesham"
          ],
          [
           "Truro and Falmouth"
          ],
          [
           "Washington and Sunderland West"
          ],
          [
           "Worcester"
          ],
          [
           "Hexham"
          ],
          [
           "Manchester, Gorton"
          ],
          [
           "Leeds East"
          ],
          [
           "Great Grimsby"
          ],
          [
           "Workington"
          ],
          [
           "Watford"
          ],
          [
           "Heywood and Middleton"
          ],
          [
           "Manchester, Withington"
          ],
          [
           "Great Yarmouth"
          ],
          [
           "Worsley and Eccles South"
          ],
          [
           "Waveney"
          ],
          [
           "Leeds North East"
          ],
          [
           "High Peak"
          ],
          [
           "Mansfield"
          ],
          [
           "Greenwich and Woolwich"
          ],
          [
           "Worthing West"
          ],
          [
           "Wealden"
          ],
          [
           "Leeds North West"
          ],
          [
           "Hitchin and Harpenden"
          ],
          [
           "Meon Valley"
          ],
          [
           "Guildford"
          ],
          [
           "Wrexham"
          ],
          [
           "Weaver Vale"
          ],
          [
           "Leeds West"
          ],
          [
           "Holborn and St Pancras"
          ],
          [
           "Meriden"
          ],
          [
           "Hackney North and Stoke Newington"
          ],
          [
           "Wycombe"
          ],
          [
           "Wellingborough"
          ],
          [
           "Leicester East"
          ],
          [
           "Hornchurch and Upminster"
          ],
          [
           "Merthyr Tydfil and Rhymney"
          ],
          [
           "Hornsey and Wood Green"
          ],
          [
           "Hackney South and Shoreditch"
          ],
          [
           "Wyre and Preston North"
          ],
          [
           "Wells"
          ],
          [
           "Leicester South"
          ],
          [
           "Horsham"
          ],
          [
           "Halesowen and Rowley Regis"
          ],
          [
           "Wyre Forest"
          ],
          [
           "Welwyn Hatfield"
          ],
          [
           "Leicester West"
          ],
          [
           "Houghton and Sunderland South"
          ],
          [
           "Halifax"
          ],
          [
           "Wythenshawe and Sale East"
          ],
          [
           "Wentworth and Dearne"
          ],
          [
           "Haltemprice and Howden"
          ],
          [
           "Westminster North"
          ],
          [
           "Eddisbury"
          ],
          [
           "The Cotswolds"
          ],
          [
           "Edmonton"
          ],
          [
           "Stalybridge and Hyde"
          ],
          [
           "Dagenham and Rainham"
          ],
          [
           "The Wrekin"
          ],
          [
           "Ellesmere Port and Neston"
          ],
          [
           "Cheltenham"
          ],
          [
           "Stevenage"
          ],
          [
           "Slough"
          ],
          [
           "Darlington"
          ],
          [
           "Thirsk and Malton"
          ],
          [
           "Elmet and Rothwell"
          ],
          [
           "Chesham and Amersham"
          ],
          [
           "Stockport"
          ],
          [
           "Solihull"
          ],
          [
           "Dartford"
          ],
          [
           "Thornbury and Yate"
          ],
          [
           "Eltham"
          ],
          [
           "Chesterfield"
          ],
          [
           "Stockton North"
          ],
          [
           "Somerton and Frome"
          ],
          [
           "Daventry"
          ],
          [
           "Thurrock"
          ],
          [
           "Enfield North"
          ],
          [
           "Chichester"
          ],
          [
           "Stockton South"
          ],
          [
           "Southampton, Itchen"
          ],
          [
           "Delyn"
          ],
          [
           "Tiverton and Honiton"
          ],
          [
           "Enfield, Southgate"
          ],
          [
           "Chingford and Woodford Green"
          ],
          [
           "Stoke-on-Trent Central"
          ],
          [
           "Southampton, Test"
          ],
          [
           "Denton and Reddish"
          ],
          [
           "Tonbridge and Malling"
          ],
          [
           "Epping Forest"
          ],
          [
           "Chippenham"
          ],
          [
           "Stoke-on-Trent North"
          ],
          [
           "Southend West"
          ],
          [
           "Derbyshire Dales"
          ],
          [
           "Tooting"
          ],
          [
           "Epsom and Ewell"
          ],
          [
           "Chipping Barnet"
          ],
          [
           "Stoke-on-Trent South"
          ],
          [
           "Southport"
          ],
          [
           "Derby North"
          ],
          [
           "Torbay"
          ],
          [
           "Erewash"
          ],
          [
           "Chorley"
          ],
          [
           "Stone"
          ],
          [
           "South Basildon and East Thurrock"
          ],
          [
           "Derby South"
          ],
          [
           "Torfaen"
          ],
          [
           "Christchurch"
          ],
          [
           "Stourbridge"
          ],
          [
           "South Cambridgeshire"
          ],
          [
           "Devizes"
          ],
          [
           "Cities of London and Westminster"
          ],
          [
           "South Derbyshire"
          ],
          [
           "Romford"
          ],
          [
           "Romsey and Southampton North"
          ],
          [
           "Oldham West and Royton"
          ],
          [
           "Rossendale and Darwen"
          ],
          [
           "North Devon"
          ],
          [
           "Old Bexley and Sidcup"
          ],
          [
           "Rotherham"
          ],
          [
           "North Dorset"
          ],
          [
           "Middlesbrough"
          ],
          [
           "Orpington"
          ],
          [
           "North Durham"
          ],
          [
           "Middlesbrough South and East Cleveland"
          ],
          [
           "Rother Valley"
          ],
          [
           "Oxford East"
          ],
          [
           "North East Bedfordshire"
          ],
          [
           "Mid Bedfordshire"
          ],
          [
           "Rugby"
          ],
          [
           "Oxford West and Abingdon"
          ],
          [
           "North East Cambridgeshire"
          ],
          [
           "Mid Derbyshire"
          ],
          [
           "Ruislip, Northwood and Pinner"
          ],
          [
           "Pendle"
          ],
          [
           "Penistone and Stocksbridge"
          ],
          [
           "North East Derbyshire"
          ],
          [
           "Mid Dorset and North Poole"
          ],
          [
           "Runnymede and Weybridge"
          ],
          [
           "Penrith and The Border"
          ],
          [
           "North East Hampshire"
          ],
          [
           "Mid Norfolk"
          ],
          [
           "Rushcliffe"
          ],
          [
           "Peterborough"
          ],
          [
           "North East Hertfordshire"
          ],
          [
           "Mid Sussex"
          ],
          [
           "Rutland and Melton"
          ],
          [
           "Plymouth, Moor View"
          ],
          [
           "North East Somerset"
          ],
          [
           "Mid Worcestershire"
          ],
          [
           "North Herefordshire"
          ],
          [
           "Milton Keynes North"
          ],
          [
           "Milton Keynes South"
          ],
          [
           "Bridgend"
          ],
          [
           "Bridgwater and West Somerset"
          ],
          [
           "Birmingham, Selly Oak"
          ],
          [
           "Brigg and Goole"
          ],
          [
           "Ashford"
          ],
          [
           "Birmingham, Yardley"
          ],
          [
           "Brighton, Kemptown"
          ],
          [
           "Ashton-under-Lyne"
          ],
          [
           "Bishop Auckland"
          ],
          [
           "Brighton, Pavilion"
          ],
          [
           "Aylesbury"
          ],
          [
           "Blackburn"
          ],
          [
           "Bristol East"
          ],
          [
           "Banbury"
          ],
          [
           "Blackley and Broughton"
          ],
          [
           "Bristol North West"
          ],
          [
           "Barking"
          ],
          [
           "Blackpool North and Cleveleys"
          ],
          [
           "Bristol South"
          ],
          [
           "Barnsley Central"
          ],
          [
           "Blackpool South"
          ],
          [
           "Bristol West"
          ],
          [
           "Barnsley East"
          ],
          [
           "Blaenau Gwent"
          ],
          [
           "Broadland"
          ],
          [
           "Blaydon"
          ],
          [
           "Barrow and Furness"
          ],
          [
           "Blyth Valley"
          ],
          [
           "Basildon and Billericay"
          ],
          [
           "Basingstoke"
          ],
          [
           "Leigh"
          ],
          [
           "Hove"
          ],
          [
           "Yeovil"
          ],
          [
           "Lewes"
          ],
          [
           "Lewisham, Deptford"
          ],
          [
           "Huddersfield"
          ],
          [
           "Halton"
          ],
          [
           "York Central"
          ],
          [
           "Westmorland and Lonsdale"
          ],
          [
           "Lewisham East"
          ],
          [
           "Huntingdon"
          ],
          [
           "Hammersmith"
          ],
          [
           "York Outer"
          ],
          [
           "West Bromwich East"
          ],
          [
           "Lewisham West and Penge"
          ],
          [
           "Hyndburn"
          ],
          [
           "Hampstead and Kilburn"
          ],
          [
           "Dwyfor Meirionnydd"
          ],
          [
           "West Bromwich West"
          ],
          [
           "Leyton and Wanstead"
          ],
          [
           "Ilford North"
          ],
          [
           "Harborough"
          ],
          [
           "Ceredigion"
          ],
          [
           "West Dorset"
          ],
          [
           "Lichfield"
          ],
          [
           "Ilford South"
          ],
          [
           "Harlow"
          ],
          [
           "Ynys Môn"
          ],
          [
           "West Ham"
          ],
          [
           "Lincoln"
          ],
          [
           "Ipswich"
          ],
          [
           "Harrogate and Knaresborough"
          ],
          [
           "Newport East"
          ],
          [
           "West Lancashire"
          ],
          [
           "Islington North"
          ],
          [
           "Harrow East"
          ],
          [
           "Cardiff South and Penarth"
          ],
          [
           "West Suffolk"
          ],
          [
           "Liverpool, Riverside"
          ],
          [
           "Islington South and Finsbury"
          ],
          [
           "Harrow West"
          ],
          [
           "West Worcestershire"
          ],
          [
           "Liverpool, Walton"
          ],
          [
           "Weston-Super-Mare"
          ],
          [
           "Islwyn"
          ],
          [
           "Hartlepool"
          ],
          [
           "Wigan"
          ],
          [
           "Torridge and West Devon"
          ],
          [
           "Harwich and North Essex"
          ],
          [
           "Wimbledon"
          ],
          [
           "Erith and Thamesmead"
          ],
          [
           "Totnes"
          ],
          [
           "Esher and Walton"
          ],
          [
           "Tottenham"
          ],
          [
           "Stratford-on-Avon"
          ],
          [
           "Dewsbury"
          ],
          [
           "Doncaster Central"
          ],
          [
           "City of Chester"
          ],
          [
           "Tunbridge Wells"
          ],
          [
           "Streatham"
          ],
          [
           "South Dorset"
          ],
          [
           "Exeter"
          ],
          [
           "Doncaster North"
          ],
          [
           "City of Durham"
          ],
          [
           "Twickenham"
          ],
          [
           "Stretford and Urmston"
          ],
          [
           "Fareham"
          ],
          [
           "South East Cambridgeshire"
          ],
          [
           "Saffron Walden"
          ],
          [
           "Don Valley"
          ],
          [
           "Clacton"
          ],
          [
           "Tynemouth"
          ],
          [
           "Stroud"
          ],
          [
           "Faversham and Mid Kent"
          ],
          [
           "South Holland and The Deepings"
          ],
          [
           "Salford and Eccles"
          ],
          [
           "Dover"
          ],
          [
           "Cleethorpes"
          ],
          [
           "Uxbridge and South Ruislip"
          ],
          [
           "St Albans"
          ],
          [
           "Feltham and Heston"
          ],
          [
           "South Leicestershire"
          ],
          [
           "Salisbury"
          ],
          [
           "Dudley North"
          ],
          [
           "Clwyd South"
          ],
          [
           "Vale of Clwyd"
          ],
          [
           "St Austell and Newquay"
          ],
          [
           "Filton and Bradley Stoke"
          ],
          [
           "South Norfolk"
          ],
          [
           "Scarborough and Whitby"
          ],
          [
           "Dudley South"
          ],
          [
           "Clwyd West"
          ],
          [
           "Vale of Glamorgan"
          ],
          [
           "St Helens North"
          ],
          [
           "Finchley and Golders Green"
          ],
          [
           "South Northamptonshire"
          ],
          [
           "Scunthorpe"
          ],
          [
           "Dulwich and West Norwood"
          ],
          [
           "Colchester"
          ],
          [
           "Vauxhall"
          ],
          [
           "St Helens South and Whiston"
          ],
          [
           "Folkestone and Hythe"
          ],
          [
           "South Ribble"
          ],
          [
           "Sedgefield"
          ],
          [
           "Ealing Central and Acton"
          ],
          [
           "Colne Valley"
          ],
          [
           "Wakefield"
          ],
          [
           "Suffolk Coastal"
          ],
          [
           "Forest of Dean"
          ],
          [
           "South Shields"
          ],
          [
           "Sefton Central"
          ],
          [
           "Ealing North"
          ],
          [
           "Congleton"
          ],
          [
           "Sunderland Central"
          ],
          [
           "South Staffordshire"
          ],
          [
           "Selby and Ainsty"
          ],
          [
           "Copeland"
          ],
          [
           "South Suffolk"
          ],
          [
           "Sevenoaks"
          ],
          [
           "Sheffield, Brightside and Hillsborough"
          ],
          [
           "Pontypridd"
          ],
          [
           "Poole"
          ],
          [
           "North Norfolk"
          ],
          [
           "Poplar and Limehouse"
          ],
          [
           "North Shropshire"
          ],
          [
           "Mitcham and Morden"
          ],
          [
           "Portsmouth North"
          ],
          [
           "North Somerset"
          ],
          [
           "Mole Valley"
          ],
          [
           "Preston"
          ],
          [
           "North Swindon"
          ],
          [
           "Monmouth"
          ],
          [
           "Pudsey"
          ],
          [
           "North Thanet"
          ],
          [
           "Montgomeryshire"
          ],
          [
           "Putney"
          ],
          [
           "North Tyneside"
          ],
          [
           "Morecambe and Lunesdale"
          ],
          [
           "Rayleigh and Wickford"
          ],
          [
           "North Warwickshire"
          ],
          [
           "Morley and Outwood"
          ],
          [
           "Reading East"
          ],
          [
           "North West Cambridgeshire"
          ],
          [
           "Neath"
          ],
          [
           "Reading West"
          ],
          [
           "North West Durham"
          ],
          [
           "Newark"
          ],
          [
           "North West Hampshire"
          ],
          [
           "Newbury"
          ],
          [
           "Newcastle-under-Lyme"
          ],
          [
           "Bromley and Chislehurst"
          ],
          [
           "Bromsgrove"
          ],
          [
           "Bognor Regis and Littlehampton"
          ],
          [
           "Broxbourne"
          ],
          [
           "Bolsover"
          ],
          [
           "Bassetlaw"
          ],
          [
           "Broxtowe"
          ],
          [
           "Bolton North East"
          ],
          [
           "Bath"
          ],
          [
           "Buckingham"
          ],
          [
           "Bolton South East"
          ],
          [
           "Batley and Spen"
          ],
          [
           "Burnley"
          ],
          [
           "Bolton West"
          ],
          [
           "Battersea"
          ],
          [
           "Burton"
          ],
          [
           "Bootle"
          ],
          [
           "Beaconsfield"
          ],
          [
           "Bury North"
          ],
          [
           "Boston and Skegness"
          ],
          [
           "Beckenham"
          ],
          [
           "Bury South"
          ],
          [
           "Bosworth"
          ],
          [
           "Bedford"
          ],
          [
           "Bury St Edmunds"
          ],
          [
           "Bournemouth East"
          ],
          [
           "Bermondsey and Old Southwark"
          ],
          [
           "Bournemouth West"
          ],
          [
           "Bethnal Green and Bow"
          ],
          [
           "Beverley and Holderness"
          ],
          [
           "Liverpool, Wavertree"
          ],
          [
           "Jarrow"
          ],
          [
           "North Cornwall"
          ],
          [
           "Liverpool, West Derby"
          ],
          [
           "Keighley"
          ],
          [
           "Portsmouth South"
          ],
          [
           "Hastings and Rye"
          ],
          [
           "Winchester"
          ],
          [
           "Llanelli"
          ],
          [
           "Kenilworth and Southam"
          ],
          [
           "Isle of Wight"
          ],
          [
           "Wallasey"
          ],
          [
           "Havant"
          ],
          [
           "Windsor"
          ],
          [
           "Loughborough"
          ],
          [
           "Kensington"
          ],
          [
           "Berwick-upon-Tweed"
          ],
          [
           "Walsall North"
          ],
          [
           "Wirral South"
          ],
          [
           "Hayes and Harlington"
          ],
          [
           "Louth and Horncastle"
          ],
          [
           "Kettering"
          ],
          [
           "Walsall South"
          ],
          [
           "South East Cornwall"
          ],
          [
           "Wirral West"
          ],
          [
           "Hazel Grove"
          ],
          [
           "Ludlow"
          ],
          [
           "Kingston and Surbiton"
          ],
          [
           "Walthamstow"
          ],
          [
           "Witham"
          ],
          [
           "Hemel Hempstead"
          ],
          [
           "South West Devon"
          ],
          [
           "Luton North"
          ],
          [
           "Kingston upon Hull East"
          ],
          [
           "Wansbeck"
          ],
          [
           "Hemsworth"
          ],
          [
           "Plymouth, Sutton and Devonport"
          ],
          [
           "Witney"
          ],
          [
           "Luton South"
          ],
          [
           "Kingston upon Hull North"
          ],
          [
           "Wantage"
          ],
          [
           "Hendon"
          ],
          [
           "Norwich North"
          ],
          [
           "Wokingham"
          ],
          [
           "Macclesfield"
          ],
          [
           "Kingston upon Hull West and Hessle"
          ],
          [
           "St Ives"
          ],
          [
           "Warley"
          ],
          [
           "Woking"
          ],
          [
           "Maidenhead"
          ],
          [
           "Henley"
          ],
          [
           "Kingswood"
          ],
          [
           "Camborne and Redruth"
          ],
          [
           "Warrington North"
          ],
          [
           "Wolverhampton North East"
          ],
          [
           "Hereford and South Herefordshire"
          ],
          [
           "Warrington South"
          ],
          [
           "Wolverhampton South East"
          ],
          [
           "Hertford and Stortford"
          ],
          [
           "Warwick and Leamington"
          ],
          [
           "Fylde"
          ],
          [
           "Ealing, Southall"
          ],
          [
           "Surrey Heath"
          ],
          [
           "Gainsborough"
          ],
          [
           "Sutton and Cheam"
          ],
          [
           "South Swindon"
          ],
          [
           "Easington"
          ],
          [
           "Corby"
          ],
          [
           "Garston and Halewood"
          ],
          [
           "Sutton Coldfield"
          ],
          [
           "South Thanet"
          ],
          [
           "Eastbourne"
          ],
          [
           "Coventry North East"
          ],
          [
           "Carmarthen East and Dinefwr"
          ],
          [
           "Gateshead"
          ],
          [
           "Sheffield Central"
          ],
          [
           "Swansea East"
          ],
          [
           "South West Bedfordshire"
          ],
          [
           "Eastleigh"
          ],
          [
           "Coventry North West"
          ],
          [
           "Carshalton and Wallington"
          ],
          [
           "Gedling"
          ],
          [
           "Sheffield, Hallam"
          ],
          [
           "Swansea West"
          ],
          [
           "South West Hertfordshire"
          ],
          [
           "Sheffield, Heeley"
          ],
          [
           "East Devon"
          ],
          [
           "Coventry South"
          ],
          [
           "Castle Point"
          ],
          [
           "Gillingham and Rainham"
          ],
          [
           "South West Norfolk"
          ],
          [
           "Sheffield South East"
          ],
          [
           "East Hampshire"
          ],
          [
           "Crawley"
          ],
          [
           "Tamworth"
          ],
          [
           "Gloucester"
          ],
          [
           "Central Devon"
          ],
          [
           "South West Surrey"
          ],
          [
           "Sherwood"
          ],
          [
           "East Ham"
          ],
          [
           "Crewe and Nantwich"
          ],
          [
           "Tatton"
          ],
          [
           "Gosport"
          ],
          [
           "Central Suffolk and North Ipswich"
          ],
          [
           "South West Wiltshire"
          ],
          [
           "Shipley"
          ],
          [
           "Gower"
          ],
          [
           "East Surrey"
          ],
          [
           "Croydon Central"
          ],
          [
           "Taunton Deane"
          ],
          [
           "Charnwood"
          ],
          [
           "Spelthorne"
          ],
          [
           "Shrewsbury and Atcham"
          ],
          [
           "Grantham and Stamford"
          ],
          [
           "East Worthing and Shoreham"
          ],
          [
           "Chatham and Aylesford"
          ],
          [
           "Croydon North"
          ],
          [
           "Telford"
          ],
          [
           "Staffordshire Moorlands"
          ],
          [
           "Sittingbourne and Sheppey"
          ],
          [
           "East Yorkshire"
          ],
          [
           "Cheadle"
          ],
          [
           "Croydon South"
          ],
          [
           "Tewkesbury"
          ],
          [
           "Stafford"
          ],
          [
           "Skipton and Ripon"
          ],
          [
           "Chelmsford"
          ],
          [
           "Cynon Valley"
          ],
          [
           "Sleaford and North Hykeham"
          ],
          [
           "Chelsea and Fulham"
          ],
          [
           "Aberdeen North"
          ],
          [
           "Airdrie and Shotts"
          ],
          [
           "Angus"
          ],
          [
           "Berwickshire, Roxburgh and Selkirk"
          ],
          [
           "Coatbridge, Chryston and Bellshill"
          ],
          [
           "Cumbernauld, Kilsyth and Kirkintilloch East"
          ],
          [
           "Dumfriesshire, Clydesdale and Tweeddale"
          ],
          [
           "Dundee East"
          ],
          [
           "Dundee West"
          ],
          [
           "Dunfermline and West Fife"
          ],
          [
           "East Dunbartonshire"
          ],
          [
           "East Kilbride, Strathaven and Lesmahagow"
          ],
          [
           "East Renfrewshire"
          ],
          [
           "Edinburgh East"
          ],
          [
           "Edinburgh North and Leith"
          ],
          [
           "Edinburgh South"
          ],
          [
           "Edinburgh South West"
          ],
          [
           "Falkirk"
          ],
          [
           "Glasgow Central"
          ],
          [
           "Glasgow East"
          ],
          [
           "Glasgow North"
          ],
          [
           "Glasgow North East"
          ],
          [
           "Glasgow North West"
          ],
          [
           "Glasgow South"
          ],
          [
           "Glasgow South West"
          ],
          [
           "Glenrothes"
          ],
          [
           "Inverclyde"
          ],
          [
           "Inverness, Nairn, Badenoch and Strathspey"
          ],
          [
           "Kilmarnock and Loudoun"
          ],
          [
           "Lanark and Hamilton East"
          ],
          [
           "Linlithgow and East Falkirk"
          ],
          [
           "Livingston"
          ],
          [
           "Midlothian"
          ],
          [
           "Motherwell and Wishaw"
          ],
          [
           "Ochil and South Perthshire"
          ],
          [
           "Paisley and Renfrewshire North"
          ],
          [
           "Paisley and Renfrewshire South"
          ],
          [
           "Perth and North Perthshire"
          ],
          [
           "Rutherglen and Hamilton West"
          ],
          [
           "Stirling"
          ],
          [
           "West Dunbartonshire"
          ],
          [
           "Caithness, Sutherland and Easter Ross"
          ],
          [
           "Ross, Skye and Lochaber"
          ],
          [
           "Moray"
          ],
          [
           "Orkney and Shetland"
          ],
          [
           "Na h-Eileanan an Iar"
          ],
          [
           "Argyll and Bute"
          ],
          [
           "West Aberdeenshire and Kincardine"
          ],
          [
           "Banff and Buchan"
          ],
          [
           "North East Fife"
          ],
          [
           "Gordon"
          ],
          [
           "Kirkcaldy and Cowdenbeath"
          ],
          [
           "Aberdeen South"
          ],
          [
           "Edinburgh West"
          ],
          [
           "East Lothian"
          ],
          [
           "North Ayrshire and Arran"
          ],
          [
           "Dumfries and Galloway"
          ],
          [
           "Ayr, Carrick and Cumnock"
          ],
          [
           "Central Ayrshire"
          ],
          [
           "Belfast East"
          ],
          [
           "Belfast North"
          ],
          [
           "Belfast South"
          ],
          [
           "Belfast West"
          ],
          [
           "East Antrim"
          ],
          [
           "East Londonderry"
          ],
          [
           "Fermanagh & South Tyrone"
          ],
          [
           "Foyle"
          ],
          [
           "Lagan Valley"
          ],
          [
           "Mid Ulster"
          ],
          [
           "Newry & Armagh"
          ],
          [
           "North Antrim"
          ],
          [
           "North Down"
          ],
          [
           "South Antrim"
          ],
          [
           "South Down"
          ],
          [
           "Strangford"
          ],
          [
           "Upper Bann"
          ],
          [
           "West Tyrone"
          ]
         ],
         "hovertemplate": "x=%{x}<br>y=%{y}<br>name=%{customdata[0]}<br>mean_gain=%{marker.color}<extra></extra>",
         "legendgroup": "",
         "marker": {
          "color": [
           -154.70075267879395,
           -110.43931760701344,
           -187.14233885752282,
           -133.53170548864267,
           -245.66347765494487,
           -180.96439769137652,
           -168.5730297649392,
           -105.59840314786295,
           -215.67778444779046,
           -147.52016507421175,
           -121.01379977832919,
           -173.2422216110904,
           -185.61527423830373,
           -270.71093412100635,
           -175.30645737225979,
           -123.55469043233387,
           -113.85002294540364,
           -145.0210542491641,
           -119.39905235232429,
           -164.17698081219243,
           -164.18001802639785,
           -167.32330098966338,
           -166.479547458984,
           -132.17273119123033,
           -172.3787264721845,
           -344.3639522207262,
           -127.77414721336773,
           -173.29313942590133,
           -157.99706584434563,
           -195.429117969173,
           -123.2392421927853,
           -180.21517647282624,
           -195.48882651119936,
           -173.13279093965647,
           -181.64995528275492,
           -154.2559204677491,
           -180.36003460000603,
           -137.99224165483736,
           -131.75430630985056,
           -153.7149691066293,
           -169.41102000430112,
           -165.41363590801714,
           -205.46315829137887,
           -207.07748824017818,
           -105.10276532147228,
           -196.87375333925556,
           -201.49979097050388,
           -97.73629563729249,
           -193.77614939537406,
           -167.97908952244424,
           -114.67019919263045,
           -112.37121234311505,
           -165.21371541212085,
           -175.9887696901761,
           -165.30438760298142,
           -186.17602103409575,
           -132.02149582542074,
           -127.5049238851596,
           -196.10627633449005,
           -220.4495264598774,
           -137.7245234960641,
           -181.7563071851801,
           -246.85906341397992,
           -94.29726663746769,
           -171.06698607091795,
           -188.55613644550382,
           -148.77722736747498,
           -185.52174362584887,
           -145.29869123682883,
           -94.01583085245122,
           -188.243156405106,
           -183.25787138278557,
           -165.6992151790955,
           -153.49712236863294,
           -181.2211967982521,
           -107.56468693157765,
           -153.35019679509315,
           -156.93347100389906,
           -201.91012173087327,
           -157.18934685240217,
           -148.18624478572207,
           -188.94157505259355,
           -168.05611295501404,
           -142.38840666405767,
           -157.26037256425963,
           -145.51133839713404,
           -118.7240173990086,
           -154.94101471499565,
           -91.9684713609115,
           -132.73820877649737,
           -210.2748431434893,
           -176.20038530259086,
           -175.05274584579468,
           -101.97771352317501,
           -183.1805451003539,
           -138.51647619230621,
           -171.688516644366,
           -145.44404980455545,
           -180.4830728369686,
           -237.5198939858228,
           -185.18253370931777,
           -189.14579530609154,
           -183.87824878414878,
           -246.37926743438527,
           -206.72225384984137,
           -247.71899396398064,
           -142.7201570372976,
           -151.6635193207145,
           -136.25249347963523,
           -288.21354680056197,
           -175.3713032627595,
           -221.65859360516237,
           -203.19391334729085,
           -152.72742219283566,
           -146.20622315961577,
           -216.69744987569376,
           -125.71905866145737,
           -287.9514997111939,
           -242.27678773681887,
           -191.08989741844266,
           -177.4859466430009,
           -154.64675947197742,
           -203.5021520418497,
           -125.37947083334335,
           -173.7267025598822,
           -171.23851617175185,
           -151.049844812753,
           -120.89485056032157,
           -146.59144881678506,
           -140.83317732837787,
           -158.7802162768555,
           -184.84574371379765,
           -370.2819076112533,
           -171.31984972872584,
           -217.55903768611833,
           -152.37607923487118,
           -147.48393573355395,
           -185.70554610295,
           -158.57485675721622,
           -164.3005391830078,
           -197.75568559115942,
           -196.40076357568407,
           -162.60382939721862,
           -148.51633874279972,
           -150.5035833043262,
           -184.9487551740007,
           -226.36582811703326,
           -184.44897454728294,
           -206.60971760058203,
           -180.41534753850553,
           -199.24423855842744,
           -190.69853524912577,
           -154.35019656115517,
           -106.34223320286041,
           -182.7361586406368,
           -175.50160879287958,
           -182.88660235468535,
           -162.18767198712496,
           -197.6937678285346,
           -205.78374378707662,
           -138.66617371232928,
           -148.41549347071026,
           -194.7422194631511,
           -232.38478379061206,
           -209.27635305517626,
           -131.54485507255652,
           -170.54692431458486,
           -148.46993612700894,
           -221.99912194910132,
           -252.9609287347986,
           -189.90977204996048,
           -136.2358036516201,
           -163.548333552267,
           -139.68356342529017,
           -259.66136046135875,
           -217.41649143087264,
           -233.68037630627887,
           -161.1782398521011,
           -165.52433801583817,
           -162.9970047310223,
           -143.46269437959947,
           -174.4995242930414,
           -170.74053422258984,
           -209.9223179013932,
           -171.24845343523106,
           -148.17190602460485,
           -144.44771177512078,
           -179.18609515730404,
           -144.63088450303235,
           -232.66534847329217,
           -212.10045869356173,
           -478.24827517516627,
           -180.39556306181876,
           -190.66357534732364,
           -224.2637323632668,
           -140.50196060683527,
           -177.58735460827953,
           -118.11895275125008,
           -214.22466143143154,
           -162.33992016014756,
           -131.66779502112763,
           -124.17961306980608,
           -211.67881548525307,
           -163.47219831756388,
           -182.96662316437966,
           -185.14919001788505,
           -192.4354138562424,
           -197.1344064430803,
           -190.2475355474811,
           -218.10386459787296,
           -230.88829736107687,
           -153.63792664018612,
           -188.44492995279796,
           -229.38549670204614,
           -125.12975900995121,
           -156.9096949730144,
           -148.69558530979586,
           -177.56025712032047,
           -241.33113175669607,
           -164.46788030410028,
           -232.32286461523262,
           -168.79772592400565,
           -215.59095474970266,
           -159.61876394349076,
           -218.03670657949885,
           -220.8157679135704,
           -210.33480688892027,
           -169.53978449193923,
           -176.48089981149946,
           -173.69213930797264,
           -135.1769340262334,
           -207.28797433554075,
           -217.8808383469683,
           -188.81211427621935,
           -148.50493182179028,
           -142.23256575424537,
           -150.46221344152863,
           -181.27682536301143,
           -128.6243227074822,
           -156.69186324751803,
           -131.1910793888489,
           -149.16290077234876,
           -199.8205806728712,
           -174.54984171195437,
           -127.88320707209256,
           -163.82222883858392,
           -204.87384908827542,
           -101.88021487809773,
           -185.841529672948,
           -176.69114236142295,
           -120.89834655427462,
           -189.10700556453705,
           -152.0370655372683,
           -92.65242551389954,
           -179.01652732754488,
           -156.1998652280554,
           -108.55725240557821,
           -177.86776643152615,
           -172.8741351278108,
           -159.41873803276565,
           -148.0052942930445,
           -150.55684072786642,
           -168.6440886718831,
           -163.14098476980934,
           -212.91825427590985,
           -152.58051448587057,
           -192.3750233122026,
           -212.86600305827577,
           -121.92065305458635,
           -163.7206293721374,
           -176.43046168667527,
           -196.52187061084604,
           -201.73405029255568,
           -211.06762954158205,
           -249.90260962126257,
           -156.45150313373375,
           -124.02205201088476,
           -217.54551109237923,
           -118.50118571521833,
           -552.7612413707185,
           -92.13925812691446,
           -131.80976751630232,
           -199.62491118728298,
           -161.24573267265748,
           -204.9726982683628,
           -124.47800604310792,
           -163.06128008335142,
           -206.79181673556448,
           -200.12742358482066,
           -146.32528544606268,
           -101.07516702638762,
           -174.05747876996986,
           -161.66927368890126,
           -174.05569871304633,
           -203.13090335065968,
           -174.1190350730754,
           -185.14555275233099,
           -239.85771605974668,
           -201.76698266345733,
           -161.47052514782337,
           -158.50212285508366,
           -141.16587908773818,
           -306.92628052282674,
           -198.00439784642916,
           -184.12132957300364,
           -126.57251680774854,
           -196.64874008971194,
           -143.40432799409805,
           -120.54343377061133,
           -162.27304356687725,
           -186.21340498233394,
           -216.15205951192226,
           -327.37781315514195,
           -191.2086527575448,
           -142.70036855026405,
           -306.6521848881916,
           -184.79868637434151,
           -216.1574136953432,
           -174.2633460367231,
           -178.00015821684886,
           -183.34421146617825,
           -254.93593487036642,
           -225.91298264001884,
           -181.58470072227854,
           -151.7551967707041,
           -120.40655165450151,
           -127.43285826113461,
           -263.19315894526,
           -168.21390601755155,
           -196.46791902865604,
           -220.72635647159282,
           -272.60203671206136,
           -144.44131888288555,
           -115.55801197631078,
           -176.70372690103903,
           -182.87781412832825,
           -175.66004813246985,
           -156.52344986888593,
           -201.07694327577357,
           -161.39914214970764,
           -147.49892158274244,
           -194.92625902268122,
           -203.10715359551895,
           -190.98586037609797,
           -182.19483268433788,
           -212.79665084442388,
           -66.85395858583468,
           -132.7547053588547,
           -144.3476009221256,
           -181.67184497622392,
           -179.36954313343935,
           -181.04308674222378,
           -142.35204353217225,
           -124.09218538830883,
           -198.46782527116324,
           -186.51874895896748,
           -152.33773334620557,
           -225.5498513135935,
           -201.8997427082902,
           -140.52155533558727,
           -242.05370345649686,
           -182.25534457229637,
           -214.08064976418012,
           -160.11192611650517,
           -184.49763477973,
           -153.78970957973866,
           -151.0631350308513,
           -237.9201889127639,
           -175.45744857961841,
           -154.11158541532228,
           -198.34532005878793,
           -171.31255886782566,
           -109.39356876801155,
           -191.68548808306204,
           -158.08984415768367,
           -211.62117636900368,
           -112.24123527048106,
           -187.40338680454664,
           -180.0262449310044,
           -147.36862874152243,
           -179.73774030836202,
           -215.79385996030268,
           -108.48458732034015,
           -166.29604199763298,
           -202.8741670348834,
           -134.51981663598895,
           -232.86263214836808,
           -184.11100759025908,
           -192.7467598680316,
           -157.57129304365105,
           -178.0829132524858,
           -266.3892864173191,
           -133.83692129748445,
           -190.17642856506058,
           -192.84241152142587,
           -202.0734811392988,
           -169.87789414351533,
           -116.14236570451504,
           -259.27123472010436,
           -167.59298892577706,
           -115.23745086365763,
           -192.31925533778627,
           -96.10218035844103,
           -169.37332916061192,
           -192.9234766210808,
           -201.50841596592585,
           -144.11883815567825,
           -199.18751834024545,
           -145.59049886166062,
           -174.12298450261443,
           -213.59139718027936,
           -218.28974850934142,
           -153.47200329214434,
           -235.6004158671053,
           -203.22085991621432,
           -136.076554408828,
           -173.66078619760768,
           -160.63299026873992,
           -170.49373182822632,
           -182.46795197684995,
           -142.72329932736204,
           -182.33667584849303,
           -230.45002498493255,
           -120.54036728124369,
           -145.39018329692243,
           -116.66665540750846,
           -188.1028491268686,
           -297.7710838105018,
           -189.12580098697092,
           -143.26997710945295,
           -231.59960069079074,
           -163.34595445753112,
           -179.80448618760178,
           -211.47080701719588,
           -180.35044179242726,
           -178.30356443928324,
           -167.11332389142584,
           -182.8057705387655,
           -199.7920704432086,
           -228.27288742480422,
           -174.84307480719414,
           -196.65149817405904,
           -183.7520891493125,
           -112.2694123730311,
           -150.49398791159555,
           -151.1951021089541,
           -143.85144315533958,
           -162.92149286369497,
           -108.3433634163133,
           -177.17213485818715,
           -218.99020660202223,
           -197.50524586730523,
           -210.26188461713275,
           -168.9889150157717,
           -146.11925218016714,
           -177.05657440696473,
           -230.20219199467536,
           -178.96991783592358,
           -585.7494088214054,
           -129.72990522795945,
           -121.82648449538883,
           -129.82181430968083,
           -196.95132245365016,
           -152.26307377027626,
           -171.9892268011805,
           -127.66122056110854,
           -173.1179056293009,
           -129.13715080186063,
           -145.34671017547234,
           -177.44964279865764,
           -219.61680735431784,
           -203.28471118501915,
           -168.8935189742868,
           -195.70320386025415,
           -163.4374724246869,
           -125.28960346196678,
           -149.88169872320782,
           -103.36319577303948,
           -129.68567722843602,
           -156.31925529094667,
           -202.0388334275593,
           -175.53974608342747,
           -126.44238390269918,
           -211.97831909098525,
           -213.36162230455474,
           -165.7220961510305,
           -240.3748130149289,
           -201.41454978940985,
           -130.7224702699692,
           -138.83971291386106,
           -113.2231189137195,
           -232.21767219484738,
           -236.10107809560444,
           -303.1820284284656,
           -170.0339961935724,
           -133.66160802756144,
           -183.28132280823513,
           -130.48651036111727,
           -160.59605763693588,
           -200.22727158150883,
           -108.8705889849667,
           -226.28593293842098,
           -215.81483218383295,
           -194.7120281043379,
           -189.4602650081375,
           -205.97361438129522,
           -158.80883646852894,
           -222.226266581938,
           -151.95460182157723,
           -101.84402534899363,
           -185.15783436167283,
           -174.03710850868978,
           -158.1704070754367,
           -130.03647460672826,
           -186.35781581964966,
           -173.0708473980967,
           -163.9844107096172,
           -157.15508745563824,
           -167.9107057656777,
           -165.35948154852102,
           -199.32854914360476,
           -181.7543515178305,
           -170.36654273564977,
           -198.88725203105327,
           -134.23314112009885,
           -139.04487524909263,
           -146.04743047965232,
           -238.3378919397625,
           -127.76893192703056,
           -170.9997155067166,
           -186.83275762807088,
           -151.701582934708,
           -172.85596843359644,
           -166.24841903989034,
           -172.78739232615,
           -221.53919519725474,
           -158.23733772946252,
           -173.3491267010008,
           -140.59736425634586,
           -196.0125029543612,
           -250.78027049792155,
           -134.68719610611893,
           -211.3612856386216,
           -166.68789362893534,
           -236.29457798215344,
           -176.90651231082387,
           -186.07715015617825,
           -171.87662811642056,
           -172.4543062949294,
           -183.5851974534882,
           -227.72398738580839,
           -168.46667682312815,
           -189.30496597526607,
           -190.3296150598184,
           -171.6223347622817,
           -170.98224250900455,
           -187.45944956397005,
           -169.18378159071457,
           -177.88575072346453,
           -205.62908014140734,
           -162.6674471375441,
           -130.4065127500089,
           -160.018887113897,
           -155.5430123450916,
           -206.26534236420665,
           -228.67944332359332,
           -195.84110201368344,
           -193.17805041618087,
           -201.73537365932904,
           -205.61930560601922,
           -170.00888334418391,
           -179.45224156948208,
           -531.0230202007474,
           -153.94172755047538,
           -125.04646570626801,
           -154.9286768556108,
           -166.56033773390146,
           -160.53088323276532,
           -158.5986474135126,
           -155.1435011358178,
           -151.3203022567444,
           -118.9427692538075,
           -194.1096205047736,
           -207.13804259667864,
           -197.00394334734014,
           -211.47760585086337,
           -190.30413229240997,
           -217.0471196006667,
           -223.54822223232455,
           -207.23763607394764,
           -164.530964683146,
           -142.06096578531864,
           -150.5510620148447,
           -111.33698694188544,
           -112.3394779839106,
           -137.67835511116812,
           -170.07328481729593,
           -126.41352679091523,
           -129.02204037477495,
           -129.7092822368269,
           -193.66693843738506,
           -172.2201778180049,
           -196.72796954595208,
           -167.93365487226905,
           -176.60267960593816,
           -195.89449862343534,
           -157.68202388218864,
           -194.911840110197,
           -193.19681884888573,
           -151.408398778218,
           -192.41544137908332,
           -189.9508292299527,
           -199.10406545368423,
           -157.08755415156926,
           -91.86506856193343,
           -129.41164343509925,
           -167.51513849343817,
           -59.93545881757475,
           -45.16315395819528,
           -161.2010854990746,
           -217.71963379463273,
           -170.878412710008,
           -149.9609040455274,
           -205.9552752245573,
           -158.44957117814567,
           -211.72566490287883,
           -216.04116637092432,
           -205.8506848412282,
           -155.5254585677349,
           -169.6159901041616,
           -161.32365683267557,
           -152.43118490016022,
           -187.0537163701433,
           -137.10601304320156,
           -202.00000228459555,
           -116.65772629450503,
           -143.69258910067222,
           -131.6248846328167,
           -159.7130948625251,
           -142.17127416142688,
           -198.07911458685874,
           -157.7963449101259,
           -160.59590885562633,
           -179.80496680080856,
           -173.67047230135202,
           -176.527914280307,
           -173.6208115756222,
           -141.07196954092453,
           -165.02493862395437,
           -123.8753116495207
          ],
          "coloraxis": "coloraxis",
          "size": 11,
          "symbol": "hexagon"
         },
         "mode": "markers",
         "name": "",
         "orientation": "v",
         "showlegend": false,
         "type": "scatter",
         "x": [
          8.5,
          9,
          16.5,
          17,
          13,
          11,
          21,
          8,
          22.5,
          22.5,
          22,
          15.5,
          20.5,
          18,
          26.5,
          17.5,
          10.5,
          13,
          19,
          15,
          32,
          16.5,
          21.5,
          25,
          12.5,
          21,
          23.5,
          7.5,
          15,
          14.5,
          24,
          31,
          13,
          20.5,
          32,
          23,
          8,
          24.5,
          15.5,
          23.5,
          11,
          17,
          17.5,
          25,
          18,
          29,
          25.5,
          20,
          29.5,
          17.5,
          17.5,
          9,
          33.5,
          28,
          15.5,
          11.5,
          12,
          18,
          10,
          21.5,
          18,
          9.5,
          30.5,
          18.5,
          15.5,
          24.5,
          16,
          21,
          14,
          17,
          30,
          13,
          12.5,
          6,
          32,
          14.5,
          5.5,
          14,
          21,
          14.5,
          23.5,
          30,
          3,
          19.5,
          14.5,
          16.5,
          15.5,
          21.5,
          25.5,
          14.5,
          20,
          14,
          14.5,
          32.5,
          13,
          31,
          19,
          20,
          22,
          28.5,
          22,
          28,
          19.5,
          23,
          18,
          16.5,
          12,
          12.5,
          20,
          23,
          17,
          26,
          16.5,
          25.5,
          22.5,
          29,
          9,
          23.5,
          26.5,
          12,
          10.5,
          22,
          24.5,
          14.5,
          13,
          22,
          21,
          20.5,
          18.5,
          14,
          24,
          25.5,
          22,
          12,
          14.5,
          26,
          15.5,
          29.5,
          17,
          10.5,
          14,
          25.5,
          19.5,
          17,
          22.5,
          20.5,
          17.5,
          15,
          16.5,
          29,
          10.5,
          28,
          22.5,
          19.5,
          9,
          22.5,
          30.5,
          24.5,
          20.5,
          18.5,
          15.5,
          11.5,
          8.5,
          23,
          27,
          17.5,
          14,
          14,
          19.5,
          22.5,
          13.5,
          16,
          32.5,
          19.5,
          22.5,
          18,
          22,
          18.5,
          10,
          20,
          7,
          23.5,
          12.5,
          18,
          31.5,
          21.5,
          11,
          12.5,
          13.5,
          24.5,
          13,
          24.5,
          19.5,
          29.5,
          14,
          14.5,
          14.5,
          6,
          28.5,
          23.5,
          10,
          20,
          25.5,
          18.5,
          23,
          20.5,
          19,
          22.5,
          23.5,
          21,
          18.5,
          25,
          20.5,
          19,
          16,
          21,
          21,
          11.5,
          17,
          16,
          15.5,
          28,
          25.5,
          24,
          25,
          27.5,
          25,
          5,
          12,
          15,
          13.5,
          19,
          19.5,
          7.5,
          7,
          15,
          23,
          32,
          19,
          26,
          15,
          17.5,
          25,
          16,
          14,
          11,
          18,
          13.5,
          9.5,
          28.5,
          12.5,
          11.5,
          21.5,
          12,
          10,
          20.5,
          10.5,
          29.5,
          16,
          14,
          19.5,
          30,
          15.5,
          13.5,
          24,
          9.5,
          27,
          27,
          19,
          11,
          22,
          15.5,
          27.5,
          22,
          22.5,
          23,
          17,
          26.5,
          15.5,
          21.5,
          11.5,
          16.5,
          26.5,
          28,
          23,
          11.5,
          10.5,
          18,
          27.5,
          26.5,
          7.5,
          27,
          24,
          30.5,
          19,
          12,
          10.5,
          25.5,
          20.5,
          12,
          27.5,
          10.5,
          25,
          20,
          14,
          11.5,
          8.5,
          10,
          22.5,
          11,
          6.5,
          29,
          24.5,
          29,
          6.5,
          18.5,
          24,
          16.5,
          20,
          21.5,
          11,
          29.5,
          23.5,
          11,
          7,
          24.5,
          19,
          20.5,
          14,
          17.5,
          26,
          26.5,
          22,
          30,
          20.5,
          11.5,
          31,
          26,
          15,
          32,
          26,
          19.5,
          20.5,
          19.5,
          21.5,
          13.5,
          16,
          12.5,
          10,
          3.5,
          9,
          31.5,
          23.5,
          13,
          9.5,
          8.5,
          12,
          22.5,
          23,
          24,
          25.5,
          28.5,
          24,
          12.5,
          31.5,
          11.5,
          18,
          21,
          16,
          19.5,
          30,
          12.5,
          21,
          10.5,
          20.5,
          13,
          21.5,
          13.5,
          21,
          15,
          29.5,
          19,
          22.5,
          9,
          13.5,
          30.5,
          27.5,
          15,
          23,
          19,
          11,
          17.5,
          13,
          14,
          12.5,
          18,
          34.5,
          11,
          23.5,
          17,
          16.5,
          31.5,
          19.5,
          22.5,
          16,
          23.5,
          9.5,
          15,
          17,
          24.5,
          15,
          15.5,
          16.5,
          27,
          17.5,
          21,
          21.5,
          21.5,
          23.5,
          23,
          13.5,
          12.5,
          16.5,
          13,
          21,
          16.5,
          12,
          22,
          19,
          9,
          18.5,
          13,
          26.5,
          26,
          14,
          20,
          24,
          28.5,
          14.5,
          25.5,
          12,
          26,
          24.5,
          11.5,
          20,
          4,
          11,
          17.5,
          19.5,
          30.5,
          17,
          5,
          17.5,
          16,
          10,
          20,
          18,
          24.5,
          23,
          17.5,
          16,
          10,
          19,
          26,
          24,
          17.5,
          4.5,
          9.5,
          14.5,
          16.5,
          20,
          25,
          27,
          20,
          6,
          21,
          25,
          18.5,
          22,
          5.5,
          17,
          21.5,
          26.5,
          16,
          21.5,
          31,
          15,
          14.5,
          25,
          1,
          17.5,
          17,
          17,
          15.5,
          12,
          2.5,
          13.5,
          15,
          14.5,
          12,
          16.5,
          26,
          16,
          13.5,
          20,
          17.5,
          25,
          21.5,
          14.5,
          21,
          26,
          11.5,
          19,
          33,
          28.5,
          20,
          6.5,
          18,
          17,
          8,
          20.5,
          16,
          18.5,
          22,
          24.5,
          16.5,
          7,
          18,
          18,
          8,
          19.5,
          31,
          31.5,
          27,
          19.5,
          15,
          26.5,
          18.5,
          13.5,
          7.5,
          16,
          23,
          28,
          12.5,
          13.5,
          18.5,
          29,
          11,
          18.5,
          7.5,
          18.5,
          24,
          8,
          22,
          18.5,
          15.5,
          26.5,
          23,
          30.5,
          25,
          16,
          19,
          32.5,
          24,
          15.5,
          23.5,
          13,
          18.5,
          20.5,
          27.5,
          11.5,
          25.5,
          24,
          15,
          13,
          16,
          15,
          12.5,
          11,
          11,
          14.5,
          13.5,
          13,
          12,
          13.5,
          11.5,
          16.5,
          15.5,
          15,
          14,
          12.5,
          12.5,
          12,
          12,
          13.5,
          11.5,
          11,
          11.5,
          15.5,
          10,
          10,
          13,
          14,
          13.5,
          14.5,
          15.5,
          13,
          13,
          11,
          10.5,
          12.5,
          12.5,
          12,
          11.5,
          12,
          10.5,
          14,
          15,
          9,
          10.5,
          15,
          14.5,
          14,
          15.5,
          14,
          16,
          14.5,
          14.5,
          9.5,
          12,
          10,
          10.5,
          4,
          3,
          3.5,
          2,
          4,
          2.5,
          0.5,
          1,
          2.5,
          2,
          1.5,
          3,
          4.5,
          3.5,
          2.5,
          3,
          1.5,
          0
         ],
         "xaxis": "x",
         "y": [
          11,
          18,
          7,
          20,
          18,
          16,
          20,
          18,
          5,
          21,
          30,
          13,
          19,
          6,
          17,
          31,
          11,
          8,
          32,
          28,
          14,
          33,
          29,
          20,
          11,
          6,
          21,
          1,
          26,
          5,
          20,
          8,
          4,
          17,
          10,
          26,
          10,
          17,
          25,
          17,
          10,
          26,
          9,
          8,
          26,
          4,
          15,
          26,
          7,
          21,
          25,
          20,
          7,
          14,
          15,
          9,
          14,
          18,
          10,
          7,
          16,
          9,
          11,
          17,
          31,
          11,
          16,
          10,
          14,
          16,
          6,
          22,
          23,
          10,
          12,
          29,
          9,
          16,
          12,
          23,
          27,
          8,
          0,
          31,
          13,
          31,
          19,
          27,
          23,
          31,
          12,
          26,
          19,
          13,
          20,
          12,
          26,
          22,
          22,
          9,
          4,
          6,
          27,
          14,
          4,
          5,
          16,
          19,
          28,
          10,
          14,
          10,
          9,
          17,
          19,
          10,
          12,
          11,
          9,
          28,
          5,
          18,
          5,
          15,
          12,
          14,
          18,
          31,
          25,
          18,
          26,
          25,
          10,
          18,
          9,
          12,
          23,
          9,
          22,
          19,
          10,
          13,
          11,
          28,
          29,
          27,
          11,
          18,
          15,
          6,
          7,
          8,
          23,
          29,
          4,
          17,
          9,
          13,
          5,
          29,
          3,
          17,
          3,
          12,
          12,
          23,
          4,
          22,
          5,
          13,
          7,
          24,
          11,
          21,
          7,
          8,
          12,
          23,
          24,
          20,
          0,
          19,
          25,
          22,
          9,
          19,
          12,
          5,
          13,
          15,
          6,
          9,
          19,
          11,
          6,
          25,
          27,
          4,
          7,
          25,
          4,
          30,
          5,
          31,
          30,
          23,
          12,
          15,
          13,
          16,
          13,
          16,
          21,
          10,
          28,
          24,
          22,
          3,
          8,
          30,
          5,
          16,
          19,
          16,
          14,
          5,
          18,
          2,
          6,
          12,
          11,
          14,
          13,
          9,
          4,
          14,
          24,
          8,
          16,
          4,
          24,
          29,
          4,
          10,
          28,
          6,
          14,
          23,
          5,
          11,
          27,
          5,
          25,
          26,
          6,
          25,
          13,
          15,
          32,
          30,
          33,
          10,
          7,
          21,
          4,
          3,
          4,
          8,
          24,
          20,
          28,
          29,
          7,
          16,
          9,
          28,
          18,
          7,
          27,
          9,
          15,
          17,
          11,
          12,
          18,
          13,
          3,
          20,
          11,
          13,
          19,
          10,
          22,
          13,
          28,
          12,
          25,
          11,
          11,
          10,
          15,
          21,
          10,
          10,
          12,
          23,
          5,
          12,
          31,
          24,
          3,
          12,
          7,
          8,
          1,
          7,
          12,
          13,
          24,
          23,
          18,
          5,
          7,
          2,
          2,
          25,
          30,
          7,
          20,
          3,
          16,
          15,
          24,
          12,
          33,
          7,
          6,
          20,
          20,
          6,
          26,
          9,
          13,
          7,
          17,
          5,
          18,
          15,
          18,
          1,
          6,
          13,
          29,
          14,
          17,
          9,
          22,
          11,
          16,
          24,
          7,
          13,
          8,
          21,
          5,
          25,
          30,
          8,
          26,
          25,
          14,
          9,
          32,
          23,
          9,
          16,
          31,
          15,
          28,
          30,
          13,
          6,
          25,
          10,
          3,
          15,
          9,
          22,
          6,
          4,
          8,
          5,
          28,
          8,
          13,
          28,
          7,
          14,
          9,
          32,
          29,
          11,
          17,
          27,
          8,
          15,
          11,
          8,
          30,
          23,
          10,
          11,
          23,
          6,
          15,
          4,
          13,
          21,
          23,
          20,
          25,
          7,
          11,
          24,
          26,
          27,
          24,
          8,
          20,
          22,
          11,
          26,
          21,
          6,
          24,
          18,
          14,
          15,
          3,
          9,
          4,
          8,
          27,
          21,
          32,
          2,
          22,
          27,
          3,
          5,
          4,
          10,
          13,
          2,
          22,
          4,
          10,
          19,
          8,
          33,
          20,
          20,
          8,
          22,
          18,
          19,
          1,
          21,
          21,
          21,
          6,
          12,
          14,
          14,
          2,
          14,
          26,
          33,
          26,
          1,
          12,
          15,
          25,
          12,
          11,
          14,
          6,
          17,
          24,
          0,
          17,
          6,
          10,
          9,
          8,
          1,
          19,
          16,
          11,
          20,
          19,
          14,
          14,
          27,
          8,
          7,
          22,
          5,
          7,
          30,
          18,
          19,
          18,
          6,
          5,
          16,
          11,
          32,
          24,
          12,
          15,
          4,
          15,
          6,
          21,
          25,
          10,
          12,
          24,
          2,
          15,
          10,
          7,
          16,
          23,
          4,
          5,
          19,
          9,
          3,
          6,
          22,
          10,
          17,
          17,
          3,
          14,
          4,
          27,
          11,
          5,
          6,
          4,
          20,
          9,
          21,
          19,
          4,
          7,
          6,
          22,
          22,
          7,
          28,
          17,
          5,
          10,
          21,
          29,
          13,
          11,
          21,
          10,
          40,
          36,
          38,
          32,
          35,
          38,
          32,
          39,
          39,
          38,
          36,
          33,
          33,
          35,
          35,
          34,
          34,
          39,
          37,
          34,
          38,
          35,
          37,
          34,
          35,
          37,
          36,
          38,
          32,
          32,
          37,
          33,
          33,
          34,
          40,
          36,
          33,
          41,
          33,
          40,
          39,
          42,
          39,
          40,
          42,
          40,
          37,
          38,
          41,
          38,
          39,
          36,
          40,
          35,
          37,
          35,
          32,
          34,
          35,
          26,
          26,
          25,
          26,
          28,
          29,
          27,
          28,
          27,
          28,
          25,
          28,
          25,
          27,
          25,
          24,
          27,
          28
         ],
         "yaxis": "y"
        }
       ],
       "layout": {
        "coloraxis": {
         "cmax": 585.7494088214054,
         "cmin": -585.7494088214054,
         "colorbar": {
          "title": {
           "text": "mean_gain"
          }
         },
         "colorscale": [
          [
           0,
           "rgb(103,0,31)"
          ],
          [
           0.1,
           "rgb(178,24,43)"
          ],
          [
           0.2,
           "rgb(214,96,77)"
          ],
          [
           0.3,
           "rgb(244,165,130)"
          ],
          [
           0.4,
           "rgb(253,219,199)"
          ],
          [
           0.5,
           "rgb(247,247,247)"
          ],
          [
           0.6,
           "rgb(209,229,240)"
          ],
          [
           0.7,
           "rgb(146,197,222)"
          ],
          [
           0.8,
           "rgb(67,147,195)"
          ],
          [
           0.9,
           "rgb(33,102,172)"
          ],
          [
           1,
           "rgb(5,48,97)"
          ]
         ]
        },
        "height": 580,
        "legend": {
         "title": {
          "text": "Average household net income change"
         },
         "tracegroupgap": 0
        },
        "margin": {
         "t": 60
        },
        "plot_bgcolor": "rgba(0,0,0,0)",
        "template": {
         "data": {
          "bar": [
           {
            "error_x": {
             "color": "#2a3f5f"
            },
            "error_y": {
             "color": "#2a3f5f"
            },
            "marker": {
             "line": {
              "color": "#E5ECF6",
              "width": 0.5
             },
             "pattern": {
              "fillmode": "overlay",
              "size": 10,
              "solidity": 0.2
             }
            },
            "type": "bar"
           }
          ],
          "barpolar": [
           {
            "marker": {
             "line": {
              "color": "#E5ECF6",
              "width": 0.5
             },
             "pattern": {
              "fillmode": "overlay",
              "size": 10,
              "solidity": 0.2
             }
            },
            "type": "barpolar"
           }
          ],
          "carpet": [
           {
            "aaxis": {
             "endlinecolor": "#2a3f5f",
             "gridcolor": "white",
             "linecolor": "white",
             "minorgridcolor": "white",
             "startlinecolor": "#2a3f5f"
            },
            "baxis": {
             "endlinecolor": "#2a3f5f",
             "gridcolor": "white",
             "linecolor": "white",
             "minorgridcolor": "white",
             "startlinecolor": "#2a3f5f"
            },
            "type": "carpet"
           }
          ],
          "choropleth": [
           {
            "colorbar": {
             "outlinewidth": 0,
             "ticks": ""
            },
            "type": "choropleth"
           }
          ],
          "contour": [
           {
            "colorbar": {
             "outlinewidth": 0,
             "ticks": ""
            },
            "colorscale": [
             [
              0,
              "#0d0887"
             ],
             [
              0.1111111111111111,
              "#46039f"
             ],
             [
              0.2222222222222222,
              "#7201a8"
             ],
             [
              0.3333333333333333,
              "#9c179e"
             ],
             [
              0.4444444444444444,
              "#bd3786"
             ],
             [
              0.5555555555555556,
              "#d8576b"
             ],
             [
              0.6666666666666666,
              "#ed7953"
             ],
             [
              0.7777777777777778,
              "#fb9f3a"
             ],
             [
              0.8888888888888888,
              "#fdca26"
             ],
             [
              1,
              "#f0f921"
             ]
            ],
            "type": "contour"
           }
          ],
          "contourcarpet": [
           {
            "colorbar": {
             "outlinewidth": 0,
             "ticks": ""
            },
            "type": "contourcarpet"
           }
          ],
          "heatmap": [
           {
            "colorbar": {
             "outlinewidth": 0,
             "ticks": ""
            },
            "colorscale": [
             [
              0,
              "#0d0887"
             ],
             [
              0.1111111111111111,
              "#46039f"
             ],
             [
              0.2222222222222222,
              "#7201a8"
             ],
             [
              0.3333333333333333,
              "#9c179e"
             ],
             [
              0.4444444444444444,
              "#bd3786"
             ],
             [
              0.5555555555555556,
              "#d8576b"
             ],
             [
              0.6666666666666666,
              "#ed7953"
             ],
             [
              0.7777777777777778,
              "#fb9f3a"
             ],
             [
              0.8888888888888888,
              "#fdca26"
             ],
             [
              1,
              "#f0f921"
             ]
            ],
            "type": "heatmap"
           }
          ],
          "heatmapgl": [
           {
            "colorbar": {
             "outlinewidth": 0,
             "ticks": ""
            },
            "colorscale": [
             [
              0,
              "#0d0887"
             ],
             [
              0.1111111111111111,
              "#46039f"
             ],
             [
              0.2222222222222222,
              "#7201a8"
             ],
             [
              0.3333333333333333,
              "#9c179e"
             ],
             [
              0.4444444444444444,
              "#bd3786"
             ],
             [
              0.5555555555555556,
              "#d8576b"
             ],
             [
              0.6666666666666666,
              "#ed7953"
             ],
             [
              0.7777777777777778,
              "#fb9f3a"
             ],
             [
              0.8888888888888888,
              "#fdca26"
             ],
             [
              1,
              "#f0f921"
             ]
            ],
            "type": "heatmapgl"
           }
          ],
          "histogram": [
           {
            "marker": {
             "pattern": {
              "fillmode": "overlay",
              "size": 10,
              "solidity": 0.2
             }
            },
            "type": "histogram"
           }
          ],
          "histogram2d": [
           {
            "colorbar": {
             "outlinewidth": 0,
             "ticks": ""
            },
            "colorscale": [
             [
              0,
              "#0d0887"
             ],
             [
              0.1111111111111111,
              "#46039f"
             ],
             [
              0.2222222222222222,
              "#7201a8"
             ],
             [
              0.3333333333333333,
              "#9c179e"
             ],
             [
              0.4444444444444444,
              "#bd3786"
             ],
             [
              0.5555555555555556,
              "#d8576b"
             ],
             [
              0.6666666666666666,
              "#ed7953"
             ],
             [
              0.7777777777777778,
              "#fb9f3a"
             ],
             [
              0.8888888888888888,
              "#fdca26"
             ],
             [
              1,
              "#f0f921"
             ]
            ],
            "type": "histogram2d"
           }
          ],
          "histogram2dcontour": [
           {
            "colorbar": {
             "outlinewidth": 0,
             "ticks": ""
            },
            "colorscale": [
             [
              0,
              "#0d0887"
             ],
             [
              0.1111111111111111,
              "#46039f"
             ],
             [
              0.2222222222222222,
              "#7201a8"
             ],
             [
              0.3333333333333333,
              "#9c179e"
             ],
             [
              0.4444444444444444,
              "#bd3786"
             ],
             [
              0.5555555555555556,
              "#d8576b"
             ],
             [
              0.6666666666666666,
              "#ed7953"
             ],
             [
              0.7777777777777778,
              "#fb9f3a"
             ],
             [
              0.8888888888888888,
              "#fdca26"
             ],
             [
              1,
              "#f0f921"
             ]
            ],
            "type": "histogram2dcontour"
           }
          ],
          "mesh3d": [
           {
            "colorbar": {
             "outlinewidth": 0,
             "ticks": ""
            },
            "type": "mesh3d"
           }
          ],
          "parcoords": [
           {
            "line": {
             "colorbar": {
              "outlinewidth": 0,
              "ticks": ""
             }
            },
            "type": "parcoords"
           }
          ],
          "pie": [
           {
            "automargin": true,
            "type": "pie"
           }
          ],
          "scatter": [
           {
            "fillpattern": {
             "fillmode": "overlay",
             "size": 10,
             "solidity": 0.2
            },
            "type": "scatter"
           }
          ],
          "scatter3d": [
           {
            "line": {
             "colorbar": {
              "outlinewidth": 0,
              "ticks": ""
             }
            },
            "marker": {
             "colorbar": {
              "outlinewidth": 0,
              "ticks": ""
             }
            },
            "type": "scatter3d"
           }
          ],
          "scattercarpet": [
           {
            "marker": {
             "colorbar": {
              "outlinewidth": 0,
              "ticks": ""
             }
            },
            "type": "scattercarpet"
           }
          ],
          "scattergeo": [
           {
            "marker": {
             "colorbar": {
              "outlinewidth": 0,
              "ticks": ""
             }
            },
            "type": "scattergeo"
           }
          ],
          "scattergl": [
           {
            "marker": {
             "colorbar": {
              "outlinewidth": 0,
              "ticks": ""
             }
            },
            "type": "scattergl"
           }
          ],
          "scattermapbox": [
           {
            "marker": {
             "colorbar": {
              "outlinewidth": 0,
              "ticks": ""
             }
            },
            "type": "scattermapbox"
           }
          ],
          "scatterpolar": [
           {
            "marker": {
             "colorbar": {
              "outlinewidth": 0,
              "ticks": ""
             }
            },
            "type": "scatterpolar"
           }
          ],
          "scatterpolargl": [
           {
            "marker": {
             "colorbar": {
              "outlinewidth": 0,
              "ticks": ""
             }
            },
            "type": "scatterpolargl"
           }
          ],
          "scatterternary": [
           {
            "marker": {
             "colorbar": {
              "outlinewidth": 0,
              "ticks": ""
             }
            },
            "type": "scatterternary"
           }
          ],
          "surface": [
           {
            "colorbar": {
             "outlinewidth": 0,
             "ticks": ""
            },
            "colorscale": [
             [
              0,
              "#0d0887"
             ],
             [
              0.1111111111111111,
              "#46039f"
             ],
             [
              0.2222222222222222,
              "#7201a8"
             ],
             [
              0.3333333333333333,
              "#9c179e"
             ],
             [
              0.4444444444444444,
              "#bd3786"
             ],
             [
              0.5555555555555556,
              "#d8576b"
             ],
             [
              0.6666666666666666,
              "#ed7953"
             ],
             [
              0.7777777777777778,
              "#fb9f3a"
             ],
             [
              0.8888888888888888,
              "#fdca26"
             ],
             [
              1,
              "#f0f921"
             ]
            ],
            "type": "surface"
           }
          ],
          "table": [
           {
            "cells": {
             "fill": {
              "color": "#EBF0F8"
             },
             "line": {
              "color": "white"
             }
            },
            "header": {
             "fill": {
              "color": "#C8D4E3"
             },
             "line": {
              "color": "white"
             }
            },
            "type": "table"
           }
          ]
         },
         "layout": {
          "annotationdefaults": {
           "arrowcolor": "#2a3f5f",
           "arrowhead": 0,
           "arrowwidth": 1
          },
          "autotypenumbers": "strict",
          "coloraxis": {
           "colorbar": {
            "outlinewidth": 0,
            "ticks": ""
           }
          },
          "colorscale": {
           "diverging": [
            [
             0,
             "#8e0152"
            ],
            [
             0.1,
             "#c51b7d"
            ],
            [
             0.2,
             "#de77ae"
            ],
            [
             0.3,
             "#f1b6da"
            ],
            [
             0.4,
             "#fde0ef"
            ],
            [
             0.5,
             "#f7f7f7"
            ],
            [
             0.6,
             "#e6f5d0"
            ],
            [
             0.7,
             "#b8e186"
            ],
            [
             0.8,
             "#7fbc41"
            ],
            [
             0.9,
             "#4d9221"
            ],
            [
             1,
             "#276419"
            ]
           ],
           "sequential": [
            [
             0,
             "#0d0887"
            ],
            [
             0.1111111111111111,
             "#46039f"
            ],
            [
             0.2222222222222222,
             "#7201a8"
            ],
            [
             0.3333333333333333,
             "#9c179e"
            ],
            [
             0.4444444444444444,
             "#bd3786"
            ],
            [
             0.5555555555555556,
             "#d8576b"
            ],
            [
             0.6666666666666666,
             "#ed7953"
            ],
            [
             0.7777777777777778,
             "#fb9f3a"
            ],
            [
             0.8888888888888888,
             "#fdca26"
            ],
            [
             1,
             "#f0f921"
            ]
           ],
           "sequentialminus": [
            [
             0,
             "#0d0887"
            ],
            [
             0.1111111111111111,
             "#46039f"
            ],
            [
             0.2222222222222222,
             "#7201a8"
            ],
            [
             0.3333333333333333,
             "#9c179e"
            ],
            [
             0.4444444444444444,
             "#bd3786"
            ],
            [
             0.5555555555555556,
             "#d8576b"
            ],
            [
             0.6666666666666666,
             "#ed7953"
            ],
            [
             0.7777777777777778,
             "#fb9f3a"
            ],
            [
             0.8888888888888888,
             "#fdca26"
            ],
            [
             1,
             "#f0f921"
            ]
           ]
          },
          "colorway": [
           "#636efa",
           "#EF553B",
           "#00cc96",
           "#ab63fa",
           "#FFA15A",
           "#19d3f3",
           "#FF6692",
           "#B6E880",
           "#FF97FF",
           "#FECB52"
          ],
          "font": {
           "color": "#2a3f5f"
          },
          "geo": {
           "bgcolor": "white",
           "lakecolor": "white",
           "landcolor": "#E5ECF6",
           "showlakes": true,
           "showland": true,
           "subunitcolor": "white"
          },
          "hoverlabel": {
           "align": "left"
          },
          "hovermode": "closest",
          "mapbox": {
           "style": "light"
          },
          "paper_bgcolor": "white",
          "plot_bgcolor": "#E5ECF6",
          "polar": {
           "angularaxis": {
            "gridcolor": "white",
            "linecolor": "white",
            "ticks": ""
           },
           "bgcolor": "#E5ECF6",
           "radialaxis": {
            "gridcolor": "white",
            "linecolor": "white",
            "ticks": ""
           }
          },
          "scene": {
           "xaxis": {
            "backgroundcolor": "#E5ECF6",
            "gridcolor": "white",
            "gridwidth": 2,
            "linecolor": "white",
            "showbackground": true,
            "ticks": "",
            "zerolinecolor": "white"
           },
           "yaxis": {
            "backgroundcolor": "#E5ECF6",
            "gridcolor": "white",
            "gridwidth": 2,
            "linecolor": "white",
            "showbackground": true,
            "ticks": "",
            "zerolinecolor": "white"
           },
           "zaxis": {
            "backgroundcolor": "#E5ECF6",
            "gridcolor": "white",
            "gridwidth": 2,
            "linecolor": "white",
            "showbackground": true,
            "ticks": "",
            "zerolinecolor": "white"
           }
          },
          "shapedefaults": {
           "line": {
            "color": "#2a3f5f"
           }
          },
          "ternary": {
           "aaxis": {
            "gridcolor": "white",
            "linecolor": "white",
            "ticks": ""
           },
           "baxis": {
            "gridcolor": "white",
            "linecolor": "white",
            "ticks": ""
           },
           "bgcolor": "#E5ECF6",
           "caxis": {
            "gridcolor": "white",
            "linecolor": "white",
            "ticks": ""
           }
          },
          "title": {
           "x": 0.05
          },
          "xaxis": {
           "automargin": true,
           "gridcolor": "white",
           "linecolor": "white",
           "ticks": "",
           "title": {
            "standoff": 15
           },
           "zerolinecolor": "white",
           "zerolinewidth": 2
          },
          "yaxis": {
           "automargin": true,
           "gridcolor": "white",
           "linecolor": "white",
           "ticks": "",
           "title": {
            "standoff": 15
           },
           "zerolinecolor": "white",
           "zerolinewidth": 2
          }
         }
        },
        "title": {
         "text": "Impact of Autumn Budget employer NI reforms"
        },
        "width": 700,
        "xaxis": {
         "anchor": "y",
         "domain": [
          0,
          1
         ],
         "range": [
          -5,
          45
         ],
         "tickvals": [],
         "title": {
          "text": ""
         }
        },
        "yaxis": {
         "anchor": "x",
         "domain": [
          0,
          1
         ],
         "range": [
          -5,
          45
         ],
         "tickvals": [],
         "title": {
          "text": ""
         }
        }
       }
      }
     },
     "metadata": {},
     "output_type": "display_data"
    }
   ],
   "source": [
    "fig = px.scatter(\n",
    "    constituencies,\n",
    "    x=\"x\",\n",
    "    y=\"y\",\n",
    "    color=\"mean_gain\",\n",
    "    hover_data=[\"name\"],\n",
    "    color_continuous_scale=px.colors.diverging.RdBu\n",
    ").update_layout(\n",
    "    xaxis_range=[-5, 45],\n",
    "    yaxis_range=[-5, 45],\n",
    "    height=580,\n",
    "    width=700,\n",
    ")\n",
    "# Set zero to white\n",
    "fig.update_coloraxes(cmax=-constituencies.mean_gain.min(), cmin=constituencies.mean_gain.min())\n",
    "\n",
    "# Set marker to hexagon\n",
    "fig.update_traces(marker=dict(symbol=\"hexagon\", size=11))\n",
    "\n",
    "fig.update_layout(\n",
    "    title=\"Impact of Autumn Budget employer NI reforms\",\n",
    "    xaxis_tickvals=[],\n",
    "    xaxis_title=\"\",\n",
    "    yaxis_tickvals=[],\n",
    "    yaxis_title=\"\",\n",
    "    # No bg\n",
    "    plot_bgcolor=\"rgba(0,0,0,0)\",\n",
    "    legend_title=\"Average household net income change\",\n",
    ")"
   ]
  }
 ],
 "metadata": {
  "kernelspec": {
   "display_name": "base",
   "language": "python",
   "name": "python3"
  },
  "language_info": {
   "codemirror_mode": {
    "name": "ipython",
    "version": 3
   },
   "file_extension": ".py",
   "mimetype": "text/x-python",
   "name": "python",
   "nbconvert_exporter": "python",
   "pygments_lexer": "ipython3",
   "version": "3.10.14"
  }
 },
 "nbformat": 4,
 "nbformat_minor": 2
}
