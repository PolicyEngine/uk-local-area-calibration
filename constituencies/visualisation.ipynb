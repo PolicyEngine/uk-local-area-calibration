{
 "cells": [
  {
   "cell_type": "code",
   "execution_count": 1,
   "metadata": {},
   "outputs": [],
   "source": [
    "import pandas as pd\n",
    "import plotly.express as px\n",
    "import json\n",
    "\n",
    "constituency_geojson = json.load(open('parliament.geojson'))"
   ]
  },
  {
   "cell_type": "code",
   "execution_count": 2,
   "metadata": {},
   "outputs": [],
   "source": [
    "constituency_code_to_name = pd.read_csv(\"constituency_incomes.csv\")[[\"code\", \"name\"]]"
   ]
  },
  {
   "cell_type": "code",
   "execution_count": 3,
   "metadata": {},
   "outputs": [],
   "source": [
    "constituency_weights = pd.read_csv('constituency_weights.csv')"
   ]
  },
  {
   "cell_type": "code",
   "execution_count": 4,
   "metadata": {},
   "outputs": [],
   "source": [
    "from policyengine_uk import Microsimulation\n",
    "\n",
    "sim = Microsimulation()\n",
    "\n",
    "poverty = sim.calculate(\"in_poverty\", period=2025).values"
   ]
  },
  {
   "cell_type": "code",
   "execution_count": 5,
   "metadata": {},
   "outputs": [],
   "source": [
    "poverty_by_constituency = (poverty * constituency_weights.T).T.mean()"
   ]
  },
  {
   "cell_type": "code",
   "execution_count": 6,
   "metadata": {},
   "outputs": [
    {
     "data": {
      "text/plain": [
       "{'FID': 1,\n",
       " 'PCON22CD': 'E14000530',\n",
       " 'PCON22NM': 'Aldershot',\n",
       " 'BNG_E': 484884,\n",
       " 'BNG_N': 155126,\n",
       " 'LONG': -0.7841,\n",
       " 'LAT': 51.28895,\n",
       " 'GlobalID': '1620033b-a722-4a92-b611-d49fd8f3ed2b'}"
      ]
     },
     "execution_count": 6,
     "metadata": {},
     "output_type": "execute_result"
    }
   ],
   "source": [
    "constituency_geojson['features'][0]['properties']"
   ]
  },
  {
   "cell_type": "code",
   "execution_count": 7,
   "metadata": {},
   "outputs": [],
   "source": [
    "la_data = []\n",
    "# Iterative over JSON\n",
    "for i in range(len(constituency_geojson[\"features\"])):\n",
    "    # Extract local authority name\n",
    "    la = constituency_geojson[\"features\"][i]['properties']['PCON22CD']\n",
    "    # Assign the local authority name to a new 'id' property for later linking to dataframe\n",
    "    constituency_geojson[\"features\"][i]['id'] = la\n",
    "    # While I'm at it, append local authority name to a list to make some dummy data to test, along with i for a value to test on map\n",
    "    la_data.append([la,i])\n",
    "\n",
    "import pandas as pd\n",
    "\n",
    "# turn dummy data into a dataframe\n",
    "df = pd.DataFrame(la_data)\n",
    "# update column names\n",
    "df.columns = ['LA','Val']"
   ]
  },
  {
   "cell_type": "code",
   "execution_count": 19,
   "metadata": {},
   "outputs": [],
   "source": [
    "incomes = pd.read_csv(\"constituency_incomes.csv\")\n",
    "\n",
    "import numpy as np\n",
    "\n",
    "ENGLAND_CONSTITUENCY = \"E14\"\n",
    "NI_CONSTITUENCY = \"N06\"\n",
    "SCOTLAND_CONSTITUENCY = \"S14\"\n",
    "WALES_CONSTITUENCY = \"W07\"\n",
    "\n",
    "incomes = incomes[np.any([\n",
    "    incomes[\"code\"].str.contains(country_code) for country_code in [ENGLAND_CONSTITUENCY, NI_CONSTITUENCY, SCOTLAND_CONSTITUENCY, WALES_CONSTITUENCY]\n",
    "], axis=0)]\n",
    "\n",
    "df = pd.DataFrame({\n",
    "    \"code\": poverty_by_constituency.index,\n",
    "    \"poverty_rate\": poverty_by_constituency.values,\n",
    "    \"name\": incomes.set_index(\"code\").loc[poverty_by_constituency.index].name.values\n",
    "})"
   ]
  }
 ],
 "metadata": {
  "kernelspec": {
   "display_name": "base",
   "language": "python",
   "name": "python3"
  },
  "language_info": {
   "codemirror_mode": {
    "name": "ipython",
    "version": 3
   },
   "file_extension": ".py",
   "mimetype": "text/x-python",
   "name": "python",
   "nbconvert_exporter": "python",
   "pygments_lexer": "ipython3",
   "version": "3.10.14"
  }
 },
 "nbformat": 4,
 "nbformat_minor": 2
}
