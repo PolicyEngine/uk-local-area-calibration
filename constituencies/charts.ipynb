{
 "cells": [
  {
   "cell_type": "code",
   "execution_count": null,
   "metadata": {},
   "outputs": [],
   "source": [
    "import pandas as pd\n",
    "import json\n",
    "\n",
    "with open(\"/Users/nikhilwoodruff/Downloads/uk-constituencies-2019-BBC.hexjson\") as f:\n",
    "    hexjson = json.load(f)\n",
    "\n",
    "constituencies = pd.DataFrame({\n",
    "    \"code\": list(hexjson[\"hexes\"].keys()),\n",
    "    \"x\": [hexjson[\"hexes\"][code][\"q\"] for code in hexjson[\"hexes\"]],\n",
    "    \"y\": [hexjson[\"hexes\"][code][\"r\"] for code in hexjson[\"hexes\"]],\n",
    "})"
   ]
  }
 ],
 "metadata": {
  "kernelspec": {
   "display_name": "base",
   "language": "python",
   "name": "python3"
  },
  "language_info": {
   "name": "python",
   "version": "3.10.14"
  }
 },
 "nbformat": 4,
 "nbformat_minor": 2
}
