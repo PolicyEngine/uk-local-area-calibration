{
 "cells": [
  {
   "cell_type": "code",
   "execution_count": 1,
   "metadata": {},
   "outputs": [],
   "source": [
    "import h5py\n",
    "import pandas as pd\n",
    "from policyengine_uk import Microsimulation\n",
    "\n",
    "weight_data = h5py.File(\"constituencies/weights.h5\", \"r\")\n",
    "constituencies = pd.read_csv(\"constituencies/constituencies.csv\")"
   ]
  },
  {
   "cell_type": "code",
   "execution_count": 2,
   "metadata": {},
   "outputs": [],
   "source": [
    "baseline = Microsimulation()\n",
    "\n",
    "hnet_24 = baseline.calculate(\"real_household_net_income\", 2024)\n",
    "hnet_29 = baseline.calculate(\"real_household_net_income\", 2029)"
   ]
  },
  {
   "cell_type": "code",
   "execution_count": 3,
   "metadata": {},
   "outputs": [],
   "source": [
    "change = hnet_29 - hnet_24"
   ]
  },
  {
   "cell_type": "code",
   "execution_count": 4,
   "metadata": {},
   "outputs": [],
   "source": [
    "from constituencies.charts import constituencies as hex_con"
   ]
  },
  {
   "cell_type": "code",
   "execution_count": 19,
   "metadata": {},
   "outputs": [],
   "source": [
    "import plotly.express as px\n",
    "import numpy as np\n",
    "\n",
    "weights = weight_data[\"weight\"]\n",
    "\n",
    "\n",
    "weighted_gain = np.dot(weights, change)\n",
    "weighted_original_income = np.dot(weights, hnet_24)\n",
    "weighted_rel_gain = weighted_gain / weighted_original_income\n",
    "\n",
    "df = pd.DataFrame()\n",
    "df[\"Average real change (%)\"] = weighted_rel_gain > np.median(weighted_rel_gain)\n",
    "df[\"Constituency\"] = constituencies.name\n",
    "df[\"Code\"] = constituencies.code\n",
    "\n",
    "df[\"y\"] = hex_con.set_index(\"code\").loc[df.Code].y.values\n",
    "df[\"x\"] = hex_con.set_index(\"code\").loc[df.Code].x.values\n",
    "df.x = df.x + (df.y % 2 == 0) * 0.5"
   ]
  },
  {
   "cell_type": "code",
   "execution_count": 20,
   "metadata": {},
   "outputs": [
    {
     "data": {
      "application/vnd.plotly.v1+json": {
       "config": {
        "plotlyServerURL": "https://plot.ly"
       },
       "data": [
        {
         "customdata": [
          [
           "Berwick-upon-Tweed"
          ],
          [
           "Blaydon"
          ],
          [
           "Blyth Valley"
          ],
          [
           "Darlington"
          ],
          [
           "Easington"
          ],
          [
           "Gateshead"
          ],
          [
           "Hartlepool"
          ],
          [
           "Hexham"
          ],
          [
           "Houghton and Sunderland South"
          ],
          [
           "Jarrow"
          ],
          [
           "Middlesbrough"
          ],
          [
           "Newcastle upon Tyne Central"
          ],
          [
           "Newcastle upon Tyne East"
          ],
          [
           "North Durham"
          ],
          [
           "North Tyneside"
          ],
          [
           "North West Durham"
          ],
          [
           "Redcar"
          ],
          [
           "Sedgefield"
          ],
          [
           "South Shields"
          ],
          [
           "Stockton North"
          ],
          [
           "Sunderland Central"
          ],
          [
           "Wansbeck"
          ],
          [
           "Washington and Sunderland West"
          ],
          [
           "Ashton-under-Lyne"
          ],
          [
           "Barrow and Furness"
          ],
          [
           "Birkenhead"
          ],
          [
           "Blackburn"
          ],
          [
           "Blackley and Broughton"
          ],
          [
           "Blackpool North and Cleveleys"
          ],
          [
           "Blackpool South"
          ],
          [
           "Bolton North East"
          ],
          [
           "Bolton South East"
          ],
          [
           "Bootle"
          ],
          [
           "Burnley"
          ],
          [
           "Carlisle"
          ],
          [
           "Copeland"
          ],
          [
           "Denton and Reddish"
          ],
          [
           "Fylde"
          ],
          [
           "Garston and Halewood"
          ],
          [
           "Halton"
          ],
          [
           "Hazel Grove"
          ],
          [
           "Heywood and Middleton"
          ],
          [
           "Hyndburn"
          ],
          [
           "Knowsley"
          ],
          [
           "Lancaster and Fleetwood"
          ],
          [
           "Leigh"
          ],
          [
           "Liverpool, Riverside"
          ],
          [
           "Liverpool, Walton"
          ],
          [
           "Liverpool, Wavertree"
          ],
          [
           "Liverpool, West Derby"
          ],
          [
           "Makerfield"
          ],
          [
           "Manchester Central"
          ],
          [
           "Manchester, Gorton"
          ],
          [
           "Manchester, Withington"
          ],
          [
           "Morecambe and Lunesdale"
          ],
          [
           "Oldham East and Saddleworth"
          ],
          [
           "Oldham West and Royton"
          ],
          [
           "Pendle"
          ],
          [
           "Penrith and The Border"
          ],
          [
           "Preston"
          ],
          [
           "Rochdale"
          ],
          [
           "Rossendale and Darwen"
          ],
          [
           "St Helens North"
          ],
          [
           "St Helens South and Whiston"
          ],
          [
           "Stalybridge and Hyde"
          ],
          [
           "Stockport"
          ],
          [
           "Stretford and Urmston"
          ],
          [
           "Wallasey"
          ],
          [
           "Westmorland and Lonsdale"
          ],
          [
           "Wirral South"
          ],
          [
           "Wirral West"
          ],
          [
           "Workington"
          ],
          [
           "Wythenshawe and Sale East"
          ],
          [
           "Barnsley Central"
          ],
          [
           "Barnsley East"
          ],
          [
           "Batley and Spen"
          ],
          [
           "Beverley and Holderness"
          ],
          [
           "Bradford East"
          ],
          [
           "Bradford South"
          ],
          [
           "Bradford West"
          ],
          [
           "Colne Valley"
          ],
          [
           "Doncaster Central"
          ],
          [
           "Doncaster North"
          ],
          [
           "East Yorkshire"
          ],
          [
           "Great Grimsby"
          ],
          [
           "Halifax"
          ],
          [
           "Hemsworth"
          ],
          [
           "Huddersfield"
          ],
          [
           "Keighley"
          ],
          [
           "Kingston upon Hull East"
          ],
          [
           "Kingston upon Hull North"
          ],
          [
           "Kingston upon Hull West and Hessle"
          ],
          [
           "Leeds Central"
          ],
          [
           "Leeds East"
          ],
          [
           "Leeds North East"
          ],
          [
           "Leeds West"
          ],
          [
           "Normanton, Pontefract and Castleford"
          ],
          [
           "Penistone and Stocksbridge"
          ],
          [
           "Rotherham"
          ],
          [
           "Scarborough and Whitby"
          ],
          [
           "Scunthorpe"
          ],
          [
           "Sheffield Central"
          ],
          [
           "Sheffield South East"
          ],
          [
           "Sheffield, Brightside and Hillsborough"
          ],
          [
           "Sheffield, Hallam"
          ],
          [
           "Sheffield, Heeley"
          ],
          [
           "Wentworth and Dearne"
          ],
          [
           "Amber Valley"
          ],
          [
           "Ashfield"
          ],
          [
           "Bassetlaw"
          ],
          [
           "Bolsover"
          ],
          [
           "Boston and Skegness"
          ],
          [
           "Chesterfield"
          ],
          [
           "Derby South"
          ],
          [
           "Derbyshire Dales"
          ],
          [
           "Erewash"
          ],
          [
           "Gainsborough"
          ],
          [
           "Leicester East"
          ],
          [
           "Leicester South"
          ],
          [
           "Leicester West"
          ],
          [
           "Lincoln"
          ],
          [
           "Louth and Horncastle"
          ],
          [
           "Mansfield"
          ],
          [
           "North East Derbyshire"
          ],
          [
           "North West Leicestershire"
          ],
          [
           "Northampton North"
          ],
          [
           "Northampton South"
          ],
          [
           "Nottingham East"
          ],
          [
           "Nottingham North"
          ],
          [
           "Sherwood"
          ],
          [
           "Birmingham, Edgbaston"
          ],
          [
           "Birmingham, Erdington"
          ],
          [
           "Birmingham, Hall Green"
          ],
          [
           "Birmingham, Hodge Hill"
          ],
          [
           "Birmingham, Ladywood"
          ],
          [
           "Birmingham, Northfield"
          ],
          [
           "Birmingham, Perry Barr"
          ],
          [
           "Birmingham, Selly Oak"
          ],
          [
           "Birmingham, Yardley"
          ],
          [
           "Burton"
          ],
          [
           "Coventry North East"
          ],
          [
           "Coventry North West"
          ],
          [
           "Coventry South"
          ],
          [
           "Dudley North"
          ],
          [
           "Dudley South"
          ],
          [
           "Halesowen and Rowley Regis"
          ],
          [
           "Hereford and South Herefordshire"
          ],
          [
           "Lichfield"
          ],
          [
           "Ludlow"
          ],
          [
           "Newcastle-under-Lyme"
          ],
          [
           "North Herefordshire"
          ],
          [
           "North Shropshire"
          ],
          [
           "North Warwickshire"
          ],
          [
           "Nuneaton"
          ],
          [
           "Redditch"
          ],
          [
           "Stafford"
          ],
          [
           "Staffordshire Moorlands"
          ],
          [
           "Stoke-on-Trent Central"
          ],
          [
           "Stoke-on-Trent North"
          ],
          [
           "Stoke-on-Trent South"
          ],
          [
           "Stourbridge"
          ],
          [
           "Sutton Coldfield"
          ],
          [
           "Tamworth"
          ],
          [
           "Telford"
          ],
          [
           "Walsall North"
          ],
          [
           "Walsall South"
          ],
          [
           "Warley"
          ],
          [
           "West Bromwich East"
          ],
          [
           "West Bromwich West"
          ],
          [
           "Wolverhampton North East"
          ],
          [
           "Wolverhampton South East"
          ],
          [
           "Wolverhampton South West"
          ],
          [
           "Wyre Forest"
          ],
          [
           "Basildon and Billericay"
          ],
          [
           "Broadland"
          ],
          [
           "Castle Point"
          ],
          [
           "Clacton"
          ],
          [
           "Great Yarmouth"
          ],
          [
           "Harlow"
          ],
          [
           "Harwich and North Essex"
          ],
          [
           "Luton North"
          ],
          [
           "Luton South"
          ],
          [
           "North East Cambridgeshire"
          ],
          [
           "North Norfolk"
          ],
          [
           "North West Norfolk"
          ],
          [
           "Norwich North"
          ],
          [
           "Peterborough"
          ],
          [
           "Rochford and Southend East"
          ],
          [
           "Waveney"
          ],
          [
           "Barking"
          ],
          [
           "Dagenham and Rainham"
          ],
          [
           "Ealing North"
          ],
          [
           "Ealing, Southall"
          ],
          [
           "Enfield North"
          ],
          [
           "Erith and Thamesmead"
          ],
          [
           "Hayes and Harlington"
          ],
          [
           "Ilford South"
          ],
          [
           "Romford"
          ],
          [
           "Bognor Regis and Littlehampton"
          ],
          [
           "Brighton, Kemptown"
          ],
          [
           "Dover"
          ],
          [
           "Eastbourne"
          ],
          [
           "Gosport"
          ],
          [
           "Havant"
          ],
          [
           "Oxford East"
          ],
          [
           "Portsmouth South"
          ],
          [
           "Sittingbourne and Sheppey"
          ],
          [
           "South Thanet"
          ],
          [
           "Southampton, Itchen"
          ],
          [
           "Bath"
          ],
          [
           "Bournemouth East"
          ],
          [
           "Bridgwater and West Somerset"
          ],
          [
           "Bristol East"
          ],
          [
           "Bristol North West"
          ],
          [
           "Camborne and Redruth"
          ],
          [
           "Central Devon"
          ],
          [
           "Devizes"
          ],
          [
           "Forest of Dean"
          ],
          [
           "Gloucester"
          ],
          [
           "Kingswood"
          ],
          [
           "Mid Dorset and North Poole"
          ],
          [
           "Newton Abbot"
          ],
          [
           "North Cornwall"
          ],
          [
           "North Dorset"
          ],
          [
           "Plymouth, Moor View"
          ],
          [
           "Plymouth, Sutton and Devonport"
          ],
          [
           "South Dorset"
          ],
          [
           "St Austell and Newquay"
          ],
          [
           "St Ives"
          ],
          [
           "Tiverton and Honiton"
          ],
          [
           "Torbay"
          ],
          [
           "Torridge and West Devon"
          ],
          [
           "Wells"
          ],
          [
           "Weston-Super-Mare"
          ],
          [
           "Aberavon"
          ],
          [
           "Aberconwy"
          ],
          [
           "Alyn and Deeside"
          ],
          [
           "Arfon"
          ],
          [
           "Blaenau Gwent"
          ],
          [
           "Brecon and Radnorshire"
          ],
          [
           "Bridgend"
          ],
          [
           "Caerphilly"
          ],
          [
           "Cardiff Central"
          ],
          [
           "Carmarthen East and Dinefwr"
          ],
          [
           "Carmarthen West and South Pembrokeshire"
          ],
          [
           "Ceredigion"
          ],
          [
           "Clwyd South"
          ],
          [
           "Cynon Valley"
          ],
          [
           "Dwyfor Meirionnydd"
          ],
          [
           "Islwyn"
          ],
          [
           "Merthyr Tydfil and Rhymney"
          ],
          [
           "Montgomeryshire"
          ],
          [
           "Neath"
          ],
          [
           "Ogmore"
          ],
          [
           "Pontypridd"
          ],
          [
           "Preseli Pembrokeshire"
          ],
          [
           "Rhondda"
          ],
          [
           "Swansea East"
          ],
          [
           "Swansea West"
          ],
          [
           "Torfaen"
          ],
          [
           "Vale of Clwyd"
          ],
          [
           "Vale of Glamorgan"
          ],
          [
           "Wrexham"
          ],
          [
           "Ynys Môn"
          ],
          [
           "Aberdeen North"
          ],
          [
           "Airdrie and Shotts"
          ],
          [
           "Angus"
          ],
          [
           "Argyll and Bute"
          ],
          [
           "Ayr, Carrick and Cumnock"
          ],
          [
           "Banff and Buchan"
          ],
          [
           "Berwickshire, Roxburgh and Selkirk"
          ],
          [
           "Caithness, Sutherland and Easter Ross"
          ],
          [
           "Central Ayrshire"
          ],
          [
           "Coatbridge, Chryston and Bellshill"
          ],
          [
           "Cumbernauld, Kilsyth and Kirkintilloch East"
          ],
          [
           "Dumfries and Galloway"
          ],
          [
           "Dumfriesshire, Clydesdale and Tweeddale"
          ],
          [
           "Dundee East"
          ],
          [
           "Dundee West"
          ],
          [
           "Dunfermline and West Fife"
          ],
          [
           "East Kilbride, Strathaven and Lesmahagow"
          ],
          [
           "Edinburgh East"
          ],
          [
           "Falkirk"
          ],
          [
           "Glasgow Central"
          ],
          [
           "Glasgow East"
          ],
          [
           "Glasgow North"
          ],
          [
           "Glasgow North East"
          ],
          [
           "Glasgow North West"
          ],
          [
           "Glasgow South"
          ],
          [
           "Glasgow South West"
          ],
          [
           "Glenrothes"
          ],
          [
           "Inverclyde"
          ],
          [
           "Inverness, Nairn, Badenoch and Strathspey"
          ],
          [
           "Kilmarnock and Loudoun"
          ],
          [
           "Kirkcaldy and Cowdenbeath"
          ],
          [
           "Lanark and Hamilton East"
          ],
          [
           "Livingston"
          ],
          [
           "Midlothian"
          ],
          [
           "Moray"
          ],
          [
           "Motherwell and Wishaw"
          ],
          [
           "Na h-Eileanan an Iar"
          ],
          [
           "North Ayrshire and Arran"
          ],
          [
           "North East Fife"
          ],
          [
           "Paisley and Renfrewshire North"
          ],
          [
           "Paisley and Renfrewshire South"
          ],
          [
           "Perth and North Perthshire"
          ],
          [
           "Ross, Skye and Lochaber"
          ],
          [
           "Rutherglen and Hamilton West"
          ],
          [
           "West Dunbartonshire"
          ],
          [
           "Belfast East"
          ],
          [
           "Belfast North"
          ],
          [
           "Belfast West"
          ],
          [
           "East Antrim"
          ],
          [
           "East Londonderry"
          ],
          [
           "Fermanagh & South Tyrone"
          ],
          [
           "Foyle"
          ],
          [
           "Mid Ulster"
          ],
          [
           "Newry & Armagh"
          ],
          [
           "North Antrim"
          ],
          [
           "North Down"
          ],
          [
           "South Antrim"
          ],
          [
           "South Down"
          ],
          [
           "Strangford"
          ],
          [
           "Upper Bann"
          ],
          [
           "West Tyrone"
          ]
         ],
         "hovertemplate": "Average real change (%)=False<br>x=%{x}<br>y=%{y}<br>Constituency=%{customdata[0]}<extra></extra>",
         "legendgroup": "False",
         "marker": {
          "color": "#636efa",
          "size": 11,
          "symbol": "hexagon"
         },
         "mode": "markers",
         "name": "False",
         "orientation": "v",
         "showlegend": true,
         "type": "scatter",
         "x": [
          17,
          16.5,
          19,
          17.5,
          21.5,
          18.5,
          22,
          16,
          20,
          20.5,
          20.5,
          17,
          19.5,
          18,
          17.5,
          17.5,
          22.5,
          18.5,
          21.5,
          19,
          21,
          18,
          19,
          15.5,
          14.5,
          9.5,
          14.5,
          13,
          12,
          12.5,
          13,
          13.5,
          9.5,
          16,
          15,
          15.5,
          14.5,
          13,
          11,
          11.5,
          14,
          14.5,
          15,
          12,
          14,
          13,
          10,
          11,
          11,
          11.5,
          13.5,
          14,
          15,
          14,
          16,
          15,
          14,
          16.5,
          16.5,
          13.5,
          15.5,
          14,
          12.5,
          12,
          15,
          15.5,
          14.5,
          10.5,
          15,
          10.5,
          9,
          14,
          14.5,
          21,
          20,
          21.5,
          24,
          18.5,
          20.5,
          17,
          16.5,
          21,
          24,
          24.5,
          25,
          18,
          22.5,
          19.5,
          17,
          25.5,
          26,
          25.5,
          23,
          21,
          19.5,
          20.5,
          23.5,
          21.5,
          23,
          23,
          24.5,
          17.5,
          19,
          22,
          16,
          18.5,
          24.5,
          21.5,
          22,
          23,
          21,
          26,
          22,
          21,
          19,
          23,
          25.5,
          22,
          22.5,
          21.5,
          24.5,
          26.5,
          22.5,
          21.5,
          20,
          24,
          23,
          25.5,
          23,
          23.5,
          15,
          18.5,
          18.5,
          18,
          16.5,
          14.5,
          17.5,
          15.5,
          19.5,
          19.5,
          20.5,
          18,
          19,
          16.5,
          13.5,
          14,
          14,
          18.5,
          16,
          16,
          13,
          15.5,
          19,
          20,
          15,
          18,
          19.5,
          17,
          16.5,
          18,
          13,
          19.5,
          18,
          16.5,
          16.5,
          17,
          17,
          17.5,
          16,
          15.5,
          16,
          14.5,
          13.5,
          30.5,
          29,
          31.5,
          30.5,
          32,
          26,
          29.5,
          21.5,
          21,
          25.5,
          30,
          26,
          31.5,
          24.5,
          32.5,
          31.5,
          28,
          29,
          20,
          20.5,
          24,
          29.5,
          19.5,
          27,
          29,
          21.5,
          26.5,
          32.5,
          28,
          18,
          20.5,
          19.5,
          19,
          32,
          33.5,
          15,
          12,
          14,
          7.5,
          11.5,
          9,
          2,
          7,
          13.5,
          12,
          13,
          12.5,
          11,
          7,
          4.5,
          10.5,
          5.5,
          5,
          11.5,
          3,
          1.5,
          8,
          7.5,
          6,
          10,
          8,
          8,
          9.5,
          11.5,
          8.5,
          10,
          12.5,
          7,
          11.5,
          11,
          6,
          6.5,
          11,
          12,
          11,
          11,
          10.5,
          9.5,
          11.5,
          9,
          8.5,
          9.5,
          5,
          10,
          8.5,
          7.5,
          11.5,
          10.5,
          8,
          12.5,
          7,
          15.5,
          13.5,
          16.5,
          10,
          10.5,
          14,
          15.5,
          12.5,
          10,
          12,
          11.5,
          12.5,
          11.5,
          14,
          13,
          13.5,
          13,
          16,
          12,
          12,
          12.5,
          12.5,
          13,
          11,
          11.5,
          11,
          15,
          10.5,
          10.5,
          13.5,
          14.5,
          14.5,
          14,
          15,
          14.5,
          13.5,
          9.5,
          9,
          14.5,
          11.5,
          10,
          12,
          10,
          12,
          11,
          4.5,
          3.5,
          2.5,
          4.5,
          2,
          0,
          1.5,
          2.5,
          1,
          3.5,
          4,
          3,
          2,
          3.5,
          1,
          0.5
         ],
         "xaxis": "x",
         "y": [
          33,
          32,
          33,
          28,
          30,
          32,
          31,
          31,
          31,
          32,
          30,
          31,
          32,
          31,
          32,
          30,
          30,
          30,
          32,
          29,
          31,
          33,
          31,
          24,
          30,
          20,
          28,
          23,
          27,
          26,
          25,
          24,
          22,
          27,
          31,
          30,
          22,
          27,
          19,
          20,
          21,
          26,
          27,
          23,
          29,
          21,
          21,
          23,
          21,
          22,
          22,
          23,
          19,
          19,
          29,
          25,
          25,
          28,
          30,
          28,
          26,
          27,
          22,
          21,
          23,
          18,
          20,
          22,
          29,
          20,
          21,
          31,
          18,
          25,
          25,
          26,
          27,
          26,
          26,
          25,
          26,
          23,
          25,
          28,
          23,
          25,
          26,
          24,
          27,
          26,
          25,
          24,
          27,
          27,
          26,
          28,
          26,
          24,
          25,
          29,
          24,
          24,
          23,
          25,
          25,
          24,
          26,
          20,
          21,
          23,
          21,
          21,
          23,
          19,
          21,
          19,
          22,
          19,
          18,
          18,
          22,
          22,
          22,
          22,
          19,
          17,
          17,
          20,
          21,
          22,
          15,
          18,
          16,
          17,
          16,
          14,
          16,
          14,
          16,
          20,
          16,
          15,
          15,
          18,
          14,
          15,
          11,
          20,
          21,
          23,
          11,
          22,
          17,
          17,
          13,
          21,
          22,
          23,
          24,
          23,
          13,
          18,
          19,
          22,
          20,
          19,
          17,
          18,
          17,
          16,
          19,
          16,
          12,
          10,
          15,
          10,
          12,
          13,
          13,
          12,
          14,
          15,
          16,
          15,
          17,
          14,
          16,
          10,
          12,
          11,
          9,
          9,
          8,
          13,
          8,
          8,
          11,
          11,
          4,
          4,
          6,
          5,
          3,
          4,
          12,
          3,
          7,
          6,
          3,
          7,
          3,
          4,
          6,
          5,
          1,
          3,
          6,
          9,
          9,
          8,
          3,
          1,
          2,
          4,
          2,
          1,
          2,
          1,
          0,
          3,
          0,
          3,
          5,
          5,
          11,
          18,
          16,
          18,
          13,
          14,
          9,
          10,
          9,
          11,
          10,
          13,
          15,
          11,
          15,
          12,
          12,
          14,
          11,
          10,
          10,
          9,
          11,
          12,
          10,
          12,
          18,
          9,
          16,
          19,
          40,
          36,
          38,
          37,
          34,
          41,
          32,
          42,
          35,
          35,
          38,
          32,
          32,
          39,
          39,
          38,
          33,
          35,
          39,
          37,
          34,
          38,
          35,
          37,
          34,
          35,
          37,
          36,
          38,
          32,
          36,
          32,
          33,
          33,
          40,
          34,
          40,
          35,
          38,
          36,
          33,
          41,
          39,
          33,
          39,
          26,
          26,
          26,
          28,
          29,
          27,
          28,
          28,
          25,
          28,
          25,
          27,
          25,
          24,
          27,
          28
         ],
         "yaxis": "y"
        },
        {
         "customdata": [
          [
           "Bishop Auckland"
          ],
          [
           "City of Durham"
          ],
          [
           "Middlesbrough South and East Cleveland"
          ],
          [
           "Newcastle upon Tyne North"
          ],
          [
           "Stockton South"
          ],
          [
           "Tynemouth"
          ],
          [
           "Altrincham and Sale West"
          ],
          [
           "Bolton West"
          ],
          [
           "Bury North"
          ],
          [
           "Bury South"
          ],
          [
           "Cheadle"
          ],
          [
           "Chorley"
          ],
          [
           "City of Chester"
          ],
          [
           "Congleton"
          ],
          [
           "Crewe and Nantwich"
          ],
          [
           "Eddisbury"
          ],
          [
           "Ellesmere Port and Neston"
          ],
          [
           "Macclesfield"
          ],
          [
           "Ribble Valley"
          ],
          [
           "Salford and Eccles"
          ],
          [
           "Sefton Central"
          ],
          [
           "South Ribble"
          ],
          [
           "Southport"
          ],
          [
           "Tatton"
          ],
          [
           "Warrington North"
          ],
          [
           "Warrington South"
          ],
          [
           "Weaver Vale"
          ],
          [
           "West Lancashire"
          ],
          [
           "Wigan"
          ],
          [
           "Worsley and Eccles South"
          ],
          [
           "Wyre and Preston North"
          ],
          [
           "Brigg and Goole"
          ],
          [
           "Calder Valley"
          ],
          [
           "Cleethorpes"
          ],
          [
           "Dewsbury"
          ],
          [
           "Don Valley"
          ],
          [
           "Elmet and Rothwell"
          ],
          [
           "Haltemprice and Howden"
          ],
          [
           "Harrogate and Knaresborough"
          ],
          [
           "Leeds North West"
          ],
          [
           "Morley and Outwood"
          ],
          [
           "Pudsey"
          ],
          [
           "Richmond (Yorks)"
          ],
          [
           "Rother Valley"
          ],
          [
           "Selby and Ainsty"
          ],
          [
           "Shipley"
          ],
          [
           "Skipton and Ripon"
          ],
          [
           "Thirsk and Malton"
          ],
          [
           "Wakefield"
          ],
          [
           "York Central"
          ],
          [
           "York Outer"
          ],
          [
           "Bosworth"
          ],
          [
           "Broxtowe"
          ],
          [
           "Charnwood"
          ],
          [
           "Corby"
          ],
          [
           "Daventry"
          ],
          [
           "Derby North"
          ],
          [
           "Gedling"
          ],
          [
           "Grantham and Stamford"
          ],
          [
           "Harborough"
          ],
          [
           "High Peak"
          ],
          [
           "Kettering"
          ],
          [
           "Loughborough"
          ],
          [
           "Mid Derbyshire"
          ],
          [
           "Newark"
          ],
          [
           "Nottingham South"
          ],
          [
           "Rushcliffe"
          ],
          [
           "Rutland and Melton"
          ],
          [
           "Sleaford and North Hykeham"
          ],
          [
           "South Derbyshire"
          ],
          [
           "South Holland and The Deepings"
          ],
          [
           "South Leicestershire"
          ],
          [
           "South Northamptonshire"
          ],
          [
           "Wellingborough"
          ],
          [
           "Aldridge-Brownhills"
          ],
          [
           "Bromsgrove"
          ],
          [
           "Cannock Chase"
          ],
          [
           "Kenilworth and Southam"
          ],
          [
           "Meriden"
          ],
          [
           "Mid Worcestershire"
          ],
          [
           "Rugby"
          ],
          [
           "Shrewsbury and Atcham"
          ],
          [
           "Solihull"
          ],
          [
           "South Staffordshire"
          ],
          [
           "Stone"
          ],
          [
           "Stratford-on-Avon"
          ],
          [
           "The Wrekin"
          ],
          [
           "Warwick and Leamington"
          ],
          [
           "West Worcestershire"
          ],
          [
           "Worcester"
          ],
          [
           "Bedford"
          ],
          [
           "Braintree"
          ],
          [
           "Brentwood and Ongar"
          ],
          [
           "Broxbourne"
          ],
          [
           "Bury St Edmunds"
          ],
          [
           "Cambridge"
          ],
          [
           "Central Suffolk and North Ipswich"
          ],
          [
           "Chelmsford"
          ],
          [
           "Colchester"
          ],
          [
           "Epping Forest"
          ],
          [
           "Hemel Hempstead"
          ],
          [
           "Hertford and Stortford"
          ],
          [
           "Hertsmere"
          ],
          [
           "Hitchin and Harpenden"
          ],
          [
           "Huntingdon"
          ],
          [
           "Ipswich"
          ],
          [
           "Maldon"
          ],
          [
           "Mid Bedfordshire"
          ],
          [
           "Mid Norfolk"
          ],
          [
           "North East Bedfordshire"
          ],
          [
           "North East Hertfordshire"
          ],
          [
           "North West Cambridgeshire"
          ],
          [
           "Norwich South"
          ],
          [
           "Rayleigh and Wickford"
          ],
          [
           "Saffron Walden"
          ],
          [
           "South Basildon and East Thurrock"
          ],
          [
           "South Cambridgeshire"
          ],
          [
           "South East Cambridgeshire"
          ],
          [
           "South Norfolk"
          ],
          [
           "South Suffolk"
          ],
          [
           "South West Bedfordshire"
          ],
          [
           "South West Hertfordshire"
          ],
          [
           "South West Norfolk"
          ],
          [
           "Southend West"
          ],
          [
           "St Albans"
          ],
          [
           "Stevenage"
          ],
          [
           "Suffolk Coastal"
          ],
          [
           "Thurrock"
          ],
          [
           "Watford"
          ],
          [
           "Welwyn Hatfield"
          ],
          [
           "West Suffolk"
          ],
          [
           "Witham"
          ],
          [
           "Battersea"
          ],
          [
           "Beckenham"
          ],
          [
           "Bermondsey and Old Southwark"
          ],
          [
           "Bethnal Green and Bow"
          ],
          [
           "Bexleyheath and Crayford"
          ],
          [
           "Brent Central"
          ],
          [
           "Brent North"
          ],
          [
           "Brentford and Isleworth"
          ],
          [
           "Bromley and Chislehurst"
          ],
          [
           "Camberwell and Peckham"
          ],
          [
           "Carshalton and Wallington"
          ],
          [
           "Chelsea and Fulham"
          ],
          [
           "Chingford and Woodford Green"
          ],
          [
           "Chipping Barnet"
          ],
          [
           "Cities of London and Westminster"
          ],
          [
           "Croydon Central"
          ],
          [
           "Croydon North"
          ],
          [
           "Croydon South"
          ],
          [
           "Dulwich and West Norwood"
          ],
          [
           "Ealing Central and Acton"
          ],
          [
           "East Ham"
          ],
          [
           "Edmonton"
          ],
          [
           "Eltham"
          ],
          [
           "Enfield, Southgate"
          ],
          [
           "Feltham and Heston"
          ],
          [
           "Finchley and Golders Green"
          ],
          [
           "Greenwich and Woolwich"
          ],
          [
           "Hackney North and Stoke Newington"
          ],
          [
           "Hackney South and Shoreditch"
          ],
          [
           "Hammersmith"
          ],
          [
           "Hampstead and Kilburn"
          ],
          [
           "Harrow East"
          ],
          [
           "Harrow West"
          ],
          [
           "Hendon"
          ],
          [
           "Holborn and St Pancras"
          ],
          [
           "Hornchurch and Upminster"
          ],
          [
           "Hornsey and Wood Green"
          ],
          [
           "Ilford North"
          ],
          [
           "Islington North"
          ],
          [
           "Islington South and Finsbury"
          ],
          [
           "Kensington"
          ],
          [
           "Kingston and Surbiton"
          ],
          [
           "Lewisham East"
          ],
          [
           "Lewisham West and Penge"
          ],
          [
           "Lewisham, Deptford"
          ],
          [
           "Leyton and Wanstead"
          ],
          [
           "Mitcham and Morden"
          ],
          [
           "Old Bexley and Sidcup"
          ],
          [
           "Orpington"
          ],
          [
           "Poplar and Limehouse"
          ],
          [
           "Putney"
          ],
          [
           "Richmond Park"
          ],
          [
           "Ruislip, Northwood and Pinner"
          ],
          [
           "Streatham"
          ],
          [
           "Sutton and Cheam"
          ],
          [
           "Tooting"
          ],
          [
           "Tottenham"
          ],
          [
           "Twickenham"
          ],
          [
           "Uxbridge and South Ruislip"
          ],
          [
           "Vauxhall"
          ],
          [
           "Walthamstow"
          ],
          [
           "West Ham"
          ],
          [
           "Westminster North"
          ],
          [
           "Wimbledon"
          ],
          [
           "Aldershot"
          ],
          [
           "Arundel and South Downs"
          ],
          [
           "Ashford"
          ],
          [
           "Aylesbury"
          ],
          [
           "Banbury"
          ],
          [
           "Basingstoke"
          ],
          [
           "Beaconsfield"
          ],
          [
           "Bexhill and Battle"
          ],
          [
           "Bracknell"
          ],
          [
           "Brighton, Pavilion"
          ],
          [
           "Buckingham"
          ],
          [
           "Canterbury"
          ],
          [
           "Chatham and Aylesford"
          ],
          [
           "Chesham and Amersham"
          ],
          [
           "Chichester"
          ],
          [
           "Crawley"
          ],
          [
           "Dartford"
          ],
          [
           "East Hampshire"
          ],
          [
           "East Surrey"
          ],
          [
           "East Worthing and Shoreham"
          ],
          [
           "Eastleigh"
          ],
          [
           "Epsom and Ewell"
          ],
          [
           "Esher and Walton"
          ],
          [
           "Fareham"
          ],
          [
           "Faversham and Mid Kent"
          ],
          [
           "Folkestone and Hythe"
          ],
          [
           "Gillingham and Rainham"
          ],
          [
           "Gravesham"
          ],
          [
           "Guildford"
          ],
          [
           "Hastings and Rye"
          ],
          [
           "Henley"
          ],
          [
           "Horsham"
          ],
          [
           "Hove"
          ],
          [
           "Isle of Wight"
          ],
          [
           "Lewes"
          ],
          [
           "Maidenhead"
          ],
          [
           "Maidstone and The Weald"
          ],
          [
           "Meon Valley"
          ],
          [
           "Mid Sussex"
          ],
          [
           "Milton Keynes North"
          ],
          [
           "Milton Keynes South"
          ],
          [
           "Mole Valley"
          ],
          [
           "New Forest East"
          ],
          [
           "New Forest West"
          ],
          [
           "Newbury"
          ],
          [
           "North East Hampshire"
          ],
          [
           "North Thanet"
          ],
          [
           "North West Hampshire"
          ],
          [
           "Oxford West and Abingdon"
          ],
          [
           "Portsmouth North"
          ],
          [
           "Reading East"
          ],
          [
           "Reading West"
          ],
          [
           "Reigate"
          ],
          [
           "Rochester and Strood"
          ],
          [
           "Romsey and Southampton North"
          ],
          [
           "Runnymede and Weybridge"
          ],
          [
           "Sevenoaks"
          ],
          [
           "Slough"
          ],
          [
           "South West Surrey"
          ],
          [
           "Southampton, Test"
          ],
          [
           "Spelthorne"
          ],
          [
           "Surrey Heath"
          ],
          [
           "Tonbridge and Malling"
          ],
          [
           "Tunbridge Wells"
          ],
          [
           "Wantage"
          ],
          [
           "Wealden"
          ],
          [
           "Winchester"
          ],
          [
           "Windsor"
          ],
          [
           "Witney"
          ],
          [
           "Woking"
          ],
          [
           "Wokingham"
          ],
          [
           "Worthing West"
          ],
          [
           "Wycombe"
          ],
          [
           "Bournemouth West"
          ],
          [
           "Bristol South"
          ],
          [
           "Bristol West"
          ],
          [
           "Cheltenham"
          ],
          [
           "Chippenham"
          ],
          [
           "Christchurch"
          ],
          [
           "East Devon"
          ],
          [
           "Exeter"
          ],
          [
           "Filton and Bradley Stoke"
          ],
          [
           "North Devon"
          ],
          [
           "North East Somerset"
          ],
          [
           "North Somerset"
          ],
          [
           "North Swindon"
          ],
          [
           "North Wiltshire"
          ],
          [
           "Poole"
          ],
          [
           "Salisbury"
          ],
          [
           "Somerton and Frome"
          ],
          [
           "South East Cornwall"
          ],
          [
           "South Swindon"
          ],
          [
           "South West Devon"
          ],
          [
           "South West Wiltshire"
          ],
          [
           "Stroud"
          ],
          [
           "Taunton Deane"
          ],
          [
           "Tewkesbury"
          ],
          [
           "The Cotswolds"
          ],
          [
           "Thornbury and Yate"
          ],
          [
           "Totnes"
          ],
          [
           "Truro and Falmouth"
          ],
          [
           "West Dorset"
          ],
          [
           "Yeovil"
          ],
          [
           "Cardiff North"
          ],
          [
           "Cardiff South and Penarth"
          ],
          [
           "Cardiff West"
          ],
          [
           "Clwyd West"
          ],
          [
           "Delyn"
          ],
          [
           "Gower"
          ],
          [
           "Llanelli"
          ],
          [
           "Monmouth"
          ],
          [
           "Newport East"
          ],
          [
           "Newport West"
          ],
          [
           "Aberdeen South"
          ],
          [
           "East Dunbartonshire"
          ],
          [
           "East Lothian"
          ],
          [
           "East Renfrewshire"
          ],
          [
           "Edinburgh North and Leith"
          ],
          [
           "Edinburgh South"
          ],
          [
           "Edinburgh South West"
          ],
          [
           "Edinburgh West"
          ],
          [
           "Gordon"
          ],
          [
           "Linlithgow and East Falkirk"
          ],
          [
           "Ochil and South Perthshire"
          ],
          [
           "Orkney and Shetland"
          ],
          [
           "Stirling"
          ],
          [
           "West Aberdeenshire and Kincardine"
          ],
          [
           "Belfast South"
          ],
          [
           "Lagan Valley"
          ]
         ],
         "hovertemplate": "Average real change (%)=True<br>x=%{x}<br>y=%{y}<br>Constituency=%{customdata[0]}<extra></extra>",
         "legendgroup": "True",
         "marker": {
          "color": "#EF553B",
          "size": 11,
          "symbol": "hexagon"
         },
         "mode": "markers",
         "name": "True",
         "orientation": "v",
         "showlegend": true,
         "type": "scatter",
         "x": [
          17,
          19.5,
          23.5,
          16,
          18,
          20,
          13.5,
          12.5,
          13.5,
          14.5,
          15,
          12,
          11.5,
          13.5,
          12,
          12.5,
          10,
          14,
          15.5,
          15.5,
          10,
          11,
          10.5,
          13,
          13,
          12.5,
          12,
          10,
          11.5,
          13.5,
          12.5,
          23.5,
          17.5,
          26.5,
          20.5,
          22.5,
          20,
          25,
          19.5,
          19,
          22,
          18.5,
          21,
          20,
          21.5,
          18,
          20,
          22,
          19,
          22.5,
          23.5,
          20.5,
          23.5,
          22.5,
          26.5,
          22,
          20.5,
          24,
          26,
          23.5,
          20.5,
          24.5,
          24,
          20,
          24,
          24.5,
          25,
          25.5,
          25,
          19,
          26.5,
          21,
          23.5,
          25,
          17.5,
          17,
          17,
          17,
          17.5,
          15.5,
          21.5,
          15,
          16,
          13,
          18.5,
          16,
          17.5,
          16.5,
          14.5,
          14,
          24.5,
          28.5,
          30,
          21,
          28,
          25,
          29.5,
          27,
          28,
          22,
          20.5,
          26.5,
          21.5,
          23.5,
          22.5,
          30,
          32.5,
          23,
          28.5,
          22,
          25.5,
          23,
          32.5,
          31,
          26,
          31,
          24,
          26.5,
          31,
          29,
          20,
          18.5,
          27.5,
          32,
          20,
          25,
          30.5,
          30,
          20.5,
          22.5,
          27,
          27.5,
          22.5,
          26.5,
          25,
          26.5,
          29,
          24,
          21.5,
          21,
          27.5,
          25.5,
          22.5,
          24.5,
          27.5,
          22.5,
          24,
          24.5,
          25.5,
          23,
          25,
          21.5,
          28.5,
          26.5,
          28.5,
          23.5,
          19,
          22,
          28,
          26.5,
          26,
          22,
          21,
          20,
          20.5,
          21,
          23.5,
          29.5,
          23,
          28.5,
          25,
          25.5,
          23.5,
          20.5,
          27,
          26,
          27.5,
          26,
          23.5,
          28,
          25,
          27,
          23,
          21.5,
          19.5,
          23,
          21,
          22,
          24.5,
          20,
          19,
          24.5,
          25.5,
          27.5,
          22.5,
          24,
          16,
          22,
          32.5,
          16.5,
          18.5,
          15,
          18,
          29.5,
          17,
          25.5,
          16,
          33,
          30,
          17,
          20,
          26,
          29.5,
          15.5,
          18,
          23.5,
          16.5,
          18.5,
          18,
          17,
          31.5,
          31,
          31,
          30.5,
          16,
          30,
          15,
          24,
          24.5,
          16.5,
          27.5,
          17.5,
          30.5,
          18.5,
          27,
          19.5,
          19,
          17,
          14,
          13.5,
          15,
          15,
          34,
          15.5,
          18,
          19.5,
          16.5,
          15.5,
          18.5,
          31.5,
          14.5,
          17.5,
          19.5,
          19,
          16.5,
          14.5,
          18,
          17,
          19,
          29,
          16.5,
          28.5,
          17.5,
          18.5,
          17.5,
          17.5,
          15.5,
          22.5,
          16,
          12.5,
          11,
          10.5,
          14.5,
          13,
          12,
          8.5,
          7.5,
          9.5,
          6.5,
          12.5,
          11.5,
          14.5,
          13.5,
          13,
          13,
          9.5,
          4,
          14,
          6.5,
          11.5,
          11,
          8.5,
          13.5,
          14,
          10,
          6,
          3.5,
          10,
          9,
          10.5,
          12.5,
          9,
          9,
          11,
          7,
          5.5,
          12,
          12.5,
          12,
          16.5,
          12.5,
          14,
          11,
          15,
          15.5,
          14.5,
          14,
          15,
          13,
          13.5,
          15.5,
          12.5,
          15.5,
          3,
          2
         ],
         "xaxis": "x",
         "y": [
          29,
          30,
          30,
          33,
          29,
          33,
          18,
          24,
          26,
          24,
          17,
          25,
          18,
          16,
          17,
          18,
          19,
          17,
          28,
          20,
          23,
          25,
          24,
          17,
          19,
          20,
          19,
          25,
          24,
          20,
          28,
          24,
          26,
          26,
          24,
          24,
          27,
          25,
          28,
          27,
          27,
          28,
          29,
          23,
          28,
          27,
          29,
          29,
          25,
          28,
          28,
          18,
          20,
          20,
          18,
          17,
          20,
          21,
          19,
          18,
          22,
          18,
          19,
          21,
          23,
          20,
          19,
          18,
          21,
          19,
          20,
          17,
          16,
          17,
          20,
          15,
          21,
          13,
          14,
          12,
          16,
          21,
          15,
          15,
          22,
          13,
          22,
          14,
          12,
          13,
          14,
          14,
          11,
          13,
          15,
          15,
          14,
          13,
          13,
          13,
          14,
          14,
          12,
          14,
          16,
          13,
          12,
          13,
          16,
          15,
          14,
          15,
          14,
          11,
          15,
          9,
          15,
          16,
          13,
          13,
          15,
          12,
          16,
          11,
          13,
          13,
          14,
          9,
          12,
          14,
          15,
          14,
          8,
          6,
          9,
          8,
          7,
          11,
          10,
          7,
          6,
          8,
          6,
          10,
          12,
          12,
          9,
          6,
          6,
          5,
          7,
          8,
          10,
          12,
          8,
          12,
          7,
          11,
          9,
          10,
          9,
          9,
          9,
          11,
          10,
          11,
          10,
          10,
          11,
          12,
          11,
          10,
          8,
          6,
          7,
          7,
          8,
          11,
          6,
          7,
          5,
          9,
          9,
          6,
          10,
          7,
          5,
          7,
          12,
          7,
          9,
          8,
          12,
          10,
          10,
          7,
          7,
          5,
          8,
          10,
          14,
          7,
          11,
          4,
          9,
          4,
          11,
          7,
          7,
          11,
          5,
          5,
          6,
          4,
          5,
          4,
          4,
          8,
          7,
          3,
          6,
          5,
          7,
          8,
          5,
          5,
          9,
          5,
          4,
          2,
          4,
          10,
          6,
          4,
          5,
          14,
          13,
          5,
          5,
          4,
          11,
          5,
          7,
          10,
          13,
          4,
          8,
          8,
          6,
          8,
          6,
          8,
          6,
          11,
          6,
          4,
          9,
          7,
          5,
          5,
          12,
          6,
          4,
          10,
          12,
          6,
          6,
          4,
          9,
          4,
          5,
          6,
          10,
          7,
          5,
          2,
          2,
          6,
          4,
          6,
          8,
          8,
          8,
          3,
          5,
          4,
          1,
          7,
          2,
          4,
          7,
          4,
          10,
          9,
          7,
          1,
          0,
          3,
          3,
          10,
          10,
          9,
          17,
          17,
          11,
          10,
          13,
          12,
          11,
          40,
          36,
          37,
          33,
          35,
          34,
          34,
          35,
          39,
          37,
          40,
          42,
          40,
          38,
          25,
          27
         ],
         "yaxis": "y"
        }
       ],
       "layout": {
        "height": 580,
        "legend": {
         "title": {
          "font": {
           "color": "black"
          },
          "text": "Average household net income change"
         },
         "tracegroupgap": 0
        },
        "margin": {
         "t": 60
        },
        "plot_bgcolor": "rgba(0,0,0,0)",
        "template": {
         "data": {
          "bar": [
           {
            "error_x": {
             "color": "#2a3f5f"
            },
            "error_y": {
             "color": "#2a3f5f"
            },
            "marker": {
             "line": {
              "color": "#E5ECF6",
              "width": 0.5
             },
             "pattern": {
              "fillmode": "overlay",
              "size": 10,
              "solidity": 0.2
             }
            },
            "type": "bar"
           }
          ],
          "barpolar": [
           {
            "marker": {
             "line": {
              "color": "#E5ECF6",
              "width": 0.5
             },
             "pattern": {
              "fillmode": "overlay",
              "size": 10,
              "solidity": 0.2
             }
            },
            "type": "barpolar"
           }
          ],
          "carpet": [
           {
            "aaxis": {
             "endlinecolor": "#2a3f5f",
             "gridcolor": "white",
             "linecolor": "white",
             "minorgridcolor": "white",
             "startlinecolor": "#2a3f5f"
            },
            "baxis": {
             "endlinecolor": "#2a3f5f",
             "gridcolor": "white",
             "linecolor": "white",
             "minorgridcolor": "white",
             "startlinecolor": "#2a3f5f"
            },
            "type": "carpet"
           }
          ],
          "choropleth": [
           {
            "colorbar": {
             "outlinewidth": 0,
             "ticks": ""
            },
            "type": "choropleth"
           }
          ],
          "contour": [
           {
            "colorbar": {
             "outlinewidth": 0,
             "ticks": ""
            },
            "colorscale": [
             [
              0,
              "#0d0887"
             ],
             [
              0.1111111111111111,
              "#46039f"
             ],
             [
              0.2222222222222222,
              "#7201a8"
             ],
             [
              0.3333333333333333,
              "#9c179e"
             ],
             [
              0.4444444444444444,
              "#bd3786"
             ],
             [
              0.5555555555555556,
              "#d8576b"
             ],
             [
              0.6666666666666666,
              "#ed7953"
             ],
             [
              0.7777777777777778,
              "#fb9f3a"
             ],
             [
              0.8888888888888888,
              "#fdca26"
             ],
             [
              1,
              "#f0f921"
             ]
            ],
            "type": "contour"
           }
          ],
          "contourcarpet": [
           {
            "colorbar": {
             "outlinewidth": 0,
             "ticks": ""
            },
            "type": "contourcarpet"
           }
          ],
          "heatmap": [
           {
            "colorbar": {
             "outlinewidth": 0,
             "ticks": ""
            },
            "colorscale": [
             [
              0,
              "#0d0887"
             ],
             [
              0.1111111111111111,
              "#46039f"
             ],
             [
              0.2222222222222222,
              "#7201a8"
             ],
             [
              0.3333333333333333,
              "#9c179e"
             ],
             [
              0.4444444444444444,
              "#bd3786"
             ],
             [
              0.5555555555555556,
              "#d8576b"
             ],
             [
              0.6666666666666666,
              "#ed7953"
             ],
             [
              0.7777777777777778,
              "#fb9f3a"
             ],
             [
              0.8888888888888888,
              "#fdca26"
             ],
             [
              1,
              "#f0f921"
             ]
            ],
            "type": "heatmap"
           }
          ],
          "heatmapgl": [
           {
            "colorbar": {
             "outlinewidth": 0,
             "ticks": ""
            },
            "colorscale": [
             [
              0,
              "#0d0887"
             ],
             [
              0.1111111111111111,
              "#46039f"
             ],
             [
              0.2222222222222222,
              "#7201a8"
             ],
             [
              0.3333333333333333,
              "#9c179e"
             ],
             [
              0.4444444444444444,
              "#bd3786"
             ],
             [
              0.5555555555555556,
              "#d8576b"
             ],
             [
              0.6666666666666666,
              "#ed7953"
             ],
             [
              0.7777777777777778,
              "#fb9f3a"
             ],
             [
              0.8888888888888888,
              "#fdca26"
             ],
             [
              1,
              "#f0f921"
             ]
            ],
            "type": "heatmapgl"
           }
          ],
          "histogram": [
           {
            "marker": {
             "pattern": {
              "fillmode": "overlay",
              "size": 10,
              "solidity": 0.2
             }
            },
            "type": "histogram"
           }
          ],
          "histogram2d": [
           {
            "colorbar": {
             "outlinewidth": 0,
             "ticks": ""
            },
            "colorscale": [
             [
              0,
              "#0d0887"
             ],
             [
              0.1111111111111111,
              "#46039f"
             ],
             [
              0.2222222222222222,
              "#7201a8"
             ],
             [
              0.3333333333333333,
              "#9c179e"
             ],
             [
              0.4444444444444444,
              "#bd3786"
             ],
             [
              0.5555555555555556,
              "#d8576b"
             ],
             [
              0.6666666666666666,
              "#ed7953"
             ],
             [
              0.7777777777777778,
              "#fb9f3a"
             ],
             [
              0.8888888888888888,
              "#fdca26"
             ],
             [
              1,
              "#f0f921"
             ]
            ],
            "type": "histogram2d"
           }
          ],
          "histogram2dcontour": [
           {
            "colorbar": {
             "outlinewidth": 0,
             "ticks": ""
            },
            "colorscale": [
             [
              0,
              "#0d0887"
             ],
             [
              0.1111111111111111,
              "#46039f"
             ],
             [
              0.2222222222222222,
              "#7201a8"
             ],
             [
              0.3333333333333333,
              "#9c179e"
             ],
             [
              0.4444444444444444,
              "#bd3786"
             ],
             [
              0.5555555555555556,
              "#d8576b"
             ],
             [
              0.6666666666666666,
              "#ed7953"
             ],
             [
              0.7777777777777778,
              "#fb9f3a"
             ],
             [
              0.8888888888888888,
              "#fdca26"
             ],
             [
              1,
              "#f0f921"
             ]
            ],
            "type": "histogram2dcontour"
           }
          ],
          "mesh3d": [
           {
            "colorbar": {
             "outlinewidth": 0,
             "ticks": ""
            },
            "type": "mesh3d"
           }
          ],
          "parcoords": [
           {
            "line": {
             "colorbar": {
              "outlinewidth": 0,
              "ticks": ""
             }
            },
            "type": "parcoords"
           }
          ],
          "pie": [
           {
            "automargin": true,
            "type": "pie"
           }
          ],
          "scatter": [
           {
            "fillpattern": {
             "fillmode": "overlay",
             "size": 10,
             "solidity": 0.2
            },
            "type": "scatter"
           }
          ],
          "scatter3d": [
           {
            "line": {
             "colorbar": {
              "outlinewidth": 0,
              "ticks": ""
             }
            },
            "marker": {
             "colorbar": {
              "outlinewidth": 0,
              "ticks": ""
             }
            },
            "type": "scatter3d"
           }
          ],
          "scattercarpet": [
           {
            "marker": {
             "colorbar": {
              "outlinewidth": 0,
              "ticks": ""
             }
            },
            "type": "scattercarpet"
           }
          ],
          "scattergeo": [
           {
            "marker": {
             "colorbar": {
              "outlinewidth": 0,
              "ticks": ""
             }
            },
            "type": "scattergeo"
           }
          ],
          "scattergl": [
           {
            "marker": {
             "colorbar": {
              "outlinewidth": 0,
              "ticks": ""
             }
            },
            "type": "scattergl"
           }
          ],
          "scattermapbox": [
           {
            "marker": {
             "colorbar": {
              "outlinewidth": 0,
              "ticks": ""
             }
            },
            "type": "scattermapbox"
           }
          ],
          "scatterpolar": [
           {
            "marker": {
             "colorbar": {
              "outlinewidth": 0,
              "ticks": ""
             }
            },
            "type": "scatterpolar"
           }
          ],
          "scatterpolargl": [
           {
            "marker": {
             "colorbar": {
              "outlinewidth": 0,
              "ticks": ""
             }
            },
            "type": "scatterpolargl"
           }
          ],
          "scatterternary": [
           {
            "marker": {
             "colorbar": {
              "outlinewidth": 0,
              "ticks": ""
             }
            },
            "type": "scatterternary"
           }
          ],
          "surface": [
           {
            "colorbar": {
             "outlinewidth": 0,
             "ticks": ""
            },
            "colorscale": [
             [
              0,
              "#0d0887"
             ],
             [
              0.1111111111111111,
              "#46039f"
             ],
             [
              0.2222222222222222,
              "#7201a8"
             ],
             [
              0.3333333333333333,
              "#9c179e"
             ],
             [
              0.4444444444444444,
              "#bd3786"
             ],
             [
              0.5555555555555556,
              "#d8576b"
             ],
             [
              0.6666666666666666,
              "#ed7953"
             ],
             [
              0.7777777777777778,
              "#fb9f3a"
             ],
             [
              0.8888888888888888,
              "#fdca26"
             ],
             [
              1,
              "#f0f921"
             ]
            ],
            "type": "surface"
           }
          ],
          "table": [
           {
            "cells": {
             "fill": {
              "color": "#EBF0F8"
             },
             "line": {
              "color": "white"
             }
            },
            "header": {
             "fill": {
              "color": "#C8D4E3"
             },
             "line": {
              "color": "white"
             }
            },
            "type": "table"
           }
          ]
         },
         "layout": {
          "annotationdefaults": {
           "arrowcolor": "#2a3f5f",
           "arrowhead": 0,
           "arrowwidth": 1
          },
          "autotypenumbers": "strict",
          "coloraxis": {
           "colorbar": {
            "outlinewidth": 0,
            "ticks": ""
           }
          },
          "colorscale": {
           "diverging": [
            [
             0,
             "#8e0152"
            ],
            [
             0.1,
             "#c51b7d"
            ],
            [
             0.2,
             "#de77ae"
            ],
            [
             0.3,
             "#f1b6da"
            ],
            [
             0.4,
             "#fde0ef"
            ],
            [
             0.5,
             "#f7f7f7"
            ],
            [
             0.6,
             "#e6f5d0"
            ],
            [
             0.7,
             "#b8e186"
            ],
            [
             0.8,
             "#7fbc41"
            ],
            [
             0.9,
             "#4d9221"
            ],
            [
             1,
             "#276419"
            ]
           ],
           "sequential": [
            [
             0,
             "#0d0887"
            ],
            [
             0.1111111111111111,
             "#46039f"
            ],
            [
             0.2222222222222222,
             "#7201a8"
            ],
            [
             0.3333333333333333,
             "#9c179e"
            ],
            [
             0.4444444444444444,
             "#bd3786"
            ],
            [
             0.5555555555555556,
             "#d8576b"
            ],
            [
             0.6666666666666666,
             "#ed7953"
            ],
            [
             0.7777777777777778,
             "#fb9f3a"
            ],
            [
             0.8888888888888888,
             "#fdca26"
            ],
            [
             1,
             "#f0f921"
            ]
           ],
           "sequentialminus": [
            [
             0,
             "#0d0887"
            ],
            [
             0.1111111111111111,
             "#46039f"
            ],
            [
             0.2222222222222222,
             "#7201a8"
            ],
            [
             0.3333333333333333,
             "#9c179e"
            ],
            [
             0.4444444444444444,
             "#bd3786"
            ],
            [
             0.5555555555555556,
             "#d8576b"
            ],
            [
             0.6666666666666666,
             "#ed7953"
            ],
            [
             0.7777777777777778,
             "#fb9f3a"
            ],
            [
             0.8888888888888888,
             "#fdca26"
            ],
            [
             1,
             "#f0f921"
            ]
           ]
          },
          "colorway": [
           "#636efa",
           "#EF553B",
           "#00cc96",
           "#ab63fa",
           "#FFA15A",
           "#19d3f3",
           "#FF6692",
           "#B6E880",
           "#FF97FF",
           "#FECB52"
          ],
          "font": {
           "color": "#2a3f5f"
          },
          "geo": {
           "bgcolor": "white",
           "lakecolor": "white",
           "landcolor": "#E5ECF6",
           "showlakes": true,
           "showland": true,
           "subunitcolor": "white"
          },
          "hoverlabel": {
           "align": "left"
          },
          "hovermode": "closest",
          "mapbox": {
           "style": "light"
          },
          "paper_bgcolor": "white",
          "plot_bgcolor": "#E5ECF6",
          "polar": {
           "angularaxis": {
            "gridcolor": "white",
            "linecolor": "white",
            "ticks": ""
           },
           "bgcolor": "#E5ECF6",
           "radialaxis": {
            "gridcolor": "white",
            "linecolor": "white",
            "ticks": ""
           }
          },
          "scene": {
           "xaxis": {
            "backgroundcolor": "#E5ECF6",
            "gridcolor": "white",
            "gridwidth": 2,
            "linecolor": "white",
            "showbackground": true,
            "ticks": "",
            "zerolinecolor": "white"
           },
           "yaxis": {
            "backgroundcolor": "#E5ECF6",
            "gridcolor": "white",
            "gridwidth": 2,
            "linecolor": "white",
            "showbackground": true,
            "ticks": "",
            "zerolinecolor": "white"
           },
           "zaxis": {
            "backgroundcolor": "#E5ECF6",
            "gridcolor": "white",
            "gridwidth": 2,
            "linecolor": "white",
            "showbackground": true,
            "ticks": "",
            "zerolinecolor": "white"
           }
          },
          "shapedefaults": {
           "line": {
            "color": "#2a3f5f"
           }
          },
          "ternary": {
           "aaxis": {
            "gridcolor": "white",
            "linecolor": "white",
            "ticks": ""
           },
           "baxis": {
            "gridcolor": "white",
            "linecolor": "white",
            "ticks": ""
           },
           "bgcolor": "#E5ECF6",
           "caxis": {
            "gridcolor": "white",
            "linecolor": "white",
            "ticks": ""
           }
          },
          "title": {
           "x": 0.05
          },
          "xaxis": {
           "automargin": true,
           "gridcolor": "white",
           "linecolor": "white",
           "ticks": "",
           "title": {
            "standoff": 15
           },
           "zerolinecolor": "white",
           "zerolinewidth": 2
          },
          "yaxis": {
           "automargin": true,
           "gridcolor": "white",
           "linecolor": "white",
           "ticks": "",
           "title": {
            "standoff": 15
           },
           "zerolinecolor": "white",
           "zerolinewidth": 2
          }
         }
        },
        "title": {
         "font": {
          "color": "black"
         },
         "text": "Baseline forecast for real household net income growth (2024-29)"
        },
        "width": 700,
        "xaxis": {
         "anchor": "y",
         "domain": [
          0,
          1
         ],
         "range": [
          -5,
          45
         ],
         "tickvals": [],
         "title": {
          "text": ""
         }
        },
        "yaxis": {
         "anchor": "x",
         "domain": [
          0,
          1
         ],
         "range": [
          -5,
          45
         ],
         "tickvals": [],
         "title": {
          "text": ""
         }
        }
       }
      }
     },
     "metadata": {},
     "output_type": "display_data"
    }
   ],
   "source": [
    "fig = px.scatter(\n",
    "    df,\n",
    "    x=\"x\",\n",
    "    y=\"y\",\n",
    "    color=\"Average real change (%)\",\n",
    "    hover_data=[\"Constituency\"]\n",
    ")\n",
    "\n",
    "from policyengine_core.charts import *\n",
    "\n",
    "fig.update_layout(\n",
    "    xaxis_range=[-5, 45],\n",
    "    yaxis_range=[-5, 45],\n",
    "    height=580,\n",
    "    width=700,\n",
    ")\n",
    "# Set zero to white\n",
    "#fig.update_coloraxes(cmax=-df[\"Average real change\"].min(), cmin=df[\"Average real change\"].min())\n",
    "\n",
    "# Set marker to hexagon\n",
    "fig.update_traces(marker=dict(symbol=\"hexagon\", size=11))\n",
    "\n",
    "fig.update_layout(\n",
    "    title=\"Baseline forecast for real household net income growth (2024-29)\",\n",
    "    xaxis_tickvals=[],\n",
    "    xaxis_title=\"\",\n",
    "    yaxis_tickvals=[],\n",
    "    yaxis_title=\"\",\n",
    "    # No bg\n",
    "    plot_bgcolor=\"rgba(0,0,0,0)\",\n",
    "    legend_title=\"Average household net income change\",\n",
    "    # Set color axis to %\n",
    "    title_font_color=\"black\",\n",
    "    legend_title_font_color=\"black\"\n",
    ")"
   ]
  },
  {
   "cell_type": "code",
   "execution_count": 7,
   "metadata": {},
   "outputs": [],
   "source": [
    "df[[\"Code\", \"Constituency\", \"Average real change (%)\"]].to_csv(\"constituency_baseline_forecast.csv\", index=False)"
   ]
  },
  {
   "cell_type": "code",
   "execution_count": 8,
   "metadata": {},
   "outputs": [
    {
     "data": {
      "text/plain": [
       "count    650.000000\n",
       "mean       2.488307\n",
       "std        1.017210\n",
       "min       -1.600000\n",
       "25%        1.800000\n",
       "50%        2.400000\n",
       "75%        3.000000\n",
       "max        5.700000\n",
       "Name: Average real change (%), dtype: float64"
      ]
     },
     "execution_count": 8,
     "metadata": {},
     "output_type": "execute_result"
    }
   ],
   "source": [
    "df[\"Average real change (%)\"].describe()"
   ]
  },
  {
   "cell_type": "code",
   "execution_count": 9,
   "metadata": {},
   "outputs": [
    {
     "data": {
      "text/html": [
       "<div>\n",
       "<style scoped>\n",
       "    .dataframe tbody tr th:only-of-type {\n",
       "        vertical-align: middle;\n",
       "    }\n",
       "\n",
       "    .dataframe tbody tr th {\n",
       "        vertical-align: top;\n",
       "    }\n",
       "\n",
       "    .dataframe thead th {\n",
       "        text-align: right;\n",
       "    }\n",
       "</style>\n",
       "<table border=\"1\" class=\"dataframe\">\n",
       "  <thead>\n",
       "    <tr style=\"text-align: right;\">\n",
       "      <th></th>\n",
       "      <th>Average real change (%)</th>\n",
       "      <th>Constituency</th>\n",
       "      <th>Code</th>\n",
       "      <th>y</th>\n",
       "      <th>x</th>\n",
       "    </tr>\n",
       "  </thead>\n",
       "  <tbody>\n",
       "    <tr>\n",
       "      <th>619</th>\n",
       "      <td>-1.6</td>\n",
       "      <td>Na h-Eileanan an Iar</td>\n",
       "      <td>S14000027</td>\n",
       "      <td>40</td>\n",
       "      <td>9.5</td>\n",
       "    </tr>\n",
       "    <tr>\n",
       "      <th>277</th>\n",
       "      <td>-0.8</td>\n",
       "      <td>Great Yarmouth</td>\n",
       "      <td>E14000717</td>\n",
       "      <td>13</td>\n",
       "      <td>32.0</td>\n",
       "    </tr>\n",
       "    <tr>\n",
       "      <th>34</th>\n",
       "      <td>-0.6</td>\n",
       "      <td>Blackley and Broughton</td>\n",
       "      <td>E14000571</td>\n",
       "      <td>23</td>\n",
       "      <td>13.0</td>\n",
       "    </tr>\n",
       "    <tr>\n",
       "      <th>41</th>\n",
       "      <td>-0.3</td>\n",
       "      <td>Burnley</td>\n",
       "      <td>E14000609</td>\n",
       "      <td>27</td>\n",
       "      <td>16.0</td>\n",
       "    </tr>\n",
       "    <tr>\n",
       "      <th>25</th>\n",
       "      <td>0.1</td>\n",
       "      <td>Sunderland Central</td>\n",
       "      <td>E14000982</td>\n",
       "      <td>31</td>\n",
       "      <td>21.0</td>\n",
       "    </tr>\n",
       "    <tr>\n",
       "      <th>...</th>\n",
       "      <td>...</td>\n",
       "      <td>...</td>\n",
       "      <td>...</td>\n",
       "      <td>...</td>\n",
       "      <td>...</td>\n",
       "    </tr>\n",
       "    <tr>\n",
       "      <th>392</th>\n",
       "      <td>5.6</td>\n",
       "      <td>Westminster North</td>\n",
       "      <td>E14001036</td>\n",
       "      <td>10</td>\n",
       "      <td>22.5</td>\n",
       "    </tr>\n",
       "    <tr>\n",
       "      <th>380</th>\n",
       "      <td>5.6</td>\n",
       "      <td>Richmond Park</td>\n",
       "      <td>E14000896</td>\n",
       "      <td>6</td>\n",
       "      <td>21.5</td>\n",
       "    </tr>\n",
       "    <tr>\n",
       "      <th>369</th>\n",
       "      <td>5.6</td>\n",
       "      <td>Kensington</td>\n",
       "      <td>E14000768</td>\n",
       "      <td>8</td>\n",
       "      <td>23.5</td>\n",
       "    </tr>\n",
       "    <tr>\n",
       "      <th>364</th>\n",
       "      <td>5.6</td>\n",
       "      <td>Hornsey and Wood Green</td>\n",
       "      <td>E14000752</td>\n",
       "      <td>11</td>\n",
       "      <td>23.0</td>\n",
       "    </tr>\n",
       "    <tr>\n",
       "      <th>333</th>\n",
       "      <td>5.7</td>\n",
       "      <td>Chelsea and Fulham</td>\n",
       "      <td>E14000629</td>\n",
       "      <td>10</td>\n",
       "      <td>24.5</td>\n",
       "    </tr>\n",
       "  </tbody>\n",
       "</table>\n",
       "<p>650 rows × 5 columns</p>\n",
       "</div>"
      ],
      "text/plain": [
       "     Average real change (%)            Constituency       Code   y     x\n",
       "619                     -1.6    Na h-Eileanan an Iar  S14000027  40   9.5\n",
       "277                     -0.8          Great Yarmouth  E14000717  13  32.0\n",
       "34                      -0.6  Blackley and Broughton  E14000571  23  13.0\n",
       "41                      -0.3                 Burnley  E14000609  27  16.0\n",
       "25                       0.1      Sunderland Central  E14000982  31  21.0\n",
       "..                       ...                     ...        ...  ..   ...\n",
       "392                      5.6       Westminster North  E14001036  10  22.5\n",
       "380                      5.6           Richmond Park  E14000896   6  21.5\n",
       "369                      5.6              Kensington  E14000768   8  23.5\n",
       "364                      5.6  Hornsey and Wood Green  E14000752  11  23.0\n",
       "333                      5.7      Chelsea and Fulham  E14000629  10  24.5\n",
       "\n",
       "[650 rows x 5 columns]"
      ]
     },
     "execution_count": 9,
     "metadata": {},
     "output_type": "execute_result"
    }
   ],
   "source": [
    "df.sort_values(\"Average real change (%)\")"
   ]
  }
 ],
 "metadata": {
  "kernelspec": {
   "display_name": "base",
   "language": "python",
   "name": "python3"
  },
  "language_info": {
   "codemirror_mode": {
    "name": "ipython",
    "version": 3
   },
   "file_extension": ".py",
   "mimetype": "text/x-python",
   "name": "python",
   "nbconvert_exporter": "python",
   "pygments_lexer": "ipython3",
   "version": "3.10.14"
  }
 },
 "nbformat": 4,
 "nbformat_minor": 2
}
