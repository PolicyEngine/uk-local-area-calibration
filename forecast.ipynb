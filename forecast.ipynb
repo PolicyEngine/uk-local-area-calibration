{
 "cells": [
  {
   "cell_type": "code",
   "execution_count": 1,
   "metadata": {},
   "outputs": [],
   "source": [
    "import h5py\n",
    "import pandas as pd\n",
    "from policyengine_uk import Microsimulation\n",
    "\n",
    "weight_data = h5py.File(\"constituencies/weights.h5\", \"r\")\n",
    "constituencies = pd.read_csv(\"constituencies/targets/constituencies.csv\")"
   ]
  },
  {
   "cell_type": "code",
   "execution_count": 2,
   "metadata": {},
   "outputs": [],
   "source": [
    "baseline = Microsimulation()\n",
    "\n",
    "hnet_24 = baseline.calculate(\"real_household_net_income\", 2024)\n",
    "hnet_29 = baseline.calculate(\"real_household_net_income\", 2029)"
   ]
  },
  {
   "cell_type": "code",
   "execution_count": 3,
   "metadata": {},
   "outputs": [],
   "source": [
    "change = hnet_29 - hnet_24"
   ]
  },
  {
   "cell_type": "code",
   "execution_count": 4,
   "metadata": {},
   "outputs": [],
   "source": [
    "from constituencies.charts import constituencies as hex_con"
   ]
  },
  {
   "cell_type": "code",
   "execution_count": 15,
   "metadata": {},
   "outputs": [],
   "source": [
    "import plotly.express as px\n",
    "import numpy as np\n",
    "\n",
    "weights = weight_data[\"weight\"]\n",
    "\n",
    "\n",
    "weighted_gain = np.dot(weights, change)\n",
    "weighted_original_income = np.dot(weights, hnet_24)\n",
    "weighted_rel_gain = weighted_gain / weighted_original_income\n",
    "\n",
    "df = pd.DataFrame()\n",
    "df[\"Average real change (%)\"] = weighted_rel_gain * 100\n",
    "df[\"Constituency\"] = constituencies.name\n",
    "df[\"Code\"] = constituencies.code\n",
    "\n",
    "df[\"y\"] = hex_con.set_index(\"code\").loc[df.Code].y.values\n",
    "df[\"x\"] = hex_con.set_index(\"code\").loc[df.Code].x.values\n",
    "df.x = df.x + (df.y % 2 == 0) * -0.5"
   ]
  },
  {
   "cell_type": "code",
   "execution_count": 16,
   "metadata": {},
   "outputs": [
    {
     "data": {
      "application/vnd.plotly.v1+json": {
       "config": {
        "plotlyServerURL": "https://plot.ly"
       },
       "data": [
        {
         "customdata": [
          [
           "Berwick-upon-Tweed"
          ],
          [
           "Bishop Auckland"
          ],
          [
           "Blaydon"
          ],
          [
           "Blyth Valley"
          ],
          [
           "City of Durham"
          ],
          [
           "Darlington"
          ],
          [
           "Easington"
          ],
          [
           "Gateshead"
          ],
          [
           "Hartlepool"
          ],
          [
           "Hexham"
          ],
          [
           "Houghton and Sunderland South"
          ],
          [
           "Jarrow"
          ],
          [
           "Middlesbrough"
          ],
          [
           "Middlesbrough South and East Cleveland"
          ],
          [
           "Newcastle upon Tyne Central"
          ],
          [
           "Newcastle upon Tyne East"
          ],
          [
           "Newcastle upon Tyne North"
          ],
          [
           "North Durham"
          ],
          [
           "North Tyneside"
          ],
          [
           "North West Durham"
          ],
          [
           "Redcar"
          ],
          [
           "Sedgefield"
          ],
          [
           "South Shields"
          ],
          [
           "Stockton North"
          ],
          [
           "Stockton South"
          ],
          [
           "Sunderland Central"
          ],
          [
           "Tynemouth"
          ],
          [
           "Wansbeck"
          ],
          [
           "Washington and Sunderland West"
          ],
          [
           "Altrincham and Sale West"
          ],
          [
           "Ashton-under-Lyne"
          ],
          [
           "Barrow and Furness"
          ],
          [
           "Birkenhead"
          ],
          [
           "Blackburn"
          ],
          [
           "Blackley and Broughton"
          ],
          [
           "Blackpool North and Cleveleys"
          ],
          [
           "Blackpool South"
          ],
          [
           "Bolton North East"
          ],
          [
           "Bolton South East"
          ],
          [
           "Bolton West"
          ],
          [
           "Bootle"
          ],
          [
           "Burnley"
          ],
          [
           "Bury North"
          ],
          [
           "Bury South"
          ],
          [
           "Carlisle"
          ],
          [
           "Cheadle"
          ],
          [
           "Chorley"
          ],
          [
           "City of Chester"
          ],
          [
           "Congleton"
          ],
          [
           "Copeland"
          ],
          [
           "Crewe and Nantwich"
          ],
          [
           "Denton and Reddish"
          ],
          [
           "Eddisbury"
          ],
          [
           "Ellesmere Port and Neston"
          ],
          [
           "Fylde"
          ],
          [
           "Garston and Halewood"
          ],
          [
           "Halton"
          ],
          [
           "Hazel Grove"
          ],
          [
           "Heywood and Middleton"
          ],
          [
           "Hyndburn"
          ],
          [
           "Knowsley"
          ],
          [
           "Lancaster and Fleetwood"
          ],
          [
           "Leigh"
          ],
          [
           "Liverpool, Riverside"
          ],
          [
           "Liverpool, Walton"
          ],
          [
           "Liverpool, Wavertree"
          ],
          [
           "Liverpool, West Derby"
          ],
          [
           "Macclesfield"
          ],
          [
           "Makerfield"
          ],
          [
           "Manchester Central"
          ],
          [
           "Manchester, Gorton"
          ],
          [
           "Manchester, Withington"
          ],
          [
           "Morecambe and Lunesdale"
          ],
          [
           "Oldham East and Saddleworth"
          ],
          [
           "Oldham West and Royton"
          ],
          [
           "Pendle"
          ],
          [
           "Penrith and The Border"
          ],
          [
           "Preston"
          ],
          [
           "Ribble Valley"
          ],
          [
           "Rochdale"
          ],
          [
           "Rossendale and Darwen"
          ],
          [
           "Salford and Eccles"
          ],
          [
           "Sefton Central"
          ],
          [
           "South Ribble"
          ],
          [
           "Southport"
          ],
          [
           "St Helens North"
          ],
          [
           "St Helens South and Whiston"
          ],
          [
           "Stalybridge and Hyde"
          ],
          [
           "Stockport"
          ],
          [
           "Stretford and Urmston"
          ],
          [
           "Tatton"
          ],
          [
           "Wallasey"
          ],
          [
           "Warrington North"
          ],
          [
           "Warrington South"
          ],
          [
           "Weaver Vale"
          ],
          [
           "West Lancashire"
          ],
          [
           "Westmorland and Lonsdale"
          ],
          [
           "Wigan"
          ],
          [
           "Wirral South"
          ],
          [
           "Wirral West"
          ],
          [
           "Workington"
          ],
          [
           "Worsley and Eccles South"
          ],
          [
           "Wyre and Preston North"
          ],
          [
           "Wythenshawe and Sale East"
          ],
          [
           "Barnsley Central"
          ],
          [
           "Barnsley East"
          ],
          [
           "Batley and Spen"
          ],
          [
           "Beverley and Holderness"
          ],
          [
           "Bradford East"
          ],
          [
           "Bradford South"
          ],
          [
           "Bradford West"
          ],
          [
           "Brigg and Goole"
          ],
          [
           "Calder Valley"
          ],
          [
           "Cleethorpes"
          ],
          [
           "Colne Valley"
          ],
          [
           "Dewsbury"
          ],
          [
           "Don Valley"
          ],
          [
           "Doncaster Central"
          ],
          [
           "Doncaster North"
          ],
          [
           "East Yorkshire"
          ],
          [
           "Elmet and Rothwell"
          ],
          [
           "Great Grimsby"
          ],
          [
           "Halifax"
          ],
          [
           "Haltemprice and Howden"
          ],
          [
           "Harrogate and Knaresborough"
          ],
          [
           "Hemsworth"
          ],
          [
           "Huddersfield"
          ],
          [
           "Keighley"
          ],
          [
           "Kingston upon Hull East"
          ],
          [
           "Kingston upon Hull North"
          ],
          [
           "Kingston upon Hull West and Hessle"
          ],
          [
           "Leeds Central"
          ],
          [
           "Leeds East"
          ],
          [
           "Leeds North East"
          ],
          [
           "Leeds North West"
          ],
          [
           "Leeds West"
          ],
          [
           "Morley and Outwood"
          ],
          [
           "Normanton, Pontefract and Castleford"
          ],
          [
           "Penistone and Stocksbridge"
          ],
          [
           "Pudsey"
          ],
          [
           "Richmond (Yorks)"
          ],
          [
           "Rother Valley"
          ],
          [
           "Rotherham"
          ],
          [
           "Scarborough and Whitby"
          ],
          [
           "Scunthorpe"
          ],
          [
           "Selby and Ainsty"
          ],
          [
           "Sheffield Central"
          ],
          [
           "Sheffield South East"
          ],
          [
           "Sheffield, Brightside and Hillsborough"
          ],
          [
           "Sheffield, Hallam"
          ],
          [
           "Sheffield, Heeley"
          ],
          [
           "Shipley"
          ],
          [
           "Skipton and Ripon"
          ],
          [
           "Thirsk and Malton"
          ],
          [
           "Wakefield"
          ],
          [
           "Wentworth and Dearne"
          ],
          [
           "York Central"
          ],
          [
           "York Outer"
          ],
          [
           "Amber Valley"
          ],
          [
           "Ashfield"
          ],
          [
           "Bassetlaw"
          ],
          [
           "Bolsover"
          ],
          [
           "Boston and Skegness"
          ],
          [
           "Bosworth"
          ],
          [
           "Broxtowe"
          ],
          [
           "Charnwood"
          ],
          [
           "Chesterfield"
          ],
          [
           "Corby"
          ],
          [
           "Daventry"
          ],
          [
           "Derby North"
          ],
          [
           "Derby South"
          ],
          [
           "Derbyshire Dales"
          ],
          [
           "Erewash"
          ],
          [
           "Gainsborough"
          ],
          [
           "Gedling"
          ],
          [
           "Grantham and Stamford"
          ],
          [
           "Harborough"
          ],
          [
           "High Peak"
          ],
          [
           "Kettering"
          ],
          [
           "Leicester East"
          ],
          [
           "Leicester South"
          ],
          [
           "Leicester West"
          ],
          [
           "Lincoln"
          ],
          [
           "Loughborough"
          ],
          [
           "Louth and Horncastle"
          ],
          [
           "Mansfield"
          ],
          [
           "Mid Derbyshire"
          ],
          [
           "Newark"
          ],
          [
           "North East Derbyshire"
          ],
          [
           "North West Leicestershire"
          ],
          [
           "Northampton North"
          ],
          [
           "Northampton South"
          ],
          [
           "Nottingham East"
          ],
          [
           "Nottingham North"
          ],
          [
           "Nottingham South"
          ],
          [
           "Rushcliffe"
          ],
          [
           "Rutland and Melton"
          ],
          [
           "Sherwood"
          ],
          [
           "Sleaford and North Hykeham"
          ],
          [
           "South Derbyshire"
          ],
          [
           "South Holland and The Deepings"
          ],
          [
           "South Leicestershire"
          ],
          [
           "South Northamptonshire"
          ],
          [
           "Wellingborough"
          ],
          [
           "Aldridge-Brownhills"
          ],
          [
           "Birmingham, Edgbaston"
          ],
          [
           "Birmingham, Erdington"
          ],
          [
           "Birmingham, Hall Green"
          ],
          [
           "Birmingham, Hodge Hill"
          ],
          [
           "Birmingham, Ladywood"
          ],
          [
           "Birmingham, Northfield"
          ],
          [
           "Birmingham, Perry Barr"
          ],
          [
           "Birmingham, Selly Oak"
          ],
          [
           "Birmingham, Yardley"
          ],
          [
           "Bromsgrove"
          ],
          [
           "Burton"
          ],
          [
           "Cannock Chase"
          ],
          [
           "Coventry North East"
          ],
          [
           "Coventry North West"
          ],
          [
           "Coventry South"
          ],
          [
           "Dudley North"
          ],
          [
           "Dudley South"
          ],
          [
           "Halesowen and Rowley Regis"
          ],
          [
           "Hereford and South Herefordshire"
          ],
          [
           "Kenilworth and Southam"
          ],
          [
           "Lichfield"
          ],
          [
           "Ludlow"
          ],
          [
           "Meriden"
          ],
          [
           "Mid Worcestershire"
          ],
          [
           "Newcastle-under-Lyme"
          ],
          [
           "North Herefordshire"
          ],
          [
           "North Shropshire"
          ],
          [
           "North Warwickshire"
          ],
          [
           "Nuneaton"
          ],
          [
           "Redditch"
          ],
          [
           "Rugby"
          ],
          [
           "Shrewsbury and Atcham"
          ],
          [
           "Solihull"
          ],
          [
           "South Staffordshire"
          ],
          [
           "Stafford"
          ],
          [
           "Staffordshire Moorlands"
          ],
          [
           "Stoke-on-Trent Central"
          ],
          [
           "Stoke-on-Trent North"
          ],
          [
           "Stoke-on-Trent South"
          ],
          [
           "Stone"
          ],
          [
           "Stourbridge"
          ],
          [
           "Stratford-on-Avon"
          ],
          [
           "Sutton Coldfield"
          ],
          [
           "Tamworth"
          ],
          [
           "Telford"
          ],
          [
           "The Wrekin"
          ],
          [
           "Walsall North"
          ],
          [
           "Walsall South"
          ],
          [
           "Warley"
          ],
          [
           "Warwick and Leamington"
          ],
          [
           "West Bromwich East"
          ],
          [
           "West Bromwich West"
          ],
          [
           "West Worcestershire"
          ],
          [
           "Wolverhampton North East"
          ],
          [
           "Wolverhampton South East"
          ],
          [
           "Wolverhampton South West"
          ],
          [
           "Worcester"
          ],
          [
           "Wyre Forest"
          ],
          [
           "Basildon and Billericay"
          ],
          [
           "Bedford"
          ],
          [
           "Braintree"
          ],
          [
           "Brentwood and Ongar"
          ],
          [
           "Broadland"
          ],
          [
           "Broxbourne"
          ],
          [
           "Bury St Edmunds"
          ],
          [
           "Cambridge"
          ],
          [
           "Castle Point"
          ],
          [
           "Central Suffolk and North Ipswich"
          ],
          [
           "Chelmsford"
          ],
          [
           "Clacton"
          ],
          [
           "Colchester"
          ],
          [
           "Epping Forest"
          ],
          [
           "Great Yarmouth"
          ],
          [
           "Harlow"
          ],
          [
           "Harwich and North Essex"
          ],
          [
           "Hemel Hempstead"
          ],
          [
           "Hertford and Stortford"
          ],
          [
           "Hertsmere"
          ],
          [
           "Hitchin and Harpenden"
          ],
          [
           "Huntingdon"
          ],
          [
           "Ipswich"
          ],
          [
           "Luton North"
          ],
          [
           "Luton South"
          ],
          [
           "Maldon"
          ],
          [
           "Mid Bedfordshire"
          ],
          [
           "Mid Norfolk"
          ],
          [
           "North East Bedfordshire"
          ],
          [
           "North East Cambridgeshire"
          ],
          [
           "North East Hertfordshire"
          ],
          [
           "North Norfolk"
          ],
          [
           "North West Cambridgeshire"
          ],
          [
           "North West Norfolk"
          ],
          [
           "Norwich North"
          ],
          [
           "Norwich South"
          ],
          [
           "Peterborough"
          ],
          [
           "Rayleigh and Wickford"
          ],
          [
           "Rochford and Southend East"
          ],
          [
           "Saffron Walden"
          ],
          [
           "South Basildon and East Thurrock"
          ],
          [
           "South Cambridgeshire"
          ],
          [
           "South East Cambridgeshire"
          ],
          [
           "South Norfolk"
          ],
          [
           "South Suffolk"
          ],
          [
           "South West Bedfordshire"
          ],
          [
           "South West Hertfordshire"
          ],
          [
           "South West Norfolk"
          ],
          [
           "Southend West"
          ],
          [
           "St Albans"
          ],
          [
           "Stevenage"
          ],
          [
           "Suffolk Coastal"
          ],
          [
           "Thurrock"
          ],
          [
           "Watford"
          ],
          [
           "Waveney"
          ],
          [
           "Welwyn Hatfield"
          ],
          [
           "West Suffolk"
          ],
          [
           "Witham"
          ],
          [
           "Barking"
          ],
          [
           "Battersea"
          ],
          [
           "Beckenham"
          ],
          [
           "Bermondsey and Old Southwark"
          ],
          [
           "Bethnal Green and Bow"
          ],
          [
           "Bexleyheath and Crayford"
          ],
          [
           "Brent Central"
          ],
          [
           "Brent North"
          ],
          [
           "Brentford and Isleworth"
          ],
          [
           "Bromley and Chislehurst"
          ],
          [
           "Camberwell and Peckham"
          ],
          [
           "Carshalton and Wallington"
          ],
          [
           "Chelsea and Fulham"
          ],
          [
           "Chingford and Woodford Green"
          ],
          [
           "Chipping Barnet"
          ],
          [
           "Cities of London and Westminster"
          ],
          [
           "Croydon Central"
          ],
          [
           "Croydon North"
          ],
          [
           "Croydon South"
          ],
          [
           "Dagenham and Rainham"
          ],
          [
           "Dulwich and West Norwood"
          ],
          [
           "Ealing Central and Acton"
          ],
          [
           "Ealing North"
          ],
          [
           "Ealing, Southall"
          ],
          [
           "East Ham"
          ],
          [
           "Edmonton"
          ],
          [
           "Eltham"
          ],
          [
           "Enfield North"
          ],
          [
           "Enfield, Southgate"
          ],
          [
           "Erith and Thamesmead"
          ],
          [
           "Feltham and Heston"
          ],
          [
           "Finchley and Golders Green"
          ],
          [
           "Greenwich and Woolwich"
          ],
          [
           "Hackney North and Stoke Newington"
          ],
          [
           "Hackney South and Shoreditch"
          ],
          [
           "Hammersmith"
          ],
          [
           "Hampstead and Kilburn"
          ],
          [
           "Harrow East"
          ],
          [
           "Harrow West"
          ],
          [
           "Hayes and Harlington"
          ],
          [
           "Hendon"
          ],
          [
           "Holborn and St Pancras"
          ],
          [
           "Hornchurch and Upminster"
          ],
          [
           "Hornsey and Wood Green"
          ],
          [
           "Ilford North"
          ],
          [
           "Ilford South"
          ],
          [
           "Islington North"
          ],
          [
           "Islington South and Finsbury"
          ],
          [
           "Kensington"
          ],
          [
           "Kingston and Surbiton"
          ],
          [
           "Lewisham East"
          ],
          [
           "Lewisham West and Penge"
          ],
          [
           "Lewisham, Deptford"
          ],
          [
           "Leyton and Wanstead"
          ],
          [
           "Mitcham and Morden"
          ],
          [
           "Old Bexley and Sidcup"
          ],
          [
           "Orpington"
          ],
          [
           "Poplar and Limehouse"
          ],
          [
           "Putney"
          ],
          [
           "Richmond Park"
          ],
          [
           "Romford"
          ],
          [
           "Ruislip, Northwood and Pinner"
          ],
          [
           "Streatham"
          ],
          [
           "Sutton and Cheam"
          ],
          [
           "Tooting"
          ],
          [
           "Tottenham"
          ],
          [
           "Twickenham"
          ],
          [
           "Uxbridge and South Ruislip"
          ],
          [
           "Vauxhall"
          ],
          [
           "Walthamstow"
          ],
          [
           "West Ham"
          ],
          [
           "Westminster North"
          ],
          [
           "Wimbledon"
          ],
          [
           "Aldershot"
          ],
          [
           "Arundel and South Downs"
          ],
          [
           "Ashford"
          ],
          [
           "Aylesbury"
          ],
          [
           "Banbury"
          ],
          [
           "Basingstoke"
          ],
          [
           "Beaconsfield"
          ],
          [
           "Bexhill and Battle"
          ],
          [
           "Bognor Regis and Littlehampton"
          ],
          [
           "Bracknell"
          ],
          [
           "Brighton, Kemptown"
          ],
          [
           "Brighton, Pavilion"
          ],
          [
           "Buckingham"
          ],
          [
           "Canterbury"
          ],
          [
           "Chatham and Aylesford"
          ],
          [
           "Chesham and Amersham"
          ],
          [
           "Chichester"
          ],
          [
           "Crawley"
          ],
          [
           "Dartford"
          ],
          [
           "Dover"
          ],
          [
           "East Hampshire"
          ],
          [
           "East Surrey"
          ],
          [
           "East Worthing and Shoreham"
          ],
          [
           "Eastbourne"
          ],
          [
           "Eastleigh"
          ],
          [
           "Epsom and Ewell"
          ],
          [
           "Esher and Walton"
          ],
          [
           "Fareham"
          ],
          [
           "Faversham and Mid Kent"
          ],
          [
           "Folkestone and Hythe"
          ],
          [
           "Gillingham and Rainham"
          ],
          [
           "Gosport"
          ],
          [
           "Gravesham"
          ],
          [
           "Guildford"
          ],
          [
           "Hastings and Rye"
          ],
          [
           "Havant"
          ],
          [
           "Henley"
          ],
          [
           "Horsham"
          ],
          [
           "Hove"
          ],
          [
           "Isle of Wight"
          ],
          [
           "Lewes"
          ],
          [
           "Maidenhead"
          ],
          [
           "Maidstone and The Weald"
          ],
          [
           "Meon Valley"
          ],
          [
           "Mid Sussex"
          ],
          [
           "Milton Keynes North"
          ],
          [
           "Milton Keynes South"
          ],
          [
           "Mole Valley"
          ],
          [
           "New Forest East"
          ],
          [
           "New Forest West"
          ],
          [
           "Newbury"
          ],
          [
           "North East Hampshire"
          ],
          [
           "North Thanet"
          ],
          [
           "North West Hampshire"
          ],
          [
           "Oxford East"
          ],
          [
           "Oxford West and Abingdon"
          ],
          [
           "Portsmouth North"
          ],
          [
           "Portsmouth South"
          ],
          [
           "Reading East"
          ],
          [
           "Reading West"
          ],
          [
           "Reigate"
          ],
          [
           "Rochester and Strood"
          ],
          [
           "Romsey and Southampton North"
          ],
          [
           "Runnymede and Weybridge"
          ],
          [
           "Sevenoaks"
          ],
          [
           "Sittingbourne and Sheppey"
          ],
          [
           "Slough"
          ],
          [
           "South Thanet"
          ],
          [
           "South West Surrey"
          ],
          [
           "Southampton, Itchen"
          ],
          [
           "Southampton, Test"
          ],
          [
           "Spelthorne"
          ],
          [
           "Surrey Heath"
          ],
          [
           "Tonbridge and Malling"
          ],
          [
           "Tunbridge Wells"
          ],
          [
           "Wantage"
          ],
          [
           "Wealden"
          ],
          [
           "Winchester"
          ],
          [
           "Windsor"
          ],
          [
           "Witney"
          ],
          [
           "Woking"
          ],
          [
           "Wokingham"
          ],
          [
           "Worthing West"
          ],
          [
           "Wycombe"
          ],
          [
           "Bath"
          ],
          [
           "Bournemouth East"
          ],
          [
           "Bournemouth West"
          ],
          [
           "Bridgwater and West Somerset"
          ],
          [
           "Bristol East"
          ],
          [
           "Bristol North West"
          ],
          [
           "Bristol South"
          ],
          [
           "Bristol West"
          ],
          [
           "Camborne and Redruth"
          ],
          [
           "Central Devon"
          ],
          [
           "Cheltenham"
          ],
          [
           "Chippenham"
          ],
          [
           "Christchurch"
          ],
          [
           "Devizes"
          ],
          [
           "East Devon"
          ],
          [
           "Exeter"
          ],
          [
           "Filton and Bradley Stoke"
          ],
          [
           "Forest of Dean"
          ],
          [
           "Gloucester"
          ],
          [
           "Kingswood"
          ],
          [
           "Mid Dorset and North Poole"
          ],
          [
           "Newton Abbot"
          ],
          [
           "North Cornwall"
          ],
          [
           "North Devon"
          ],
          [
           "North Dorset"
          ],
          [
           "North East Somerset"
          ],
          [
           "North Somerset"
          ],
          [
           "North Swindon"
          ],
          [
           "North Wiltshire"
          ],
          [
           "Plymouth, Moor View"
          ],
          [
           "Plymouth, Sutton and Devonport"
          ],
          [
           "Poole"
          ],
          [
           "Salisbury"
          ],
          [
           "Somerton and Frome"
          ],
          [
           "South Dorset"
          ],
          [
           "South East Cornwall"
          ],
          [
           "South Swindon"
          ],
          [
           "South West Devon"
          ],
          [
           "South West Wiltshire"
          ],
          [
           "St Austell and Newquay"
          ],
          [
           "St Ives"
          ],
          [
           "Stroud"
          ],
          [
           "Taunton Deane"
          ],
          [
           "Tewkesbury"
          ],
          [
           "The Cotswolds"
          ],
          [
           "Thornbury and Yate"
          ],
          [
           "Tiverton and Honiton"
          ],
          [
           "Torbay"
          ],
          [
           "Torridge and West Devon"
          ],
          [
           "Totnes"
          ],
          [
           "Truro and Falmouth"
          ],
          [
           "Wells"
          ],
          [
           "West Dorset"
          ],
          [
           "Weston-Super-Mare"
          ],
          [
           "Yeovil"
          ],
          [
           "Aberavon"
          ],
          [
           "Aberconwy"
          ],
          [
           "Alyn and Deeside"
          ],
          [
           "Arfon"
          ],
          [
           "Blaenau Gwent"
          ],
          [
           "Brecon and Radnorshire"
          ],
          [
           "Bridgend"
          ],
          [
           "Caerphilly"
          ],
          [
           "Cardiff Central"
          ],
          [
           "Cardiff North"
          ],
          [
           "Cardiff South and Penarth"
          ],
          [
           "Cardiff West"
          ],
          [
           "Carmarthen East and Dinefwr"
          ],
          [
           "Carmarthen West and South Pembrokeshire"
          ],
          [
           "Ceredigion"
          ],
          [
           "Clwyd South"
          ],
          [
           "Clwyd West"
          ],
          [
           "Cynon Valley"
          ],
          [
           "Delyn"
          ],
          [
           "Dwyfor Meirionnydd"
          ],
          [
           "Gower"
          ],
          [
           "Islwyn"
          ],
          [
           "Llanelli"
          ],
          [
           "Merthyr Tydfil and Rhymney"
          ],
          [
           "Monmouth"
          ],
          [
           "Montgomeryshire"
          ],
          [
           "Neath"
          ],
          [
           "Newport East"
          ],
          [
           "Newport West"
          ],
          [
           "Ogmore"
          ],
          [
           "Pontypridd"
          ],
          [
           "Preseli Pembrokeshire"
          ],
          [
           "Rhondda"
          ],
          [
           "Swansea East"
          ],
          [
           "Swansea West"
          ],
          [
           "Torfaen"
          ],
          [
           "Vale of Clwyd"
          ],
          [
           "Vale of Glamorgan"
          ],
          [
           "Wrexham"
          ],
          [
           "Ynys Môn"
          ],
          [
           "Aberdeen North"
          ],
          [
           "Aberdeen South"
          ],
          [
           "Airdrie and Shotts"
          ],
          [
           "Angus"
          ],
          [
           "Argyll and Bute"
          ],
          [
           "Ayr, Carrick and Cumnock"
          ],
          [
           "Banff and Buchan"
          ],
          [
           "Berwickshire, Roxburgh and Selkirk"
          ],
          [
           "Caithness, Sutherland and Easter Ross"
          ],
          [
           "Central Ayrshire"
          ],
          [
           "Coatbridge, Chryston and Bellshill"
          ],
          [
           "Cumbernauld, Kilsyth and Kirkintilloch East"
          ],
          [
           "Dumfries and Galloway"
          ],
          [
           "Dumfriesshire, Clydesdale and Tweeddale"
          ],
          [
           "Dundee East"
          ],
          [
           "Dundee West"
          ],
          [
           "Dunfermline and West Fife"
          ],
          [
           "East Dunbartonshire"
          ],
          [
           "East Kilbride, Strathaven and Lesmahagow"
          ],
          [
           "East Lothian"
          ],
          [
           "East Renfrewshire"
          ],
          [
           "Edinburgh East"
          ],
          [
           "Edinburgh North and Leith"
          ],
          [
           "Edinburgh South"
          ],
          [
           "Edinburgh South West"
          ],
          [
           "Edinburgh West"
          ],
          [
           "Falkirk"
          ],
          [
           "Glasgow Central"
          ],
          [
           "Glasgow East"
          ],
          [
           "Glasgow North"
          ],
          [
           "Glasgow North East"
          ],
          [
           "Glasgow North West"
          ],
          [
           "Glasgow South"
          ],
          [
           "Glasgow South West"
          ],
          [
           "Glenrothes"
          ],
          [
           "Gordon"
          ],
          [
           "Inverclyde"
          ],
          [
           "Inverness, Nairn, Badenoch and Strathspey"
          ],
          [
           "Kilmarnock and Loudoun"
          ],
          [
           "Kirkcaldy and Cowdenbeath"
          ],
          [
           "Lanark and Hamilton East"
          ],
          [
           "Linlithgow and East Falkirk"
          ],
          [
           "Livingston"
          ],
          [
           "Midlothian"
          ],
          [
           "Moray"
          ],
          [
           "Motherwell and Wishaw"
          ],
          [
           "Na h-Eileanan an Iar"
          ],
          [
           "North Ayrshire and Arran"
          ],
          [
           "North East Fife"
          ],
          [
           "Ochil and South Perthshire"
          ],
          [
           "Orkney and Shetland"
          ],
          [
           "Paisley and Renfrewshire North"
          ],
          [
           "Paisley and Renfrewshire South"
          ],
          [
           "Perth and North Perthshire"
          ],
          [
           "Ross, Skye and Lochaber"
          ],
          [
           "Rutherglen and Hamilton West"
          ],
          [
           "Stirling"
          ],
          [
           "West Aberdeenshire and Kincardine"
          ],
          [
           "West Dunbartonshire"
          ],
          [
           "Belfast East"
          ],
          [
           "Belfast North"
          ],
          [
           "Belfast South"
          ],
          [
           "Belfast West"
          ],
          [
           "East Antrim"
          ],
          [
           "East Londonderry"
          ],
          [
           "Fermanagh & South Tyrone"
          ],
          [
           "Foyle"
          ],
          [
           "Lagan Valley"
          ],
          [
           "Mid Ulster"
          ],
          [
           "Newry & Armagh"
          ],
          [
           "North Antrim"
          ],
          [
           "North Down"
          ],
          [
           "South Antrim"
          ],
          [
           "South Down"
          ],
          [
           "Strangford"
          ],
          [
           "Upper Bann"
          ],
          [
           "West Tyrone"
          ]
         ],
         "hovertemplate": "x=%{x}<br>y=%{y}<br>Constituency=%{customdata[0]}<br>Average real change (%)=%{marker.color}<extra></extra>",
         "legendgroup": "",
         "marker": {
          "color": [
           0.8184676170349121,
           0.6841235756874084,
           1.2908778190612793,
           0.4519939422607422,
           1.5255964994430542,
           0.6381717324256897,
           -2.172020673751831,
           0.4574200510978699,
           -0.011130709201097488,
           2.4770724773406982,
           -1.834152102470398,
           0.46119141578674316,
           -0.87567538022995,
           1.5693066120147705,
           0.2713489234447479,
           0.7855933308601379,
           1.2932049036026,
           0.3131212890148163,
           0.2770741581916809,
           -0.14137966930866241,
           0.6579270958900452,
           0.565059244632721,
           -0.44652485847473145,
           -0.5407043695449829,
           2.0965917110443115,
           -1.8301870822906494,
           1.7693456411361694,
           0.695874810218811,
           -0.7230504155158997,
           5.254520416259766,
           -0.6708561778068542,
           0.7828490734100342,
           -1.130085825920105,
           -1.140136957168579,
           -1.6506774425506592,
           -1.3976669311523438,
           -2.9361472129821777,
           0.46262940764427185,
           -2.014463424682617,
           1.9973002672195435,
           0.4149487614631653,
           -0.17558717727661133,
           1.1468333005905151,
           1.6163904666900635,
           0.549095094203949,
           3.45957088470459,
           2.5541532039642334,
           2.6290555000305176,
           3.2521822452545166,
           1.7457703351974487,
           1.3580937385559082,
           0.7148711085319519,
           2.902456760406494,
           0.9047703742980957,
           2.3765501976013184,
           0.29773542284965515,
           0.5042085647583008,
           1.3063632249832153,
           1.3344351053237915,
           -1.1291759014129639,
           0.44335269927978516,
           0.18576498329639435,
           1.2127647399902344,
           0.6421684622764587,
           -1.5876352787017822,
           -1.163493037223816,
           -0.2323402315378189,
           2.8134610652923584,
           -0.05154519900679588,
           0.9855179190635681,
           -1.544535517692566,
           1.7855204343795776,
           -0.5551913976669312,
           0.9909763932228088,
           -1.4233909845352173,
           0.6326829195022583,
           1.4139739274978638,
           -0.2329743504524231,
           2.354480504989624,
           -0.06258172541856766,
           2.0864675045013428,
           0.9359197020530701,
           2.41593074798584,
           2.282900094985962,
           1.6408824920654297,
           0.22946645319461823,
           1.0184763669967651,
           0.8017732501029968,
           1.8169164657592773,
           0.30840280652046204,
           9.520225524902344,
           -0.04760265350341797,
           1.4029958248138428,
           2.665020227432251,
           2.2103769779205322,
           2.8012032508850098,
           1.823645830154419,
           1.2212989330291748,
           1.0441242456436157,
           1.2242236137390137,
           -0.04546990990638733,
           1.8559776544570923,
           2.7095787525177,
           1.242049217224121,
           0.5166624784469604,
           0.6224305629730225,
           0.37933871150016785,
           1.951522707939148,
           -0.47585758566856384,
           -1.330826997756958,
           -0.6394210457801819,
           0.4307793974876404,
           2.5338423252105713,
           1.3930249214172363,
           1.6078267097473145,
           1.7122139930725098,
           1.5757124423980713,
           1.2129801511764526,
           0.31816166639328003,
           1.268338918685913,
           2.3243534564971924,
           -1.1579289436340332,
           0.3999415636062622,
           2.2543914318084717,
           2.418872594833374,
           0.5466536283493042,
           0.3117048442363739,
           1.6508841514587402,
           -0.8826736211776733,
           -0.717282235622406,
           1.1631017923355103,
           0.5867316126823425,
           0.357634574174881,
           1.9457913637161255,
           2.7966113090515137,
           0.8587396740913391,
           1.3354456424713135,
           0.5982389450073242,
           1.006559133529663,
           2.367065191268921,
           3.1145923137664795,
           1.6965264081954956,
           0.9039039015769958,
           -0.5840085744857788,
           -0.07141077518463135,
           2.5216150283813477,
           0.9361638426780701,
           -1.128484845161438,
           -1.757490873336792,
           1.119594693183899,
           1.4660367965698242,
           1.6711784601211548,
           3.104180097579956,
           2.904658317565918,
           1.6602970361709595,
           0.8849289417266846,
           1.26170015335083,
           1.9545178413391113,
           0.36421987414360046,
           0.4924497604370117,
           1.2352145910263062,
           0.5316448211669922,
           -0.051762018352746964,
           1.6684077978134155,
           2.1151115894317627,
           2.3497202396392822,
           0.09587538242340088,
           2.044705390930176,
           1.9262281656265259,
           1.6359004974365234,
           0.38490384817123413,
           1.7818567752838135,
           0.38954630494117737,
           1.4704476594924927,
           0.520092785358429,
           2.160987138748169,
           3.71634578704834,
           1.4543172121047974,
           2.125408172607422,
           0.11771697551012039,
           0.7292016744613647,
           0.47906556725502014,
           1.063822865486145,
           1.7847888469696045,
           0.7121468782424927,
           0.79984450340271,
           1.8902746438980103,
           3.0027360916137695,
           1.3318705558776855,
           1.817234992980957,
           -0.20574384927749634,
           0.19236113131046295,
           0.16071289777755737,
           -0.06422284990549088,
           1.2836307287216187,
           3.1985461711883545,
           1.9409656524658203,
           1.1273025274276733,
           1.9684083461761475,
           1.485597848892212,
           1.1492433547973633,
           2.0729401111602783,
           3.0566532611846924,
           1.0735059976577759,
           1.0265182256698608,
           3.843266248703003,
           0.05092275142669678,
           0.5535369515419006,
           -0.5152939558029175,
           0.5455784797668457,
           0.7810757756233215,
           -0.647576093673706,
           1.1087220907211304,
           0.0642341673374176,
           2.323554754257202,
           1.6520698070526123,
           1.3476698398590088,
           0.23077665269374847,
           1.1098966598510742,
           2.1151955127716064,
           -1.8630236387252808,
           0.1995161920785904,
           -0.2682725787162781,
           0.6995198130607605,
           3.557408571243286,
           2.1644325256347656,
           1.878839135169983,
           2.8358659744262695,
           2.0488193035125732,
           0.6641667485237122,
           1.4479477405548096,
           1.66562819480896,
           0.002457462251186371,
           0.36031463742256165,
           2.199580192565918,
           1.5560637712478638,
           2.075357437133789,
           3.5805583000183105,
           2.046138286590576,
           1.598804235458374,
           0.6149488687515259,
           -2.8015336990356445,
           -2.7444937229156494,
           -1.0143343210220337,
           2.627110004425049,
           1.2228291034698486,
           3.626765012741089,
           2.2261946201324463,
           1.6924080848693848,
           0.26204073429107666,
           0.21915696561336517,
           -0.902460515499115,
           -0.6259095668792725,
           -1.053557276725769,
           2.061357259750366,
           -0.7903362512588501,
           -1.3225159645080566,
           1.8835868835449219,
           -0.9865205883979797,
           -0.7223300933837891,
           0.5535277724266052,
           1.4804983139038086,
           1.147322416305542,
           1.3515098094940186,
           1.5933208465576172,
           2.5074613094329834,
           6.003559589385986,
           1.8816218376159668,
           3.640636444091797,
           1.8863741159439087,
           2.878800868988037,
           1.2284022569656372,
           2.3875977993011475,
           2.8383843898773193,
           0.19914457201957703,
           2.4327456951141357,
           9.44877815246582,
           -1.5171066522598267,
           1.1368927955627441,
           2.36303448677063,
           2.8784422874450684,
           4.665005207061768,
           3.443206548690796,
           4.564366340637207,
           1.5157867670059204,
           0.685469388961792,
           0.07751285284757614,
           1.585193395614624,
           4.248468399047852,
           2.534151554107666,
           1.702722191810608,
           2.192941188812256,
           1.8201106786727905,
           2.564499855041504,
           0.9234490990638733,
           1.7346315383911133,
           1.029823899269104,
           0.44832757115364075,
           1.606011152267456,
           0.3810638189315796,
           2.5697243213653564,
           2.2452001571655273,
           4.753619194030762,
           2.0439648628234863,
           3.1166257858276367,
           3.573580026626587,
           2.9416751861572266,
           3.498157501220703,
           1.906855583190918,
           8.76347541809082,
           1.127678394317627,
           1.9563813209533691,
           4.494727611541748,
           3.4141194820404053,
           2.8895621299743652,
           1.8364098072052002,
           2.984682559967041,
           0.6894130706787109,
           9.428945541381836,
           2.6496477127075195,
           3.0159695148468018,
           1.8756821155548096,
           6.501874923706055,
           4.076497554779053,
           3.738009452819824,
           3.8875434398651123,
           2.8184261322021484,
           2.9967918395996094,
           2.5937376022338867,
           3.847815752029419,
           4.195272445678711,
           2.8296914100646973,
           3.702075719833374,
           7.236578941345215,
           3.121860980987549,
           5.479830265045166,
           6.388149261474609,
           2.1000542640686035,
           1.876701831817627,
           3.897441864013672,
           1.5298229455947876,
           4.435261249542236,
           4.42769718170166,
           1.930802822113037,
           2.574615478515625,
           1.4579012393951416,
           1.1935359239578247,
           4.193943977355957,
           1.9210503101348877,
           4.461406230926514,
           1.2121531963348389,
           0.8823374509811401,
           10.480521202087402,
           3.8276069164276123,
           3.3034656047821045,
           3.9738070964813232,
           4.1388773918151855,
           8.03482437133789,
           3.035266637802124,
           2.129356861114502,
           1.5920056104660034,
           3.8476507663726807,
           4.116698265075684,
           2.5038607120513916,
           4.919795036315918,
           3.4388818740844727,
           2.3396687507629395,
           4.083317279815674,
           5.936859607696533,
           8.097539901733398,
           3.258984088897705,
           3.3951268196105957,
           3.2047555446624756,
           3.656263589859009,
           3.1108784675598145,
           2.3183529376983643,
           2.5053863525390625,
           2.8520798683166504,
           4.127779006958008,
           7.485202789306641,
           8.152742385864258,
           2.0440375804901123,
           4.744882106781006,
           4.74806547164917,
           3.5415730476379395,
           4.472249507904053,
           2.408855438232422,
           3.548546075820923,
           2.8284621238708496,
           3.897059440612793,
           2.452648401260376,
           1.648210048675537,
           6.601553916931152,
           5.144063472747803,
           1.2593938112258911,
           3.086296319961548,
           2.4973013401031494,
           2.8038811683654785,
           1.6712595224380493,
           2.515970230102539,
           10.635342597961426,
           3.060429096221924,
           1.7131550312042236,
           2.918707847595215,
           1.8178645372390747,
           1.8568577766418457,
           4.1490068435668945,
           2.900161027908325,
           1.6382982730865479,
           3.9093587398529053,
           3.4935836791992188,
           1.9405491352081299,
           2.6730048656463623,
           1.526282787322998,
           4.234731674194336,
           4.7952165603637695,
           2.421525716781616,
           1.2929017543792725,
           1.5603424310684204,
           3.1017417907714844,
           5.522950649261475,
           2.59440279006958,
           3.5522329807281494,
           1.630988359451294,
           1.8573524951934814,
           0.8335422873497009,
           2.043653726577759,
           3.676494598388672,
           1.46938157081604,
           1.5603276491165161,
           6.564528465270996,
           3.7773497104644775,
           2.918146848678589,
           1.0162967443466187,
           6.318877696990967,
           4.791624069213867,
           5.7515034675598145,
           2.824387550354004,
           3.4194812774658203,
           1.9002119302749634,
           2.1904900074005127,
           4.262613296508789,
           2.584388017654419,
           2.3142926692962646,
           3.6191296577453613,
           6.938686847686768,
           1.193227767944336,
           3.4484035968780518,
           1.3293914794921875,
           2.8472282886505127,
           0.6420909762382507,
           0.41909700632095337,
           3.2686636447906494,
           1.9788237810134888,
           4.191799640655518,
           1.8781191110610962,
           2.914646625518799,
           9.456670761108398,
           4.341084957122803,
           0.9342496395111084,
           1.7658345699310303,
           1.538878083229065,
           4.448646545410156,
           0.8004046082496643,
           1.0946238040924072,
           1.9928785562515259,
           4.520854949951172,
           3.0454347133636475,
           3.1889536380767822,
           2.915552854537964,
           4.820158958435059,
           8.8569974899292,
           2.3840627670288086,
           3.9012019634246826,
           3.8936514854431152,
           3.5059380531311035,
           2.2703561782836914,
           2.6139440536499023,
           1.3348231315612793,
           1.8499222993850708,
           2.056337833404541,
           0.8772298693656921,
           0.48284846544265747,
           1.9823664426803589,
           0.38733014464378357,
           3.0068492889404297,
           0.2669999897480011,
           2.1097607612609863,
           2.7287702560424805,
           1.8091181516647339,
           1.8590906858444214,
           2.3096957206726074,
           2.7800581455230713,
           1.243713140487671,
           1.422648310661316,
           1.417907476425171,
           0.5677641034126282,
           0.647051215171814,
           1.638227105140686,
           1.7488069534301758,
           1.3253047466278076,
           0.27572309970855713,
           0.6401207447052002,
           3.0600802898406982,
           3.3563568592071533,
           1.5632930994033813,
           1.50290846824646,
           1.1151745319366455,
           1.4847497940063477,
           3.098745584487915,
           2.1769816875457764,
           2.882826805114746,
           1.6877330541610718,
           1.4003499746322632,
           0.640315592288971,
           1.6840914487838745,
           2.1178677082061768,
           1.0603435039520264,
           1.3776298761367798,
           2.941805839538574,
           1.463122844696045,
           2.1415364742279053,
           3.2173964977264404,
           3.107419729232788,
           2.2965667247772217,
           0.719244658946991,
           0.9914101362228394,
           2.5123393535614014,
           2.098351001739502,
           1.808236002922058,
           2.792050838470459,
           0.48230960965156555,
           0.5192509293556213,
           1.5394035577774048,
           -0.3800355792045593,
           1.206931710243225,
           -2.0706069469451904,
           -1.3989499807357788,
           -0.037024375051259995,
           1.154337763786316,
           1.4562127590179443,
           1.5713050365447998,
           3.6696653366088867,
           0.709927499294281,
           3.2040975093841553,
           0.5663222670555115,
           0.7154935598373413,
           0.7354273796081543,
           -2.3515126705169678,
           1.3110297918319702,
           3.6247801780700684,
           0.32984137535095215,
           -0.5991628766059875,
           3.4363648891448975,
           -0.4889838993549347,
           1.8530776500701904,
           -1.224838137626648,
           3.473447322845459,
           0.4518466591835022,
           -0.6624976396560669,
           1.344191312789917,
           1.6569756269454956,
           1.8007609844207764,
           1.4686294794082642,
           0.458053320646286,
           -5.249495983123779,
           -0.7459561228752136,
           -0.3757815957069397,
           -1.0870383977890015,
           -1.3946352005004883,
           2.602430820465088,
           -0.2731214463710785,
           -3.1514835357666016,
           -0.2547438144683838,
           2.7288901805877686,
           -1.7997277975082397,
           0.9610341191291809,
           1.7296539545059204,
           1.3115792274475098,
           1.847405195236206,
           1.4415104389190674,
           -0.7093147039413452,
           0.5004696846008301,
           -0.14452002942562103,
           0.3979974389076233,
           1.123168706893921,
           1.220100998878479,
           0.5814124941825867,
           -0.48494306206703186,
           0.8898283243179321,
           2.5944924354553223,
           1.3828572034835815,
           2.8764524459838867,
           2.630652904510498,
           1.738390564918518,
           3.6009469032287598,
           3.824819564819336,
           2.6207008361816406,
           3.1914570331573486,
           0.7254572510719299,
           0.478729784488678,
           0.12966686487197876,
           -0.1549338549375534,
           -1.29594087600708,
           0.2861493229866028,
           0.835796058177948,
           -1.3580288887023926,
           0.256016343832016,
           2.5134341716766357,
           0.058436065912246704,
           1.6872214078903198,
           1.1585676670074463,
           0.8477494120597839,
           1.9063316583633423,
           1.0050013065338135,
           1.0711439847946167,
           1.663436770439148,
           1.2820593118667603,
           0.460367888212204,
           -2.450282573699951,
           1.0739001035690308,
           2.0279011726379395,
           1.7932374477386475,
           -1.1438052654266357,
           1.111266016960144,
           0.828764021396637,
           1.599245309829712,
           0.4923577308654785,
           0.8346158862113953,
           2.6913435459136963,
           2.763829231262207,
           0.6251073479652405,
           1.5262311697006226,
           0.7289889454841614,
           2.388706922531128,
           -1.0130568742752075,
           0.5685224533081055,
           0.1822197139263153,
           1.040286898612976,
           0.34068989753723145,
           2.208848237991333,
           1.071358561515808,
           1.1111396551132202,
           0.9427704811096191,
           2.0003578662872314,
           1.3545894622802734,
           1.2333582639694214,
           0.4244171679019928,
           0.7586278915405273,
           0.31591328978538513
          ],
          "coloraxis": "coloraxis",
          "size": 12,
          "symbol": "hexagon"
         },
         "mode": "markers",
         "name": "",
         "orientation": "v",
         "showlegend": false,
         "type": "scatter",
         "x": [
          17,
          17,
          15.5,
          19,
          18.5,
          16.5,
          20.5,
          17.5,
          22,
          16,
          20,
          19.5,
          19.5,
          22.5,
          17,
          18.5,
          16,
          18,
          16.5,
          16.5,
          21.5,
          17.5,
          20.5,
          19,
          18,
          21,
          20,
          18,
          19,
          12.5,
          14.5,
          13.5,
          8.5,
          13.5,
          13,
          12,
          11.5,
          13,
          12.5,
          11.5,
          8.5,
          16,
          12.5,
          13.5,
          15,
          15,
          12,
          10.5,
          12.5,
          14.5,
          12,
          13.5,
          11.5,
          10,
          13,
          11,
          10.5,
          14,
          13.5,
          15,
          12,
          14,
          13,
          10,
          11,
          11,
          10.5,
          14,
          12.5,
          14,
          15,
          14,
          16,
          15,
          14,
          15.5,
          15.5,
          12.5,
          14.5,
          14.5,
          14,
          14.5,
          10,
          11,
          9.5,
          11.5,
          12,
          15,
          14.5,
          13.5,
          13,
          9.5,
          13,
          11.5,
          12,
          10,
          15,
          10.5,
          9.5,
          9,
          14,
          12.5,
          11.5,
          13.5,
          21,
          20,
          20.5,
          24,
          17.5,
          19.5,
          17,
          22.5,
          16.5,
          25.5,
          15.5,
          19.5,
          21.5,
          21,
          24,
          23.5,
          20,
          25,
          18,
          25,
          18.5,
          21.5,
          18.5,
          17,
          24.5,
          26,
          24.5,
          23,
          21,
          18.5,
          19,
          19.5,
          22,
          22.5,
          20.5,
          17.5,
          21,
          20,
          23,
          23,
          23.5,
          20.5,
          16.5,
          19,
          22,
          16,
          17.5,
          18,
          20,
          22,
          19,
          23.5,
          21.5,
          22.5,
          20.5,
          22,
          23,
          21,
          26,
          19.5,
          22.5,
          21.5,
          22,
          25.5,
          22,
          19.5,
          21,
          19,
          23,
          24.5,
          24,
          26,
          22.5,
          19.5,
          23.5,
          22,
          21.5,
          20.5,
          23.5,
          24,
          25.5,
          21.5,
          20,
          24,
          20.5,
          20,
          24,
          23,
          24.5,
          23,
          23.5,
          25,
          24.5,
          22.5,
          25,
          19,
          25.5,
          21,
          22.5,
          25,
          16.5,
          15,
          17.5,
          17.5,
          18,
          15.5,
          13.5,
          16.5,
          14.5,
          18.5,
          17,
          18.5,
          17,
          19.5,
          18,
          19,
          15.5,
          12.5,
          14,
          14,
          17,
          17.5,
          16,
          16.5,
          14.5,
          16,
          13,
          14.5,
          19,
          20,
          15,
          20.5,
          15,
          16,
          13,
          18,
          18.5,
          17,
          15.5,
          18,
          17.5,
          13,
          16,
          18.5,
          18,
          15.5,
          16.5,
          15.5,
          17,
          17,
          15.5,
          16.5,
          16,
          13.5,
          14.5,
          16,
          13.5,
          14,
          12.5,
          29.5,
          23.5,
          27.5,
          30,
          29,
          21,
          28,
          25,
          30.5,
          28.5,
          27,
          29.5,
          28,
          22,
          32,
          26,
          28.5,
          19.5,
          25.5,
          20.5,
          22.5,
          21.5,
          30,
          20.5,
          21,
          31.5,
          23,
          27.5,
          22,
          24.5,
          24.5,
          30,
          23,
          26,
          30.5,
          31.5,
          23.5,
          31,
          31.5,
          26,
          31,
          24,
          25.5,
          31,
          29,
          20,
          17.5,
          26.5,
          32,
          20,
          25,
          29.5,
          30,
          19.5,
          30.5,
          21.5,
          27,
          26.5,
          28,
          21.5,
          25.5,
          25,
          25.5,
          29,
          24,
          20.5,
          21,
          26.5,
          24.5,
          21.5,
          23.5,
          26.5,
          21.5,
          24,
          23.5,
          24.5,
          23,
          29,
          25,
          20.5,
          20,
          19.5,
          27.5,
          25.5,
          27.5,
          24,
          22.5,
          28.5,
          19,
          22,
          28,
          25.5,
          26,
          22,
          21,
          20,
          19.5,
          18.5,
          21,
          22.5,
          28.5,
          23,
          27.5,
          27,
          25,
          24.5,
          22.5,
          19.5,
          27,
          26,
          26.5,
          26,
          22.5,
          28,
          25,
          27,
          23,
          20.5,
          29,
          18.5,
          23,
          21,
          22,
          23.5,
          20,
          19,
          23.5,
          24.5,
          26.5,
          21.5,
          24,
          16,
          22,
          31.5,
          15.5,
          17.5,
          15,
          18,
          28.5,
          20.5,
          17,
          25.5,
          24.5,
          16,
          33,
          30,
          17,
          20,
          26,
          28.5,
          31.5,
          14.5,
          18,
          22.5,
          28,
          15.5,
          17.5,
          18,
          17,
          30.5,
          31,
          31,
          18,
          29.5,
          16,
          30,
          19.5,
          15,
          24,
          23.5,
          15.5,
          26.5,
          16.5,
          29.5,
          17.5,
          27,
          18.5,
          19,
          17,
          14,
          12.5,
          15,
          15,
          34,
          14.5,
          18.5,
          18,
          18.5,
          19,
          15.5,
          14.5,
          17.5,
          30.5,
          13.5,
          16.5,
          18.5,
          32,
          19,
          32.5,
          15.5,
          15,
          13.5,
          18,
          17,
          19,
          29,
          15.5,
          27.5,
          16.5,
          17.5,
          16.5,
          16.5,
          14.5,
          21.5,
          16,
          12,
          14,
          11.5,
          6.5,
          10.5,
          9,
          11,
          9.5,
          2,
          7,
          13.5,
          13,
          12,
          12.5,
          7.5,
          6.5,
          8.5,
          12,
          13,
          11.5,
          11,
          7,
          3.5,
          5.5,
          9.5,
          11.5,
          10.5,
          13.5,
          12.5,
          4.5,
          5,
          13,
          13,
          8.5,
          10.5,
          4,
          14,
          5.5,
          10.5,
          3,
          0.5,
          11,
          7.5,
          12.5,
          14,
          10,
          8,
          6.5,
          6,
          6,
          2.5,
          10,
          10,
          8,
          9,
          8,
          8.5,
          10.5,
          7.5,
          10,
          11.5,
          7,
          10.5,
          11,
          9.5,
          11.5,
          9,
          6,
          5.5,
          11,
          12,
          9,
          11,
          11,
          11,
          7,
          9.5,
          4.5,
          8.5,
          12,
          10.5,
          9,
          11.5,
          12,
          7.5,
          8.5,
          5,
          10,
          7.5,
          6.5,
          10.5,
          9.5,
          8,
          11.5,
          7,
          14.5,
          15.5,
          12.5,
          15.5,
          10,
          9.5,
          14,
          14.5,
          11.5,
          10,
          12,
          10.5,
          11.5,
          10.5,
          14,
          13,
          12.5,
          11.5,
          13,
          14,
          11,
          16,
          15,
          14.5,
          13.5,
          14,
          12,
          12,
          11.5,
          11.5,
          13,
          11,
          10.5,
          11,
          15,
          15,
          9.5,
          9.5,
          12.5,
          13.5,
          13.5,
          13,
          14,
          15,
          13.5,
          12.5,
          8.5,
          9,
          13.5,
          12.5,
          14.5,
          10.5,
          10,
          12,
          10,
          12,
          11.5,
          14.5,
          11,
          3.5,
          2.5,
          3,
          1.5,
          3.5,
          2,
          0,
          0.5,
          2,
          1.5,
          1,
          2.5,
          4,
          3,
          2,
          2.5,
          1,
          -0.5
         ],
         "xaxis": "x",
         "y": [
          33,
          29,
          32,
          33,
          30,
          28,
          30,
          32,
          31,
          31,
          31,
          32,
          30,
          30,
          31,
          32,
          33,
          31,
          32,
          30,
          30,
          30,
          32,
          29,
          29,
          31,
          33,
          33,
          31,
          18,
          24,
          30,
          20,
          28,
          23,
          27,
          26,
          25,
          24,
          24,
          22,
          27,
          26,
          24,
          31,
          17,
          25,
          18,
          16,
          30,
          17,
          22,
          18,
          19,
          27,
          19,
          20,
          21,
          26,
          27,
          23,
          29,
          21,
          21,
          23,
          21,
          22,
          17,
          22,
          23,
          19,
          19,
          29,
          25,
          25,
          28,
          30,
          28,
          28,
          26,
          27,
          20,
          23,
          25,
          24,
          22,
          21,
          23,
          18,
          20,
          17,
          22,
          19,
          20,
          19,
          25,
          29,
          24,
          20,
          21,
          31,
          20,
          28,
          18,
          25,
          25,
          26,
          27,
          26,
          26,
          25,
          24,
          26,
          26,
          26,
          24,
          24,
          23,
          25,
          28,
          27,
          23,
          25,
          25,
          28,
          26,
          24,
          27,
          26,
          25,
          24,
          27,
          27,
          26,
          27,
          28,
          27,
          26,
          24,
          28,
          29,
          23,
          25,
          29,
          24,
          28,
          24,
          23,
          25,
          25,
          24,
          27,
          29,
          29,
          25,
          26,
          28,
          28,
          20,
          21,
          23,
          21,
          21,
          18,
          20,
          20,
          23,
          18,
          17,
          20,
          19,
          21,
          19,
          22,
          21,
          19,
          18,
          22,
          18,
          19,
          18,
          18,
          22,
          19,
          22,
          22,
          21,
          23,
          22,
          19,
          17,
          17,
          20,
          21,
          20,
          19,
          18,
          22,
          21,
          19,
          20,
          17,
          16,
          17,
          20,
          15,
          18,
          16,
          17,
          16,
          14,
          16,
          14,
          16,
          15,
          20,
          21,
          16,
          15,
          15,
          18,
          14,
          15,
          11,
          13,
          20,
          21,
          14,
          12,
          23,
          11,
          22,
          17,
          17,
          13,
          16,
          21,
          15,
          15,
          21,
          22,
          23,
          24,
          23,
          22,
          13,
          13,
          18,
          19,
          22,
          22,
          20,
          19,
          17,
          14,
          18,
          17,
          12,
          16,
          19,
          16,
          13,
          12,
          10,
          14,
          14,
          11,
          15,
          13,
          15,
          15,
          10,
          14,
          13,
          12,
          13,
          13,
          13,
          13,
          12,
          14,
          14,
          12,
          14,
          16,
          13,
          14,
          15,
          12,
          13,
          16,
          15,
          16,
          14,
          15,
          15,
          17,
          14,
          14,
          16,
          11,
          10,
          15,
          9,
          15,
          16,
          13,
          13,
          15,
          12,
          16,
          11,
          13,
          13,
          14,
          9,
          12,
          12,
          14,
          15,
          14,
          11,
          8,
          6,
          9,
          8,
          7,
          11,
          10,
          7,
          6,
          8,
          6,
          10,
          12,
          12,
          9,
          6,
          6,
          5,
          9,
          7,
          8,
          9,
          8,
          10,
          12,
          8,
          13,
          12,
          8,
          7,
          11,
          9,
          10,
          9,
          9,
          9,
          11,
          10,
          8,
          11,
          10,
          10,
          11,
          12,
          11,
          11,
          10,
          8,
          6,
          7,
          7,
          8,
          11,
          6,
          7,
          5,
          9,
          9,
          6,
          11,
          10,
          7,
          5,
          7,
          12,
          7,
          9,
          8,
          12,
          10,
          10,
          7,
          7,
          5,
          8,
          10,
          14,
          7,
          11,
          4,
          4,
          9,
          4,
          4,
          11,
          7,
          7,
          11,
          5,
          5,
          6,
          6,
          4,
          5,
          4,
          5,
          4,
          8,
          7,
          3,
          6,
          5,
          7,
          3,
          8,
          5,
          5,
          4,
          9,
          5,
          4,
          2,
          4,
          10,
          6,
          4,
          5,
          14,
          13,
          5,
          5,
          4,
          11,
          5,
          7,
          10,
          12,
          13,
          4,
          3,
          8,
          8,
          6,
          8,
          6,
          8,
          6,
          7,
          11,
          6,
          6,
          3,
          4,
          9,
          7,
          5,
          5,
          12,
          6,
          4,
          10,
          12,
          6,
          6,
          4,
          9,
          7,
          3,
          4,
          4,
          6,
          5,
          5,
          6,
          1,
          3,
          10,
          7,
          5,
          6,
          2,
          2,
          6,
          9,
          9,
          8,
          3,
          1,
          2,
          4,
          4,
          6,
          8,
          8,
          8,
          2,
          1,
          3,
          5,
          4,
          2,
          1,
          7,
          2,
          4,
          1,
          0,
          7,
          4,
          10,
          9,
          7,
          3,
          0,
          3,
          1,
          0,
          5,
          3,
          5,
          3,
          11,
          18,
          16,
          18,
          13,
          14,
          9,
          10,
          9,
          10,
          10,
          9,
          11,
          10,
          13,
          15,
          17,
          11,
          17,
          15,
          11,
          12,
          10,
          12,
          13,
          14,
          11,
          12,
          11,
          10,
          10,
          9,
          11,
          12,
          10,
          12,
          18,
          9,
          16,
          19,
          40,
          40,
          36,
          38,
          37,
          34,
          41,
          32,
          42,
          35,
          35,
          38,
          32,
          32,
          39,
          39,
          38,
          36,
          33,
          37,
          33,
          35,
          35,
          34,
          34,
          35,
          39,
          37,
          34,
          38,
          35,
          37,
          34,
          35,
          37,
          39,
          36,
          38,
          32,
          36,
          32,
          37,
          33,
          33,
          40,
          34,
          40,
          35,
          38,
          40,
          42,
          36,
          33,
          41,
          39,
          33,
          40,
          38,
          39,
          26,
          26,
          25,
          26,
          28,
          29,
          27,
          28,
          27,
          28,
          25,
          28,
          25,
          27,
          25,
          24,
          27,
          28
         ],
         "yaxis": "y"
        }
       ],
       "layout": {
        "coloraxis": {
         "colorbar": {
          "title": {
           "text": "Average real change (%)"
          }
         },
         "colorscale": [
          [
           0,
           "#0d0887"
          ],
          [
           0.1111111111111111,
           "#46039f"
          ],
          [
           0.2222222222222222,
           "#7201a8"
          ],
          [
           0.3333333333333333,
           "#9c179e"
          ],
          [
           0.4444444444444444,
           "#bd3786"
          ],
          [
           0.5555555555555556,
           "#d8576b"
          ],
          [
           0.6666666666666666,
           "#ed7953"
          ],
          [
           0.7777777777777778,
           "#fb9f3a"
          ],
          [
           0.8888888888888888,
           "#fdca26"
          ],
          [
           1,
           "#f0f921"
          ]
         ]
        },
        "height": 580,
        "legend": {
         "title": {
          "font": {
           "color": "black"
          },
          "text": "Average household net income change"
         },
         "tracegroupgap": 0
        },
        "margin": {
         "t": 60
        },
        "plot_bgcolor": "rgba(0,0,0,0)",
        "template": {
         "data": {
          "bar": [
           {
            "error_x": {
             "color": "#2a3f5f"
            },
            "error_y": {
             "color": "#2a3f5f"
            },
            "marker": {
             "line": {
              "color": "#E5ECF6",
              "width": 0.5
             },
             "pattern": {
              "fillmode": "overlay",
              "size": 10,
              "solidity": 0.2
             }
            },
            "type": "bar"
           }
          ],
          "barpolar": [
           {
            "marker": {
             "line": {
              "color": "#E5ECF6",
              "width": 0.5
             },
             "pattern": {
              "fillmode": "overlay",
              "size": 10,
              "solidity": 0.2
             }
            },
            "type": "barpolar"
           }
          ],
          "carpet": [
           {
            "aaxis": {
             "endlinecolor": "#2a3f5f",
             "gridcolor": "white",
             "linecolor": "white",
             "minorgridcolor": "white",
             "startlinecolor": "#2a3f5f"
            },
            "baxis": {
             "endlinecolor": "#2a3f5f",
             "gridcolor": "white",
             "linecolor": "white",
             "minorgridcolor": "white",
             "startlinecolor": "#2a3f5f"
            },
            "type": "carpet"
           }
          ],
          "choropleth": [
           {
            "colorbar": {
             "outlinewidth": 0,
             "ticks": ""
            },
            "type": "choropleth"
           }
          ],
          "contour": [
           {
            "colorbar": {
             "outlinewidth": 0,
             "ticks": ""
            },
            "colorscale": [
             [
              0,
              "#0d0887"
             ],
             [
              0.1111111111111111,
              "#46039f"
             ],
             [
              0.2222222222222222,
              "#7201a8"
             ],
             [
              0.3333333333333333,
              "#9c179e"
             ],
             [
              0.4444444444444444,
              "#bd3786"
             ],
             [
              0.5555555555555556,
              "#d8576b"
             ],
             [
              0.6666666666666666,
              "#ed7953"
             ],
             [
              0.7777777777777778,
              "#fb9f3a"
             ],
             [
              0.8888888888888888,
              "#fdca26"
             ],
             [
              1,
              "#f0f921"
             ]
            ],
            "type": "contour"
           }
          ],
          "contourcarpet": [
           {
            "colorbar": {
             "outlinewidth": 0,
             "ticks": ""
            },
            "type": "contourcarpet"
           }
          ],
          "heatmap": [
           {
            "colorbar": {
             "outlinewidth": 0,
             "ticks": ""
            },
            "colorscale": [
             [
              0,
              "#0d0887"
             ],
             [
              0.1111111111111111,
              "#46039f"
             ],
             [
              0.2222222222222222,
              "#7201a8"
             ],
             [
              0.3333333333333333,
              "#9c179e"
             ],
             [
              0.4444444444444444,
              "#bd3786"
             ],
             [
              0.5555555555555556,
              "#d8576b"
             ],
             [
              0.6666666666666666,
              "#ed7953"
             ],
             [
              0.7777777777777778,
              "#fb9f3a"
             ],
             [
              0.8888888888888888,
              "#fdca26"
             ],
             [
              1,
              "#f0f921"
             ]
            ],
            "type": "heatmap"
           }
          ],
          "heatmapgl": [
           {
            "colorbar": {
             "outlinewidth": 0,
             "ticks": ""
            },
            "colorscale": [
             [
              0,
              "#0d0887"
             ],
             [
              0.1111111111111111,
              "#46039f"
             ],
             [
              0.2222222222222222,
              "#7201a8"
             ],
             [
              0.3333333333333333,
              "#9c179e"
             ],
             [
              0.4444444444444444,
              "#bd3786"
             ],
             [
              0.5555555555555556,
              "#d8576b"
             ],
             [
              0.6666666666666666,
              "#ed7953"
             ],
             [
              0.7777777777777778,
              "#fb9f3a"
             ],
             [
              0.8888888888888888,
              "#fdca26"
             ],
             [
              1,
              "#f0f921"
             ]
            ],
            "type": "heatmapgl"
           }
          ],
          "histogram": [
           {
            "marker": {
             "pattern": {
              "fillmode": "overlay",
              "size": 10,
              "solidity": 0.2
             }
            },
            "type": "histogram"
           }
          ],
          "histogram2d": [
           {
            "colorbar": {
             "outlinewidth": 0,
             "ticks": ""
            },
            "colorscale": [
             [
              0,
              "#0d0887"
             ],
             [
              0.1111111111111111,
              "#46039f"
             ],
             [
              0.2222222222222222,
              "#7201a8"
             ],
             [
              0.3333333333333333,
              "#9c179e"
             ],
             [
              0.4444444444444444,
              "#bd3786"
             ],
             [
              0.5555555555555556,
              "#d8576b"
             ],
             [
              0.6666666666666666,
              "#ed7953"
             ],
             [
              0.7777777777777778,
              "#fb9f3a"
             ],
             [
              0.8888888888888888,
              "#fdca26"
             ],
             [
              1,
              "#f0f921"
             ]
            ],
            "type": "histogram2d"
           }
          ],
          "histogram2dcontour": [
           {
            "colorbar": {
             "outlinewidth": 0,
             "ticks": ""
            },
            "colorscale": [
             [
              0,
              "#0d0887"
             ],
             [
              0.1111111111111111,
              "#46039f"
             ],
             [
              0.2222222222222222,
              "#7201a8"
             ],
             [
              0.3333333333333333,
              "#9c179e"
             ],
             [
              0.4444444444444444,
              "#bd3786"
             ],
             [
              0.5555555555555556,
              "#d8576b"
             ],
             [
              0.6666666666666666,
              "#ed7953"
             ],
             [
              0.7777777777777778,
              "#fb9f3a"
             ],
             [
              0.8888888888888888,
              "#fdca26"
             ],
             [
              1,
              "#f0f921"
             ]
            ],
            "type": "histogram2dcontour"
           }
          ],
          "mesh3d": [
           {
            "colorbar": {
             "outlinewidth": 0,
             "ticks": ""
            },
            "type": "mesh3d"
           }
          ],
          "parcoords": [
           {
            "line": {
             "colorbar": {
              "outlinewidth": 0,
              "ticks": ""
             }
            },
            "type": "parcoords"
           }
          ],
          "pie": [
           {
            "automargin": true,
            "type": "pie"
           }
          ],
          "scatter": [
           {
            "fillpattern": {
             "fillmode": "overlay",
             "size": 10,
             "solidity": 0.2
            },
            "type": "scatter"
           }
          ],
          "scatter3d": [
           {
            "line": {
             "colorbar": {
              "outlinewidth": 0,
              "ticks": ""
             }
            },
            "marker": {
             "colorbar": {
              "outlinewidth": 0,
              "ticks": ""
             }
            },
            "type": "scatter3d"
           }
          ],
          "scattercarpet": [
           {
            "marker": {
             "colorbar": {
              "outlinewidth": 0,
              "ticks": ""
             }
            },
            "type": "scattercarpet"
           }
          ],
          "scattergeo": [
           {
            "marker": {
             "colorbar": {
              "outlinewidth": 0,
              "ticks": ""
             }
            },
            "type": "scattergeo"
           }
          ],
          "scattergl": [
           {
            "marker": {
             "colorbar": {
              "outlinewidth": 0,
              "ticks": ""
             }
            },
            "type": "scattergl"
           }
          ],
          "scattermapbox": [
           {
            "marker": {
             "colorbar": {
              "outlinewidth": 0,
              "ticks": ""
             }
            },
            "type": "scattermapbox"
           }
          ],
          "scatterpolar": [
           {
            "marker": {
             "colorbar": {
              "outlinewidth": 0,
              "ticks": ""
             }
            },
            "type": "scatterpolar"
           }
          ],
          "scatterpolargl": [
           {
            "marker": {
             "colorbar": {
              "outlinewidth": 0,
              "ticks": ""
             }
            },
            "type": "scatterpolargl"
           }
          ],
          "scatterternary": [
           {
            "marker": {
             "colorbar": {
              "outlinewidth": 0,
              "ticks": ""
             }
            },
            "type": "scatterternary"
           }
          ],
          "surface": [
           {
            "colorbar": {
             "outlinewidth": 0,
             "ticks": ""
            },
            "colorscale": [
             [
              0,
              "#0d0887"
             ],
             [
              0.1111111111111111,
              "#46039f"
             ],
             [
              0.2222222222222222,
              "#7201a8"
             ],
             [
              0.3333333333333333,
              "#9c179e"
             ],
             [
              0.4444444444444444,
              "#bd3786"
             ],
             [
              0.5555555555555556,
              "#d8576b"
             ],
             [
              0.6666666666666666,
              "#ed7953"
             ],
             [
              0.7777777777777778,
              "#fb9f3a"
             ],
             [
              0.8888888888888888,
              "#fdca26"
             ],
             [
              1,
              "#f0f921"
             ]
            ],
            "type": "surface"
           }
          ],
          "table": [
           {
            "cells": {
             "fill": {
              "color": "#EBF0F8"
             },
             "line": {
              "color": "white"
             }
            },
            "header": {
             "fill": {
              "color": "#C8D4E3"
             },
             "line": {
              "color": "white"
             }
            },
            "type": "table"
           }
          ]
         },
         "layout": {
          "annotationdefaults": {
           "arrowcolor": "#2a3f5f",
           "arrowhead": 0,
           "arrowwidth": 1
          },
          "autotypenumbers": "strict",
          "coloraxis": {
           "colorbar": {
            "outlinewidth": 0,
            "ticks": ""
           }
          },
          "colorscale": {
           "diverging": [
            [
             0,
             "#8e0152"
            ],
            [
             0.1,
             "#c51b7d"
            ],
            [
             0.2,
             "#de77ae"
            ],
            [
             0.3,
             "#f1b6da"
            ],
            [
             0.4,
             "#fde0ef"
            ],
            [
             0.5,
             "#f7f7f7"
            ],
            [
             0.6,
             "#e6f5d0"
            ],
            [
             0.7,
             "#b8e186"
            ],
            [
             0.8,
             "#7fbc41"
            ],
            [
             0.9,
             "#4d9221"
            ],
            [
             1,
             "#276419"
            ]
           ],
           "sequential": [
            [
             0,
             "#0d0887"
            ],
            [
             0.1111111111111111,
             "#46039f"
            ],
            [
             0.2222222222222222,
             "#7201a8"
            ],
            [
             0.3333333333333333,
             "#9c179e"
            ],
            [
             0.4444444444444444,
             "#bd3786"
            ],
            [
             0.5555555555555556,
             "#d8576b"
            ],
            [
             0.6666666666666666,
             "#ed7953"
            ],
            [
             0.7777777777777778,
             "#fb9f3a"
            ],
            [
             0.8888888888888888,
             "#fdca26"
            ],
            [
             1,
             "#f0f921"
            ]
           ],
           "sequentialminus": [
            [
             0,
             "#0d0887"
            ],
            [
             0.1111111111111111,
             "#46039f"
            ],
            [
             0.2222222222222222,
             "#7201a8"
            ],
            [
             0.3333333333333333,
             "#9c179e"
            ],
            [
             0.4444444444444444,
             "#bd3786"
            ],
            [
             0.5555555555555556,
             "#d8576b"
            ],
            [
             0.6666666666666666,
             "#ed7953"
            ],
            [
             0.7777777777777778,
             "#fb9f3a"
            ],
            [
             0.8888888888888888,
             "#fdca26"
            ],
            [
             1,
             "#f0f921"
            ]
           ]
          },
          "colorway": [
           "#636efa",
           "#EF553B",
           "#00cc96",
           "#ab63fa",
           "#FFA15A",
           "#19d3f3",
           "#FF6692",
           "#B6E880",
           "#FF97FF",
           "#FECB52"
          ],
          "font": {
           "color": "#2a3f5f"
          },
          "geo": {
           "bgcolor": "white",
           "lakecolor": "white",
           "landcolor": "#E5ECF6",
           "showlakes": true,
           "showland": true,
           "subunitcolor": "white"
          },
          "hoverlabel": {
           "align": "left"
          },
          "hovermode": "closest",
          "mapbox": {
           "style": "light"
          },
          "paper_bgcolor": "white",
          "plot_bgcolor": "#E5ECF6",
          "polar": {
           "angularaxis": {
            "gridcolor": "white",
            "linecolor": "white",
            "ticks": ""
           },
           "bgcolor": "#E5ECF6",
           "radialaxis": {
            "gridcolor": "white",
            "linecolor": "white",
            "ticks": ""
           }
          },
          "scene": {
           "xaxis": {
            "backgroundcolor": "#E5ECF6",
            "gridcolor": "white",
            "gridwidth": 2,
            "linecolor": "white",
            "showbackground": true,
            "ticks": "",
            "zerolinecolor": "white"
           },
           "yaxis": {
            "backgroundcolor": "#E5ECF6",
            "gridcolor": "white",
            "gridwidth": 2,
            "linecolor": "white",
            "showbackground": true,
            "ticks": "",
            "zerolinecolor": "white"
           },
           "zaxis": {
            "backgroundcolor": "#E5ECF6",
            "gridcolor": "white",
            "gridwidth": 2,
            "linecolor": "white",
            "showbackground": true,
            "ticks": "",
            "zerolinecolor": "white"
           }
          },
          "shapedefaults": {
           "line": {
            "color": "#2a3f5f"
           }
          },
          "ternary": {
           "aaxis": {
            "gridcolor": "white",
            "linecolor": "white",
            "ticks": ""
           },
           "baxis": {
            "gridcolor": "white",
            "linecolor": "white",
            "ticks": ""
           },
           "bgcolor": "#E5ECF6",
           "caxis": {
            "gridcolor": "white",
            "linecolor": "white",
            "ticks": ""
           }
          },
          "title": {
           "x": 0.05
          },
          "xaxis": {
           "automargin": true,
           "gridcolor": "white",
           "linecolor": "white",
           "ticks": "",
           "title": {
            "standoff": 15
           },
           "zerolinecolor": "white",
           "zerolinewidth": 2
          },
          "yaxis": {
           "automargin": true,
           "gridcolor": "white",
           "linecolor": "white",
           "ticks": "",
           "title": {
            "standoff": 15
           },
           "zerolinecolor": "white",
           "zerolinewidth": 2
          }
         }
        },
        "title": {
         "font": {
          "color": "black"
         },
         "text": "Baseline forecast for real household net income growth (2024-29)"
        },
        "width": 700,
        "xaxis": {
         "anchor": "y",
         "domain": [
          0,
          1
         ],
         "tickvals": [],
         "title": {
          "text": ""
         }
        },
        "yaxis": {
         "anchor": "x",
         "domain": [
          0,
          1
         ],
         "tickvals": [],
         "title": {
          "text": ""
         }
        }
       }
      }
     },
     "metadata": {},
     "output_type": "display_data"
    }
   ],
   "source": [
    "fig = px.scatter(\n",
    "    df,\n",
    "    x=\"x\",\n",
    "    y=\"y\",\n",
    "    color=\"Average real change (%)\",\n",
    "    hover_data=[\"Constituency\"],\n",
    ")\n",
    "\n",
    "from policyengine_core.charts import *\n",
    "\n",
    "fig.update_layout(\n",
    "    height=580,\n",
    "    width=700,\n",
    ")\n",
    "# Set zero to white\n",
    "# fig.update_coloraxes(cmax=-df[\"Average real change\"].min(), cmin=df[\"Average real change\"].min())\n",
    "\n",
    "# Set marker to hexagon\n",
    "fig.update_traces(marker=dict(symbol=\"hexagon\", size=12))\n",
    "\n",
    "fig.update_layout(\n",
    "    title=\"Baseline forecast for real household net income growth (2024-29)\",\n",
    "    xaxis_tickvals=[],\n",
    "    xaxis_title=\"\",\n",
    "    yaxis_tickvals=[],\n",
    "    yaxis_title=\"\",\n",
    "    # No bg\n",
    "    plot_bgcolor=\"rgba(0,0,0,0)\",\n",
    "    legend_title=\"Average household net income change\",\n",
    "    # Set color axis to %\n",
    "    title_font_color=\"black\",\n",
    "    legend_title_font_color=\"black\",\n",
    ")"
   ]
  },
  {
   "cell_type": "code",
   "execution_count": 7,
   "metadata": {},
   "outputs": [],
   "source": [
    "df[[\"Code\", \"Constituency\", \"Average real change (%)\"]].to_csv(\n",
    "    \"constituency_baseline_forecast.csv\", index=False\n",
    ")"
   ]
  },
  {
   "cell_type": "code",
   "execution_count": 8,
   "metadata": {},
   "outputs": [
    {
     "data": {
      "text/plain": [
       "count    650.000000\n",
       "mean       1.737540\n",
       "std        1.905879\n",
       "min       -5.249496\n",
       "25%        0.602416\n",
       "50%        1.596063\n",
       "75%        2.644899\n",
       "max       10.635343\n",
       "Name: Average real change (%), dtype: float64"
      ]
     },
     "execution_count": 8,
     "metadata": {},
     "output_type": "execute_result"
    }
   ],
   "source": [
    "df[\"Average real change (%)\"].describe()"
   ]
  },
  {
   "cell_type": "code",
   "execution_count": 9,
   "metadata": {},
   "outputs": [
    {
     "data": {
      "text/html": [
       "<div>\n",
       "<style scoped>\n",
       "    .dataframe tbody tr th:only-of-type {\n",
       "        vertical-align: middle;\n",
       "    }\n",
       "\n",
       "    .dataframe tbody tr th {\n",
       "        vertical-align: top;\n",
       "    }\n",
       "\n",
       "    .dataframe thead th {\n",
       "        text-align: right;\n",
       "    }\n",
       "</style>\n",
       "<table border=\"1\" class=\"dataframe\">\n",
       "  <thead>\n",
       "    <tr style=\"text-align: right;\">\n",
       "      <th></th>\n",
       "      <th>Average real change (%)</th>\n",
       "      <th>Constituency</th>\n",
       "      <th>Code</th>\n",
       "      <th>y</th>\n",
       "      <th>x</th>\n",
       "    </tr>\n",
       "  </thead>\n",
       "  <tbody>\n",
       "    <tr>\n",
       "      <th>565</th>\n",
       "      <td>-5.249496</td>\n",
       "      <td>Rhondda</td>\n",
       "      <td>W07000052</td>\n",
       "      <td>11</td>\n",
       "      <td>10.0</td>\n",
       "    </tr>\n",
       "    <tr>\n",
       "      <th>572</th>\n",
       "      <td>-3.151484</td>\n",
       "      <td>Ynys Môn</td>\n",
       "      <td>W07000041</td>\n",
       "      <td>19</td>\n",
       "      <td>7.0</td>\n",
       "    </tr>\n",
       "    <tr>\n",
       "      <th>36</th>\n",
       "      <td>-2.936147</td>\n",
       "      <td>Blackpool South</td>\n",
       "      <td>E14000573</td>\n",
       "      <td>26</td>\n",
       "      <td>12.5</td>\n",
       "    </tr>\n",
       "    <tr>\n",
       "      <th>241</th>\n",
       "      <td>-2.801534</td>\n",
       "      <td>Stoke-on-Trent Central</td>\n",
       "      <td>E14000972</td>\n",
       "      <td>23</td>\n",
       "      <td>17.0</td>\n",
       "    </tr>\n",
       "    <tr>\n",
       "      <th>242</th>\n",
       "      <td>-2.744494</td>\n",
       "      <td>Stoke-on-Trent North</td>\n",
       "      <td>E14000973</td>\n",
       "      <td>24</td>\n",
       "      <td>16.5</td>\n",
       "    </tr>\n",
       "    <tr>\n",
       "      <th>...</th>\n",
       "      <td>...</td>\n",
       "      <td>...</td>\n",
       "      <td>...</td>\n",
       "      <td>...</td>\n",
       "      <td>...</td>\n",
       "    </tr>\n",
       "    <tr>\n",
       "      <th>276</th>\n",
       "      <td>9.448778</td>\n",
       "      <td>Epping Forest</td>\n",
       "      <td>E14000693</td>\n",
       "      <td>13</td>\n",
       "      <td>22.0</td>\n",
       "    </tr>\n",
       "    <tr>\n",
       "      <th>457</th>\n",
       "      <td>9.456671</td>\n",
       "      <td>Runnymede and Weybridge</td>\n",
       "      <td>E14000907</td>\n",
       "      <td>8</td>\n",
       "      <td>17.5</td>\n",
       "    </tr>\n",
       "    <tr>\n",
       "      <th>90</th>\n",
       "      <td>9.520226</td>\n",
       "      <td>Tatton</td>\n",
       "      <td>E14000987</td>\n",
       "      <td>17</td>\n",
       "      <td>13.0</td>\n",
       "    </tr>\n",
       "    <tr>\n",
       "      <th>352</th>\n",
       "      <td>10.480521</td>\n",
       "      <td>Finchley and Golders Green</td>\n",
       "      <td>E14000703</td>\n",
       "      <td>11</td>\n",
       "      <td>22.0</td>\n",
       "    </tr>\n",
       "    <tr>\n",
       "      <th>400</th>\n",
       "      <td>10.635343</td>\n",
       "      <td>Beaconsfield</td>\n",
       "      <td>E14000550</td>\n",
       "      <td>11</td>\n",
       "      <td>18.0</td>\n",
       "    </tr>\n",
       "  </tbody>\n",
       "</table>\n",
       "<p>650 rows × 5 columns</p>\n",
       "</div>"
      ],
      "text/plain": [
       "     Average real change (%)                Constituency       Code   y     x\n",
       "565                -5.249496                     Rhondda  W07000052  11  10.0\n",
       "572                -3.151484                    Ynys Môn  W07000041  19   7.0\n",
       "36                 -2.936147             Blackpool South  E14000573  26  12.5\n",
       "241                -2.801534      Stoke-on-Trent Central  E14000972  23  17.0\n",
       "242                -2.744494        Stoke-on-Trent North  E14000973  24  16.5\n",
       "..                       ...                         ...        ...  ..   ...\n",
       "276                 9.448778               Epping Forest  E14000693  13  22.0\n",
       "457                 9.456671     Runnymede and Weybridge  E14000907   8  17.5\n",
       "90                  9.520226                      Tatton  E14000987  17  13.0\n",
       "352                10.480521  Finchley and Golders Green  E14000703  11  22.0\n",
       "400                10.635343                Beaconsfield  E14000550  11  18.0\n",
       "\n",
       "[650 rows x 5 columns]"
      ]
     },
     "execution_count": 9,
     "metadata": {},
     "output_type": "execute_result"
    }
   ],
   "source": [
    "df.sort_values(\"Average real change (%)\")"
   ]
  }
 ],
 "metadata": {
  "kernelspec": {
   "display_name": "base",
   "language": "python",
   "name": "python3"
  },
  "language_info": {
   "codemirror_mode": {
    "name": "ipython",
    "version": 3
   },
   "file_extension": ".py",
   "mimetype": "text/x-python",
   "name": "python",
   "nbconvert_exporter": "python",
   "pygments_lexer": "ipython3",
   "version": "3.10.14"
  }
 },
 "nbformat": 4,
 "nbformat_minor": 2
}
