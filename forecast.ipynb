{
 "cells": [
  {
   "cell_type": "code",
   "execution_count": 1,
   "metadata": {},
   "outputs": [],
   "source": [
    "import h5py\n",
    "import pandas as pd\n",
    "from policyengine_uk import Microsimulation\n",
    "\n",
    "with h5py.File(\"constituencies/weights.h5\", \"r\") as f:\n",
    "    weights = f[\"weight\"][:]\n",
    "constituencies = pd.read_csv(\"constituencies/constituencies_2010.csv\")"
   ]
  },
  {
   "cell_type": "code",
   "execution_count": 2,
   "metadata": {},
   "outputs": [],
   "source": [
    "baseline = Microsimulation()\n",
    "\n",
    "hnet_24 = baseline.calculate(\"real_household_net_income\", 2024)\n",
    "hnet_29 = baseline.calculate(\"real_household_net_income\", 2029)"
   ]
  },
  {
   "cell_type": "code",
   "execution_count": 3,
   "metadata": {},
   "outputs": [],
   "source": [
    "change = hnet_29 - hnet_24"
   ]
  },
  {
   "cell_type": "code",
   "execution_count": null,
   "metadata": {},
   "outputs": [],
   "source": [
    "import plotly.express as px\n",
    "import numpy as np\n",
    "\n",
    "hex_con = pd.read_csv(\"constituencies/hex_map/hex_map_2010.csv\")\n",
    "\n",
    "weighted_gain = np.dot(weights, change)\n",
    "weighted_original_income = np.dot(weights, hnet_24)\n",
    "weighted_rel_gain = weighted_gain / weighted_original_income\n",
    "\n",
    "df = pd.DataFrame()\n",
    "df[\"Average real change (%)\"] = weighted_rel_gain * 100\n",
    "df[\"Constituency\"] = constituencies.name\n",
    "df[\"Code\"] = constituencies.code\n",
    "\n",
    "df[\"y\"] = hex_con.set_index(\"code\").loc[df.Code].y.values\n",
    "df[\"x\"] = hex_con.set_index(\"code\").loc[df.Code].x.values\n",
    "df.x = df.x + (df.y % 2 == 0) * -0.5"
   ]
  },
  {
   "cell_type": "code",
   "execution_count": 8,
   "metadata": {},
   "outputs": [
    {
     "data": {
      "application/vnd.plotly.v1+json": {
       "config": {
        "plotlyServerURL": "https://plot.ly"
       },
       "data": [
        {
         "customdata": [
          [
           "Aldershot"
          ],
          [
           "Aldridge-Brownhills"
          ],
          [
           "Altrincham and Sale West"
          ],
          [
           "Amber Valley"
          ],
          [
           "Arundel and South Downs"
          ],
          [
           "Ashfield"
          ],
          [
           "Ashford"
          ],
          [
           "Ashton-under-Lyne"
          ],
          [
           "Aylesbury"
          ],
          [
           "Banbury"
          ],
          [
           "Barking"
          ],
          [
           "Barnsley Central"
          ],
          [
           "Barnsley East"
          ],
          [
           "Barrow and Furness"
          ],
          [
           "Basildon and Billericay"
          ],
          [
           "Basingstoke"
          ],
          [
           "Bassetlaw"
          ],
          [
           "Bath"
          ],
          [
           "Batley and Spen"
          ],
          [
           "Battersea"
          ],
          [
           "Beaconsfield"
          ],
          [
           "Beckenham"
          ],
          [
           "Bedford"
          ],
          [
           "Bermondsey and Old Southwark"
          ],
          [
           "Berwick-upon-Tweed"
          ],
          [
           "Bethnal Green and Bow"
          ],
          [
           "Beverley and Holderness"
          ],
          [
           "Bexhill and Battle"
          ],
          [
           "Bexleyheath and Crayford"
          ],
          [
           "Birkenhead"
          ],
          [
           "Birmingham, Edgbaston"
          ],
          [
           "Birmingham, Erdington"
          ],
          [
           "Birmingham, Hall Green"
          ],
          [
           "Birmingham, Hodge Hill"
          ],
          [
           "Birmingham, Ladywood"
          ],
          [
           "Birmingham, Northfield"
          ],
          [
           "Birmingham, Perry Barr"
          ],
          [
           "Birmingham, Selly Oak"
          ],
          [
           "Birmingham, Yardley"
          ],
          [
           "Bishop Auckland"
          ],
          [
           "Blackburn"
          ],
          [
           "Blackley and Broughton"
          ],
          [
           "Blackpool North and Cleveleys"
          ],
          [
           "Blackpool South"
          ],
          [
           "Blaydon"
          ],
          [
           "Blyth Valley"
          ],
          [
           "Bognor Regis and Littlehampton"
          ],
          [
           "Bolsover"
          ],
          [
           "Bolton North East"
          ],
          [
           "Bolton South East"
          ],
          [
           "Bolton West"
          ],
          [
           "Bootle"
          ],
          [
           "Boston and Skegness"
          ],
          [
           "Bosworth"
          ],
          [
           "Bournemouth East"
          ],
          [
           "Bournemouth West"
          ],
          [
           "Bracknell"
          ],
          [
           "Bradford East"
          ],
          [
           "Bradford South"
          ],
          [
           "Bradford West"
          ],
          [
           "Braintree"
          ],
          [
           "Brent Central"
          ],
          [
           "Brent North"
          ],
          [
           "Brentford and Isleworth"
          ],
          [
           "Brentwood and Ongar"
          ],
          [
           "Bridgwater and West Somerset"
          ],
          [
           "Brigg and Goole"
          ],
          [
           "Brighton, Kemptown"
          ],
          [
           "Brighton, Pavilion"
          ],
          [
           "Bristol East"
          ],
          [
           "Bristol North West"
          ],
          [
           "Bristol South"
          ],
          [
           "Bristol West"
          ],
          [
           "Broadland"
          ],
          [
           "Bromley and Chislehurst"
          ],
          [
           "Bromsgrove"
          ],
          [
           "Broxbourne"
          ],
          [
           "Broxtowe"
          ],
          [
           "Buckingham"
          ],
          [
           "Burnley"
          ],
          [
           "Burton"
          ],
          [
           "Bury North"
          ],
          [
           "Bury South"
          ],
          [
           "Bury St Edmunds"
          ],
          [
           "Calder Valley"
          ],
          [
           "Camberwell and Peckham"
          ],
          [
           "Camborne and Redruth"
          ],
          [
           "Cambridge"
          ],
          [
           "Cannock Chase"
          ],
          [
           "Canterbury"
          ],
          [
           "Carlisle"
          ],
          [
           "Carshalton and Wallington"
          ],
          [
           "Castle Point"
          ],
          [
           "Central Devon"
          ],
          [
           "Central Suffolk and North Ipswich"
          ],
          [
           "Charnwood"
          ],
          [
           "Chatham and Aylesford"
          ],
          [
           "Cheadle"
          ],
          [
           "Chelmsford"
          ],
          [
           "Chelsea and Fulham"
          ],
          [
           "Cheltenham"
          ],
          [
           "Chesham and Amersham"
          ],
          [
           "Chesterfield"
          ],
          [
           "Chichester"
          ],
          [
           "Chingford and Woodford Green"
          ],
          [
           "Chippenham"
          ],
          [
           "Chipping Barnet"
          ],
          [
           "Chorley"
          ],
          [
           "Christchurch"
          ],
          [
           "Cities of London and Westminster"
          ],
          [
           "City of Chester"
          ],
          [
           "City of Durham"
          ],
          [
           "Clacton"
          ],
          [
           "Cleethorpes"
          ],
          [
           "Colchester"
          ],
          [
           "Colne Valley"
          ],
          [
           "Congleton"
          ],
          [
           "Copeland"
          ],
          [
           "Corby"
          ],
          [
           "Coventry North East"
          ],
          [
           "Coventry North West"
          ],
          [
           "Coventry South"
          ],
          [
           "Crawley"
          ],
          [
           "Crewe and Nantwich"
          ],
          [
           "Croydon Central"
          ],
          [
           "Croydon North"
          ],
          [
           "Croydon South"
          ],
          [
           "Dagenham and Rainham"
          ],
          [
           "Darlington"
          ],
          [
           "Dartford"
          ],
          [
           "Daventry"
          ],
          [
           "Denton and Reddish"
          ],
          [
           "Derby North"
          ],
          [
           "Derby South"
          ],
          [
           "Derbyshire Dales"
          ],
          [
           "Devizes"
          ],
          [
           "Dewsbury"
          ],
          [
           "Don Valley"
          ],
          [
           "Doncaster Central"
          ],
          [
           "Doncaster North"
          ],
          [
           "Dover"
          ],
          [
           "Dudley North"
          ],
          [
           "Dudley South"
          ],
          [
           "Dulwich and West Norwood"
          ],
          [
           "Ealing Central and Acton"
          ],
          [
           "Ealing North"
          ],
          [
           "Ealing, Southall"
          ],
          [
           "Easington"
          ],
          [
           "East Devon"
          ],
          [
           "East Ham"
          ],
          [
           "East Hampshire"
          ],
          [
           "East Surrey"
          ],
          [
           "East Worthing and Shoreham"
          ],
          [
           "East Yorkshire"
          ],
          [
           "Eastbourne"
          ],
          [
           "Eastleigh"
          ],
          [
           "Eddisbury"
          ],
          [
           "Edmonton"
          ],
          [
           "Ellesmere Port and Neston"
          ],
          [
           "Elmet and Rothwell"
          ],
          [
           "Eltham"
          ],
          [
           "Enfield North"
          ],
          [
           "Enfield, Southgate"
          ],
          [
           "Epping Forest"
          ],
          [
           "Epsom and Ewell"
          ],
          [
           "Erewash"
          ],
          [
           "Erith and Thamesmead"
          ],
          [
           "Esher and Walton"
          ],
          [
           "Exeter"
          ],
          [
           "Fareham"
          ],
          [
           "Faversham and Mid Kent"
          ],
          [
           "Feltham and Heston"
          ],
          [
           "Filton and Bradley Stoke"
          ],
          [
           "Finchley and Golders Green"
          ],
          [
           "Folkestone and Hythe"
          ],
          [
           "Forest of Dean"
          ],
          [
           "Fylde"
          ],
          [
           "Gainsborough"
          ],
          [
           "Garston and Halewood"
          ],
          [
           "Gateshead"
          ],
          [
           "Gedling"
          ],
          [
           "Gillingham and Rainham"
          ],
          [
           "Gloucester"
          ],
          [
           "Gosport"
          ],
          [
           "Grantham and Stamford"
          ],
          [
           "Gravesham"
          ],
          [
           "Great Grimsby"
          ],
          [
           "Great Yarmouth"
          ],
          [
           "Greenwich and Woolwich"
          ],
          [
           "Guildford"
          ],
          [
           "Hackney North and Stoke Newington"
          ],
          [
           "Hackney South and Shoreditch"
          ],
          [
           "Halesowen and Rowley Regis"
          ],
          [
           "Halifax"
          ],
          [
           "Haltemprice and Howden"
          ],
          [
           "Halton"
          ],
          [
           "Hammersmith"
          ],
          [
           "Hampstead and Kilburn"
          ],
          [
           "Harborough"
          ],
          [
           "Harlow"
          ],
          [
           "Harrogate and Knaresborough"
          ],
          [
           "Harrow East"
          ],
          [
           "Harrow West"
          ],
          [
           "Hartlepool"
          ],
          [
           "Harwich and North Essex"
          ],
          [
           "Hastings and Rye"
          ],
          [
           "Havant"
          ],
          [
           "Hayes and Harlington"
          ],
          [
           "Hazel Grove"
          ],
          [
           "Hemel Hempstead"
          ],
          [
           "Hemsworth"
          ],
          [
           "Hendon"
          ],
          [
           "Henley"
          ],
          [
           "Hereford and South Herefordshire"
          ],
          [
           "Hertford and Stortford"
          ],
          [
           "Hertsmere"
          ],
          [
           "Hexham"
          ],
          [
           "Heywood and Middleton"
          ],
          [
           "High Peak"
          ],
          [
           "Hitchin and Harpenden"
          ],
          [
           "Holborn and St Pancras"
          ],
          [
           "Hornchurch and Upminster"
          ],
          [
           "Hornsey and Wood Green"
          ],
          [
           "Horsham"
          ],
          [
           "Houghton and Sunderland South"
          ],
          [
           "Hove"
          ],
          [
           "Huddersfield"
          ],
          [
           "Huntingdon"
          ],
          [
           "Hyndburn"
          ],
          [
           "Ilford North"
          ],
          [
           "Ilford South"
          ],
          [
           "Ipswich"
          ],
          [
           "Isle of Wight"
          ],
          [
           "Islington North"
          ],
          [
           "Islington South and Finsbury"
          ],
          [
           "Jarrow"
          ],
          [
           "Keighley"
          ],
          [
           "Kenilworth and Southam"
          ],
          [
           "Kensington"
          ],
          [
           "Kettering"
          ],
          [
           "Kingston and Surbiton"
          ],
          [
           "Kingston upon Hull East"
          ],
          [
           "Kingston upon Hull North"
          ],
          [
           "Kingston upon Hull West and Hessle"
          ],
          [
           "Kingswood"
          ],
          [
           "Knowsley"
          ],
          [
           "Lancaster and Fleetwood"
          ],
          [
           "Leeds Central"
          ],
          [
           "Leeds East"
          ],
          [
           "Leeds North East"
          ],
          [
           "Leeds North West"
          ],
          [
           "Leeds West"
          ],
          [
           "Leicester East"
          ],
          [
           "Leicester South"
          ],
          [
           "Leicester West"
          ],
          [
           "Leigh"
          ],
          [
           "Lewes"
          ],
          [
           "Lewisham East"
          ],
          [
           "Lewisham West and Penge"
          ],
          [
           "Lewisham, Deptford"
          ],
          [
           "Leyton and Wanstead"
          ],
          [
           "Lichfield"
          ],
          [
           "Lincoln"
          ],
          [
           "Liverpool, Riverside"
          ],
          [
           "Liverpool, Walton"
          ],
          [
           "Liverpool, Wavertree"
          ],
          [
           "Liverpool, West Derby"
          ],
          [
           "Loughborough"
          ],
          [
           "Louth and Horncastle"
          ],
          [
           "Ludlow"
          ],
          [
           "Luton North"
          ],
          [
           "Luton South"
          ],
          [
           "Macclesfield"
          ],
          [
           "Maidenhead"
          ],
          [
           "Maidstone and The Weald"
          ],
          [
           "Makerfield"
          ],
          [
           "Maldon"
          ],
          [
           "Manchester Central"
          ],
          [
           "Manchester, Gorton"
          ],
          [
           "Manchester, Withington"
          ],
          [
           "Mansfield"
          ],
          [
           "Meon Valley"
          ],
          [
           "Meriden"
          ],
          [
           "Mid Bedfordshire"
          ],
          [
           "Mid Derbyshire"
          ],
          [
           "Mid Dorset and North Poole"
          ],
          [
           "Mid Norfolk"
          ],
          [
           "Mid Sussex"
          ],
          [
           "Mid Worcestershire"
          ],
          [
           "Middlesbrough"
          ],
          [
           "Middlesbrough South and East Cleveland"
          ],
          [
           "Milton Keynes North"
          ],
          [
           "Milton Keynes South"
          ],
          [
           "Mitcham and Morden"
          ],
          [
           "Mole Valley"
          ],
          [
           "Morecambe and Lunesdale"
          ],
          [
           "Morley and Outwood"
          ],
          [
           "New Forest East"
          ],
          [
           "New Forest West"
          ],
          [
           "Newark"
          ],
          [
           "Newbury"
          ],
          [
           "Newcastle upon Tyne Central"
          ],
          [
           "Newcastle upon Tyne East"
          ],
          [
           "Newcastle upon Tyne North"
          ],
          [
           "Newcastle-under-Lyme"
          ],
          [
           "Newton Abbot"
          ],
          [
           "Normanton, Pontefract and Castleford"
          ],
          [
           "North Cornwall"
          ],
          [
           "North Devon"
          ],
          [
           "North Dorset"
          ],
          [
           "North Durham"
          ],
          [
           "North East Bedfordshire"
          ],
          [
           "North East Cambridgeshire"
          ],
          [
           "North East Derbyshire"
          ],
          [
           "North East Hampshire"
          ],
          [
           "North East Hertfordshire"
          ],
          [
           "North East Somerset"
          ],
          [
           "North Herefordshire"
          ],
          [
           "North Norfolk"
          ],
          [
           "North Shropshire"
          ],
          [
           "North Somerset"
          ],
          [
           "North Swindon"
          ],
          [
           "North Thanet"
          ],
          [
           "North Tyneside"
          ],
          [
           "North Warwickshire"
          ],
          [
           "North West Cambridgeshire"
          ],
          [
           "North West Durham"
          ],
          [
           "North West Hampshire"
          ],
          [
           "North West Leicestershire"
          ],
          [
           "North West Norfolk"
          ],
          [
           "North Wiltshire"
          ],
          [
           "Northampton North"
          ],
          [
           "Northampton South"
          ],
          [
           "Norwich North"
          ],
          [
           "Norwich South"
          ],
          [
           "Nottingham East"
          ],
          [
           "Nottingham North"
          ],
          [
           "Nottingham South"
          ],
          [
           "Nuneaton"
          ],
          [
           "Old Bexley and Sidcup"
          ],
          [
           "Oldham East and Saddleworth"
          ],
          [
           "Oldham West and Royton"
          ],
          [
           "Orpington"
          ],
          [
           "Oxford East"
          ],
          [
           "Oxford West and Abingdon"
          ],
          [
           "Pendle"
          ],
          [
           "Penistone and Stocksbridge"
          ],
          [
           "Penrith and The Border"
          ],
          [
           "Peterborough"
          ],
          [
           "Plymouth, Moor View"
          ],
          [
           "Plymouth, Sutton and Devonport"
          ],
          [
           "Poole"
          ],
          [
           "Poplar and Limehouse"
          ],
          [
           "Portsmouth North"
          ],
          [
           "Portsmouth South"
          ],
          [
           "Preston"
          ],
          [
           "Pudsey"
          ],
          [
           "Putney"
          ],
          [
           "Rayleigh and Wickford"
          ],
          [
           "Reading East"
          ],
          [
           "Reading West"
          ],
          [
           "Redcar"
          ],
          [
           "Redditch"
          ],
          [
           "Reigate"
          ],
          [
           "Ribble Valley"
          ],
          [
           "Richmond (Yorks)"
          ],
          [
           "Richmond Park"
          ],
          [
           "Rochdale"
          ],
          [
           "Rochester and Strood"
          ],
          [
           "Rochford and Southend East"
          ],
          [
           "Romford"
          ],
          [
           "Romsey and Southampton North"
          ],
          [
           "Rossendale and Darwen"
          ],
          [
           "Rother Valley"
          ],
          [
           "Rotherham"
          ],
          [
           "Rugby"
          ],
          [
           "Ruislip, Northwood and Pinner"
          ],
          [
           "Runnymede and Weybridge"
          ],
          [
           "Rushcliffe"
          ],
          [
           "Rutland and Melton"
          ],
          [
           "Saffron Walden"
          ],
          [
           "Salford and Eccles"
          ],
          [
           "Salisbury"
          ],
          [
           "Scarborough and Whitby"
          ],
          [
           "Scunthorpe"
          ],
          [
           "Sedgefield"
          ],
          [
           "Sefton Central"
          ],
          [
           "Selby and Ainsty"
          ],
          [
           "Sevenoaks"
          ],
          [
           "Sheffield Central"
          ],
          [
           "Sheffield South East"
          ],
          [
           "Sheffield, Brightside and Hillsborough"
          ],
          [
           "Sheffield, Hallam"
          ],
          [
           "Sheffield, Heeley"
          ],
          [
           "Sherwood"
          ],
          [
           "Shipley"
          ],
          [
           "Shrewsbury and Atcham"
          ],
          [
           "Sittingbourne and Sheppey"
          ],
          [
           "Skipton and Ripon"
          ],
          [
           "Sleaford and North Hykeham"
          ],
          [
           "Slough"
          ],
          [
           "Solihull"
          ],
          [
           "Somerton and Frome"
          ],
          [
           "South Basildon and East Thurrock"
          ],
          [
           "South Cambridgeshire"
          ],
          [
           "South Derbyshire"
          ],
          [
           "South Dorset"
          ],
          [
           "South East Cambridgeshire"
          ],
          [
           "South East Cornwall"
          ],
          [
           "South Holland and The Deepings"
          ],
          [
           "South Leicestershire"
          ],
          [
           "South Norfolk"
          ],
          [
           "South Northamptonshire"
          ],
          [
           "South Ribble"
          ],
          [
           "South Shields"
          ],
          [
           "South Staffordshire"
          ],
          [
           "South Suffolk"
          ],
          [
           "South Swindon"
          ],
          [
           "South Thanet"
          ],
          [
           "South West Bedfordshire"
          ],
          [
           "South West Devon"
          ],
          [
           "South West Hertfordshire"
          ],
          [
           "South West Norfolk"
          ],
          [
           "South West Surrey"
          ],
          [
           "South West Wiltshire"
          ],
          [
           "Southampton, Itchen"
          ],
          [
           "Southampton, Test"
          ],
          [
           "Southend West"
          ],
          [
           "Southport"
          ],
          [
           "Spelthorne"
          ],
          [
           "St Albans"
          ],
          [
           "St Austell and Newquay"
          ],
          [
           "St Helens North"
          ],
          [
           "St Helens South and Whiston"
          ],
          [
           "St Ives"
          ],
          [
           "Stafford"
          ],
          [
           "Staffordshire Moorlands"
          ],
          [
           "Stalybridge and Hyde"
          ],
          [
           "Stevenage"
          ],
          [
           "Stockport"
          ],
          [
           "Stockton North"
          ],
          [
           "Stockton South"
          ],
          [
           "Stoke-on-Trent Central"
          ],
          [
           "Stoke-on-Trent North"
          ],
          [
           "Stoke-on-Trent South"
          ],
          [
           "Stone"
          ],
          [
           "Stourbridge"
          ],
          [
           "Stratford-on-Avon"
          ],
          [
           "Streatham"
          ],
          [
           "Stretford and Urmston"
          ],
          [
           "Stroud"
          ],
          [
           "Suffolk Coastal"
          ],
          [
           "Sunderland Central"
          ],
          [
           "Surrey Heath"
          ],
          [
           "Sutton and Cheam"
          ],
          [
           "Sutton Coldfield"
          ],
          [
           "Tamworth"
          ],
          [
           "Tatton"
          ],
          [
           "Taunton Deane"
          ],
          [
           "Telford"
          ],
          [
           "Tewkesbury"
          ],
          [
           "The Cotswolds"
          ],
          [
           "The Wrekin"
          ],
          [
           "Thirsk and Malton"
          ],
          [
           "Thornbury and Yate"
          ],
          [
           "Thurrock"
          ],
          [
           "Tiverton and Honiton"
          ],
          [
           "Tonbridge and Malling"
          ],
          [
           "Tooting"
          ],
          [
           "Torbay"
          ],
          [
           "Torridge and West Devon"
          ],
          [
           "Totnes"
          ],
          [
           "Tottenham"
          ],
          [
           "Truro and Falmouth"
          ],
          [
           "Tunbridge Wells"
          ],
          [
           "Twickenham"
          ],
          [
           "Tynemouth"
          ],
          [
           "Uxbridge and South Ruislip"
          ],
          [
           "Vauxhall"
          ],
          [
           "Wakefield"
          ],
          [
           "Wallasey"
          ],
          [
           "Walsall North"
          ],
          [
           "Walsall South"
          ],
          [
           "Walthamstow"
          ],
          [
           "Wansbeck"
          ],
          [
           "Wantage"
          ],
          [
           "Warley"
          ],
          [
           "Warrington North"
          ],
          [
           "Warrington South"
          ],
          [
           "Warwick and Leamington"
          ],
          [
           "Washington and Sunderland West"
          ],
          [
           "Watford"
          ],
          [
           "Waveney"
          ],
          [
           "Wealden"
          ],
          [
           "Weaver Vale"
          ],
          [
           "Wellingborough"
          ],
          [
           "Wells"
          ],
          [
           "Welwyn Hatfield"
          ],
          [
           "Wentworth and Dearne"
          ],
          [
           "West Bromwich East"
          ],
          [
           "West Bromwich West"
          ],
          [
           "West Dorset"
          ],
          [
           "West Ham"
          ],
          [
           "West Lancashire"
          ],
          [
           "West Suffolk"
          ],
          [
           "West Worcestershire"
          ],
          [
           "Westminster North"
          ],
          [
           "Westmorland and Lonsdale"
          ],
          [
           "Weston-Super-Mare"
          ],
          [
           "Wigan"
          ],
          [
           "Wimbledon"
          ],
          [
           "Winchester"
          ],
          [
           "Windsor"
          ],
          [
           "Wirral South"
          ],
          [
           "Wirral West"
          ],
          [
           "Witham"
          ],
          [
           "Witney"
          ],
          [
           "Woking"
          ],
          [
           "Wokingham"
          ],
          [
           "Wolverhampton North East"
          ],
          [
           "Wolverhampton South East"
          ],
          [
           "Wolverhampton South West"
          ],
          [
           "Worcester"
          ],
          [
           "Workington"
          ],
          [
           "Worsley and Eccles South"
          ],
          [
           "Worthing West"
          ],
          [
           "Wycombe"
          ],
          [
           "Wyre and Preston North"
          ],
          [
           "Wyre Forest"
          ],
          [
           "Wythenshawe and Sale East"
          ],
          [
           "Yeovil"
          ],
          [
           "York Central"
          ],
          [
           "York Outer"
          ],
          [
           "Belfast East"
          ],
          [
           "Belfast North"
          ],
          [
           "Belfast South"
          ],
          [
           "Belfast West"
          ],
          [
           "East Antrim"
          ],
          [
           "East Londonderry"
          ],
          [
           "Fermanagh & South Tyrone"
          ],
          [
           "Foyle"
          ],
          [
           "Lagan Valley"
          ],
          [
           "Mid Ulster"
          ],
          [
           "Newry & Armagh"
          ],
          [
           "North Antrim"
          ],
          [
           "North Down"
          ],
          [
           "South Antrim"
          ],
          [
           "South Down"
          ],
          [
           "Strangford"
          ],
          [
           "Upper Bann"
          ],
          [
           "West Tyrone"
          ],
          [
           "Aberdeen North"
          ],
          [
           "Aberdeen South"
          ],
          [
           "Airdrie and Shotts"
          ],
          [
           "Angus"
          ],
          [
           "Argyll and Bute"
          ],
          [
           "Ayr, Carrick and Cumnock"
          ],
          [
           "Banff and Buchan"
          ],
          [
           "Berwickshire, Roxburgh and Selkirk"
          ],
          [
           "Caithness, Sutherland and Easter Ross"
          ],
          [
           "Central Ayrshire"
          ],
          [
           "Coatbridge, Chryston and Bellshill"
          ],
          [
           "Cumbernauld, Kilsyth and Kirkintilloch East"
          ],
          [
           "Dumfries and Galloway"
          ],
          [
           "Dumfriesshire, Clydesdale and Tweeddale"
          ],
          [
           "Dundee East"
          ],
          [
           "Dundee West"
          ],
          [
           "Dunfermline and West Fife"
          ],
          [
           "East Dunbartonshire"
          ],
          [
           "East Kilbride, Strathaven and Lesmahagow"
          ],
          [
           "East Lothian"
          ],
          [
           "East Renfrewshire"
          ],
          [
           "Edinburgh East"
          ],
          [
           "Edinburgh North and Leith"
          ],
          [
           "Edinburgh South"
          ],
          [
           "Edinburgh South West"
          ],
          [
           "Edinburgh West"
          ],
          [
           "Na h-Eileanan an Iar"
          ],
          [
           "Falkirk"
          ],
          [
           "Glasgow Central"
          ],
          [
           "Glasgow East"
          ],
          [
           "Glasgow North"
          ],
          [
           "Glasgow North East"
          ],
          [
           "Glasgow North West"
          ],
          [
           "Glasgow South"
          ],
          [
           "Glasgow South West"
          ],
          [
           "Glenrothes"
          ],
          [
           "Gordon"
          ],
          [
           "Inverclyde"
          ],
          [
           "Inverness, Nairn, Badenoch and Strathspey"
          ],
          [
           "Kilmarnock and Loudoun"
          ],
          [
           "Kirkcaldy and Cowdenbeath"
          ],
          [
           "Lanark and Hamilton East"
          ],
          [
           "Linlithgow and East Falkirk"
          ],
          [
           "Livingston"
          ],
          [
           "Midlothian"
          ],
          [
           "Moray"
          ],
          [
           "Motherwell and Wishaw"
          ],
          [
           "North Ayrshire and Arran"
          ],
          [
           "North East Fife"
          ],
          [
           "Ochil and South Perthshire"
          ],
          [
           "Orkney and Shetland"
          ],
          [
           "Paisley and Renfrewshire North"
          ],
          [
           "Paisley and Renfrewshire South"
          ],
          [
           "Perth and North Perthshire"
          ],
          [
           "Ross, Skye and Lochaber"
          ],
          [
           "Rutherglen and Hamilton West"
          ],
          [
           "Stirling"
          ],
          [
           "West Aberdeenshire and Kincardine"
          ],
          [
           "West Dunbartonshire"
          ],
          [
           "Ynys Môn"
          ],
          [
           "Delyn"
          ],
          [
           "Alyn and Deeside"
          ],
          [
           "Wrexham"
          ],
          [
           "Llanelli"
          ],
          [
           "Gower"
          ],
          [
           "Swansea West"
          ],
          [
           "Swansea East"
          ],
          [
           "Aberavon"
          ],
          [
           "Cardiff Central"
          ],
          [
           "Cardiff North"
          ],
          [
           "Rhondda"
          ],
          [
           "Torfaen"
          ],
          [
           "Monmouth"
          ],
          [
           "Newport East"
          ],
          [
           "Newport West"
          ],
          [
           "Arfon"
          ],
          [
           "Aberconwy"
          ],
          [
           "Clwyd West"
          ],
          [
           "Vale of Clwyd"
          ],
          [
           "Dwyfor Meirionnydd"
          ],
          [
           "Clwyd South"
          ],
          [
           "Montgomeryshire"
          ],
          [
           "Ceredigion"
          ],
          [
           "Preseli Pembrokeshire"
          ],
          [
           "Carmarthen West and South Pembrokeshire"
          ],
          [
           "Carmarthen East and Dinefwr"
          ],
          [
           "Brecon and Radnorshire"
          ],
          [
           "Neath"
          ],
          [
           "Cynon Valley"
          ],
          [
           "Merthyr Tydfil and Rhymney"
          ],
          [
           "Blaenau Gwent"
          ],
          [
           "Bridgend"
          ],
          [
           "Ogmore"
          ],
          [
           "Pontypridd"
          ],
          [
           "Caerphilly"
          ],
          [
           "Islwyn"
          ],
          [
           "Vale of Glamorgan"
          ],
          [
           "Cardiff West"
          ],
          [
           "Cardiff South and Penarth"
          ]
         ],
         "hovertemplate": "x=%{x}<br>y=%{y}<br>Constituency=%{customdata[0]}<br>Average real change (%)=%{marker.color}<extra></extra>",
         "legendgroup": "",
         "marker": {
          "color": [
           1.960263729095459,
           2.587984800338745,
           2.481503963470459,
           2.594658136367798,
           2.4038963317871094,
           2.5660433769226074,
           1.8478341102600098,
           2.5686116218566895,
           1.8042961359024048,
           1.8524593114852905,
           2.277330160140991,
           2.5833706855773926,
           2.5853283405303955,
           2.5963873863220215,
           2.561460256576538,
           1.7977226972579956,
           2.5630359649658203,
           2.5090603828430176,
           2.462188720703125,
           2.2347538471221924,
           2.5333027839660645,
           2.5978732109069824,
           2.460780382156372,
           2.110102415084839,
           2.5872368812561035,
           2.134798765182495,
           2.600877523422241,
           2.541393518447876,
           2.567828893661499,
           2.572537899017334,
           2.47623348236084,
           2.4770050048828125,
           2.3673081398010254,
           2.410315990447998,
           2.3423542976379395,
           2.518124580383301,
           2.4298434257507324,
           2.511190176010132,
           2.4319982528686523,
           2.5934503078460693,
           2.4299890995025635,
           2.3756186962127686,
           2.577455520629883,
           2.5671749114990234,
           2.595278024673462,
           2.5900754928588867,
           2.606412887573242,
           2.5893137454986572,
           2.546912431716919,
           2.468106985092163,
           2.604917049407959,
           2.5386440753936768,
           2.578125238418579,
           2.389970541000366,
           2.5249545574188232,
           2.5566699504852295,
           2.0272839069366455,
           2.4108171463012695,
           2.475262403488159,
           2.3931431770324707,
           2.5580036640167236,
           1.8944501876831055,
           2.0676863193511963,
           2.00335955619812,
           2.5724055767059326,
           2.581463575363159,
           2.599257707595825,
           2.5639078617095947,
           2.3028886318206787,
           2.36767315864563,
           2.4554409980773926,
           1.9081143140792847,
           1.7548623085021973,
           2.6116976737976074,
           2.437586784362793,
           2.482222557067871,
           2.464905023574829,
           2.5921261310577393,
           2.3182132244110107,
           2.5791592597961426,
           2.4901280403137207,
           2.5871031284332275,
           2.543388605117798,
           1.946067452430725,
           2.5799710750579834,
           1.9704381227493286,
           2.5896875858306885,
           2.0227293968200684,
           2.5867555141448975,
           2.4950790405273438,
           2.5907487869262695,
           2.485633611679077,
           2.611767292022705,
           2.6112306118011475,
           2.490365505218506,
           2.6001322269439697,
           2.439275026321411,
           2.6064352989196777,
           2.4583892822265625,
           2.4740960597991943,
           2.3321800231933594,
           2.5500569343566895,
           2.593608856201172,
           2.5957064628601074,
           2.602993965148926,
           2.5901577472686768,
           2.2758188247680664,
           2.5672011375427246,
           2.6100687980651855,
           2.114145040512085,
           2.601484537124634,
           2.563338279724121,
           2.582322597503662,
           2.602548360824585,
           1.9167323112487793,
           2.3886020183563232,
           2.544830560684204,
           2.595149278640747,
           1.9176020622253418,
           2.26004958152771,
           2.401120185852051,
           2.373253107070923,
           2.238755226135254,
           2.4532394409179688,
           1.9049803018569946,
           1.7843836545944214,
           2.2259652614593506,
           2.411140203475952,
           2.587177038192749,
           1.8608615398406982,
           2.4967539310455322,
           2.584017038345337,
           2.553032159805298,
           2.4023470878601074,
           2.6139707565307617,
           2.5786855220794678,
           2.445955753326416,
           2.603304147720337,
           2.485524892807007,
           2.5756218433380127,
           2.605729579925537,
           2.570507526397705,
           2.5803701877593994,
           2.239047050476074,
           2.1094346046447754,
           2.1509549617767334,
           2.502842903137207,
           2.575207471847534,
           2.5351309776306152,
           1.8816086053848267,
           2.5227444171905518,
           2.184170961380005,
           2.600161075592041,
           2.623265504837036,
           2.5801868438720703,
           1.7292330265045166,
           2.603910207748413,
           2.4016780853271484,
           2.59749698638916,
           2.626084089279175,
           2.5391652584075928,
           2.4435863494873047,
           2.4866280555725098,
           2.4711592197418213,
           2.2166218757629395,
           2.58274507522583,
           2.277737855911255,
           2.3275887966156006,
           2.307508707046509,
           2.609529733657837,
           2.5081682205200195,
           2.006873607635498,
           2.104945182800293,
           2.163332939147949,
           2.144216775894165,
           2.6091549396514893,
           2.619616985321045,
           2.607343912124634,
           2.4982492923736572,
           2.569890022277832,
           2.589735507965088,
           2.4648404121398926,
           1.9945168495178223,
           2.5971732139587402,
           2.4371161460876465,
           2.441340923309326,
           2.5718986988067627,
           2.5971646308898926,
           2.084108352661133,
           2.186523675918579,
           2.0923657417297363,
           2.0719656944274902,
           2.58184814453125,
           2.5000195503234863,
           2.615670919418335,
           2.5824642181396484,
           2.1367249488830566,
           2.223641872406006,
           2.4360032081604004,
           2.5518124103546143,
           2.48893141746521,
           1.9758485555648804,
           2.31756854057312,
           2.5841002464294434,
           2.6182613372802734,
           2.559093475341797,
           2.6012306213378906,
           2.1793556213378906,
           2.600533962249756,
           2.240656614303589,
           2.5896811485290527,
           1.9982842206954956,
           2.5686209201812744,
           2.595487117767334,
           2.217294216156006,
           2.399033546447754,
           2.6132707595825195,
           2.521348476409912,
           2.6042065620422363,
           2.3072681427001953,
           2.1564443111419678,
           2.37996244430542,
           2.126126527786255,
           2.1091511249542236,
           2.579529285430908,
           2.331730604171753,
           2.5304176807403564,
           1.6919784545898438,
           2.5712521076202393,
           2.4270167350769043,
           2.0461175441741943,
           1.9300216436386108,
           2.250781297683716,
           2.0892891883850098,
           2.210047960281372,
           2.583632707595825,
           2.59434175491333,
           2.625898838043213,
           2.4905688762664795,
           2.553152561187744,
           2.0715091228485107,
           2.5709071159362793,
           2.4937362670898438,
           2.573648452758789,
           2.5835306644439697,
           2.4985146522521973,
           2.555410385131836,
           2.244976282119751,
           2.484952926635742,
           2.585747718811035,
           2.5599329471588135,
           2.523245334625244,
           2.408568859100342,
           2.3760337829589844,
           2.4126203060150146,
           2.496539354324341,
           2.62689471244812,
           2.425255060195923,
           2.24933123588562,
           1.9604392051696777,
           2.249908447265625,
           2.6169493198394775,
           2.4529411792755127,
           2.416050434112549,
           2.5632736682891846,
           2.5359506607055664,
           2.5664780139923096,
           2.5165586471557617,
           2.6114861965179443,
           2.612805128097534,
           2.5036227703094482,
           2.365299701690674,
           2.6226742267608643,
           2.363131284713745,
           2.2652316093444824,
           2.5924503803253174,
           2.638838529586792,
           1.8472741842269897,
           2.381621837615967,
           2.4066507816314697,
           2.4571502208709717,
           2.6273295879364014,
           2.301170587539673,
           1.9625276327133179,
           2.6017885208129883,
           2.606945037841797,
           2.621333599090576,
           2.1887245178222656,
           2.558623790740967,
           2.514589309692383,
           2.6092145442962646,
           1.778295636177063,
           1.8235152959823608,
           2.3619465827941895,
           2.6019372940063477,
           2.5917272567749023,
           2.322648525238037,
           2.6159470081329346,
           2.621366262435913,
           2.552433967590332,
           2.163191795349121,
           2.452019691467285,
           2.5493321418762207,
           2.591838836669922,
           2.582412004470825,
           2.6108853816986084,
           2.3552777767181396,
           2.602116346359253,
           2.5977442264556885,
           2.6461610794067383,
           2.58801531791687,
           2.2322206497192383,
           2.4828290939331055,
           2.61041259765625,
           2.3735010623931885,
           2.431307792663574,
           2.609131097793579,
           2.6205873489379883,
           2.600806474685669,
           2.5810883045196533,
           2.4412496089935303,
           1.8670347929000854,
           2.602403163909912,
           2.5663304328918457,
           2.5911810398101807,
           1.7661958932876587,
           2.596947431564331,
           2.1202800273895264,
           2.4966790676116943,
           2.605971574783325,
           2.6278679370880127,
           2.585461139678955,
           2.445956230163574,
           2.586329221725464,
           2.543180465698242,
           2.43540358543396,
           2.505915880203247,
           2.4985225200653076,
           2.5770294666290283,
           2.601926803588867,
           2.4952449798583984,
           2.4674620628356934,
           2.617220401763916,
           1.942685842514038,
           2.0826051235198975,
           2.5775158405303955,
           2.6019530296325684,
           2.6029212474823,
           2.271876811981201,
           2.585949659347534,
           2.4668569564819336,
           2.608367919921875,
           2.1015939712524414,
           2.5587730407714844,
           2.4571897983551025,
           2.4954824447631836,
           2.5002105236053467,
           2.3238165378570557,
           2.3670260906219482,
           2.0032896995544434,
           2.1211600303649902,
           2.5842504501342773,
           2.607196092605591,
           2.2896225452423096,
           2.6074023246765137,
           2.630401134490967,
           2.2177066802978516,
           2.4370131492614746,
           2.043689489364624,
           2.5309417247772217,
           2.459902763366699,
           2.5755090713500977,
           2.60038423538208,
           2.601094961166382,
           2.5725467205047607,
           2.2530884742736816,
           2.573402166366577,
           2.2864413261413574,
           2.4708926677703857,
           2.61553692817688,
           2.324246406555176,
           1.7616448402404785,
           2.4585838317871094,
           2.592120409011841,
           2.5806868076324463,
           2.585700750350952,
           2.617990493774414,
           2.4181969165802,
           2.5618512630462646,
           2.4550130367279053,
           2.5711703300476074,
           2.442316770553589,
           2.6037731170654297,
           2.5733625888824463,
           2.601876735687256,
           2.592003583908081,
           2.4818356037139893,
           2.291684150695801,
           2.613584518432617,
           2.2365822792053223,
           1.800924301147461,
           2.5852484703063965,
           2.5626368522644043,
           2.54921817779541,
           2.0389697551727295,
           1.9881198406219482,
           2.612086534500122,
           1.9462114572525024,
           2.596709728240967,
           2.5846400260925293,
           2.378584384918213,
           2.4000489711761475,
           2.0999093055725098,
           2.607459545135498,
           2.581613063812256,
           2.623544692993164,
           2.627207040786743,
           2.1572816371917725,
           2.6035590171813965,
           1.8918315172195435,
           2.618884563446045,
           2.3490874767303467,
           2.594792366027832,
           2.4165358543395996,
           2.571877956390381,
           2.331486225128174,
           2.4024147987365723,
           2.605597972869873,
           2.610008716583252,
           2.520078420639038,
           2.2548394203186035,
           2.5724639892578125,
           2.5931107997894287,
           2.58499813079834,
           2.59814715385437,
           2.570923328399658,
           2.594217538833618,
           2.5860235691070557,
           2.5716960430145264,
           2.5737860202789307,
           2.5825905799865723,
           2.5068585872650146,
           2.5608057975769043,
           2.5410382747650146,
           2.5781490802764893,
           2.6227564811706543,
           2.593064785003662,
           2.6093549728393555,
           1.9380085468292236,
           2.4980673789978027,
           2.561835765838623,
           2.575819492340088,
           2.5782296657562256,
           2.3048031330108643,
           2.4048213958740234,
           2.599496841430664,
           2.6080427169799805,
           2.6380245685577393,
           2.303663969039917,
           2.525306224822998,
           2.385014772415161,
           2.611379623413086,
           2.5146172046661377,
           2.6213457584381104,
           2.591775894165039,
           1.9162418842315674,
           2.6174280643463135,
           2.439784526824951,
           2.2129175662994385,
           2.5997369289398193,
           2.5873818397521973,
           2.606323719024658,
           2.112751007080078,
           2.6127712726593018,
           2.3264641761779785,
           1.8811615705490112,
           2.3703572750091553,
           2.182276487350464,
           2.201631546020508,
           2.5869789123535156,
           2.5833232402801514,
           2.511674642562866,
           2.4506521224975586,
           2.171086311340332,
           2.5928592681884766,
           1.8555796146392822,
           2.476248264312744,
           2.5928075313568115,
           1.9261274337768555,
           2.1943576335906982,
           2.5787763595581055,
           1.852288842201233,
           2.5885064601898193,
           2.5328447818756104,
           2.607579469680786,
           2.4049830436706543,
           2.602621078491211,
           2.1445412635803223,
           2.5893895626068115,
           2.5442378520965576,
           2.5178401470184326,
           2.5458130836486816,
           1.8485503196716309,
           2.6061506271362305,
           2.2763402462005615,
           2.6250102519989014,
           2.180060863494873,
           2.6187093257904053,
           2.4971344470977783,
           2.544498920440674,
           2.3050477504730225,
           2.4436869621276855,
           2.1528961658477783,
           2.589559555053711,
           2.5879263877868652,
           2.6133010387420654,
           2.3855834007263184,
           2.2526206970214844,
           2.3205385208129883,
           2.5568578243255615,
           2.534174680709839,
           2.585172653198242,
           2.578263521194458,
           2.584588050842285,
           2.4141554832458496,
           2.6147148609161377,
           2.1389293670654297,
           2.62420654296875,
           2.6075704097747803,
           2.345064878463745,
           2.453111410140991,
           2.420642614364624,
           2.6067819595336914,
           2.5722436904907227,
           2.545583724975586,
           2.573018789291382,
           2.5364861488342285,
           2.5482354164123535,
           2.546018362045288,
           2.554464817047119,
           2.549426794052124,
           2.554469347000122,
           2.553903579711914,
           2.555171489715576,
           2.5444211959838867,
           2.5633790493011475,
           2.5600368976593018,
           2.5590639114379883,
           2.546924114227295,
           2.4295566082000732,
           2.5458736419677734,
           2.542384624481201,
           2.5818402767181396,
           2.537142753601074,
           2.5561153888702393,
           2.5624258518218994,
           2.5626838207244873,
           2.566187620162964,
           2.561196804046631,
           2.5333800315856934,
           2.5494799613952637,
           2.5248024463653564,
           2.548126697540283,
           2.5689449310302734,
           2.5553486347198486,
           2.5503268241882324,
           2.5389723777770996,
           2.318988084793091,
           2.5711703300476074,
           2.3443336486816406,
           2.359375,
           2.2750558853149414,
           2.5543174743652344,
           2.1726937294006348,
           2.5916502475738525,
           2.4892783164978027,
           2.4151220321655273,
           2.5046000480651855,
           2.3431715965270996,
           2.549614191055298,
           2.5469911098480225,
           2.543328046798706,
           2.5354232788085938,
           2.547945022583008,
           2.491023302078247,
           2.5377960205078125,
           2.5410051345825195,
           2.303220748901367,
           2.544769287109375,
           2.551213026046753,
           2.5584633350372314,
           2.555420160293579,
           2.437688112258911,
           2.1460072994232178,
           2.214581251144409,
           2.469952344894409,
           2.5656421184539795,
           2.5498745441436768,
           2.5557143688201904,
           2.5607588291168213,
           2.3506364822387695,
           2.524048328399658,
           2.384713888168335,
           2.551936626434326,
           2.551740884780884,
           2.5486409664154053,
           2.409343719482422,
           2.568014621734619,
           2.4886608123779297,
           2.5524544715881348,
           2.5760645866394043,
           2.5788705348968506,
           2.589487314224243,
           2.5791475772857666,
           2.5819790363311768,
           2.5968751907348633,
           2.546379327774048,
           2.5733296871185303,
           2.5719432830810547,
           2.53971266746521,
           2.5161261558532715,
           2.564995288848877,
           2.5757033824920654,
           2.617262125015259,
           2.587258815765381,
           2.5828378200531006,
           2.5610170364379883,
           2.5677292346954346,
           2.5806381702423096,
           2.575403928756714,
           2.5636889934539795,
           2.5764267444610596,
           2.57169771194458,
           2.572187900543213,
           2.5757012367248535,
           2.5921127796173096,
           2.5848348140716553,
           2.5800459384918213,
           2.574211359024048,
           2.5725786685943604,
           2.5669736862182617,
           2.5651016235351562,
           2.5861988067626953,
           2.578413724899292,
           2.5851778984069824,
           2.58007550239563,
           2.5718061923980713,
           2.5962016582489014,
           2.5790488719940186,
           2.379425525665283
          ],
          "coloraxis": "coloraxis",
          "size": 11,
          "symbol": "hexagon"
         },
         "mode": "markers",
         "name": "",
         "orientation": "v",
         "showlegend": false,
         "type": "scatter",
         "x": [
          -3,
          -3,
          -7,
          -0.5,
          0,
          0.5,
          12,
          -5.5,
          1.5,
          1,
          8,
          -2.5,
          -1.5,
          -5,
          8,
          -3.5,
          1.5,
          -6,
          -1.5,
          3.5,
          -1.5,
          6.5,
          4,
          5,
          -4,
          6.5,
          3.5,
          10,
          8.5,
          -10.5,
          -4,
          -2.5,
          -3.5,
          -1.5,
          -3,
          -4.5,
          -3.5,
          -3,
          -2,
          -2.5,
          -6.5,
          -6.5,
          -6.5,
          -8,
          -3.5,
          -2,
          2,
          0,
          -7,
          -7.5,
          -8,
          -10,
          4,
          0,
          -8,
          -8.5,
          -2.5,
          -2,
          -2.5,
          -3,
          7.5,
          2,
          1,
          1,
          7.5,
          -11.5,
          1,
          7,
          6,
          -7,
          -8,
          -7.5,
          -8.5,
          6.5,
          8,
          -4,
          7.5,
          0,
          2,
          -4.5,
          -3,
          -6,
          -6.5,
          8.5,
          -4,
          5.5,
          -16,
          6,
          -4,
          11.5,
          -4.5,
          3.5,
          10,
          -13,
          9.5,
          2.5,
          10,
          -5,
          8.5,
          2,
          -7,
          0,
          -1,
          -1,
          5.5,
          -5,
          3,
          -7,
          -7,
          4,
          -8,
          -2,
          10,
          2,
          9,
          -4,
          -5.5,
          -6,
          4,
          -1,
          -1.5,
          -0.5,
          0.5,
          -6,
          5.5,
          6,
          4.5,
          8.5,
          -1.5,
          9,
          1,
          -4,
          -1.5,
          -1,
          -3,
          -5.5,
          -2,
          1,
          0.5,
          -0.5,
          12.5,
          -7,
          -6.5,
          5,
          0.5,
          0,
          -0.5,
          -0.5,
          -11.5,
          7,
          -3.5,
          8.5,
          4,
          2.5,
          9,
          -4.5,
          -7,
          5,
          -9,
          1.5,
          7.5,
          4.5,
          3.5,
          8.5,
          1,
          0.5,
          8,
          -1,
          -12,
          -4.5,
          12,
          0,
          -8.5,
          2.5,
          11.5,
          -7.5,
          -7.5,
          2,
          -9,
          -3,
          2.5,
          11,
          -7.5,
          -3.5,
          3,
          9.5,
          2.5,
          7.5,
          7,
          -2,
          5,
          5.5,
          -6,
          -3.5,
          2,
          -8.5,
          1.5,
          3,
          3,
          8,
          -2,
          1.5,
          0.5,
          0.5,
          9.5,
          10.5,
          -1.5,
          -1,
          -4.5,
          5,
          0,
          2,
          0.5,
          -7,
          7,
          7,
          -4.5,
          -5.5,
          -3.5,
          5,
          3.5,
          7.5,
          4,
          1,
          -1.5,
          5,
          -3,
          4.5,
          -5.5,
          6,
          6.5,
          9,
          -6,
          4,
          4.5,
          -1,
          -3.5,
          0.5,
          2.5,
          3.5,
          0,
          3,
          3,
          2.5,
          -6.5,
          -9.5,
          -4.5,
          0,
          1,
          0.5,
          -0.5,
          -1,
          2,
          1.5,
          1,
          -8.5,
          8,
          7,
          6.5,
          6,
          5.5,
          -2.5,
          3,
          -10.5,
          -10.5,
          -10,
          -10,
          1.5,
          3.5,
          -8.5,
          4.5,
          4,
          -4,
          -2,
          10.5,
          -9,
          10.5,
          -6,
          -5,
          -6.5,
          1,
          -4,
          -2,
          3.5,
          -2.5,
          -8.5,
          6,
          9.5,
          -5,
          0.5,
          1.5,
          3,
          2.5,
          2.5,
          -0.5,
          -5.5,
          -0.5,
          -6,
          -6.5,
          2.5,
          -4,
          -4,
          -2.5,
          -3.5,
          -5,
          -12.5,
          0.5,
          -14.5,
          -12.5,
          -7.5,
          -2.5,
          3.5,
          5.5,
          -2,
          -3,
          6,
          -6.5,
          -8.5,
          5.5,
          -8.5,
          -9,
          -5,
          12.5,
          -1.5,
          -1,
          5,
          -3,
          -4.5,
          -0.5,
          5,
          -5.5,
          2.5,
          2,
          7,
          7.5,
          2,
          1.5,
          1,
          -0.5,
          8.5,
          -5,
          -6,
          7.5,
          0,
          -0.5,
          -5,
          -3.5,
          -5,
          4.5,
          -13,
          -13.5,
          -9,
          7.5,
          -3,
          -2.5,
          -7,
          -1.5,
          2.5,
          9,
          -3,
          -3.5,
          1,
          -4.5,
          1.5,
          -3.5,
          -3,
          0.5,
          -4.5,
          10.5,
          10,
          7,
          -5,
          -5,
          0.5,
          0,
          0,
          1,
          -1.5,
          3,
          3.5,
          6.5,
          -7,
          -6,
          2,
          1.5,
          -1,
          -9.5,
          1.5,
          9,
          -1.5,
          -0.5,
          -2,
          -3,
          -2.5,
          2,
          -2.5,
          -9,
          11.5,
          -4,
          3.5,
          -2.5,
          -2.5,
          -8,
          9,
          5.5,
          -2,
          -9,
          7,
          -14,
          4,
          0.5,
          8.5,
          1.5,
          -8,
          -0.5,
          -6.5,
          10,
          -4.5,
          13,
          3,
          -13.5,
          2.5,
          6.5,
          -2.5,
          -7,
          -5,
          -5.5,
          9.5,
          -9,
          -1,
          6,
          -15,
          -9,
          -9.5,
          -16.5,
          -4.5,
          -3.5,
          -4.5,
          5.5,
          -5.5,
          0,
          -0.5,
          -4,
          -4.5,
          -3.5,
          -5.5,
          -5.5,
          -3.5,
          4,
          -7.5,
          -6,
          9,
          0,
          -1.5,
          2,
          -2,
          -1.5,
          -6.5,
          -10,
          -8,
          -6.5,
          -5.5,
          -7.5,
          1,
          -8,
          8,
          -11,
          9.5,
          3,
          -12,
          -14,
          -12.5,
          3.5,
          -15.5,
          10,
          -0.5,
          -1,
          -0.5,
          4.5,
          -1,
          -11,
          -6,
          -5,
          4.5,
          -3,
          -2.5,
          -5,
          -8.5,
          -8,
          -1,
          -2,
          6.5,
          8,
          11,
          -7.5,
          4,
          -10.5,
          6.5,
          -1,
          -4.5,
          -5.5,
          -9.5,
          6,
          -8.5,
          8,
          -7.5,
          3,
          -4,
          -9.5,
          -7.5,
          1.5,
          -4,
          -2,
          -9.5,
          -11.5,
          9.5,
          -1.5,
          -2,
          -4,
          -7,
          -6.5,
          -7.5,
          -6,
          -5.5,
          -8,
          3,
          -1,
          -6,
          -8,
          -6,
          -10.5,
          0,
          -1,
          -14,
          -14.5,
          -14.5,
          -15,
          -14,
          -16,
          -17,
          -17,
          -15.5,
          -16.5,
          -15,
          -15,
          -13.5,
          -15.5,
          -13.5,
          -13,
          -16.5,
          -17.5,
          -4,
          -3.5,
          -7.5,
          -5,
          -8,
          -8.5,
          -5.5,
          -5,
          -6.5,
          -10,
          -8.5,
          -8,
          -6.5,
          -5.5,
          -5.5,
          -6,
          -6,
          -8.5,
          -8,
          -4.5,
          -10.5,
          -5,
          -6,
          -5.5,
          -6.5,
          -7,
          -8.5,
          -7,
          -9,
          -8.5,
          -9.5,
          -9,
          -10,
          -9.5,
          -10,
          -4.5,
          -5,
          -11,
          -7,
          -7.5,
          -5,
          -7,
          -6.5,
          -7.5,
          -6,
          -6.5,
          -8,
          -11.5,
          -4,
          -6.5,
          -5.5,
          -10.5,
          -11,
          -7,
          -7.5,
          -9,
          -7.5,
          -4.5,
          -9.5,
          -14,
          -11,
          -10,
          -9.5,
          -14.5,
          -14,
          -13.5,
          -13,
          -12.5,
          -9.5,
          -10,
          -11.5,
          -9,
          -8,
          -8.5,
          -9,
          -13,
          -12.5,
          -11.5,
          -10.5,
          -12,
          -10,
          -11,
          -12.5,
          -15,
          -15.5,
          -14,
          -9.5,
          -12,
          -10,
          -9.5,
          -9,
          -12,
          -11.5,
          -11,
          -10.5,
          -9.5,
          -11,
          -10.5,
          -10
         ],
         "xaxis": "x",
         "y": [
          -11,
          -1,
          3,
          2,
          -15,
          2,
          -13,
          6,
          -6,
          -5,
          -9,
          6,
          6,
          13,
          -5,
          -10,
          4,
          -9,
          8,
          -12,
          -8,
          -14,
          -3,
          -11,
          17,
          -10,
          8,
          -15,
          -10,
          2,
          -3,
          -2,
          -4,
          -2,
          -3,
          -4,
          -2,
          -5,
          -3,
          12,
          10,
          6,
          12,
          11,
          14,
          17,
          -15,
          3,
          7,
          6,
          7,
          7,
          5,
          -1,
          -13,
          -14,
          -10,
          9,
          8,
          9,
          -2,
          -9,
          -9,
          -11,
          -4,
          -12,
          7,
          -15,
          -15,
          -9,
          -9,
          -10,
          -10,
          2,
          -13,
          -5,
          -6,
          1,
          -5,
          10,
          1,
          9,
          8,
          -2,
          9,
          -12,
          -15,
          -1,
          -1,
          -12,
          14,
          -14,
          -7,
          -13,
          0,
          0,
          -11,
          3,
          -4,
          -11,
          -7,
          -7,
          3,
          -15,
          -6,
          -9,
          -7,
          9,
          -13,
          -11,
          1,
          13,
          -3,
          7,
          -3,
          7,
          2,
          13,
          1,
          -3,
          -4,
          -4,
          -14,
          1,
          -14,
          -13,
          -14,
          -8,
          12,
          -11,
          -3,
          5,
          2,
          1,
          3,
          -10,
          7,
          5,
          6,
          6,
          -12,
          -3,
          -4,
          -13,
          -10,
          -9,
          -10,
          14,
          -14,
          -9,
          -12,
          -14,
          -15,
          10,
          -15,
          -12,
          1,
          -7,
          1,
          10,
          -12,
          -6,
          -6,
          -6,
          -13,
          0,
          -11,
          -13,
          -13,
          -14,
          -11,
          -11,
          -8,
          -8,
          -14,
          -6,
          10,
          5,
          3,
          15,
          2,
          -11,
          -8,
          -14,
          3,
          -10,
          6,
          2,
          -11,
          -13,
          -9,
          -10,
          -3,
          8,
          9,
          2,
          -10,
          -9,
          -1,
          -3,
          11,
          -8,
          -8,
          14,
          -2,
          -14,
          -14,
          -9,
          4,
          -5,
          7,
          -7,
          -6,
          -5,
          -3,
          -5,
          16,
          8,
          4,
          -3,
          -10,
          -8,
          -7,
          -15,
          14,
          -15,
          7,
          -2,
          10,
          -7,
          -8,
          -1,
          -15,
          -9,
          -10,
          15,
          10,
          -4,
          -10,
          0,
          -13,
          7,
          9,
          8,
          -8,
          6,
          12,
          9,
          9,
          10,
          10,
          9,
          -1,
          -2,
          -1,
          6,
          -15,
          -13,
          -12,
          -11,
          -8,
          0,
          5,
          4,
          6,
          3,
          5,
          0,
          6,
          -2,
          -4,
          -5,
          3,
          -7,
          -12,
          7,
          -4,
          5,
          5,
          4,
          3,
          -13,
          -5,
          -4,
          2,
          -12,
          1,
          -14,
          -5,
          12,
          12,
          -3,
          -4,
          -14,
          -14,
          12,
          8,
          -13,
          -12,
          4,
          -7,
          15,
          16,
          16,
          1,
          -14,
          8,
          -14,
          -12,
          -12,
          14,
          -2,
          0,
          3,
          -9,
          -3,
          -10,
          -4,
          2,
          0,
          -11,
          -7,
          -10,
          16,
          -1,
          -1,
          13,
          -10,
          0,
          1,
          -8,
          -2,
          -3,
          1,
          0,
          1,
          2,
          1,
          -2,
          -12,
          7,
          7,
          -14,
          -5,
          -6,
          11,
          6,
          15,
          0,
          -15,
          -16,
          -13,
          -10,
          -13,
          -14,
          11,
          10,
          -12,
          -5,
          -7,
          -8,
          13,
          -6,
          -14,
          12,
          11,
          -12,
          8,
          -10,
          -5,
          -7,
          -11,
          9,
          4,
          5,
          -3,
          -7,
          -12,
          1,
          2,
          -2,
          5,
          -11,
          11,
          6,
          13,
          8,
          8,
          -13,
          4,
          4,
          5,
          5,
          4,
          3,
          10,
          -1,
          -10,
          11,
          4,
          -8,
          -4,
          -11,
          -7,
          -2,
          1,
          -15,
          -1,
          -15,
          3,
          -2,
          0,
          -4,
          9,
          16,
          0,
          -1,
          -8,
          -11,
          -5,
          -14,
          -6,
          0,
          -12,
          -11,
          -13,
          -12,
          -6,
          9,
          -11,
          -5,
          -15,
          5,
          4,
          -16,
          0,
          2,
          6,
          -4,
          4,
          13,
          12,
          1,
          2,
          0,
          0,
          -4,
          -6,
          -13,
          4,
          -7,
          1,
          15,
          -10,
          -13,
          -1,
          0,
          2,
          -13,
          -1,
          -6,
          -6,
          0,
          11,
          -7,
          -7,
          -13,
          -12,
          -13,
          -15,
          -13,
          -16,
          -8,
          -16,
          -13,
          -12,
          17,
          -8,
          -12,
          7,
          3,
          -1,
          -1,
          -8,
          17,
          -6,
          -3,
          4,
          3,
          -5,
          15,
          -6,
          1,
          -13,
          2,
          -1,
          -12,
          -4,
          5,
          -2,
          -2,
          -14,
          -9,
          8,
          -1,
          -4,
          -11,
          13,
          -12,
          8,
          -12,
          -11,
          -9,
          2,
          2,
          -4,
          -6,
          -11,
          -9,
          -1,
          -2,
          -2,
          -5,
          14,
          5,
          -15,
          -7,
          11,
          -3,
          3,
          -14,
          11,
          11,
          13,
          14,
          12,
          13,
          15,
          15,
          13,
          15,
          12,
          14,
          11,
          15,
          14,
          14,
          12,
          13,
          12,
          14,
          25,
          24,
          20,
          23,
          23,
          16,
          24,
          17,
          26,
          17,
          20,
          21,
          16,
          16,
          22,
          23,
          21,
          22,
          17,
          18,
          18,
          19,
          19,
          18,
          18,
          19,
          26,
          21,
          19,
          18,
          20,
          21,
          21,
          18,
          19,
          22,
          25,
          21,
          25,
          16,
          21,
          17,
          20,
          18,
          17,
          24,
          19,
          18,
          23,
          22,
          28,
          20,
          19,
          23,
          24,
          17,
          22,
          24,
          22,
          1,
          1,
          1,
          0,
          -8,
          -9,
          -8,
          -7,
          -8,
          -8,
          -7,
          -6,
          -5,
          -5,
          -6,
          -7,
          -1,
          0,
          0,
          0,
          -1,
          -1,
          -1,
          -6,
          -7,
          -8,
          -7,
          -2,
          -7,
          -5,
          -4,
          -3,
          -9,
          -8,
          -7,
          -6,
          -6,
          -9,
          -8,
          -9
         ],
         "yaxis": "y"
        }
       ],
       "layout": {
        "coloraxis": {
         "colorbar": {
          "title": {
           "text": "Average real change (%)"
          }
         },
         "colorscale": [
          [
           0,
           "#0d0887"
          ],
          [
           0.1111111111111111,
           "#46039f"
          ],
          [
           0.2222222222222222,
           "#7201a8"
          ],
          [
           0.3333333333333333,
           "#9c179e"
          ],
          [
           0.4444444444444444,
           "#bd3786"
          ],
          [
           0.5555555555555556,
           "#d8576b"
          ],
          [
           0.6666666666666666,
           "#ed7953"
          ],
          [
           0.7777777777777778,
           "#fb9f3a"
          ],
          [
           0.8888888888888888,
           "#fdca26"
          ],
          [
           1,
           "#f0f921"
          ]
         ]
        },
        "height": 580,
        "legend": {
         "title": {
          "font": {
           "color": "black"
          },
          "text": "Average household net income change"
         },
         "tracegroupgap": 0
        },
        "margin": {
         "t": 60
        },
        "plot_bgcolor": "rgba(0,0,0,0)",
        "template": {
         "data": {
          "bar": [
           {
            "error_x": {
             "color": "#2a3f5f"
            },
            "error_y": {
             "color": "#2a3f5f"
            },
            "marker": {
             "line": {
              "color": "#E5ECF6",
              "width": 0.5
             },
             "pattern": {
              "fillmode": "overlay",
              "size": 10,
              "solidity": 0.2
             }
            },
            "type": "bar"
           }
          ],
          "barpolar": [
           {
            "marker": {
             "line": {
              "color": "#E5ECF6",
              "width": 0.5
             },
             "pattern": {
              "fillmode": "overlay",
              "size": 10,
              "solidity": 0.2
             }
            },
            "type": "barpolar"
           }
          ],
          "carpet": [
           {
            "aaxis": {
             "endlinecolor": "#2a3f5f",
             "gridcolor": "white",
             "linecolor": "white",
             "minorgridcolor": "white",
             "startlinecolor": "#2a3f5f"
            },
            "baxis": {
             "endlinecolor": "#2a3f5f",
             "gridcolor": "white",
             "linecolor": "white",
             "minorgridcolor": "white",
             "startlinecolor": "#2a3f5f"
            },
            "type": "carpet"
           }
          ],
          "choropleth": [
           {
            "colorbar": {
             "outlinewidth": 0,
             "ticks": ""
            },
            "type": "choropleth"
           }
          ],
          "contour": [
           {
            "colorbar": {
             "outlinewidth": 0,
             "ticks": ""
            },
            "colorscale": [
             [
              0,
              "#0d0887"
             ],
             [
              0.1111111111111111,
              "#46039f"
             ],
             [
              0.2222222222222222,
              "#7201a8"
             ],
             [
              0.3333333333333333,
              "#9c179e"
             ],
             [
              0.4444444444444444,
              "#bd3786"
             ],
             [
              0.5555555555555556,
              "#d8576b"
             ],
             [
              0.6666666666666666,
              "#ed7953"
             ],
             [
              0.7777777777777778,
              "#fb9f3a"
             ],
             [
              0.8888888888888888,
              "#fdca26"
             ],
             [
              1,
              "#f0f921"
             ]
            ],
            "type": "contour"
           }
          ],
          "contourcarpet": [
           {
            "colorbar": {
             "outlinewidth": 0,
             "ticks": ""
            },
            "type": "contourcarpet"
           }
          ],
          "heatmap": [
           {
            "colorbar": {
             "outlinewidth": 0,
             "ticks": ""
            },
            "colorscale": [
             [
              0,
              "#0d0887"
             ],
             [
              0.1111111111111111,
              "#46039f"
             ],
             [
              0.2222222222222222,
              "#7201a8"
             ],
             [
              0.3333333333333333,
              "#9c179e"
             ],
             [
              0.4444444444444444,
              "#bd3786"
             ],
             [
              0.5555555555555556,
              "#d8576b"
             ],
             [
              0.6666666666666666,
              "#ed7953"
             ],
             [
              0.7777777777777778,
              "#fb9f3a"
             ],
             [
              0.8888888888888888,
              "#fdca26"
             ],
             [
              1,
              "#f0f921"
             ]
            ],
            "type": "heatmap"
           }
          ],
          "heatmapgl": [
           {
            "colorbar": {
             "outlinewidth": 0,
             "ticks": ""
            },
            "colorscale": [
             [
              0,
              "#0d0887"
             ],
             [
              0.1111111111111111,
              "#46039f"
             ],
             [
              0.2222222222222222,
              "#7201a8"
             ],
             [
              0.3333333333333333,
              "#9c179e"
             ],
             [
              0.4444444444444444,
              "#bd3786"
             ],
             [
              0.5555555555555556,
              "#d8576b"
             ],
             [
              0.6666666666666666,
              "#ed7953"
             ],
             [
              0.7777777777777778,
              "#fb9f3a"
             ],
             [
              0.8888888888888888,
              "#fdca26"
             ],
             [
              1,
              "#f0f921"
             ]
            ],
            "type": "heatmapgl"
           }
          ],
          "histogram": [
           {
            "marker": {
             "pattern": {
              "fillmode": "overlay",
              "size": 10,
              "solidity": 0.2
             }
            },
            "type": "histogram"
           }
          ],
          "histogram2d": [
           {
            "colorbar": {
             "outlinewidth": 0,
             "ticks": ""
            },
            "colorscale": [
             [
              0,
              "#0d0887"
             ],
             [
              0.1111111111111111,
              "#46039f"
             ],
             [
              0.2222222222222222,
              "#7201a8"
             ],
             [
              0.3333333333333333,
              "#9c179e"
             ],
             [
              0.4444444444444444,
              "#bd3786"
             ],
             [
              0.5555555555555556,
              "#d8576b"
             ],
             [
              0.6666666666666666,
              "#ed7953"
             ],
             [
              0.7777777777777778,
              "#fb9f3a"
             ],
             [
              0.8888888888888888,
              "#fdca26"
             ],
             [
              1,
              "#f0f921"
             ]
            ],
            "type": "histogram2d"
           }
          ],
          "histogram2dcontour": [
           {
            "colorbar": {
             "outlinewidth": 0,
             "ticks": ""
            },
            "colorscale": [
             [
              0,
              "#0d0887"
             ],
             [
              0.1111111111111111,
              "#46039f"
             ],
             [
              0.2222222222222222,
              "#7201a8"
             ],
             [
              0.3333333333333333,
              "#9c179e"
             ],
             [
              0.4444444444444444,
              "#bd3786"
             ],
             [
              0.5555555555555556,
              "#d8576b"
             ],
             [
              0.6666666666666666,
              "#ed7953"
             ],
             [
              0.7777777777777778,
              "#fb9f3a"
             ],
             [
              0.8888888888888888,
              "#fdca26"
             ],
             [
              1,
              "#f0f921"
             ]
            ],
            "type": "histogram2dcontour"
           }
          ],
          "mesh3d": [
           {
            "colorbar": {
             "outlinewidth": 0,
             "ticks": ""
            },
            "type": "mesh3d"
           }
          ],
          "parcoords": [
           {
            "line": {
             "colorbar": {
              "outlinewidth": 0,
              "ticks": ""
             }
            },
            "type": "parcoords"
           }
          ],
          "pie": [
           {
            "automargin": true,
            "type": "pie"
           }
          ],
          "scatter": [
           {
            "fillpattern": {
             "fillmode": "overlay",
             "size": 10,
             "solidity": 0.2
            },
            "type": "scatter"
           }
          ],
          "scatter3d": [
           {
            "line": {
             "colorbar": {
              "outlinewidth": 0,
              "ticks": ""
             }
            },
            "marker": {
             "colorbar": {
              "outlinewidth": 0,
              "ticks": ""
             }
            },
            "type": "scatter3d"
           }
          ],
          "scattercarpet": [
           {
            "marker": {
             "colorbar": {
              "outlinewidth": 0,
              "ticks": ""
             }
            },
            "type": "scattercarpet"
           }
          ],
          "scattergeo": [
           {
            "marker": {
             "colorbar": {
              "outlinewidth": 0,
              "ticks": ""
             }
            },
            "type": "scattergeo"
           }
          ],
          "scattergl": [
           {
            "marker": {
             "colorbar": {
              "outlinewidth": 0,
              "ticks": ""
             }
            },
            "type": "scattergl"
           }
          ],
          "scattermapbox": [
           {
            "marker": {
             "colorbar": {
              "outlinewidth": 0,
              "ticks": ""
             }
            },
            "type": "scattermapbox"
           }
          ],
          "scatterpolar": [
           {
            "marker": {
             "colorbar": {
              "outlinewidth": 0,
              "ticks": ""
             }
            },
            "type": "scatterpolar"
           }
          ],
          "scatterpolargl": [
           {
            "marker": {
             "colorbar": {
              "outlinewidth": 0,
              "ticks": ""
             }
            },
            "type": "scatterpolargl"
           }
          ],
          "scatterternary": [
           {
            "marker": {
             "colorbar": {
              "outlinewidth": 0,
              "ticks": ""
             }
            },
            "type": "scatterternary"
           }
          ],
          "surface": [
           {
            "colorbar": {
             "outlinewidth": 0,
             "ticks": ""
            },
            "colorscale": [
             [
              0,
              "#0d0887"
             ],
             [
              0.1111111111111111,
              "#46039f"
             ],
             [
              0.2222222222222222,
              "#7201a8"
             ],
             [
              0.3333333333333333,
              "#9c179e"
             ],
             [
              0.4444444444444444,
              "#bd3786"
             ],
             [
              0.5555555555555556,
              "#d8576b"
             ],
             [
              0.6666666666666666,
              "#ed7953"
             ],
             [
              0.7777777777777778,
              "#fb9f3a"
             ],
             [
              0.8888888888888888,
              "#fdca26"
             ],
             [
              1,
              "#f0f921"
             ]
            ],
            "type": "surface"
           }
          ],
          "table": [
           {
            "cells": {
             "fill": {
              "color": "#EBF0F8"
             },
             "line": {
              "color": "white"
             }
            },
            "header": {
             "fill": {
              "color": "#C8D4E3"
             },
             "line": {
              "color": "white"
             }
            },
            "type": "table"
           }
          ]
         },
         "layout": {
          "annotationdefaults": {
           "arrowcolor": "#2a3f5f",
           "arrowhead": 0,
           "arrowwidth": 1
          },
          "autotypenumbers": "strict",
          "coloraxis": {
           "colorbar": {
            "outlinewidth": 0,
            "ticks": ""
           }
          },
          "colorscale": {
           "diverging": [
            [
             0,
             "#8e0152"
            ],
            [
             0.1,
             "#c51b7d"
            ],
            [
             0.2,
             "#de77ae"
            ],
            [
             0.3,
             "#f1b6da"
            ],
            [
             0.4,
             "#fde0ef"
            ],
            [
             0.5,
             "#f7f7f7"
            ],
            [
             0.6,
             "#e6f5d0"
            ],
            [
             0.7,
             "#b8e186"
            ],
            [
             0.8,
             "#7fbc41"
            ],
            [
             0.9,
             "#4d9221"
            ],
            [
             1,
             "#276419"
            ]
           ],
           "sequential": [
            [
             0,
             "#0d0887"
            ],
            [
             0.1111111111111111,
             "#46039f"
            ],
            [
             0.2222222222222222,
             "#7201a8"
            ],
            [
             0.3333333333333333,
             "#9c179e"
            ],
            [
             0.4444444444444444,
             "#bd3786"
            ],
            [
             0.5555555555555556,
             "#d8576b"
            ],
            [
             0.6666666666666666,
             "#ed7953"
            ],
            [
             0.7777777777777778,
             "#fb9f3a"
            ],
            [
             0.8888888888888888,
             "#fdca26"
            ],
            [
             1,
             "#f0f921"
            ]
           ],
           "sequentialminus": [
            [
             0,
             "#0d0887"
            ],
            [
             0.1111111111111111,
             "#46039f"
            ],
            [
             0.2222222222222222,
             "#7201a8"
            ],
            [
             0.3333333333333333,
             "#9c179e"
            ],
            [
             0.4444444444444444,
             "#bd3786"
            ],
            [
             0.5555555555555556,
             "#d8576b"
            ],
            [
             0.6666666666666666,
             "#ed7953"
            ],
            [
             0.7777777777777778,
             "#fb9f3a"
            ],
            [
             0.8888888888888888,
             "#fdca26"
            ],
            [
             1,
             "#f0f921"
            ]
           ]
          },
          "colorway": [
           "#636efa",
           "#EF553B",
           "#00cc96",
           "#ab63fa",
           "#FFA15A",
           "#19d3f3",
           "#FF6692",
           "#B6E880",
           "#FF97FF",
           "#FECB52"
          ],
          "font": {
           "color": "#2a3f5f"
          },
          "geo": {
           "bgcolor": "white",
           "lakecolor": "white",
           "landcolor": "#E5ECF6",
           "showlakes": true,
           "showland": true,
           "subunitcolor": "white"
          },
          "hoverlabel": {
           "align": "left"
          },
          "hovermode": "closest",
          "mapbox": {
           "style": "light"
          },
          "paper_bgcolor": "white",
          "plot_bgcolor": "#E5ECF6",
          "polar": {
           "angularaxis": {
            "gridcolor": "white",
            "linecolor": "white",
            "ticks": ""
           },
           "bgcolor": "#E5ECF6",
           "radialaxis": {
            "gridcolor": "white",
            "linecolor": "white",
            "ticks": ""
           }
          },
          "scene": {
           "xaxis": {
            "backgroundcolor": "#E5ECF6",
            "gridcolor": "white",
            "gridwidth": 2,
            "linecolor": "white",
            "showbackground": true,
            "ticks": "",
            "zerolinecolor": "white"
           },
           "yaxis": {
            "backgroundcolor": "#E5ECF6",
            "gridcolor": "white",
            "gridwidth": 2,
            "linecolor": "white",
            "showbackground": true,
            "ticks": "",
            "zerolinecolor": "white"
           },
           "zaxis": {
            "backgroundcolor": "#E5ECF6",
            "gridcolor": "white",
            "gridwidth": 2,
            "linecolor": "white",
            "showbackground": true,
            "ticks": "",
            "zerolinecolor": "white"
           }
          },
          "shapedefaults": {
           "line": {
            "color": "#2a3f5f"
           }
          },
          "ternary": {
           "aaxis": {
            "gridcolor": "white",
            "linecolor": "white",
            "ticks": ""
           },
           "baxis": {
            "gridcolor": "white",
            "linecolor": "white",
            "ticks": ""
           },
           "bgcolor": "#E5ECF6",
           "caxis": {
            "gridcolor": "white",
            "linecolor": "white",
            "ticks": ""
           }
          },
          "title": {
           "x": 0.05
          },
          "xaxis": {
           "automargin": true,
           "gridcolor": "white",
           "linecolor": "white",
           "ticks": "",
           "title": {
            "standoff": 15
           },
           "zerolinecolor": "white",
           "zerolinewidth": 2
          },
          "yaxis": {
           "automargin": true,
           "gridcolor": "white",
           "linecolor": "white",
           "ticks": "",
           "title": {
            "standoff": 15
           },
           "zerolinecolor": "white",
           "zerolinewidth": 2
          }
         }
        },
        "title": {
         "font": {
          "color": "black"
         },
         "text": "Baseline forecast for real household net income growth (2024-29)"
        },
        "width": 700,
        "xaxis": {
         "anchor": "y",
         "domain": [
          0,
          1
         ],
         "tickvals": [],
         "title": {
          "text": ""
         }
        },
        "yaxis": {
         "anchor": "x",
         "domain": [
          0,
          1
         ],
         "tickvals": [],
         "title": {
          "text": ""
         }
        }
       }
      }
     },
     "metadata": {},
     "output_type": "display_data"
    }
   ],
   "source": [
    "fig = px.scatter(\n",
    "    df,\n",
    "    x=\"x\",\n",
    "    y=\"y\",\n",
    "    color=\"Average real change (%)\",\n",
    "    hover_data=[\"Constituency\"],\n",
    ")\n",
    "\n",
    "from policyengine_core.charts import *\n",
    "\n",
    "fig.update_layout(\n",
    "    height=580,\n",
    "    width=700,\n",
    ")\n",
    "# Set zero to white\n",
    "# fig.update_coloraxes(cmax=-df[\"Average real change\"].min(), cmin=df[\"Average real change\"].min())\n",
    "\n",
    "# Set marker to hexagon\n",
    "fig.update_traces(marker=dict(symbol=\"hexagon\", size=11))\n",
    "\n",
    "fig.update_layout(\n",
    "    title=\"Baseline forecast for real household net income growth (2024-29)\",\n",
    "    xaxis_tickvals=[],\n",
    "    xaxis_title=\"\",\n",
    "    yaxis_tickvals=[],\n",
    "    yaxis_title=\"\",\n",
    "    # No bg\n",
    "    plot_bgcolor=\"rgba(0,0,0,0)\",\n",
    "    legend_title=\"Average household net income change\",\n",
    "    # Set color axis to %\n",
    "    title_font_color=\"black\",\n",
    "    legend_title_font_color=\"black\",\n",
    ")"
   ]
  },
  {
   "cell_type": "code",
   "execution_count": null,
   "metadata": {},
   "outputs": [],
   "source": [
    "df[[\"Code\", \"Constituency\", \"Average real change (%)\"]].to_csv(\n",
    "    \"constituency_baseline_forecast.csv\", index=False\n",
    ")"
   ]
  },
  {
   "cell_type": "code",
   "execution_count": null,
   "metadata": {},
   "outputs": [
    {
     "data": {
      "text/plain": [
       "count    650.000000\n",
       "mean       1.584889\n",
       "std        0.546521\n",
       "min        0.344866\n",
       "25%        1.230439\n",
       "50%        1.513734\n",
       "75%        1.941821\n",
       "max        3.496798\n",
       "Name: Average real change (%), dtype: float64"
      ]
     },
     "execution_count": 7,
     "metadata": {},
     "output_type": "execute_result"
    }
   ],
   "source": [
    "df[\"Average real change (%)\"].describe()"
   ]
  },
  {
   "cell_type": "code",
   "execution_count": null,
   "metadata": {},
   "outputs": [
    {
     "data": {
      "text/html": [
       "<div>\n",
       "<style scoped>\n",
       "    .dataframe tbody tr th:only-of-type {\n",
       "        vertical-align: middle;\n",
       "    }\n",
       "\n",
       "    .dataframe tbody tr th {\n",
       "        vertical-align: top;\n",
       "    }\n",
       "\n",
       "    .dataframe thead th {\n",
       "        text-align: right;\n",
       "    }\n",
       "</style>\n",
       "<table border=\"1\" class=\"dataframe\">\n",
       "  <thead>\n",
       "    <tr style=\"text-align: right;\">\n",
       "      <th></th>\n",
       "      <th>Average real change (%)</th>\n",
       "      <th>Constituency</th>\n",
       "      <th>Code</th>\n",
       "      <th>y</th>\n",
       "      <th>x</th>\n",
       "    </tr>\n",
       "  </thead>\n",
       "  <tbody>\n",
       "    <tr>\n",
       "      <th>404</th>\n",
       "      <td>0.344866</td>\n",
       "      <td>Sheffield Central</td>\n",
       "      <td>E14001467</td>\n",
       "      <td>-25</td>\n",
       "      <td>58.0</td>\n",
       "    </tr>\n",
       "    <tr>\n",
       "      <th>258</th>\n",
       "      <td>0.483102</td>\n",
       "      <td>Leeds North East</td>\n",
       "      <td>E14001321</td>\n",
       "      <td>-19</td>\n",
       "      <td>59.0</td>\n",
       "    </tr>\n",
       "    <tr>\n",
       "      <th>550</th>\n",
       "      <td>0.484594</td>\n",
       "      <td>Foyle</td>\n",
       "      <td>N05000008</td>\n",
       "      <td>-15</td>\n",
       "      <td>42.0</td>\n",
       "    </tr>\n",
       "    <tr>\n",
       "      <th>217</th>\n",
       "      <td>0.492653</td>\n",
       "      <td>Henley and Thame</td>\n",
       "      <td>E14001280</td>\n",
       "      <td>-35</td>\n",
       "      <td>58.0</td>\n",
       "    </tr>\n",
       "    <tr>\n",
       "      <th>114</th>\n",
       "      <td>0.506047</td>\n",
       "      <td>Colne Valley</td>\n",
       "      <td>E14001177</td>\n",
       "      <td>-23</td>\n",
       "      <td>55.0</td>\n",
       "    </tr>\n",
       "    <tr>\n",
       "      <th>...</th>\n",
       "      <td>...</td>\n",
       "      <td>...</td>\n",
       "      <td>...</td>\n",
       "      <td>...</td>\n",
       "      <td>...</td>\n",
       "    </tr>\n",
       "    <tr>\n",
       "      <th>300</th>\n",
       "      <td>3.236471</td>\n",
       "      <td>Mid Dorset and North Poole</td>\n",
       "      <td>E14001363</td>\n",
       "      <td>-43</td>\n",
       "      <td>50.0</td>\n",
       "    </tr>\n",
       "    <tr>\n",
       "      <th>166</th>\n",
       "      <td>3.315424</td>\n",
       "      <td>Erith and Thamesmead</td>\n",
       "      <td>E14001229</td>\n",
       "      <td>-40</td>\n",
       "      <td>66.5</td>\n",
       "    </tr>\n",
       "    <tr>\n",
       "      <th>33</th>\n",
       "      <td>3.385172</td>\n",
       "      <td>Birmingham Ladywood</td>\n",
       "      <td>E14001096</td>\n",
       "      <td>-32</td>\n",
       "      <td>53.5</td>\n",
       "    </tr>\n",
       "    <tr>\n",
       "      <th>621</th>\n",
       "      <td>3.389432</td>\n",
       "      <td>Blaenau Gwent and Rhymney</td>\n",
       "      <td>W07000084</td>\n",
       "      <td>-33</td>\n",
       "      <td>49.0</td>\n",
       "    </tr>\n",
       "    <tr>\n",
       "      <th>271</th>\n",
       "      <td>3.496798</td>\n",
       "      <td>Leyton and Wanstead</td>\n",
       "      <td>E14001334</td>\n",
       "      <td>-37</td>\n",
       "      <td>64.0</td>\n",
       "    </tr>\n",
       "  </tbody>\n",
       "</table>\n",
       "<p>650 rows × 5 columns</p>\n",
       "</div>"
      ],
      "text/plain": [
       "     Average real change (%)                Constituency       Code   y     x\n",
       "404                 0.344866           Sheffield Central  E14001467 -25  58.0\n",
       "258                 0.483102            Leeds North East  E14001321 -19  59.0\n",
       "550                 0.484594                       Foyle  N05000008 -15  42.0\n",
       "217                 0.492653            Henley and Thame  E14001280 -35  58.0\n",
       "114                 0.506047                Colne Valley  E14001177 -23  55.0\n",
       "..                       ...                         ...        ...  ..   ...\n",
       "300                 3.236471  Mid Dorset and North Poole  E14001363 -43  50.0\n",
       "166                 3.315424        Erith and Thamesmead  E14001229 -40  66.5\n",
       "33                  3.385172         Birmingham Ladywood  E14001096 -32  53.5\n",
       "621                 3.389432   Blaenau Gwent and Rhymney  W07000084 -33  49.0\n",
       "271                 3.496798         Leyton and Wanstead  E14001334 -37  64.0\n",
       "\n",
       "[650 rows x 5 columns]"
      ]
     },
     "execution_count": 8,
     "metadata": {},
     "output_type": "execute_result"
    }
   ],
   "source": [
    "df.sort_values(\"Average real change (%)\")"
   ]
  }
 ],
 "metadata": {
  "kernelspec": {
   "display_name": "base",
   "language": "python",
   "name": "python3"
  },
  "language_info": {
   "codemirror_mode": {
    "name": "ipython",
    "version": 3
   },
   "file_extension": ".py",
   "mimetype": "text/x-python",
   "name": "python",
   "nbconvert_exporter": "python",
   "pygments_lexer": "ipython3",
   "version": "3.10.14"
  }
 },
 "nbformat": 4,
 "nbformat_minor": 2
}
