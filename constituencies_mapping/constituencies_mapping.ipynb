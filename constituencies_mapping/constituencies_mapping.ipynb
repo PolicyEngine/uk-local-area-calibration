{
  "cells": [
    {
      "cell_type": "markdown",
      "metadata": {},
      "source": [
        "# Creating mapping metrix"
      ]
    },
    {
      "cell_type": "code",
      "execution_count": null,
      "metadata": {
        "colab": {
          "base_uri": "https://localhost:8080/"
        },
        "id": "tkOyYtar7L5Y",
        "outputId": "3dbb8a49-b2b7-4f64-c9e9-9f51ca2837d4"
      },
      "outputs": [],
      "source": [
        "# !pip install geopandas matplotlib\n",
        "# pip install h5py"
      ]
    },
    {
      "cell_type": "code",
      "execution_count": 10,
      "metadata": {},
      "outputs": [],
      "source": [
        "import geopandas as gpd\n",
        "import pandas as pd\n",
        "import zipfile\n",
        "import os\n",
        "import h5py"
      ]
    },
    {
      "cell_type": "code",
      "execution_count": 3,
      "metadata": {},
      "outputs": [
        {
          "name": "stdout",
          "output_type": "stream",
          "text": [
            "Shapefile loaded successfully\n",
            "    PCON10CD                  PCON10NM PCON10NMW   PCON24CD  \\\n",
            "0  E14000530                 Aldershot      None  E14001063   \n",
            "1  E14000844      North East Hampshire      None  E14001063   \n",
            "2  E14000531       Aldridge-Brownhills      None  E14001064   \n",
            "3  E14001012             Walsall South      None  E14001064   \n",
            "4  E14000532  Altrincham and Sale West      None  E14001065   \n",
            "\n",
            "                   PCON24NM PCON24NMW  ObjectId geometry  \n",
            "0                 Aldershot      None         1     None  \n",
            "1                 Aldershot      None         2     None  \n",
            "2       Aldridge-Brownhills      None         3     None  \n",
            "3       Aldridge-Brownhills      None         4     None  \n",
            "4  Altrincham and Sale West      None         5     None  \n",
            "<class 'geopandas.geodataframe.GeoDataFrame'>\n",
            "RangeIndex: 1407 entries, 0 to 1406\n",
            "Data columns (total 8 columns):\n",
            " #   Column     Non-Null Count  Dtype   \n",
            "---  ------     --------------  -----   \n",
            " 0   PCON10CD   1407 non-null   object  \n",
            " 1   PCON10NM   1407 non-null   object  \n",
            " 2   PCON10NMW  79 non-null     object  \n",
            " 3   PCON24CD   1407 non-null   object  \n",
            " 4   PCON24NM   1407 non-null   object  \n",
            " 5   PCON24NMW  79 non-null     object  \n",
            " 6   ObjectId   1407 non-null   int32   \n",
            " 7   geometry   0 non-null      geometry\n",
            "dtypes: geometry(1), int32(1), object(6)\n",
            "memory usage: 82.6+ KB\n",
            "None\n",
            "Geometry column unique values: <GeometryArray>\n",
            "[]\n",
            "Length: 0, dtype: geometry\n"
          ]
        }
      ],
      "source": [
        "# Find the shapefile (.shp) within the extracted folder\n",
        "shapefile_path = None\n",
        "for root, dirs, files in os.walk(\"input_data/shapefile_data\"):\n",
        "    for file in files:\n",
        "        if file.endswith(\".shp\"):\n",
        "            shapefile_path = os.path.join(root, file)\n",
        "            break\n",
        "\n",
        "# Load the shapefile using GeoPandas and inspect its content\n",
        "if shapefile_path:\n",
        "    gdf = gpd.read_file(shapefile_path)\n",
        "    print(\"Shapefile loaded successfully\")\n",
        "\n",
        "    # Display the first few rows of the GeoDataFrame and check its structure\n",
        "    print(gdf.head())\n",
        "    print(gdf.info())\n",
        "    print(\"Geometry column unique values:\", gdf.geometry.unique())\n",
        "else:\n",
        "    print(\"Shapefile not found in the extracted data.\")\n"
      ]
    },
    {
      "cell_type": "code",
      "execution_count": null,
      "metadata": {
        "colab": {
          "base_uri": "https://localhost:8080/"
        },
        "id": "6ctTJS1YE5Pc",
        "outputId": "3f44d0a9-f9c7-4ad2-ccb1-56965bc68f38"
      },
      "outputs": [
        {
          "name": "stdout",
          "output_type": "stream",
          "text": [
            "Number of unique values in PCON10CD: 650\n",
            "Number of unique values in PCON24CD: 650\n"
          ]
        }
      ],
      "source": [
        "# # Number of unique values in PCON10CD and PCON24CD\n",
        "# unique_pcon10cd = gdf['PCON10CD'].nunique()\n",
        "# unique_pcon24cd = gdf['PCON24CD'].nunique()\n",
        "\n",
        "# print(\"Number of unique values in PCON10CD:\", unique_pcon10cd)\n",
        "# print(\"Number of unique values in PCON24CD:\", unique_pcon24cd)"
      ]
    },
    {
      "cell_type": "code",
      "execution_count": 5,
      "metadata": {},
      "outputs": [
        {
          "data": {
            "text/html": [
              "<div>\n",
              "<style scoped>\n",
              "    .dataframe tbody tr th:only-of-type {\n",
              "        vertical-align: middle;\n",
              "    }\n",
              "\n",
              "    .dataframe tbody tr th {\n",
              "        vertical-align: top;\n",
              "    }\n",
              "\n",
              "    .dataframe thead th {\n",
              "        text-align: right;\n",
              "    }\n",
              "</style>\n",
              "<table border=\"1\" class=\"dataframe\">\n",
              "  <thead>\n",
              "    <tr style=\"text-align: right;\">\n",
              "      <th></th>\n",
              "      <th>con_code</th>\n",
              "      <th>con_name</th>\n",
              "      <th>rn_code</th>\n",
              "      <th>rn_name</th>\n",
              "      <th>nat_code</th>\n",
              "      <th>nat_name</th>\n",
              "      <th>age</th>\n",
              "      <th>con_number</th>\n",
              "      <th>con_pc</th>\n",
              "      <th>rn_number</th>\n",
              "      <th>rn_pc</th>\n",
              "      <th>nat_number</th>\n",
              "      <th>nat_pc</th>\n",
              "      <th>data_source</th>\n",
              "    </tr>\n",
              "  </thead>\n",
              "  <tbody>\n",
              "    <tr>\n",
              "      <th>0</th>\n",
              "      <td>E14001063</td>\n",
              "      <td>Aldershot</td>\n",
              "      <td>E12000008</td>\n",
              "      <td>South East</td>\n",
              "      <td>K04000001</td>\n",
              "      <td>England and Wales</td>\n",
              "      <td>0 to 17</td>\n",
              "      <td>24886</td>\n",
              "      <td>0.208677</td>\n",
              "      <td>1962885.0</td>\n",
              "      <td>0.209267</td>\n",
              "      <td>12506535</td>\n",
              "      <td>0.207619</td>\n",
              "      <td>Mid-2022 estimate</td>\n",
              "    </tr>\n",
              "    <tr>\n",
              "      <th>1</th>\n",
              "      <td>E14001063</td>\n",
              "      <td>Aldershot</td>\n",
              "      <td>E12000008</td>\n",
              "      <td>South East</td>\n",
              "      <td>K04000001</td>\n",
              "      <td>England and Wales</td>\n",
              "      <td>18 to 24</td>\n",
              "      <td>9094</td>\n",
              "      <td>0.076256</td>\n",
              "      <td>714721.0</td>\n",
              "      <td>0.076198</td>\n",
              "      <td>5008522</td>\n",
              "      <td>0.083146</td>\n",
              "      <td>Mid-2022 estimate</td>\n",
              "    </tr>\n",
              "    <tr>\n",
              "      <th>2</th>\n",
              "      <td>E14001063</td>\n",
              "      <td>Aldershot</td>\n",
              "      <td>E12000008</td>\n",
              "      <td>South East</td>\n",
              "      <td>K04000001</td>\n",
              "      <td>England and Wales</td>\n",
              "      <td>25 to 34</td>\n",
              "      <td>18455</td>\n",
              "      <td>0.154751</td>\n",
              "      <td>1147461.0</td>\n",
              "      <td>0.122333</td>\n",
              "      <td>8098257</td>\n",
              "      <td>0.134438</td>\n",
              "      <td>Mid-2022 estimate</td>\n",
              "    </tr>\n",
              "    <tr>\n",
              "      <th>3</th>\n",
              "      <td>E14001063</td>\n",
              "      <td>Aldershot</td>\n",
              "      <td>E12000008</td>\n",
              "      <td>South East</td>\n",
              "      <td>K04000001</td>\n",
              "      <td>England and Wales</td>\n",
              "      <td>35 to 49</td>\n",
              "      <td>25101</td>\n",
              "      <td>0.210480</td>\n",
              "      <td>1842715.0</td>\n",
              "      <td>0.196455</td>\n",
              "      <td>11575752</td>\n",
              "      <td>0.192167</td>\n",
              "      <td>Mid-2022 estimate</td>\n",
              "    </tr>\n",
              "    <tr>\n",
              "      <th>4</th>\n",
              "      <td>E14001063</td>\n",
              "      <td>Aldershot</td>\n",
              "      <td>E12000008</td>\n",
              "      <td>South East</td>\n",
              "      <td>K04000001</td>\n",
              "      <td>England and Wales</td>\n",
              "      <td>50 to 64</td>\n",
              "      <td>22246</td>\n",
              "      <td>0.186540</td>\n",
              "      <td>1865056.0</td>\n",
              "      <td>0.198837</td>\n",
              "      <td>11745365</td>\n",
              "      <td>0.194983</td>\n",
              "      <td>Mid-2022 estimate</td>\n",
              "    </tr>\n",
              "  </tbody>\n",
              "</table>\n",
              "</div>"
            ],
            "text/plain": [
              "    con_code   con_name    rn_code     rn_name   nat_code           nat_name  \\\n",
              "0  E14001063  Aldershot  E12000008  South East  K04000001  England and Wales   \n",
              "1  E14001063  Aldershot  E12000008  South East  K04000001  England and Wales   \n",
              "2  E14001063  Aldershot  E12000008  South East  K04000001  England and Wales   \n",
              "3  E14001063  Aldershot  E12000008  South East  K04000001  England and Wales   \n",
              "4  E14001063  Aldershot  E12000008  South East  K04000001  England and Wales   \n",
              "\n",
              "        age  con_number    con_pc  rn_number     rn_pc  nat_number    nat_pc  \\\n",
              "0   0 to 17       24886  0.208677  1962885.0  0.209267    12506535  0.207619   \n",
              "1  18 to 24        9094  0.076256   714721.0  0.076198     5008522  0.083146   \n",
              "2  25 to 34       18455  0.154751  1147461.0  0.122333     8098257  0.134438   \n",
              "3  35 to 49       25101  0.210480  1842715.0  0.196455    11575752  0.192167   \n",
              "4  50 to 64       22246  0.186540  1865056.0  0.198837    11745365  0.194983   \n",
              "\n",
              "         data_source  \n",
              "0  Mid-2022 estimate  \n",
              "1  Mid-2022 estimate  \n",
              "2  Mid-2022 estimate  \n",
              "3  Mid-2022 estimate  \n",
              "4  Mid-2022 estimate  "
            ]
          },
          "execution_count": 5,
          "metadata": {},
          "output_type": "execute_result"
        }
      ],
      "source": [
        "file_path = \"input_data/population_by_age.csv\"\n",
        "pop = pd.read_csv(file_path)\n",
        "pop.head()"
      ]
    },
    {
      "cell_type": "code",
      "execution_count": 6,
      "metadata": {
        "colab": {
          "base_uri": "https://localhost:8080/",
          "height": 206
        },
        "id": "0xAax7G0LK6O",
        "outputId": "280b1990-0840-4eb5-f327-5050325a028e"
      },
      "outputs": [
        {
          "data": {
            "text/html": [
              "<div>\n",
              "<style scoped>\n",
              "    .dataframe tbody tr th:only-of-type {\n",
              "        vertical-align: middle;\n",
              "    }\n",
              "\n",
              "    .dataframe tbody tr th {\n",
              "        vertical-align: top;\n",
              "    }\n",
              "\n",
              "    .dataframe thead th {\n",
              "        text-align: right;\n",
              "    }\n",
              "</style>\n",
              "<table border=\"1\" class=\"dataframe\">\n",
              "  <thead>\n",
              "    <tr style=\"text-align: right;\">\n",
              "      <th></th>\n",
              "      <th>con_code</th>\n",
              "      <th>con_number</th>\n",
              "    </tr>\n",
              "  </thead>\n",
              "  <tbody>\n",
              "    <tr>\n",
              "      <th>0</th>\n",
              "      <td>E14001063</td>\n",
              "      <td>119256</td>\n",
              "    </tr>\n",
              "    <tr>\n",
              "      <th>1</th>\n",
              "      <td>E14001064</td>\n",
              "      <td>93720</td>\n",
              "    </tr>\n",
              "    <tr>\n",
              "      <th>2</th>\n",
              "      <td>E14001065</td>\n",
              "      <td>101272</td>\n",
              "    </tr>\n",
              "    <tr>\n",
              "      <th>3</th>\n",
              "      <td>E14001066</td>\n",
              "      <td>90793</td>\n",
              "    </tr>\n",
              "    <tr>\n",
              "      <th>4</th>\n",
              "      <td>E14001067</td>\n",
              "      <td>98053</td>\n",
              "    </tr>\n",
              "  </tbody>\n",
              "</table>\n",
              "</div>"
            ],
            "text/plain": [
              "    con_code  con_number\n",
              "0  E14001063      119256\n",
              "1  E14001064       93720\n",
              "2  E14001065      101272\n",
              "3  E14001066       90793\n",
              "4  E14001067       98053"
            ]
          },
          "execution_count": 6,
          "metadata": {},
          "output_type": "execute_result"
        }
      ],
      "source": [
        "con_code_sums = pop.groupby('con_code')['con_number'].sum().reset_index()\n",
        "con_code_sums.head()"
      ]
    },
    {
      "cell_type": "code",
      "execution_count": null,
      "metadata": {
        "colab": {
          "base_uri": "https://localhost:8080/"
        },
        "id": "36el336lLRqy",
        "outputId": "a04e9d3f-3e38-47b8-a61a-f35a27d3e5cf"
      },
      "outputs": [
        {
          "name": "stdout",
          "output_type": "stream",
          "text": [
            "Number of unique con_code: 650\n"
          ]
        }
      ],
      "source": [
        "# # Number of unique 'con_code' values\n",
        "# unique_con_codes = pop['con_code'].nunique()\n",
        "# print(\"Number of unique con_code:\", unique_con_codes)"
      ]
    },
    {
      "cell_type": "code",
      "execution_count": null,
      "metadata": {
        "colab": {
          "base_uri": "https://localhost:8080/"
        },
        "id": "_chdKmBrMMfi",
        "outputId": "6841c937-a174-4e8c-fcf1-55b5ee745c5f"
      },
      "outputs": [
        {
          "name": "stdout",
          "output_type": "stream",
          "text": [
            "Number of NaN values in con_number: 0\n"
          ]
        }
      ],
      "source": [
        "# # Check for NaN values in the 'con_number' column\n",
        "# nan_count = merged_df['con_number'].isna().sum()\n",
        "# print(\"Number of NaN values in con_number:\", nan_count)"
      ]
    },
    {
      "cell_type": "code",
      "execution_count": 8,
      "metadata": {
        "colab": {
          "base_uri": "https://localhost:8080/",
          "height": 287
        },
        "id": "B-kiAjdQOyfG",
        "outputId": "9718279c-d5df-47e2-ef15-9e236138ed58"
      },
      "outputs": [
        {
          "data": {
            "text/html": [
              "<div>\n",
              "<style scoped>\n",
              "    .dataframe tbody tr th:only-of-type {\n",
              "        vertical-align: middle;\n",
              "    }\n",
              "\n",
              "    .dataframe tbody tr th {\n",
              "        vertical-align: top;\n",
              "    }\n",
              "\n",
              "    .dataframe thead th {\n",
              "        text-align: right;\n",
              "    }\n",
              "</style>\n",
              "<table border=\"1\" class=\"dataframe\">\n",
              "  <thead>\n",
              "    <tr style=\"text-align: right;\">\n",
              "      <th>code_2024</th>\n",
              "      <th>E14001063</th>\n",
              "      <th>E14001064</th>\n",
              "      <th>E14001065</th>\n",
              "      <th>E14001066</th>\n",
              "      <th>E14001067</th>\n",
              "      <th>E14001068</th>\n",
              "      <th>E14001069</th>\n",
              "      <th>E14001070</th>\n",
              "      <th>E14001071</th>\n",
              "      <th>E14001072</th>\n",
              "      <th>...</th>\n",
              "      <th>W07000103</th>\n",
              "      <th>W07000104</th>\n",
              "      <th>W07000105</th>\n",
              "      <th>W07000106</th>\n",
              "      <th>W07000107</th>\n",
              "      <th>W07000108</th>\n",
              "      <th>W07000109</th>\n",
              "      <th>W07000110</th>\n",
              "      <th>W07000111</th>\n",
              "      <th>W07000112</th>\n",
              "    </tr>\n",
              "    <tr>\n",
              "      <th>code_2010</th>\n",
              "      <th></th>\n",
              "      <th></th>\n",
              "      <th></th>\n",
              "      <th></th>\n",
              "      <th></th>\n",
              "      <th></th>\n",
              "      <th></th>\n",
              "      <th></th>\n",
              "      <th></th>\n",
              "      <th></th>\n",
              "      <th></th>\n",
              "      <th></th>\n",
              "      <th></th>\n",
              "      <th></th>\n",
              "      <th></th>\n",
              "      <th></th>\n",
              "      <th></th>\n",
              "      <th></th>\n",
              "      <th></th>\n",
              "      <th></th>\n",
              "      <th></th>\n",
              "    </tr>\n",
              "  </thead>\n",
              "  <tbody>\n",
              "    <tr>\n",
              "      <th>E14000530</th>\n",
              "      <td>1.0</td>\n",
              "      <td>0.0</td>\n",
              "      <td>0.0</td>\n",
              "      <td>0.0</td>\n",
              "      <td>0.000000</td>\n",
              "      <td>0.0</td>\n",
              "      <td>0.0</td>\n",
              "      <td>0.0</td>\n",
              "      <td>0.0</td>\n",
              "      <td>0.0</td>\n",
              "      <td>...</td>\n",
              "      <td>0.0</td>\n",
              "      <td>0.0</td>\n",
              "      <td>0.0</td>\n",
              "      <td>0.0</td>\n",
              "      <td>0.0</td>\n",
              "      <td>0.0</td>\n",
              "      <td>0.0</td>\n",
              "      <td>0.0</td>\n",
              "      <td>0.0</td>\n",
              "      <td>0.0</td>\n",
              "    </tr>\n",
              "    <tr>\n",
              "      <th>E14000531</th>\n",
              "      <td>0.0</td>\n",
              "      <td>1.0</td>\n",
              "      <td>0.0</td>\n",
              "      <td>0.0</td>\n",
              "      <td>0.000000</td>\n",
              "      <td>0.0</td>\n",
              "      <td>0.0</td>\n",
              "      <td>0.0</td>\n",
              "      <td>0.0</td>\n",
              "      <td>0.0</td>\n",
              "      <td>...</td>\n",
              "      <td>0.0</td>\n",
              "      <td>0.0</td>\n",
              "      <td>0.0</td>\n",
              "      <td>0.0</td>\n",
              "      <td>0.0</td>\n",
              "      <td>0.0</td>\n",
              "      <td>0.0</td>\n",
              "      <td>0.0</td>\n",
              "      <td>0.0</td>\n",
              "      <td>0.0</td>\n",
              "    </tr>\n",
              "    <tr>\n",
              "      <th>E14000532</th>\n",
              "      <td>0.0</td>\n",
              "      <td>0.0</td>\n",
              "      <td>1.0</td>\n",
              "      <td>0.0</td>\n",
              "      <td>0.000000</td>\n",
              "      <td>0.0</td>\n",
              "      <td>0.0</td>\n",
              "      <td>0.0</td>\n",
              "      <td>0.0</td>\n",
              "      <td>0.0</td>\n",
              "      <td>...</td>\n",
              "      <td>0.0</td>\n",
              "      <td>0.0</td>\n",
              "      <td>0.0</td>\n",
              "      <td>0.0</td>\n",
              "      <td>0.0</td>\n",
              "      <td>0.0</td>\n",
              "      <td>0.0</td>\n",
              "      <td>0.0</td>\n",
              "      <td>0.0</td>\n",
              "      <td>0.0</td>\n",
              "    </tr>\n",
              "    <tr>\n",
              "      <th>E14000533</th>\n",
              "      <td>0.0</td>\n",
              "      <td>0.0</td>\n",
              "      <td>0.0</td>\n",
              "      <td>1.0</td>\n",
              "      <td>0.000000</td>\n",
              "      <td>0.0</td>\n",
              "      <td>0.0</td>\n",
              "      <td>0.0</td>\n",
              "      <td>0.0</td>\n",
              "      <td>0.0</td>\n",
              "      <td>...</td>\n",
              "      <td>0.0</td>\n",
              "      <td>0.0</td>\n",
              "      <td>0.0</td>\n",
              "      <td>0.0</td>\n",
              "      <td>0.0</td>\n",
              "      <td>0.0</td>\n",
              "      <td>0.0</td>\n",
              "      <td>0.0</td>\n",
              "      <td>0.0</td>\n",
              "      <td>0.0</td>\n",
              "    </tr>\n",
              "    <tr>\n",
              "      <th>E14000534</th>\n",
              "      <td>0.0</td>\n",
              "      <td>0.0</td>\n",
              "      <td>0.0</td>\n",
              "      <td>0.0</td>\n",
              "      <td>0.242905</td>\n",
              "      <td>0.0</td>\n",
              "      <td>0.0</td>\n",
              "      <td>0.0</td>\n",
              "      <td>0.0</td>\n",
              "      <td>0.0</td>\n",
              "      <td>...</td>\n",
              "      <td>0.0</td>\n",
              "      <td>0.0</td>\n",
              "      <td>0.0</td>\n",
              "      <td>0.0</td>\n",
              "      <td>0.0</td>\n",
              "      <td>0.0</td>\n",
              "      <td>0.0</td>\n",
              "      <td>0.0</td>\n",
              "      <td>0.0</td>\n",
              "      <td>0.0</td>\n",
              "    </tr>\n",
              "  </tbody>\n",
              "</table>\n",
              "<p>5 rows × 650 columns</p>\n",
              "</div>"
            ],
            "text/plain": [
              "code_2024  E14001063  E14001064  E14001065  E14001066  E14001067  E14001068  \\\n",
              "code_2010                                                                     \n",
              "E14000530        1.0        0.0        0.0        0.0   0.000000        0.0   \n",
              "E14000531        0.0        1.0        0.0        0.0   0.000000        0.0   \n",
              "E14000532        0.0        0.0        1.0        0.0   0.000000        0.0   \n",
              "E14000533        0.0        0.0        0.0        1.0   0.000000        0.0   \n",
              "E14000534        0.0        0.0        0.0        0.0   0.242905        0.0   \n",
              "\n",
              "code_2024  E14001069  E14001070  E14001071  E14001072  ...  W07000103  \\\n",
              "code_2010                                              ...              \n",
              "E14000530        0.0        0.0        0.0        0.0  ...        0.0   \n",
              "E14000531        0.0        0.0        0.0        0.0  ...        0.0   \n",
              "E14000532        0.0        0.0        0.0        0.0  ...        0.0   \n",
              "E14000533        0.0        0.0        0.0        0.0  ...        0.0   \n",
              "E14000534        0.0        0.0        0.0        0.0  ...        0.0   \n",
              "\n",
              "code_2024  W07000104  W07000105  W07000106  W07000107  W07000108  W07000109  \\\n",
              "code_2010                                                                     \n",
              "E14000530        0.0        0.0        0.0        0.0        0.0        0.0   \n",
              "E14000531        0.0        0.0        0.0        0.0        0.0        0.0   \n",
              "E14000532        0.0        0.0        0.0        0.0        0.0        0.0   \n",
              "E14000533        0.0        0.0        0.0        0.0        0.0        0.0   \n",
              "E14000534        0.0        0.0        0.0        0.0        0.0        0.0   \n",
              "\n",
              "code_2024  W07000110  W07000111  W07000112  \n",
              "code_2010                                   \n",
              "E14000530        0.0        0.0        0.0  \n",
              "E14000531        0.0        0.0        0.0  \n",
              "E14000532        0.0        0.0        0.0  \n",
              "E14000533        0.0        0.0        0.0  \n",
              "E14000534        0.0        0.0        0.0  \n",
              "\n",
              "[5 rows x 650 columns]"
            ]
          },
          "execution_count": 8,
          "metadata": {},
          "output_type": "execute_result"
        }
      ],
      "source": [
        "merged_df = gdf.merge(con_code_sums, how='left', left_on='PCON24CD', right_on='con_code')\n",
        "merged_df = merged_df.rename(columns={'con_number': 'pop_2022'})\n",
        "merged_df = merged_df[['PCON10CD', 'PCON24CD', 'pop_2022']].rename(columns={\n",
        "    'PCON10CD': 'code_2010',\n",
        "    'PCON24CD': 'code_2024'\n",
        "})\n",
        "\n",
        "# Assuming merged_df has the columns 'code_2010', 'code_2024', and 'pop_2022'\n",
        "merged_df = merged_df.sort_values(by=['code_2010', 'code_2024']).reset_index(drop=True)\n",
        "\n",
        "# Step 1: Calculate total population for each 'code_2010'\n",
        "total_pop_2010 = merged_df.groupby('code_2010')['pop_2022'].sum().reset_index()\n",
        "total_pop_2010.columns = ['code_2010', 'total_pop_2010']\n",
        "\n",
        "# Step 2: Merge this total population back into the original DataFrame\n",
        "merged_df = merged_df.merge(total_pop_2010, on='code_2010')\n",
        "\n",
        "# Step 3: Calculate the normalized weight for each (code_2010, code_2024) pair\n",
        "merged_df['weight'] = merged_df['pop_2022'] / merged_df['total_pop_2010']\n",
        "\n",
        "# Step 4: Pivot to create the mapping matrix\n",
        "mapping_matrix = merged_df.pivot_table(index='code_2010', columns='code_2024', values='weight', fill_value=0)\n",
        "mapping_matrix = mapping_matrix.sort_index(axis=0).sort_index(axis=1)\n",
        "\n",
        "# Display the mapping matrix\n",
        "mapping_matrix.head()"
      ]
    },
    {
      "cell_type": "code",
      "execution_count": 9,
      "metadata": {},
      "outputs": [],
      "source": [
        "mapping_matrix.to_csv('input_data/constituencies_mapping_2010_2024.csv', index=False)"
      ]
    },
    {
      "cell_type": "code",
      "execution_count": 11,
      "metadata": {},
      "outputs": [],
      "source": [
        "with h5py.File('input_data/constituencies_mapping_2010_2024.h5', 'w') as hf:\n",
        "    # Save the DataFrame to the HDF5 file\n",
        "    hf.create_dataset('df', data=mapping_matrix.values)\n",
        "    # Optionally, save column names as metadata\n",
        "    hf.attrs['columns'] = list(mapping_matrix.columns)"
      ]
    },
    {
      "cell_type": "markdown",
      "metadata": {},
      "source": [
        "# Checks"
      ]
    },
    {
      "cell_type": "code",
      "execution_count": 12,
      "metadata": {
        "colab": {
          "base_uri": "https://localhost:8080/"
        },
        "id": "rIsCAzaUPXOl",
        "outputId": "5d370b07-ad5c-40ef-ed5d-4f0b2414a401"
      },
      "outputs": [
        {
          "name": "stdout",
          "output_type": "stream",
          "text": [
            "Example code_2010: S14000029\n",
            "Mappings to code_2024 with their pop_2022:\n",
            "      code_2024  pop_2022\n",
            "1252  S14000084     99687\n",
            "1253  S14000085    109113\n",
            "1254  S14000086    107141\n",
            "1255  S14000087     91460\n",
            "1256  S14000088     96239\n",
            "\n",
            "Weights in mapping_matrix for code_2024 mapping to S14000029 :\n",
            "           S14000029\n",
            "code_2024           \n",
            "S14000084   0.197933\n",
            "S14000085   0.216649\n",
            "S14000086   0.212733\n",
            "S14000087   0.181598\n",
            "S14000088   0.191087\n"
          ]
        }
      ],
      "source": [
        "# Step 1: Find a code_2010 that maps to multiple code_2024\n",
        "example_code_2010 = merged_df['code_2010'].value_counts().idxmax()  # Finds the code_2010 with the most mappings\n",
        "\n",
        "# Step 2: Filter merged_df for this example code_2010\n",
        "example_mappings = merged_df[merged_df['code_2010'] == example_code_2010]\n",
        "\n",
        "# Display the example mappings\n",
        "print(\"Example code_2010:\", example_code_2010)\n",
        "print(\"Mappings to code_2024 with their pop_2022:\")\n",
        "print(example_mappings[['code_2024', 'pop_2022']])\n",
        "\n",
        "# Step 3: Check the weights in the mapping matrix for this code_2010\n",
        "print(\"\\nWeights in mapping_matrix for code_2024 mapping to\", example_code_2010, \":\")\n",
        "print(mapping_matrix.loc[example_code_2010, example_mappings['code_2024']].to_frame())"
      ]
    },
    {
      "cell_type": "code",
      "execution_count": 13,
      "metadata": {
        "colab": {
          "base_uri": "https://localhost:8080/"
        },
        "id": "bUYGVTK1PmvD",
        "outputId": "b344660e-5dab-4f2b-bd83-b9ac79a99a25"
      },
      "outputs": [
        {
          "name": "stdout",
          "output_type": "stream",
          "text": [
            "Single mapping code_2010: N06000013\n",
            "Maps to code_2024 with pop_2022:\n",
            "      code_2024  pop_2022\n",
            "1185  N05000013     97983\n",
            "\n",
            "Weight in mapping_matrix for code_2024 mapping to N06000013 :\n",
            "           N06000013\n",
            "code_2024           \n",
            "N05000013        1.0\n"
          ]
        }
      ],
      "source": [
        "# Step 1: Find a code_2010 that maps to exactly one code_2024\n",
        "single_mapping_code_2010 = merged_df['code_2010'].value_counts()[merged_df['code_2010'].value_counts() == 1].index[0]\n",
        "\n",
        "# Step 2: Filter merged_df for this code_2010 with a single mapping\n",
        "single_mapping_example = merged_df[merged_df['code_2010'] == single_mapping_code_2010]\n",
        "\n",
        "# Display the single mapping\n",
        "print(\"Single mapping code_2010:\", single_mapping_code_2010)\n",
        "print(\"Maps to code_2024 with pop_2022:\")\n",
        "print(single_mapping_example[['code_2024', 'pop_2022']])\n",
        "\n",
        "# Step 3: Check the weight in the mapping matrix for this code_2010\n",
        "print(\"\\nWeight in mapping_matrix for code_2024 mapping to\", single_mapping_code_2010, \":\")\n",
        "print(mapping_matrix.loc[single_mapping_code_2010, single_mapping_example['code_2024']].to_frame())\n"
      ]
    }
  ],
  "metadata": {
    "colab": {
      "provenance": []
    },
    "kernelspec": {
      "display_name": "Python 3",
      "name": "python3"
    },
    "language_info": {
      "codemirror_mode": {
        "name": "ipython",
        "version": 3
      },
      "file_extension": ".py",
      "mimetype": "text/x-python",
      "name": "python",
      "nbconvert_exporter": "python",
      "pygments_lexer": "ipython3",
      "version": "3.9.6"
    }
  },
  "nbformat": 4,
  "nbformat_minor": 0
}
