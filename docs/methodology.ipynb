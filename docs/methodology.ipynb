{
 "cells": [
  {
   "cell_type": "markdown",
   "metadata": {},
   "source": [
    "# Methodology\n",
    "\n",
    "This chapter outlines the methodology used to calibrate income distributions across constituencies. Our approach combines multiple data sources and statistical techniques to ensure accurate representation of earnings across different geographical areas and demographic segments.\n",
    "\n",
    "## Data source selection and acquisition\n",
    "\n",
    "The foundation of our calibration process rests on selected authoritative data sources. Nomis serves as our primary source for earnings data, providing information on income deciles split by sex and employment status (full-time/part-time). This granular breakdown enables analysis of earning patterns across different demographic groups. We supplement this with HMRC income data, which serves as our baseline for EFRS calibration. The Annual Survey of Hours and Earnings (ASHE) provides additional reliable income targets, drawing strength from its basis in administrative data from HMRC PAYE firms.\n",
    "\n",
    "## Earnings distribution integration\n",
    "\n",
    "We begin by aligning local area statistics with national benchmarks, ensuring consistency across different geographic levels. The integration process considers the relationships between different income bands and their distributions across regions.\n",
    "\n",
    "## Missing data imputation\n",
    "\n",
    "We employ an imputation methodology based on nearest-neighbor principles, where missing values are estimated using data from areas with similar total income profiles. The imputation process considers demographic similarities.\n",
    "\n",
    "## Constituency mapping framework\n",
    "\n",
    "We have developed detailed mapping matrices that establish relationships between 2010 and 2024 constituencies. This framework ensures continuity in our analysis despite geographic boundary changes, allowing us to track and compare data across different time periods.\n",
    "\n",
    "## Income percentile calibration\n",
    "\n",
    "This process begins with basic percentile data from Nomis and employs fitting techniques to create continuous distribution curves. These curves are then used to estimate population counts and total earnings within specific income bands.\n",
    "\n",
    "## Quality control and validation\n",
    "\n",
    "The final step in our methodology involves quality control and validation procedures.\n"
   ]
  }
 ],
 "metadata": {
  "kernelspec": {
   "display_name": "base",
   "language": "python",
   "name": "python3"
  },
  "language_info": {
   "codemirror_mode": {
    "name": "ipython",
    "version": 3
   },
   "file_extension": ".py",
   "mimetype": "text/x-python",
   "name": "python",
   "nbconvert_exporter": "python",
   "pygments_lexer": "ipython3",
   "version": "3.10.14"
  }
 },
 "nbformat": 4,
 "nbformat_minor": 2
}
