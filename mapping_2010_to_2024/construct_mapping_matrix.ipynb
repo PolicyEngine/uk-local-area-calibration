{
 "cells": [
  {
   "cell_type": "markdown",
   "metadata": {},
   "source": [
    "# Mapping Matrix"
   ]
  },
  {
   "cell_type": "code",
   "execution_count": 8,
   "metadata": {},
   "outputs": [],
   "source": [
    "import pandas as pd\n",
    "import numpy as np"
   ]
  },
  {
   "cell_type": "code",
   "execution_count": 7,
   "metadata": {},
   "outputs": [
    {
     "data": {
      "text/html": [
       "<div>\n",
       "<style scoped>\n",
       "    .dataframe tbody tr th:only-of-type {\n",
       "        vertical-align: middle;\n",
       "    }\n",
       "\n",
       "    .dataframe tbody tr th {\n",
       "        vertical-align: top;\n",
       "    }\n",
       "\n",
       "    .dataframe thead th {\n",
       "        text-align: right;\n",
       "    }\n",
       "</style>\n",
       "<table border=\"1\" class=\"dataframe\">\n",
       "  <thead>\n",
       "    <tr style=\"text-align: right;\">\n",
       "      <th></th>\n",
       "      <th>PCON10CD</th>\n",
       "      <th>PCON24CD</th>\n",
       "    </tr>\n",
       "  </thead>\n",
       "  <tbody>\n",
       "    <tr>\n",
       "      <th>0</th>\n",
       "      <td>E14000530</td>\n",
       "      <td>E14001063</td>\n",
       "    </tr>\n",
       "    <tr>\n",
       "      <th>1</th>\n",
       "      <td>E14000531</td>\n",
       "      <td>E14001064</td>\n",
       "    </tr>\n",
       "    <tr>\n",
       "      <th>2</th>\n",
       "      <td>E14000532</td>\n",
       "      <td>E14001065</td>\n",
       "    </tr>\n",
       "    <tr>\n",
       "      <th>3</th>\n",
       "      <td>E14000533</td>\n",
       "      <td>E14001066</td>\n",
       "    </tr>\n",
       "    <tr>\n",
       "      <th>4</th>\n",
       "      <td>E14000534</td>\n",
       "      <td>E14001067</td>\n",
       "    </tr>\n",
       "  </tbody>\n",
       "</table>\n",
       "</div>"
      ],
      "text/plain": [
       "    PCON10CD   PCON24CD\n",
       "0  E14000530  E14001063\n",
       "1  E14000531  E14001064\n",
       "2  E14000532  E14001065\n",
       "3  E14000533  E14001066\n",
       "4  E14000534  E14001067"
      ]
     },
     "execution_count": 7,
     "metadata": {},
     "output_type": "execute_result"
    }
   ],
   "source": [
    "mapping_raw = pd.read_csv(\"mapping_raw.csv\")\n",
    "mapping_raw = mapping_raw.sort_values(['PCON10CD', 'PCON24CD'])\n",
    "mapping_raw = mapping_raw.reset_index(drop=True)\n",
    "mapping_raw.head()"
   ]
  },
  {
   "cell_type": "code",
   "execution_count": 10,
   "metadata": {},
   "outputs": [
    {
     "data": {
      "text/html": [
       "<div>\n",
       "<style scoped>\n",
       "    .dataframe tbody tr th:only-of-type {\n",
       "        vertical-align: middle;\n",
       "    }\n",
       "\n",
       "    .dataframe tbody tr th {\n",
       "        vertical-align: top;\n",
       "    }\n",
       "\n",
       "    .dataframe thead th {\n",
       "        text-align: right;\n",
       "    }\n",
       "</style>\n",
       "<table border=\"1\" class=\"dataframe\">\n",
       "  <thead>\n",
       "    <tr style=\"text-align: right;\">\n",
       "      <th></th>\n",
       "      <th>E14001063</th>\n",
       "      <th>E14001064</th>\n",
       "      <th>E14001065</th>\n",
       "      <th>E14001066</th>\n",
       "      <th>E14001067</th>\n",
       "      <th>E14001294</th>\n",
       "      <th>E14001366</th>\n",
       "      <th>E14001599</th>\n",
       "      <th>E14001068</th>\n",
       "      <th>E14001140</th>\n",
       "      <th>...</th>\n",
       "      <th>W07000100</th>\n",
       "      <th>W07000087</th>\n",
       "      <th>W07000085</th>\n",
       "      <th>W07000099</th>\n",
       "      <th>W07000106</th>\n",
       "      <th>W07000084</th>\n",
       "      <th>W07000086</th>\n",
       "      <th>W07000092</th>\n",
       "      <th>W07000088</th>\n",
       "      <th>W07000110</th>\n",
       "    </tr>\n",
       "  </thead>\n",
       "  <tbody>\n",
       "    <tr>\n",
       "      <th>E14000530</th>\n",
       "      <td>1</td>\n",
       "      <td>0</td>\n",
       "      <td>0</td>\n",
       "      <td>0</td>\n",
       "      <td>0</td>\n",
       "      <td>0</td>\n",
       "      <td>0</td>\n",
       "      <td>0</td>\n",
       "      <td>0</td>\n",
       "      <td>0</td>\n",
       "      <td>...</td>\n",
       "      <td>0</td>\n",
       "      <td>0</td>\n",
       "      <td>0</td>\n",
       "      <td>0</td>\n",
       "      <td>0</td>\n",
       "      <td>0</td>\n",
       "      <td>0</td>\n",
       "      <td>0</td>\n",
       "      <td>0</td>\n",
       "      <td>0</td>\n",
       "    </tr>\n",
       "    <tr>\n",
       "      <th>E14000531</th>\n",
       "      <td>0</td>\n",
       "      <td>1</td>\n",
       "      <td>0</td>\n",
       "      <td>0</td>\n",
       "      <td>0</td>\n",
       "      <td>0</td>\n",
       "      <td>0</td>\n",
       "      <td>0</td>\n",
       "      <td>0</td>\n",
       "      <td>0</td>\n",
       "      <td>...</td>\n",
       "      <td>0</td>\n",
       "      <td>0</td>\n",
       "      <td>0</td>\n",
       "      <td>0</td>\n",
       "      <td>0</td>\n",
       "      <td>0</td>\n",
       "      <td>0</td>\n",
       "      <td>0</td>\n",
       "      <td>0</td>\n",
       "      <td>0</td>\n",
       "    </tr>\n",
       "    <tr>\n",
       "      <th>E14000532</th>\n",
       "      <td>0</td>\n",
       "      <td>0</td>\n",
       "      <td>1</td>\n",
       "      <td>0</td>\n",
       "      <td>0</td>\n",
       "      <td>0</td>\n",
       "      <td>0</td>\n",
       "      <td>0</td>\n",
       "      <td>0</td>\n",
       "      <td>0</td>\n",
       "      <td>...</td>\n",
       "      <td>0</td>\n",
       "      <td>0</td>\n",
       "      <td>0</td>\n",
       "      <td>0</td>\n",
       "      <td>0</td>\n",
       "      <td>0</td>\n",
       "      <td>0</td>\n",
       "      <td>0</td>\n",
       "      <td>0</td>\n",
       "      <td>0</td>\n",
       "    </tr>\n",
       "    <tr>\n",
       "      <th>E14000533</th>\n",
       "      <td>0</td>\n",
       "      <td>0</td>\n",
       "      <td>0</td>\n",
       "      <td>1</td>\n",
       "      <td>0</td>\n",
       "      <td>0</td>\n",
       "      <td>0</td>\n",
       "      <td>0</td>\n",
       "      <td>0</td>\n",
       "      <td>0</td>\n",
       "      <td>...</td>\n",
       "      <td>0</td>\n",
       "      <td>0</td>\n",
       "      <td>0</td>\n",
       "      <td>0</td>\n",
       "      <td>0</td>\n",
       "      <td>0</td>\n",
       "      <td>0</td>\n",
       "      <td>0</td>\n",
       "      <td>0</td>\n",
       "      <td>0</td>\n",
       "    </tr>\n",
       "    <tr>\n",
       "      <th>E14000534</th>\n",
       "      <td>0</td>\n",
       "      <td>0</td>\n",
       "      <td>0</td>\n",
       "      <td>0</td>\n",
       "      <td>1</td>\n",
       "      <td>1</td>\n",
       "      <td>1</td>\n",
       "      <td>1</td>\n",
       "      <td>0</td>\n",
       "      <td>0</td>\n",
       "      <td>...</td>\n",
       "      <td>0</td>\n",
       "      <td>0</td>\n",
       "      <td>0</td>\n",
       "      <td>0</td>\n",
       "      <td>0</td>\n",
       "      <td>0</td>\n",
       "      <td>0</td>\n",
       "      <td>0</td>\n",
       "      <td>0</td>\n",
       "      <td>0</td>\n",
       "    </tr>\n",
       "  </tbody>\n",
       "</table>\n",
       "<p>5 rows × 650 columns</p>\n",
       "</div>"
      ],
      "text/plain": [
       "           E14001063  E14001064  E14001065  E14001066  E14001067  E14001294  \\\n",
       "E14000530          1          0          0          0          0          0   \n",
       "E14000531          0          1          0          0          0          0   \n",
       "E14000532          0          0          1          0          0          0   \n",
       "E14000533          0          0          0          1          0          0   \n",
       "E14000534          0          0          0          0          1          1   \n",
       "\n",
       "           E14001366  E14001599  E14001068  E14001140  ...  W07000100  \\\n",
       "E14000530          0          0          0          0  ...          0   \n",
       "E14000531          0          0          0          0  ...          0   \n",
       "E14000532          0          0          0          0  ...          0   \n",
       "E14000533          0          0          0          0  ...          0   \n",
       "E14000534          1          1          0          0  ...          0   \n",
       "\n",
       "           W07000087  W07000085  W07000099  W07000106  W07000084  W07000086  \\\n",
       "E14000530          0          0          0          0          0          0   \n",
       "E14000531          0          0          0          0          0          0   \n",
       "E14000532          0          0          0          0          0          0   \n",
       "E14000533          0          0          0          0          0          0   \n",
       "E14000534          0          0          0          0          0          0   \n",
       "\n",
       "           W07000092  W07000088  W07000110  \n",
       "E14000530          0          0          0  \n",
       "E14000531          0          0          0  \n",
       "E14000532          0          0          0  \n",
       "E14000533          0          0          0  \n",
       "E14000534          0          0          0  \n",
       "\n",
       "[5 rows x 650 columns]"
      ]
     },
     "execution_count": 10,
     "metadata": {},
     "output_type": "execute_result"
    }
   ],
   "source": [
    "# Create sets of unique values for both columns\n",
    "unique_pcon10 = mapping_raw['PCON10CD'].unique()\n",
    "unique_pcon24 = mapping_raw['PCON24CD'].unique()\n",
    "\n",
    "# Create an empty matrix filled with zeros\n",
    "mapping_matrix = pd.DataFrame(\n",
    "    0,\n",
    "    index=unique_pcon10,\n",
    "    columns=unique_pcon24\n",
    ")\n",
    "\n",
    "# Fill the matrix using a for loop\n",
    "for _, row in mapping_raw.iterrows():\n",
    "    mapping_matrix.loc[row['PCON10CD'], row['PCON24CD']] = 1\n",
    "\n",
    "mapping_matrix.head()"
   ]
  },
  {
   "cell_type": "markdown",
   "metadata": {},
   "source": [
    "# check 1\n",
    "Check the many-to-one and one-to-many relationships from mapping matrix:\n"
   ]
  },
  {
   "cell_type": "code",
   "execution_count": 11,
   "metadata": {},
   "outputs": [
    {
     "name": "stdout",
     "output_type": "stream",
     "text": [
      "\n",
      "PCON10 codes that map to multiple PCON24 codes:\n",
      "497\n",
      "\n",
      "PCON24 codes that map to multiple PCON10 codes:\n",
      "502\n"
     ]
    }
   ],
   "source": [
    "print(\"\\nPCON10 codes that map to multiple PCON24 codes:\")\n",
    "print((mapping_matrix.sum(axis=1) > 1).sum())  # How many PCON10 codes map to multiple PCON24\n",
    "\n",
    "print(\"\\nPCON24 codes that map to multiple PCON10 codes:\")\n",
    "print((mapping_matrix.sum(axis=0) > 1).sum())  # How many PCON24 codes map to multiple PCON10"
   ]
  },
  {
   "cell_type": "markdown",
   "metadata": {},
   "source": [
    "Check from raw data to get the same numbers:"
   ]
  },
  {
   "cell_type": "code",
   "execution_count": 12,
   "metadata": {},
   "outputs": [
    {
     "name": "stdout",
     "output_type": "stream",
     "text": [
      "\n",
      "From raw data - PCON10 codes that map to multiple PCON24: 497\n",
      "From raw data - PCON24 codes that map to multiple PCON10: 502\n"
     ]
    }
   ],
   "source": [
    "# PCON10 codes that map to multiple PCON24\n",
    "pcon10_multiple = mapping_raw.groupby('PCON10CD')['PCON24CD'].nunique()\n",
    "pcon10_multiple_count = (pcon10_multiple > 1).sum()\n",
    "print(\"\\nFrom raw data - PCON10 codes that map to multiple PCON24:\", \n",
    "      pcon10_multiple_count)\n",
    "\n",
    "# PCON24 codes that map to multiple PCON10\n",
    "pcon24_multiple = mapping_raw.groupby('PCON24CD')['PCON10CD'].nunique()\n",
    "pcon24_multiple_count = (pcon24_multiple > 1).sum()\n",
    "print(\"From raw data - PCON24 codes that map to multiple PCON10:\", \n",
    "      pcon24_multiple_count)"
   ]
  },
  {
   "cell_type": "markdown",
   "metadata": {},
   "source": [
    "# Check 2\n",
    "Example of a PCON10 that maps to multiple PCON24 from raw data:"
   ]
  },
  {
   "cell_type": "code",
   "execution_count": 13,
   "metadata": {},
   "outputs": [
    {
     "name": "stdout",
     "output_type": "stream",
     "text": [
      "\n",
      "Example of a PCON10 with multiple mappings:\n",
      "    PCON10CD   PCON24CD\n",
      "4  E14000534  E14001067\n",
      "5  E14000534  E14001294\n",
      "6  E14000534  E14001366\n",
      "7  E14000534  E14001599\n"
     ]
    }
   ],
   "source": [
    "# Print example of a PCON10 that maps to multiple PCON24\n",
    "print(\"\\nExample of a PCON10 with multiple mappings:\")\n",
    "example_pcon10 = pcon10_multiple[pcon10_multiple > 1].index[0]\n",
    "print(mapping_raw[mapping_raw['PCON10CD'] == example_pcon10][['PCON10CD', 'PCON24CD']])"
   ]
  },
  {
   "cell_type": "markdown",
   "metadata": {},
   "source": [
    "Check it for mapping matrix to see if we get the same:"
   ]
  },
  {
   "cell_type": "code",
   "execution_count": 14,
   "metadata": {},
   "outputs": [
    {
     "name": "stdout",
     "output_type": "stream",
     "text": [
      "\n",
      "Checking PCON10 'E14000534' in matrix:\n",
      "Maps to these PCON24 (should see 1s):\n",
      "E14001067    1\n",
      "E14001294    1\n",
      "E14001366    1\n",
      "E14001599    1\n",
      "Name: E14000534, dtype: int64\n"
     ]
    }
   ],
   "source": [
    "# Check the specific PCON10 example (E14000534)\n",
    "print(\"\\nChecking PCON10 'E14000534' in matrix:\")\n",
    "pcon10_row = mapping_matrix.loc['E14000534']\n",
    "print(\"Maps to these PCON24 (should see 1s):\")\n",
    "print(pcon10_row[['E14001067', 'E14001294', 'E14001366', 'E14001599']])"
   ]
  },
  {
   "cell_type": "markdown",
   "metadata": {},
   "source": [
    "# Check 3\n",
    "Example of a PCON24 that maps to multiple PCON10:"
   ]
  },
  {
   "cell_type": "code",
   "execution_count": 15,
   "metadata": {},
   "outputs": [
    {
     "name": "stdout",
     "output_type": "stream",
     "text": [
      "\n",
      "Example of a PCON24 with multiple mappings:\n",
      "      PCON10CD   PCON24CD\n",
      "0    E14000530  E14001063\n",
      "680  E14000844  E14001063\n"
     ]
    }
   ],
   "source": [
    "# Print example of a PCON24 that maps to multiple PCON10\n",
    "print(\"\\nExample of a PCON24 with multiple mappings:\")\n",
    "example_pcon24 = pcon24_multiple[pcon24_multiple > 1].index[0]\n",
    "print(mapping_raw[mapping_raw['PCON24CD'] == example_pcon24][['PCON10CD', 'PCON24CD']])"
   ]
  },
  {
   "cell_type": "markdown",
   "metadata": {},
   "source": [
    "Check it for mapping matrix to see if we get the same:"
   ]
  },
  {
   "cell_type": "code",
   "execution_count": 16,
   "metadata": {},
   "outputs": [
    {
     "name": "stdout",
     "output_type": "stream",
     "text": [
      "\n",
      "Checking PCON24 'E14001063' in matrix:\n",
      "Maps to these PCON10 (should see 1s):\n",
      "E14000530    1\n",
      "E14000844    1\n",
      "Name: E14001063, dtype: int64\n"
     ]
    }
   ],
   "source": [
    "# Check the specific PCON24 example (E14001063)\n",
    "print(\"\\nChecking PCON24 'E14001063' in matrix:\")\n",
    "pcon24_col = mapping_matrix['E14001063']\n",
    "print(\"Maps to these PCON10 (should see 1s):\")\n",
    "print(pcon24_col[['E14000530', 'E14000844']])"
   ]
  }
 ],
 "metadata": {
  "kernelspec": {
   "display_name": "Python 3",
   "language": "python",
   "name": "python3"
  },
  "language_info": {
   "codemirror_mode": {
    "name": "ipython",
    "version": 3
   },
   "file_extension": ".py",
   "mimetype": "text/x-python",
   "name": "python",
   "nbconvert_exporter": "python",
   "pygments_lexer": "ipython3",
   "version": "3.9.6"
  }
 },
 "nbformat": 4,
 "nbformat_minor": 2
}
